{
  "nbformat": 4,
  "nbformat_minor": 0,
  "metadata": {
    "colab": {
      "name": "Spotify_Cluster.ipynb",
      "provenance": []
    },
    "kernelspec": {
      "name": "python3",
      "display_name": "Python 3"
    }
  },
  "cells": [
    {
      "cell_type": "markdown",
      "metadata": {
        "id": "kfvliXcpM1Kx"
      },
      "source": [
        "#CLUSTERS COM OS DADOS DO SPOTIFY"
      ]
    },
    {
      "cell_type": "code",
      "metadata": {
        "id": "KPDy980wMwg3"
      },
      "source": [
        "import pandas as pd\n",
        "import numpy as np\n",
        "import sklearn.cluster as sk\n",
        "import seaborn as sns\n",
        "import matplotlib.pyplot as plt\n"
      ],
      "execution_count": 1,
      "outputs": []
    },
    {
      "cell_type": "code",
      "metadata": {
        "id": "BQg9gg3AM0sl"
      },
      "source": [
        "dados = pd.read_csv('data.csv')"
      ],
      "execution_count": 2,
      "outputs": []
    },
    {
      "cell_type": "code",
      "metadata": {
        "id": "JW3IvpI-NlBK",
        "outputId": "627105d5-9437-489b-b762-566e48c5a809",
        "colab": {
          "base_uri": "https://localhost:8080/",
          "height": 34
        }
      },
      "source": [
        "dados.shape"
      ],
      "execution_count": 3,
      "outputs": [
        {
          "output_type": "execute_result",
          "data": {
            "text/plain": [
              "(169909, 19)"
            ]
          },
          "metadata": {
            "tags": []
          },
          "execution_count": 3
        }
      ]
    },
    {
      "cell_type": "code",
      "metadata": {
        "id": "Cdm5DzHLNmTJ",
        "outputId": "fd747e22-129b-4799-b861-1fd5d77268e4",
        "colab": {
          "base_uri": "https://localhost:8080/",
          "height": 428
        }
      },
      "source": [
        "dados.head()"
      ],
      "execution_count": 4,
      "outputs": [
        {
          "output_type": "execute_result",
          "data": {
            "text/html": [
              "<div>\n",
              "<style scoped>\n",
              "    .dataframe tbody tr th:only-of-type {\n",
              "        vertical-align: middle;\n",
              "    }\n",
              "\n",
              "    .dataframe tbody tr th {\n",
              "        vertical-align: top;\n",
              "    }\n",
              "\n",
              "    .dataframe thead th {\n",
              "        text-align: right;\n",
              "    }\n",
              "</style>\n",
              "<table border=\"1\" class=\"dataframe\">\n",
              "  <thead>\n",
              "    <tr style=\"text-align: right;\">\n",
              "      <th></th>\n",
              "      <th>acousticness</th>\n",
              "      <th>artists</th>\n",
              "      <th>danceability</th>\n",
              "      <th>duration_ms</th>\n",
              "      <th>energy</th>\n",
              "      <th>explicit</th>\n",
              "      <th>id</th>\n",
              "      <th>instrumentalness</th>\n",
              "      <th>key</th>\n",
              "      <th>liveness</th>\n",
              "      <th>loudness</th>\n",
              "      <th>mode</th>\n",
              "      <th>name</th>\n",
              "      <th>popularity</th>\n",
              "      <th>release_date</th>\n",
              "      <th>speechiness</th>\n",
              "      <th>tempo</th>\n",
              "      <th>valence</th>\n",
              "      <th>year</th>\n",
              "    </tr>\n",
              "  </thead>\n",
              "  <tbody>\n",
              "    <tr>\n",
              "      <th>0</th>\n",
              "      <td>0.995</td>\n",
              "      <td>['Carl Woitschach']</td>\n",
              "      <td>0.708</td>\n",
              "      <td>158648</td>\n",
              "      <td>0.1950</td>\n",
              "      <td>0</td>\n",
              "      <td>6KbQ3uYMLKb5jDxLF7wYDD</td>\n",
              "      <td>0.563</td>\n",
              "      <td>10</td>\n",
              "      <td>0.1510</td>\n",
              "      <td>-12.428</td>\n",
              "      <td>1</td>\n",
              "      <td>Singende Bataillone 1. Teil</td>\n",
              "      <td>0</td>\n",
              "      <td>1928</td>\n",
              "      <td>0.0506</td>\n",
              "      <td>118.469</td>\n",
              "      <td>0.7790</td>\n",
              "      <td>1928</td>\n",
              "    </tr>\n",
              "    <tr>\n",
              "      <th>1</th>\n",
              "      <td>0.994</td>\n",
              "      <td>['Robert Schumann', 'Vladimir Horowitz']</td>\n",
              "      <td>0.379</td>\n",
              "      <td>282133</td>\n",
              "      <td>0.0135</td>\n",
              "      <td>0</td>\n",
              "      <td>6KuQTIu1KoTTkLXKrwlLPV</td>\n",
              "      <td>0.901</td>\n",
              "      <td>8</td>\n",
              "      <td>0.0763</td>\n",
              "      <td>-28.454</td>\n",
              "      <td>1</td>\n",
              "      <td>Fantasiestücke, Op. 111: Più tosto lento</td>\n",
              "      <td>0</td>\n",
              "      <td>1928</td>\n",
              "      <td>0.0462</td>\n",
              "      <td>83.972</td>\n",
              "      <td>0.0767</td>\n",
              "      <td>1928</td>\n",
              "    </tr>\n",
              "    <tr>\n",
              "      <th>2</th>\n",
              "      <td>0.604</td>\n",
              "      <td>['Seweryn Goszczyński']</td>\n",
              "      <td>0.749</td>\n",
              "      <td>104300</td>\n",
              "      <td>0.2200</td>\n",
              "      <td>0</td>\n",
              "      <td>6L63VW0PibdM1HDSBoqnoM</td>\n",
              "      <td>0.000</td>\n",
              "      <td>5</td>\n",
              "      <td>0.1190</td>\n",
              "      <td>-19.924</td>\n",
              "      <td>0</td>\n",
              "      <td>Chapter 1.18 - Zamek kaniowski</td>\n",
              "      <td>0</td>\n",
              "      <td>1928</td>\n",
              "      <td>0.9290</td>\n",
              "      <td>107.177</td>\n",
              "      <td>0.8800</td>\n",
              "      <td>1928</td>\n",
              "    </tr>\n",
              "    <tr>\n",
              "      <th>3</th>\n",
              "      <td>0.995</td>\n",
              "      <td>['Francisco Canaro']</td>\n",
              "      <td>0.781</td>\n",
              "      <td>180760</td>\n",
              "      <td>0.1300</td>\n",
              "      <td>0</td>\n",
              "      <td>6M94FkXd15sOAOQYRnWPN8</td>\n",
              "      <td>0.887</td>\n",
              "      <td>1</td>\n",
              "      <td>0.1110</td>\n",
              "      <td>-14.734</td>\n",
              "      <td>0</td>\n",
              "      <td>Bebamos Juntos - Instrumental (Remasterizado)</td>\n",
              "      <td>0</td>\n",
              "      <td>1928-09-25</td>\n",
              "      <td>0.0926</td>\n",
              "      <td>108.003</td>\n",
              "      <td>0.7200</td>\n",
              "      <td>1928</td>\n",
              "    </tr>\n",
              "    <tr>\n",
              "      <th>4</th>\n",
              "      <td>0.990</td>\n",
              "      <td>['Frédéric Chopin', 'Vladimir Horowitz']</td>\n",
              "      <td>0.210</td>\n",
              "      <td>687733</td>\n",
              "      <td>0.2040</td>\n",
              "      <td>0</td>\n",
              "      <td>6N6tiFZ9vLTSOIxkj8qKrd</td>\n",
              "      <td>0.908</td>\n",
              "      <td>11</td>\n",
              "      <td>0.0980</td>\n",
              "      <td>-16.829</td>\n",
              "      <td>1</td>\n",
              "      <td>Polonaise-Fantaisie in A-Flat Major, Op. 61</td>\n",
              "      <td>1</td>\n",
              "      <td>1928</td>\n",
              "      <td>0.0424</td>\n",
              "      <td>62.149</td>\n",
              "      <td>0.0693</td>\n",
              "      <td>1928</td>\n",
              "    </tr>\n",
              "  </tbody>\n",
              "</table>\n",
              "</div>"
            ],
            "text/plain": [
              "   acousticness                                   artists  ...  valence  year\n",
              "0         0.995                       ['Carl Woitschach']  ...   0.7790  1928\n",
              "1         0.994  ['Robert Schumann', 'Vladimir Horowitz']  ...   0.0767  1928\n",
              "2         0.604                   ['Seweryn Goszczyński']  ...   0.8800  1928\n",
              "3         0.995                      ['Francisco Canaro']  ...   0.7200  1928\n",
              "4         0.990  ['Frédéric Chopin', 'Vladimir Horowitz']  ...   0.0693  1928\n",
              "\n",
              "[5 rows x 19 columns]"
            ]
          },
          "metadata": {
            "tags": []
          },
          "execution_count": 4
        }
      ]
    },
    {
      "cell_type": "code",
      "metadata": {
        "id": "SVR8fqzzT2KS",
        "outputId": "b658e34e-dadb-4749-e92a-42552ae0d4d5",
        "colab": {
          "base_uri": "https://localhost:8080/",
          "height": 369
        }
      },
      "source": [
        "sns.displot(dados.acousticness, kde=True);"
      ],
      "execution_count": 5,
      "outputs": [
        {
          "output_type": "display_data",
          "data": {
            "image/png": "[encoded data removed]",
            "text/plain": [
              "<Figure size 360x360 with 1 Axes>"
            ]
          },
          "metadata": {
            "tags": [],
            "needs_background": "light"
          }
        }
      ]
    },
    {
      "cell_type": "markdown",
      "metadata": {
        "id": "5dWeUpsGNhFC"
      },
      "source": [
        "## KMeans nos dados de Acousticness c/ Energy"
      ]
    },
    {
      "cell_type": "code",
      "metadata": {
        "id": "t3shFNFHNgLy"
      },
      "source": [
        "#criando o modelo de cluster\n",
        "kmeans = sk.KMeans(n_clusters=2, n_jobs=-1)"
      ],
      "execution_count": 6,
      "outputs": []
    },
    {
      "cell_type": "code",
      "metadata": {
        "id": "K1hQYwGWOUIS"
      },
      "source": [
        "X_varied = dados[['acousticness','energy']]\n",
        "y_pred = kmeans.fit_predict(X_varied)"
      ],
      "execution_count": 7,
      "outputs": []
    },
    {
      "cell_type": "code",
      "metadata": {
        "id": "k-QtiwhVQjjF",
        "outputId": "041114f2-0524-470d-d7c3-4fa7cc8a9306",
        "colab": {
          "base_uri": "https://localhost:8080/",
          "height": 265
        }
      },
      "source": [
        "plt.scatter(X_varied.acousticness, X_varied.energy, c=y_pred);"
      ],
      "execution_count": 8,
      "outputs": [
        {
          "output_type": "display_data",
          "data": {
            "image/png": "[encoded data removed]",
            "text/plain": [
              "<Figure size 432x288 with 1 Axes>"
            ]
          },
          "metadata": {
            "tags": [],
            "needs_background": "light"
          }
        }
      ]
    },
    {
      "cell_type": "code",
      "metadata": {
        "id": "Z45b_K3BQnNT"
      },
      "source": [
        "#criando um dataset só com as variáveis numéricas\n",
        "numerics = dados.select_dtypes(include='number')"
      ],
      "execution_count": 9,
      "outputs": []
    },
    {
      "cell_type": "code",
      "metadata": {
        "id": "GjQfIW4HalPb",
        "outputId": "ceeb9659-7e79-47ca-f50b-ccd5c375396d",
        "colab": {
          "base_uri": "https://localhost:8080/",
          "height": 223
        }
      },
      "source": [
        "numerics.head()"
      ],
      "execution_count": 10,
      "outputs": [
        {
          "output_type": "execute_result",
          "data": {
            "text/html": [
              "<div>\n",
              "<style scoped>\n",
              "    .dataframe tbody tr th:only-of-type {\n",
              "        vertical-align: middle;\n",
              "    }\n",
              "\n",
              "    .dataframe tbody tr th {\n",
              "        vertical-align: top;\n",
              "    }\n",
              "\n",
              "    .dataframe thead th {\n",
              "        text-align: right;\n",
              "    }\n",
              "</style>\n",
              "<table border=\"1\" class=\"dataframe\">\n",
              "  <thead>\n",
              "    <tr style=\"text-align: right;\">\n",
              "      <th></th>\n",
              "      <th>acousticness</th>\n",
              "      <th>danceability</th>\n",
              "      <th>duration_ms</th>\n",
              "      <th>energy</th>\n",
              "      <th>explicit</th>\n",
              "      <th>instrumentalness</th>\n",
              "      <th>key</th>\n",
              "      <th>liveness</th>\n",
              "      <th>loudness</th>\n",
              "      <th>mode</th>\n",
              "      <th>popularity</th>\n",
              "      <th>speechiness</th>\n",
              "      <th>tempo</th>\n",
              "      <th>valence</th>\n",
              "      <th>year</th>\n",
              "    </tr>\n",
              "  </thead>\n",
              "  <tbody>\n",
              "    <tr>\n",
              "      <th>0</th>\n",
              "      <td>0.995</td>\n",
              "      <td>0.708</td>\n",
              "      <td>158648</td>\n",
              "      <td>0.1950</td>\n",
              "      <td>0</td>\n",
              "      <td>0.563</td>\n",
              "      <td>10</td>\n",
              "      <td>0.1510</td>\n",
              "      <td>-12.428</td>\n",
              "      <td>1</td>\n",
              "      <td>0</td>\n",
              "      <td>0.0506</td>\n",
              "      <td>118.469</td>\n",
              "      <td>0.7790</td>\n",
              "      <td>1928</td>\n",
              "    </tr>\n",
              "    <tr>\n",
              "      <th>1</th>\n",
              "      <td>0.994</td>\n",
              "      <td>0.379</td>\n",
              "      <td>282133</td>\n",
              "      <td>0.0135</td>\n",
              "      <td>0</td>\n",
              "      <td>0.901</td>\n",
              "      <td>8</td>\n",
              "      <td>0.0763</td>\n",
              "      <td>-28.454</td>\n",
              "      <td>1</td>\n",
              "      <td>0</td>\n",
              "      <td>0.0462</td>\n",
              "      <td>83.972</td>\n",
              "      <td>0.0767</td>\n",
              "      <td>1928</td>\n",
              "    </tr>\n",
              "    <tr>\n",
              "      <th>2</th>\n",
              "      <td>0.604</td>\n",
              "      <td>0.749</td>\n",
              "      <td>104300</td>\n",
              "      <td>0.2200</td>\n",
              "      <td>0</td>\n",
              "      <td>0.000</td>\n",
              "      <td>5</td>\n",
              "      <td>0.1190</td>\n",
              "      <td>-19.924</td>\n",
              "      <td>0</td>\n",
              "      <td>0</td>\n",
              "      <td>0.9290</td>\n",
              "      <td>107.177</td>\n",
              "      <td>0.8800</td>\n",
              "      <td>1928</td>\n",
              "    </tr>\n",
              "    <tr>\n",
              "      <th>3</th>\n",
              "      <td>0.995</td>\n",
              "      <td>0.781</td>\n",
              "      <td>180760</td>\n",
              "      <td>0.1300</td>\n",
              "      <td>0</td>\n",
              "      <td>0.887</td>\n",
              "      <td>1</td>\n",
              "      <td>0.1110</td>\n",
              "      <td>-14.734</td>\n",
              "      <td>0</td>\n",
              "      <td>0</td>\n",
              "      <td>0.0926</td>\n",
              "      <td>108.003</td>\n",
              "      <td>0.7200</td>\n",
              "      <td>1928</td>\n",
              "    </tr>\n",
              "    <tr>\n",
              "      <th>4</th>\n",
              "      <td>0.990</td>\n",
              "      <td>0.210</td>\n",
              "      <td>687733</td>\n",
              "      <td>0.2040</td>\n",
              "      <td>0</td>\n",
              "      <td>0.908</td>\n",
              "      <td>11</td>\n",
              "      <td>0.0980</td>\n",
              "      <td>-16.829</td>\n",
              "      <td>1</td>\n",
              "      <td>1</td>\n",
              "      <td>0.0424</td>\n",
              "      <td>62.149</td>\n",
              "      <td>0.0693</td>\n",
              "      <td>1928</td>\n",
              "    </tr>\n",
              "  </tbody>\n",
              "</table>\n",
              "</div>"
            ],
            "text/plain": [
              "   acousticness  danceability  duration_ms  ...    tempo  valence  year\n",
              "0         0.995         0.708       158648  ...  118.469   0.7790  1928\n",
              "1         0.994         0.379       282133  ...   83.972   0.0767  1928\n",
              "2         0.604         0.749       104300  ...  107.177   0.8800  1928\n",
              "3         0.995         0.781       180760  ...  108.003   0.7200  1928\n",
              "4         0.990         0.210       687733  ...   62.149   0.0693  1928\n",
              "\n",
              "[5 rows x 15 columns]"
            ]
          },
          "metadata": {
            "tags": []
          },
          "execution_count": 10
        }
      ]
    },
    {
      "cell_type": "markdown",
      "metadata": {
        "id": "gB2jDGVwbgUj"
      },
      "source": [
        "## Criando 10 classes no dataset"
      ]
    },
    {
      "cell_type": "code",
      "metadata": {
        "id": "8Zt1nKxtamke"
      },
      "source": [
        "cluster = sk.AgglomerativeClustering(n_clusters=10).fit(numerics)"
      ],
      "execution_count": null,
      "outputs": []
    },
    {
      "cell_type": "code",
      "metadata": {
        "id": "ggmEdEI9b_lt"
      },
      "source": [
        ""
      ],
      "execution_count": null,
      "outputs": []
    }
  ]
}