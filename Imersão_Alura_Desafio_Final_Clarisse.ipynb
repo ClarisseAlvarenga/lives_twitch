{
  "nbformat": 4,
  "nbformat_minor": 0,
  "metadata": {
    "colab": {
      "name": "Imersão Alura - Desafio Final - Clarisse.ipynb",
      "provenance": [],
      "authorship_tag": "ABX9TyNXuEW1I49hRQDdc+ffYqXb",
      "include_colab_link": true
    },
    "kernelspec": {
      "name": "python3",
      "display_name": "Python 3"
    }
  },
  "cells": [
    {
      "cell_type": "markdown",
      "metadata": {
        "id": "view-in-github",
        "colab_type": "text"
      },
      "source": [
        "<a href=\"https://colab.research.google.com/github/ClarisseAlvarenga/lives_twitch/blob/master/Imers%C3%A3o_Alura_Desafio_Final_Clarisse.ipynb\" target=\"_parent\"><img src=\"https://colab.research.google.com/assets/colab-badge.svg\" alt=\"Open In Colab\"/></a>"
      ]
    },
    {
      "cell_type": "code",
      "metadata": {
        "id": "-pNxACJshE0u"
      },
      "source": [
        "#importando nossas bibliotecas\n",
        "import pandas as pd\n",
        "import numpy as np\n",
        "import matplotlib.pyplot as plt\n",
        "import seaborn as sns"
      ],
      "execution_count": 1,
      "outputs": []
    },
    {
      "cell_type": "markdown",
      "metadata": {
        "id": "ipWqkcIfbcCs"
      },
      "source": [
        "# **IMERSÃO ALURA DADOS - DESAFIO FINAL**"
      ]
    },
    {
      "cell_type": "markdown",
      "metadata": {
        "id": "7gC3xt25bkLJ"
      },
      "source": [
        "## **COMO A CLASSE SOCIAL INTERFERE NO DESEMPENHO DO ENEM**"
      ]
    },
    {
      "cell_type": "markdown",
      "metadata": {
        "id": "iAo3tkh4eeaR"
      },
      "source": [
        "Para esta análise, vamos considerar o questionário socio-econômico do ENEM, que traz, entre outras coisas as faixas de renda. Consideraremos sempre a maior renda da faixa estipulada pelo ENEM, e como teto salarial vamos considerar o salário do Ministro do Supremo Tribunal Federal, que em 2019 era de R$ 43.615,58 - que foi escolhido como parâmetro de acordo com o art. 37 inciso XI da Constituição Federal Brasileira,  que diz:\n",
        "\n",
        "\n",
        "\n",
        "> *XI - a remuneração e o subsídio dos ocupantes de cargos, funções e empregos públicos da administração direta, autárquica e fundacional, dos membros de qualquer dos Poderes da União, dos Estados, do Distrito Federal e dos Municípios, dos detentores de mandato eletivo e dos demais agentes políticos e os proventos, pensões ou outra espécie remuneratória, percebidos cumulativamente ou não, incluídas as vantagens pessoais ou de qualquer outra natureza, não poderão exceder o subsídio mensal, em espécie, dos Ministros do Supremo Tribunal Federal, aplicando-se como limite, nos Municípios, o subsídio do Prefeito, e nos Estados e no Distrito Federal, o subsídio mensal do Governador no âmbito do Poder Executivo, o subsídio dos Deputados Estaduais e Distritais no âmbito do Poder Legislativo e o subsídio dos Desembargadores do Tribunal de Justiça, limitado a noventa inteiros e vinte e cinco centésimos por cento do subsídio mensal, em espécie, dos Ministros do Supremo Tribunal Federal, no âmbito do Poder Judiciário, aplicável este limite aos membros do Ministério Público, aos Procuradores e aos Defensores Públicos;*\n",
        "\n",
        "\n",
        "\n",
        "fonte http://www.stf.jus.br/portal/remuneracao/listarRemuneracao.asp?periodo=112019&ano=2019&mes=11&folha=1\n",
        "\n"
      ]
    },
    {
      "cell_type": "markdown",
      "metadata": {
        "id": "Jf6NK9TvgmcL"
      },
      "source": [
        "## Conhecendo nossa base de dados"
      ]
    },
    {
      "cell_type": "markdown",
      "metadata": {
        "id": "j7s1t4Sfgroh"
      },
      "source": [
        "Vamos utilizar a amostra de dados usada durante a Imersão, pois nosso interesse é ter um retrato nacional do impacto da renda.\n",
        "\n",
        "Nosso desafio será determinar se a pessoa é da classe A, B, C D e E usando a pesquisa socioeconômica da para calcular esta classe e criar uma nova classificação entre os inscritos no ENEM de 2019. \n",
        "\n",
        " fonte https://thiagorodrigo.com.br/artigo/faixas-salariais-classe-social-abep-ibge/"
      ]
    },
    {
      "cell_type": "markdown",
      "metadata": {
        "id": "pDSeTw2fiZY_"
      },
      "source": [
        "**Classe social para o IBGE**\n",
        "\n",
        "As classes sociais, para além da classificação marxista, também são classificadas em classe alta, classe baixa e classe média. Para criar uma classificação mais precisa, o Instituto Brasileiro de Geografia e Estatística (IBGE) criou um sistema de medição que abrange cinco estratos sociais, que são as classes A, B, C, D e E, sendo A a classe com maior poder aquisitivo e concentração de renda e E a classe com menor poder aquisitivo e concentração de renda.\n",
        "\n",
        "A maneira mais fácil e simples de definir os padrões de cada classe social pelo IBGE é por meio da renda familiar mensal. Porém, nem sempre esse indicador socioeconômico é satisfatório, sendo necessário, em alguns casos, analisar a condição socioeconômica de uma pessoa com base em outros indicadores, como aqueles que foram mencionados no parágrafo anterior.\n",
        "\n",
        "\n",
        "\n",
        "Para este estudo, vamos considerar o salário mínimo de 2019 que era **R$998,00.**\n",
        "\n",
        "fonte: https://www.guiatrabalhista.com.br/guia/salario_minimo.htm\n",
        "\n",
        "fonte: https://brasilescola.uol.com.br/sociologia/classe-social.htm"
      ]
    },
    {
      "cell_type": "code",
      "metadata": {
        "id": "dceVHZeybVjX"
      },
      "source": [
        "#selecionando a fonte de dados\n",
        "fonte = \"https://github.com/alura-cursos/imersao-dados-2-2020/blob/master/MICRODADOS_ENEM_2019_SAMPLE_43278.csv?raw=true\""
      ],
      "execution_count": 2,
      "outputs": []
    },
    {
      "cell_type": "code",
      "metadata": {
        "id": "b0ciYUygbd98"
      },
      "source": [
        "#leitura de dados\n",
        "dados = pd.read_csv(fonte)"
      ],
      "execution_count": 3,
      "outputs": []
    },
    {
      "cell_type": "markdown",
      "metadata": {
        "id": "JOLJkUjLnRHD"
      },
      "source": [
        "### **Criar dicionários para lidar com os dados**"
      ]
    },
    {
      "cell_type": "markdown",
      "metadata": {
        "id": "3eCkHN0jnZ_t"
      },
      "source": [
        "#### **- Criando o limite superior das classes**\n",
        "\n",
        "*   **Classe A:** será o salário do  Ministro do STF\n",
        "\n",
        "*   **Classe B:** de 5 a 15 salários mínimos;\n",
        "\n",
        "* **Classe C**: de 3 a 5 salários mínimos;\n",
        "\n",
        "* **Classe D:** de 1 a 3 salários mínimos;\n",
        "\n",
        "* **Classe E:** até 1 salário mínimo.\n",
        "\n"
      ]
    },
    {
      "cell_type": "code",
      "metadata": {
        "id": "8u7ex_EBl6vG"
      },
      "source": [
        "#criando os limites superiores das classes:\n",
        "salario_minimo = 998.00\n",
        "a = 43615.58 #salário do Ministro do Superior Tribunal Federal\n",
        "b = 15 * salario_minimo #14.970,00\n",
        "c = 5 * salario_minimo # 4.990,00\n",
        "d = 3 * salario_minimo # 2.994,00\n",
        "e = salario_minimo # 998,00"
      ],
      "execution_count": 4,
      "outputs": []
    },
    {
      "cell_type": "code",
      "metadata": {
        "id": "ldL2mJ5CoSx5"
      },
      "source": [
        "#Q006 = Renda familiar de A a Q quanto maior mais alta a renda \n",
        "renda_familiar = {\n",
        "    \"A\"\t: 0,\n",
        "    \"B\": \t998.00,\n",
        "    \"C\":\t1497.00,\n",
        "    \"D\":\t1996.00,\n",
        "    \"E\":\t2495.00,\n",
        "    \"F\":\t2994.00,\n",
        "    \"G\":\t3992.00,\n",
        "    \"H\":\t4990.00,\n",
        "    \"I\":  5988.00,\n",
        "    \"J\":\t6986.00,\n",
        "    \"K\":\t7984.00,\n",
        "    \"L\":\t8982.00,\n",
        "    \"M\":  9980.00,\n",
        "    \"N\":\t11976.00,\n",
        "    \"O\":\t14970.00,\n",
        "    \"P\":  19960.00,\n",
        "    \"Q\": \t43615.58\n",
        "}"
      ],
      "execution_count": 5,
      "outputs": []
    },
    {
      "cell_type": "code",
      "metadata": {
        "id": "o1fcLLYqcHcI"
      },
      "source": [
        "#criando outros dicionários de dados para facilitar a análise\n",
        "genero = { 'M': 0, 'F':1}\n",
        "conclusao = {\n",
        "    1: 'ensino médio concluído',\n",
        "    2: 'cursando, conclusão em 2019',\n",
        "    3: 'cursando, conclusão após 2019',\n",
        "    4: 'ensino médio não concluído e não cursando'\n",
        "}\n",
        "tipo_escola = {\n",
        "    1: 'sem resposta', \n",
        "    2: 'pública',\n",
        "    3: 'privada',\n",
        "    4: 'exterior',\n",
        "}\n",
        "\n",
        "tipo_ensino = {\n",
        "    1: 'regular',\n",
        "    2: 'especial',\n",
        "    3: 'EJA'   \n",
        "}\n",
        "localizacao_escola = {\n",
        "    1: 'urbana',\n",
        "    2: 'rural'\n",
        "}\n",
        "tipo_presenca = {\n",
        "    0:'faltou',\n",
        "    1:'presente',\n",
        "    2:'eliminado'\n",
        "}\n",
        "idioma_estrangeiro = {\n",
        "    0: 'inglês',\n",
        "    1: 'espanhol'\n",
        "}\n",
        "\n"
      ],
      "execution_count": 6,
      "outputs": []
    },
    {
      "cell_type": "markdown",
      "metadata": {
        "id": "Qm0t7HrRo0gT"
      },
      "source": [
        "## **Lendo os dados**"
      ]
    },
    {
      "cell_type": "code",
      "metadata": {
        "id": "tZ4xj7DLo4_F",
        "outputId": "54356eb2-b952-4cd1-ebb8-aa5bdfc4cf1f",
        "colab": {
          "base_uri": "https://localhost:8080/",
          "height": 252
        }
      },
      "source": [
        "#visualizando os 5 primeiros itens dos nossos dados\n",
        "dados.head()"
      ],
      "execution_count": 7,
      "outputs": [
        {
          "output_type": "execute_result",
          "data": {
            "text/html": [
              "<div>\n",
              "<style scoped>\n",
              "    .dataframe tbody tr th:only-of-type {\n",
              "        vertical-align: middle;\n",
              "    }\n",
              "\n",
              "    .dataframe tbody tr th {\n",
              "        vertical-align: top;\n",
              "    }\n",
              "\n",
              "    .dataframe thead th {\n",
              "        text-align: right;\n",
              "    }\n",
              "</style>\n",
              "<table border=\"1\" class=\"dataframe\">\n",
              "  <thead>\n",
              "    <tr style=\"text-align: right;\">\n",
              "      <th></th>\n",
              "      <th>NU_INSCRICAO</th>\n",
              "      <th>NU_ANO</th>\n",
              "      <th>CO_MUNICIPIO_RESIDENCIA</th>\n",
              "      <th>NO_MUNICIPIO_RESIDENCIA</th>\n",
              "      <th>CO_UF_RESIDENCIA</th>\n",
              "      <th>SG_UF_RESIDENCIA</th>\n",
              "      <th>NU_IDADE</th>\n",
              "      <th>TP_SEXO</th>\n",
              "      <th>TP_ESTADO_CIVIL</th>\n",
              "      <th>TP_COR_RACA</th>\n",
              "      <th>TP_NACIONALIDADE</th>\n",
              "      <th>CO_MUNICIPIO_NASCIMENTO</th>\n",
              "      <th>NO_MUNICIPIO_NASCIMENTO</th>\n",
              "      <th>CO_UF_NASCIMENTO</th>\n",
              "      <th>SG_UF_NASCIMENTO</th>\n",
              "      <th>TP_ST_CONCLUSAO</th>\n",
              "      <th>TP_ANO_CONCLUIU</th>\n",
              "      <th>TP_ESCOLA</th>\n",
              "      <th>TP_ENSINO</th>\n",
              "      <th>IN_TREINEIRO</th>\n",
              "      <th>CO_ESCOLA</th>\n",
              "      <th>CO_MUNICIPIO_ESC</th>\n",
              "      <th>NO_MUNICIPIO_ESC</th>\n",
              "      <th>CO_UF_ESC</th>\n",
              "      <th>SG_UF_ESC</th>\n",
              "      <th>TP_DEPENDENCIA_ADM_ESC</th>\n",
              "      <th>TP_LOCALIZACAO_ESC</th>\n",
              "      <th>TP_SIT_FUNC_ESC</th>\n",
              "      <th>IN_BAIXA_VISAO</th>\n",
              "      <th>IN_CEGUEIRA</th>\n",
              "      <th>IN_SURDEZ</th>\n",
              "      <th>IN_DEFICIENCIA_AUDITIVA</th>\n",
              "      <th>IN_SURDO_CEGUEIRA</th>\n",
              "      <th>IN_DEFICIENCIA_FISICA</th>\n",
              "      <th>IN_DEFICIENCIA_MENTAL</th>\n",
              "      <th>IN_DEFICIT_ATENCAO</th>\n",
              "      <th>IN_DISLEXIA</th>\n",
              "      <th>IN_DISCALCULIA</th>\n",
              "      <th>IN_AUTISMO</th>\n",
              "      <th>IN_VISAO_MONOCULAR</th>\n",
              "      <th>...</th>\n",
              "      <th>TX_RESPOSTAS_CH</th>\n",
              "      <th>TX_RESPOSTAS_LC</th>\n",
              "      <th>TX_RESPOSTAS_MT</th>\n",
              "      <th>TP_LINGUA</th>\n",
              "      <th>TX_GABARITO_CN</th>\n",
              "      <th>TX_GABARITO_CH</th>\n",
              "      <th>TX_GABARITO_LC</th>\n",
              "      <th>TX_GABARITO_MT</th>\n",
              "      <th>TP_STATUS_REDACAO</th>\n",
              "      <th>NU_NOTA_COMP1</th>\n",
              "      <th>NU_NOTA_COMP2</th>\n",
              "      <th>NU_NOTA_COMP3</th>\n",
              "      <th>NU_NOTA_COMP4</th>\n",
              "      <th>NU_NOTA_COMP5</th>\n",
              "      <th>NU_NOTA_REDACAO</th>\n",
              "      <th>Q001</th>\n",
              "      <th>Q002</th>\n",
              "      <th>Q003</th>\n",
              "      <th>Q004</th>\n",
              "      <th>Q005</th>\n",
              "      <th>Q006</th>\n",
              "      <th>Q007</th>\n",
              "      <th>Q008</th>\n",
              "      <th>Q009</th>\n",
              "      <th>Q010</th>\n",
              "      <th>Q011</th>\n",
              "      <th>Q012</th>\n",
              "      <th>Q013</th>\n",
              "      <th>Q014</th>\n",
              "      <th>Q015</th>\n",
              "      <th>Q016</th>\n",
              "      <th>Q017</th>\n",
              "      <th>Q018</th>\n",
              "      <th>Q019</th>\n",
              "      <th>Q020</th>\n",
              "      <th>Q021</th>\n",
              "      <th>Q022</th>\n",
              "      <th>Q023</th>\n",
              "      <th>Q024</th>\n",
              "      <th>Q025</th>\n",
              "    </tr>\n",
              "  </thead>\n",
              "  <tbody>\n",
              "    <tr>\n",
              "      <th>0</th>\n",
              "      <td>190001004661</td>\n",
              "      <td>2019</td>\n",
              "      <td>1506138</td>\n",
              "      <td>Redenção</td>\n",
              "      <td>15</td>\n",
              "      <td>PA</td>\n",
              "      <td>17</td>\n",
              "      <td>M</td>\n",
              "      <td>1</td>\n",
              "      <td>3</td>\n",
              "      <td>1</td>\n",
              "      <td>1506138.0</td>\n",
              "      <td>Redenção</td>\n",
              "      <td>15.0</td>\n",
              "      <td>PA</td>\n",
              "      <td>3</td>\n",
              "      <td>0</td>\n",
              "      <td>1</td>\n",
              "      <td>NaN</td>\n",
              "      <td>1</td>\n",
              "      <td>NaN</td>\n",
              "      <td>NaN</td>\n",
              "      <td>NaN</td>\n",
              "      <td>NaN</td>\n",
              "      <td>NaN</td>\n",
              "      <td>NaN</td>\n",
              "      <td>NaN</td>\n",
              "      <td>NaN</td>\n",
              "      <td>0</td>\n",
              "      <td>0</td>\n",
              "      <td>0</td>\n",
              "      <td>0</td>\n",
              "      <td>0</td>\n",
              "      <td>0</td>\n",
              "      <td>0</td>\n",
              "      <td>0</td>\n",
              "      <td>0</td>\n",
              "      <td>0</td>\n",
              "      <td>0</td>\n",
              "      <td>0</td>\n",
              "      <td>...</td>\n",
              "      <td>ACAEAAACABEBABAADCEEEDE*CBDCCCADADCCCBEBBBBDB</td>\n",
              "      <td>99999CCCABBCAADDBCEBCCADBEEBDECBAABDEACACAEABB...</td>\n",
              "      <td>DEEDCAECDDEEECBCBECABEBAECBBCDAECAEBBBBBDCCDB</td>\n",
              "      <td>1</td>\n",
              "      <td>DEADBAAAEBEECEBCBCBCBDADAEABCEDDDDADCBEECACBC</td>\n",
              "      <td>ACACEEBCCBABADBBBACDBBACCCCADCEBADCBEEDBBEADB</td>\n",
              "      <td>EBBADCABDABACBCEBDEEAAADDBECDECDDBADBCDAAECBCC...</td>\n",
              "      <td>AADDDBEEEBEDDBEBACABCDBABECECACAECDCBDCCEDCDA</td>\n",
              "      <td>1.0</td>\n",
              "      <td>60.0</td>\n",
              "      <td>100.0</td>\n",
              "      <td>80.0</td>\n",
              "      <td>80.0</td>\n",
              "      <td>100.0</td>\n",
              "      <td>420.0</td>\n",
              "      <td>B</td>\n",
              "      <td>B</td>\n",
              "      <td>A</td>\n",
              "      <td>A</td>\n",
              "      <td>4</td>\n",
              "      <td>B</td>\n",
              "      <td>A</td>\n",
              "      <td>C</td>\n",
              "      <td>B</td>\n",
              "      <td>A</td>\n",
              "      <td>C</td>\n",
              "      <td>B</td>\n",
              "      <td>A</td>\n",
              "      <td>A</td>\n",
              "      <td>A</td>\n",
              "      <td>A</td>\n",
              "      <td>A</td>\n",
              "      <td>A</td>\n",
              "      <td>A</td>\n",
              "      <td>B</td>\n",
              "      <td>A</td>\n",
              "      <td>C</td>\n",
              "      <td>A</td>\n",
              "      <td>B</td>\n",
              "      <td>B</td>\n",
              "    </tr>\n",
              "    <tr>\n",
              "      <th>1</th>\n",
              "      <td>190001004674</td>\n",
              "      <td>2019</td>\n",
              "      <td>1504208</td>\n",
              "      <td>Marabá</td>\n",
              "      <td>15</td>\n",
              "      <td>PA</td>\n",
              "      <td>23</td>\n",
              "      <td>M</td>\n",
              "      <td>1</td>\n",
              "      <td>3</td>\n",
              "      <td>1</td>\n",
              "      <td>1504208.0</td>\n",
              "      <td>Marabá</td>\n",
              "      <td>15.0</td>\n",
              "      <td>PA</td>\n",
              "      <td>1</td>\n",
              "      <td>3</td>\n",
              "      <td>1</td>\n",
              "      <td>1.0</td>\n",
              "      <td>0</td>\n",
              "      <td>NaN</td>\n",
              "      <td>NaN</td>\n",
              "      <td>NaN</td>\n",
              "      <td>NaN</td>\n",
              "      <td>NaN</td>\n",
              "      <td>NaN</td>\n",
              "      <td>NaN</td>\n",
              "      <td>NaN</td>\n",
              "      <td>0</td>\n",
              "      <td>0</td>\n",
              "      <td>0</td>\n",
              "      <td>0</td>\n",
              "      <td>0</td>\n",
              "      <td>0</td>\n",
              "      <td>0</td>\n",
              "      <td>0</td>\n",
              "      <td>0</td>\n",
              "      <td>0</td>\n",
              "      <td>0</td>\n",
              "      <td>0</td>\n",
              "      <td>...</td>\n",
              "      <td>ABBCEADCEBAAACACEDCDCDACCCACDCBCABCAACBDBDEDE</td>\n",
              "      <td>99999ABCEBCEDDECEEEBBCCEECCABDABEEBCDEAEBBEAEA...</td>\n",
              "      <td>NaN</td>\n",
              "      <td>1</td>\n",
              "      <td>NaN</td>\n",
              "      <td>CBABADBBCEEEBCBADCBEEDBBEADBBACDBBACCCCADACAC</td>\n",
              "      <td>BBEDABDACACBABAECBBCCADCEBDBBCDDEEAAADDBECDECA...</td>\n",
              "      <td>NaN</td>\n",
              "      <td>1.0</td>\n",
              "      <td>80.0</td>\n",
              "      <td>100.0</td>\n",
              "      <td>80.0</td>\n",
              "      <td>80.0</td>\n",
              "      <td>60.0</td>\n",
              "      <td>400.0</td>\n",
              "      <td>C</td>\n",
              "      <td>C</td>\n",
              "      <td>A</td>\n",
              "      <td>A</td>\n",
              "      <td>4</td>\n",
              "      <td>B</td>\n",
              "      <td>A</td>\n",
              "      <td>B</td>\n",
              "      <td>C</td>\n",
              "      <td>A</td>\n",
              "      <td>A</td>\n",
              "      <td>B</td>\n",
              "      <td>B</td>\n",
              "      <td>B</td>\n",
              "      <td>A</td>\n",
              "      <td>A</td>\n",
              "      <td>A</td>\n",
              "      <td>A</td>\n",
              "      <td>B</td>\n",
              "      <td>A</td>\n",
              "      <td>A</td>\n",
              "      <td>B</td>\n",
              "      <td>A</td>\n",
              "      <td>A</td>\n",
              "      <td>B</td>\n",
              "    </tr>\n",
              "    <tr>\n",
              "      <th>2</th>\n",
              "      <td>190001004722</td>\n",
              "      <td>2019</td>\n",
              "      <td>1501402</td>\n",
              "      <td>Belém</td>\n",
              "      <td>15</td>\n",
              "      <td>PA</td>\n",
              "      <td>35</td>\n",
              "      <td>F</td>\n",
              "      <td>2</td>\n",
              "      <td>1</td>\n",
              "      <td>1</td>\n",
              "      <td>1501402.0</td>\n",
              "      <td>Belém</td>\n",
              "      <td>15.0</td>\n",
              "      <td>PA</td>\n",
              "      <td>1</td>\n",
              "      <td>12</td>\n",
              "      <td>1</td>\n",
              "      <td>1.0</td>\n",
              "      <td>0</td>\n",
              "      <td>NaN</td>\n",
              "      <td>NaN</td>\n",
              "      <td>NaN</td>\n",
              "      <td>NaN</td>\n",
              "      <td>NaN</td>\n",
              "      <td>NaN</td>\n",
              "      <td>NaN</td>\n",
              "      <td>NaN</td>\n",
              "      <td>0</td>\n",
              "      <td>0</td>\n",
              "      <td>0</td>\n",
              "      <td>0</td>\n",
              "      <td>0</td>\n",
              "      <td>0</td>\n",
              "      <td>0</td>\n",
              "      <td>0</td>\n",
              "      <td>0</td>\n",
              "      <td>0</td>\n",
              "      <td>0</td>\n",
              "      <td>0</td>\n",
              "      <td>...</td>\n",
              "      <td>CDCAACCAAADEACBBEBAAEECDABDEBAEAABEDCABABAABC</td>\n",
              "      <td>99999ECBCECEBBABECCCECECCEECCDECEEEDADDDDECEDD...</td>\n",
              "      <td>DDBEADEBBCADCEEACABECBCEBADECADCEDAACBDABABCE</td>\n",
              "      <td>1</td>\n",
              "      <td>AAECACDEADCBCDDDBCBDADAEABCEBABEEBCBEECEBDADC</td>\n",
              "      <td>CBABADBBCEEEBCBADCBEEDBBEADBBACDBBACCCCADACAC</td>\n",
              "      <td>BBEDABDACACBABAECBBCCADCEBDBBCDDEEAAADDBECDECA...</td>\n",
              "      <td>EEEADBEBACABCDBABECECACDCBDCCEDCDABEDECDDDBAA</td>\n",
              "      <td>1.0</td>\n",
              "      <td>100.0</td>\n",
              "      <td>120.0</td>\n",
              "      <td>120.0</td>\n",
              "      <td>100.0</td>\n",
              "      <td>120.0</td>\n",
              "      <td>560.0</td>\n",
              "      <td>C</td>\n",
              "      <td>A</td>\n",
              "      <td>B</td>\n",
              "      <td>B</td>\n",
              "      <td>5</td>\n",
              "      <td>C</td>\n",
              "      <td>A</td>\n",
              "      <td>B</td>\n",
              "      <td>C</td>\n",
              "      <td>A</td>\n",
              "      <td>A</td>\n",
              "      <td>B</td>\n",
              "      <td>A</td>\n",
              "      <td>B</td>\n",
              "      <td>A</td>\n",
              "      <td>A</td>\n",
              "      <td>A</td>\n",
              "      <td>A</td>\n",
              "      <td>B</td>\n",
              "      <td>A</td>\n",
              "      <td>B</td>\n",
              "      <td>B</td>\n",
              "      <td>A</td>\n",
              "      <td>A</td>\n",
              "      <td>B</td>\n",
              "    </tr>\n",
              "    <tr>\n",
              "      <th>3</th>\n",
              "      <td>190001004735</td>\n",
              "      <td>2019</td>\n",
              "      <td>1507300</td>\n",
              "      <td>São Félix do Xingu</td>\n",
              "      <td>15</td>\n",
              "      <td>PA</td>\n",
              "      <td>23</td>\n",
              "      <td>F</td>\n",
              "      <td>1</td>\n",
              "      <td>3</td>\n",
              "      <td>1</td>\n",
              "      <td>1505437.0</td>\n",
              "      <td>Ourilândia do Norte</td>\n",
              "      <td>15.0</td>\n",
              "      <td>PA</td>\n",
              "      <td>1</td>\n",
              "      <td>7</td>\n",
              "      <td>1</td>\n",
              "      <td>NaN</td>\n",
              "      <td>0</td>\n",
              "      <td>NaN</td>\n",
              "      <td>NaN</td>\n",
              "      <td>NaN</td>\n",
              "      <td>NaN</td>\n",
              "      <td>NaN</td>\n",
              "      <td>NaN</td>\n",
              "      <td>NaN</td>\n",
              "      <td>NaN</td>\n",
              "      <td>0</td>\n",
              "      <td>0</td>\n",
              "      <td>0</td>\n",
              "      <td>0</td>\n",
              "      <td>0</td>\n",
              "      <td>0</td>\n",
              "      <td>0</td>\n",
              "      <td>0</td>\n",
              "      <td>0</td>\n",
              "      <td>0</td>\n",
              "      <td>0</td>\n",
              "      <td>0</td>\n",
              "      <td>...</td>\n",
              "      <td>EECCCEDBADBEAAAAEBAECEAAAAEEEBACCAC*CEAEDAECE</td>\n",
              "      <td>99999BABCDABBCBDDAAECADBDDADDCBCEEDCAEBCEAEABD...</td>\n",
              "      <td>CBDEBBCBDEBCABCDBDEDADCCBEDBCAECEBEBDEBAEECBC</td>\n",
              "      <td>1</td>\n",
              "      <td>BEEAAEBEEBADEADDADAEABCEDDDBCBCBCCACBCDADCCEB</td>\n",
              "      <td>EEBCEEDBADBBCBABCCADCEBACDBBACCACACBEADBBADCB</td>\n",
              "      <td>ADBBEDCABAABBCBCDAAECDDDBAAAECADECDCEBDEEAECBD...</td>\n",
              "      <td>BEDEEEAADBEBACABCDBABECECACADCBDCCEDCDABECDDD</td>\n",
              "      <td>1.0</td>\n",
              "      <td>100.0</td>\n",
              "      <td>120.0</td>\n",
              "      <td>120.0</td>\n",
              "      <td>120.0</td>\n",
              "      <td>40.0</td>\n",
              "      <td>500.0</td>\n",
              "      <td>E</td>\n",
              "      <td>C</td>\n",
              "      <td>A</td>\n",
              "      <td>A</td>\n",
              "      <td>1</td>\n",
              "      <td>B</td>\n",
              "      <td>A</td>\n",
              "      <td>B</td>\n",
              "      <td>C</td>\n",
              "      <td>A</td>\n",
              "      <td>A</td>\n",
              "      <td>B</td>\n",
              "      <td>A</td>\n",
              "      <td>A</td>\n",
              "      <td>A</td>\n",
              "      <td>A</td>\n",
              "      <td>A</td>\n",
              "      <td>A</td>\n",
              "      <td>B</td>\n",
              "      <td>A</td>\n",
              "      <td>A</td>\n",
              "      <td>B</td>\n",
              "      <td>A</td>\n",
              "      <td>A</td>\n",
              "      <td>B</td>\n",
              "    </tr>\n",
              "    <tr>\n",
              "      <th>4</th>\n",
              "      <td>190001004776</td>\n",
              "      <td>2019</td>\n",
              "      <td>1500800</td>\n",
              "      <td>Ananindeua</td>\n",
              "      <td>15</td>\n",
              "      <td>PA</td>\n",
              "      <td>16</td>\n",
              "      <td>F</td>\n",
              "      <td>1</td>\n",
              "      <td>3</td>\n",
              "      <td>1</td>\n",
              "      <td>1500800.0</td>\n",
              "      <td>Ananindeua</td>\n",
              "      <td>15.0</td>\n",
              "      <td>PA</td>\n",
              "      <td>3</td>\n",
              "      <td>0</td>\n",
              "      <td>1</td>\n",
              "      <td>NaN</td>\n",
              "      <td>1</td>\n",
              "      <td>NaN</td>\n",
              "      <td>NaN</td>\n",
              "      <td>NaN</td>\n",
              "      <td>NaN</td>\n",
              "      <td>NaN</td>\n",
              "      <td>NaN</td>\n",
              "      <td>NaN</td>\n",
              "      <td>NaN</td>\n",
              "      <td>0</td>\n",
              "      <td>0</td>\n",
              "      <td>0</td>\n",
              "      <td>0</td>\n",
              "      <td>0</td>\n",
              "      <td>0</td>\n",
              "      <td>0</td>\n",
              "      <td>0</td>\n",
              "      <td>0</td>\n",
              "      <td>0</td>\n",
              "      <td>0</td>\n",
              "      <td>0</td>\n",
              "      <td>...</td>\n",
              "      <td>CCBCBEACABACABBBBACCBCEBDCBABCADADCBCADBAADEA</td>\n",
              "      <td>EBCAB99999BBCECBCACBEACBDAABDBCBBDACEBBACDCAEC...</td>\n",
              "      <td>AECCBBCBBCBDEDECACBAABEDABBEDDADCEADDBEBDBBEB</td>\n",
              "      <td>0</td>\n",
              "      <td>DEADBAAAEBEECEBCBCBCBDADAEABCEDDDDADCBEECACBC</td>\n",
              "      <td>ACACEEBCCBABADBBBACDBBACCCCADCEBADCBEEDBBEADB</td>\n",
              "      <td>EBBADCABDABACBCEBDEEAAADDBECDECDDBADBCDAAECBCC...</td>\n",
              "      <td>AADDDBEEEBEDDBEBACABCDBABECECACAECDCBDCCEDCDA</td>\n",
              "      <td>1.0</td>\n",
              "      <td>160.0</td>\n",
              "      <td>140.0</td>\n",
              "      <td>160.0</td>\n",
              "      <td>160.0</td>\n",
              "      <td>160.0</td>\n",
              "      <td>780.0</td>\n",
              "      <td>E</td>\n",
              "      <td>E</td>\n",
              "      <td>B</td>\n",
              "      <td>D</td>\n",
              "      <td>3</td>\n",
              "      <td>E</td>\n",
              "      <td>A</td>\n",
              "      <td>B</td>\n",
              "      <td>C</td>\n",
              "      <td>B</td>\n",
              "      <td>A</td>\n",
              "      <td>B</td>\n",
              "      <td>A</td>\n",
              "      <td>A</td>\n",
              "      <td>A</td>\n",
              "      <td>A</td>\n",
              "      <td>A</td>\n",
              "      <td>A</td>\n",
              "      <td>B</td>\n",
              "      <td>A</td>\n",
              "      <td>A</td>\n",
              "      <td>D</td>\n",
              "      <td>A</td>\n",
              "      <td>A</td>\n",
              "      <td>B</td>\n",
              "    </tr>\n",
              "  </tbody>\n",
              "</table>\n",
              "<p>5 rows × 136 columns</p>\n",
              "</div>"
            ],
            "text/plain": [
              "   NU_INSCRICAO  NU_ANO  CO_MUNICIPIO_RESIDENCIA  ... Q023  Q024 Q025\n",
              "0  190001004661    2019                  1506138  ...    A     B    B\n",
              "1  190001004674    2019                  1504208  ...    A     A    B\n",
              "2  190001004722    2019                  1501402  ...    A     A    B\n",
              "3  190001004735    2019                  1507300  ...    A     A    B\n",
              "4  190001004776    2019                  1500800  ...    A     A    B\n",
              "\n",
              "[5 rows x 136 columns]"
            ]
          },
          "metadata": {
            "tags": []
          },
          "execution_count": 7
        }
      ]
    },
    {
      "cell_type": "code",
      "metadata": {
        "id": "8WQRXnGTpHCT",
        "outputId": "2b6cb9d8-f87f-4f23-cd5c-be96b62cc579",
        "colab": {
          "base_uri": "https://localhost:8080/",
          "height": 137
        }
      },
      "source": [
        "#visualizando nossas colunas\n",
        "dados.columns"
      ],
      "execution_count": 8,
      "outputs": [
        {
          "output_type": "execute_result",
          "data": {
            "text/plain": [
              "Index(['NU_INSCRICAO', 'NU_ANO', 'CO_MUNICIPIO_RESIDENCIA',\n",
              "       'NO_MUNICIPIO_RESIDENCIA', 'CO_UF_RESIDENCIA', 'SG_UF_RESIDENCIA',\n",
              "       'NU_IDADE', 'TP_SEXO', 'TP_ESTADO_CIVIL', 'TP_COR_RACA',\n",
              "       ...\n",
              "       'Q016', 'Q017', 'Q018', 'Q019', 'Q020', 'Q021', 'Q022', 'Q023', 'Q024',\n",
              "       'Q025'],\n",
              "      dtype='object', length=136)"
            ]
          },
          "metadata": {
            "tags": []
          },
          "execution_count": 8
        }
      ]
    },
    {
      "cell_type": "markdown",
      "metadata": {
        "id": "bGXc4YPYsjEh"
      },
      "source": [
        "### **Criando nossa coluna de classes sociais**"
      ]
    },
    {
      "cell_type": "markdown",
      "metadata": {
        "id": "1Rc4IoJ5oqR8"
      },
      "source": [
        "**O primeiro passo é criar uma coluna de renda familiar com os limites superiores da questão 006**"
      ]
    },
    {
      "cell_type": "code",
      "metadata": {
        "id": "LmsJEIspojoD"
      },
      "source": [
        "#inserindo antes da idade\n",
        "dados.insert(6, 'NU_RENDA_FAMILIAR', dados.Q006.replace(renda_familiar))"
      ],
      "execution_count": 9,
      "outputs": []
    },
    {
      "cell_type": "code",
      "metadata": {
        "id": "DlzigYoQpszc",
        "outputId": "7b654354-5f69-451e-92f1-3236495bcd1f",
        "colab": {
          "base_uri": "https://localhost:8080/",
          "height": 252
        }
      },
      "source": [
        "dados.head()"
      ],
      "execution_count": 10,
      "outputs": [
        {
          "output_type": "execute_result",
          "data": {
            "text/html": [
              "<div>\n",
              "<style scoped>\n",
              "    .dataframe tbody tr th:only-of-type {\n",
              "        vertical-align: middle;\n",
              "    }\n",
              "\n",
              "    .dataframe tbody tr th {\n",
              "        vertical-align: top;\n",
              "    }\n",
              "\n",
              "    .dataframe thead th {\n",
              "        text-align: right;\n",
              "    }\n",
              "</style>\n",
              "<table border=\"1\" class=\"dataframe\">\n",
              "  <thead>\n",
              "    <tr style=\"text-align: right;\">\n",
              "      <th></th>\n",
              "      <th>NU_INSCRICAO</th>\n",
              "      <th>NU_ANO</th>\n",
              "      <th>CO_MUNICIPIO_RESIDENCIA</th>\n",
              "      <th>NO_MUNICIPIO_RESIDENCIA</th>\n",
              "      <th>CO_UF_RESIDENCIA</th>\n",
              "      <th>SG_UF_RESIDENCIA</th>\n",
              "      <th>NU_RENDA_FAMILIAR</th>\n",
              "      <th>NU_IDADE</th>\n",
              "      <th>TP_SEXO</th>\n",
              "      <th>TP_ESTADO_CIVIL</th>\n",
              "      <th>TP_COR_RACA</th>\n",
              "      <th>TP_NACIONALIDADE</th>\n",
              "      <th>CO_MUNICIPIO_NASCIMENTO</th>\n",
              "      <th>NO_MUNICIPIO_NASCIMENTO</th>\n",
              "      <th>CO_UF_NASCIMENTO</th>\n",
              "      <th>SG_UF_NASCIMENTO</th>\n",
              "      <th>TP_ST_CONCLUSAO</th>\n",
              "      <th>TP_ANO_CONCLUIU</th>\n",
              "      <th>TP_ESCOLA</th>\n",
              "      <th>TP_ENSINO</th>\n",
              "      <th>IN_TREINEIRO</th>\n",
              "      <th>CO_ESCOLA</th>\n",
              "      <th>CO_MUNICIPIO_ESC</th>\n",
              "      <th>NO_MUNICIPIO_ESC</th>\n",
              "      <th>CO_UF_ESC</th>\n",
              "      <th>SG_UF_ESC</th>\n",
              "      <th>TP_DEPENDENCIA_ADM_ESC</th>\n",
              "      <th>TP_LOCALIZACAO_ESC</th>\n",
              "      <th>TP_SIT_FUNC_ESC</th>\n",
              "      <th>IN_BAIXA_VISAO</th>\n",
              "      <th>IN_CEGUEIRA</th>\n",
              "      <th>IN_SURDEZ</th>\n",
              "      <th>IN_DEFICIENCIA_AUDITIVA</th>\n",
              "      <th>IN_SURDO_CEGUEIRA</th>\n",
              "      <th>IN_DEFICIENCIA_FISICA</th>\n",
              "      <th>IN_DEFICIENCIA_MENTAL</th>\n",
              "      <th>IN_DEFICIT_ATENCAO</th>\n",
              "      <th>IN_DISLEXIA</th>\n",
              "      <th>IN_DISCALCULIA</th>\n",
              "      <th>IN_AUTISMO</th>\n",
              "      <th>...</th>\n",
              "      <th>TX_RESPOSTAS_CH</th>\n",
              "      <th>TX_RESPOSTAS_LC</th>\n",
              "      <th>TX_RESPOSTAS_MT</th>\n",
              "      <th>TP_LINGUA</th>\n",
              "      <th>TX_GABARITO_CN</th>\n",
              "      <th>TX_GABARITO_CH</th>\n",
              "      <th>TX_GABARITO_LC</th>\n",
              "      <th>TX_GABARITO_MT</th>\n",
              "      <th>TP_STATUS_REDACAO</th>\n",
              "      <th>NU_NOTA_COMP1</th>\n",
              "      <th>NU_NOTA_COMP2</th>\n",
              "      <th>NU_NOTA_COMP3</th>\n",
              "      <th>NU_NOTA_COMP4</th>\n",
              "      <th>NU_NOTA_COMP5</th>\n",
              "      <th>NU_NOTA_REDACAO</th>\n",
              "      <th>Q001</th>\n",
              "      <th>Q002</th>\n",
              "      <th>Q003</th>\n",
              "      <th>Q004</th>\n",
              "      <th>Q005</th>\n",
              "      <th>Q006</th>\n",
              "      <th>Q007</th>\n",
              "      <th>Q008</th>\n",
              "      <th>Q009</th>\n",
              "      <th>Q010</th>\n",
              "      <th>Q011</th>\n",
              "      <th>Q012</th>\n",
              "      <th>Q013</th>\n",
              "      <th>Q014</th>\n",
              "      <th>Q015</th>\n",
              "      <th>Q016</th>\n",
              "      <th>Q017</th>\n",
              "      <th>Q018</th>\n",
              "      <th>Q019</th>\n",
              "      <th>Q020</th>\n",
              "      <th>Q021</th>\n",
              "      <th>Q022</th>\n",
              "      <th>Q023</th>\n",
              "      <th>Q024</th>\n",
              "      <th>Q025</th>\n",
              "    </tr>\n",
              "  </thead>\n",
              "  <tbody>\n",
              "    <tr>\n",
              "      <th>0</th>\n",
              "      <td>190001004661</td>\n",
              "      <td>2019</td>\n",
              "      <td>1506138</td>\n",
              "      <td>Redenção</td>\n",
              "      <td>15</td>\n",
              "      <td>PA</td>\n",
              "      <td>998.0</td>\n",
              "      <td>17</td>\n",
              "      <td>M</td>\n",
              "      <td>1</td>\n",
              "      <td>3</td>\n",
              "      <td>1</td>\n",
              "      <td>1506138.0</td>\n",
              "      <td>Redenção</td>\n",
              "      <td>15.0</td>\n",
              "      <td>PA</td>\n",
              "      <td>3</td>\n",
              "      <td>0</td>\n",
              "      <td>1</td>\n",
              "      <td>NaN</td>\n",
              "      <td>1</td>\n",
              "      <td>NaN</td>\n",
              "      <td>NaN</td>\n",
              "      <td>NaN</td>\n",
              "      <td>NaN</td>\n",
              "      <td>NaN</td>\n",
              "      <td>NaN</td>\n",
              "      <td>NaN</td>\n",
              "      <td>NaN</td>\n",
              "      <td>0</td>\n",
              "      <td>0</td>\n",
              "      <td>0</td>\n",
              "      <td>0</td>\n",
              "      <td>0</td>\n",
              "      <td>0</td>\n",
              "      <td>0</td>\n",
              "      <td>0</td>\n",
              "      <td>0</td>\n",
              "      <td>0</td>\n",
              "      <td>0</td>\n",
              "      <td>...</td>\n",
              "      <td>ACAEAAACABEBABAADCEEEDE*CBDCCCADADCCCBEBBBBDB</td>\n",
              "      <td>99999CCCABBCAADDBCEBCCADBEEBDECBAABDEACACAEABB...</td>\n",
              "      <td>DEEDCAECDDEEECBCBECABEBAECBBCDAECAEBBBBBDCCDB</td>\n",
              "      <td>1</td>\n",
              "      <td>DEADBAAAEBEECEBCBCBCBDADAEABCEDDDDADCBEECACBC</td>\n",
              "      <td>ACACEEBCCBABADBBBACDBBACCCCADCEBADCBEEDBBEADB</td>\n",
              "      <td>EBBADCABDABACBCEBDEEAAADDBECDECDDBADBCDAAECBCC...</td>\n",
              "      <td>AADDDBEEEBEDDBEBACABCDBABECECACAECDCBDCCEDCDA</td>\n",
              "      <td>1.0</td>\n",
              "      <td>60.0</td>\n",
              "      <td>100.0</td>\n",
              "      <td>80.0</td>\n",
              "      <td>80.0</td>\n",
              "      <td>100.0</td>\n",
              "      <td>420.0</td>\n",
              "      <td>B</td>\n",
              "      <td>B</td>\n",
              "      <td>A</td>\n",
              "      <td>A</td>\n",
              "      <td>4</td>\n",
              "      <td>B</td>\n",
              "      <td>A</td>\n",
              "      <td>C</td>\n",
              "      <td>B</td>\n",
              "      <td>A</td>\n",
              "      <td>C</td>\n",
              "      <td>B</td>\n",
              "      <td>A</td>\n",
              "      <td>A</td>\n",
              "      <td>A</td>\n",
              "      <td>A</td>\n",
              "      <td>A</td>\n",
              "      <td>A</td>\n",
              "      <td>A</td>\n",
              "      <td>B</td>\n",
              "      <td>A</td>\n",
              "      <td>C</td>\n",
              "      <td>A</td>\n",
              "      <td>B</td>\n",
              "      <td>B</td>\n",
              "    </tr>\n",
              "    <tr>\n",
              "      <th>1</th>\n",
              "      <td>190001004674</td>\n",
              "      <td>2019</td>\n",
              "      <td>1504208</td>\n",
              "      <td>Marabá</td>\n",
              "      <td>15</td>\n",
              "      <td>PA</td>\n",
              "      <td>998.0</td>\n",
              "      <td>23</td>\n",
              "      <td>M</td>\n",
              "      <td>1</td>\n",
              "      <td>3</td>\n",
              "      <td>1</td>\n",
              "      <td>1504208.0</td>\n",
              "      <td>Marabá</td>\n",
              "      <td>15.0</td>\n",
              "      <td>PA</td>\n",
              "      <td>1</td>\n",
              "      <td>3</td>\n",
              "      <td>1</td>\n",
              "      <td>1.0</td>\n",
              "      <td>0</td>\n",
              "      <td>NaN</td>\n",
              "      <td>NaN</td>\n",
              "      <td>NaN</td>\n",
              "      <td>NaN</td>\n",
              "      <td>NaN</td>\n",
              "      <td>NaN</td>\n",
              "      <td>NaN</td>\n",
              "      <td>NaN</td>\n",
              "      <td>0</td>\n",
              "      <td>0</td>\n",
              "      <td>0</td>\n",
              "      <td>0</td>\n",
              "      <td>0</td>\n",
              "      <td>0</td>\n",
              "      <td>0</td>\n",
              "      <td>0</td>\n",
              "      <td>0</td>\n",
              "      <td>0</td>\n",
              "      <td>0</td>\n",
              "      <td>...</td>\n",
              "      <td>ABBCEADCEBAAACACEDCDCDACCCACDCBCABCAACBDBDEDE</td>\n",
              "      <td>99999ABCEBCEDDECEEEBBCCEECCABDABEEBCDEAEBBEAEA...</td>\n",
              "      <td>NaN</td>\n",
              "      <td>1</td>\n",
              "      <td>NaN</td>\n",
              "      <td>CBABADBBCEEEBCBADCBEEDBBEADBBACDBBACCCCADACAC</td>\n",
              "      <td>BBEDABDACACBABAECBBCCADCEBDBBCDDEEAAADDBECDECA...</td>\n",
              "      <td>NaN</td>\n",
              "      <td>1.0</td>\n",
              "      <td>80.0</td>\n",
              "      <td>100.0</td>\n",
              "      <td>80.0</td>\n",
              "      <td>80.0</td>\n",
              "      <td>60.0</td>\n",
              "      <td>400.0</td>\n",
              "      <td>C</td>\n",
              "      <td>C</td>\n",
              "      <td>A</td>\n",
              "      <td>A</td>\n",
              "      <td>4</td>\n",
              "      <td>B</td>\n",
              "      <td>A</td>\n",
              "      <td>B</td>\n",
              "      <td>C</td>\n",
              "      <td>A</td>\n",
              "      <td>A</td>\n",
              "      <td>B</td>\n",
              "      <td>B</td>\n",
              "      <td>B</td>\n",
              "      <td>A</td>\n",
              "      <td>A</td>\n",
              "      <td>A</td>\n",
              "      <td>A</td>\n",
              "      <td>B</td>\n",
              "      <td>A</td>\n",
              "      <td>A</td>\n",
              "      <td>B</td>\n",
              "      <td>A</td>\n",
              "      <td>A</td>\n",
              "      <td>B</td>\n",
              "    </tr>\n",
              "    <tr>\n",
              "      <th>2</th>\n",
              "      <td>190001004722</td>\n",
              "      <td>2019</td>\n",
              "      <td>1501402</td>\n",
              "      <td>Belém</td>\n",
              "      <td>15</td>\n",
              "      <td>PA</td>\n",
              "      <td>1497.0</td>\n",
              "      <td>35</td>\n",
              "      <td>F</td>\n",
              "      <td>2</td>\n",
              "      <td>1</td>\n",
              "      <td>1</td>\n",
              "      <td>1501402.0</td>\n",
              "      <td>Belém</td>\n",
              "      <td>15.0</td>\n",
              "      <td>PA</td>\n",
              "      <td>1</td>\n",
              "      <td>12</td>\n",
              "      <td>1</td>\n",
              "      <td>1.0</td>\n",
              "      <td>0</td>\n",
              "      <td>NaN</td>\n",
              "      <td>NaN</td>\n",
              "      <td>NaN</td>\n",
              "      <td>NaN</td>\n",
              "      <td>NaN</td>\n",
              "      <td>NaN</td>\n",
              "      <td>NaN</td>\n",
              "      <td>NaN</td>\n",
              "      <td>0</td>\n",
              "      <td>0</td>\n",
              "      <td>0</td>\n",
              "      <td>0</td>\n",
              "      <td>0</td>\n",
              "      <td>0</td>\n",
              "      <td>0</td>\n",
              "      <td>0</td>\n",
              "      <td>0</td>\n",
              "      <td>0</td>\n",
              "      <td>0</td>\n",
              "      <td>...</td>\n",
              "      <td>CDCAACCAAADEACBBEBAAEECDABDEBAEAABEDCABABAABC</td>\n",
              "      <td>99999ECBCECEBBABECCCECECCEECCDECEEEDADDDDECEDD...</td>\n",
              "      <td>DDBEADEBBCADCEEACABECBCEBADECADCEDAACBDABABCE</td>\n",
              "      <td>1</td>\n",
              "      <td>AAECACDEADCBCDDDBCBDADAEABCEBABEEBCBEECEBDADC</td>\n",
              "      <td>CBABADBBCEEEBCBADCBEEDBBEADBBACDBBACCCCADACAC</td>\n",
              "      <td>BBEDABDACACBABAECBBCCADCEBDBBCDDEEAAADDBECDECA...</td>\n",
              "      <td>EEEADBEBACABCDBABECECACDCBDCCEDCDABEDECDDDBAA</td>\n",
              "      <td>1.0</td>\n",
              "      <td>100.0</td>\n",
              "      <td>120.0</td>\n",
              "      <td>120.0</td>\n",
              "      <td>100.0</td>\n",
              "      <td>120.0</td>\n",
              "      <td>560.0</td>\n",
              "      <td>C</td>\n",
              "      <td>A</td>\n",
              "      <td>B</td>\n",
              "      <td>B</td>\n",
              "      <td>5</td>\n",
              "      <td>C</td>\n",
              "      <td>A</td>\n",
              "      <td>B</td>\n",
              "      <td>C</td>\n",
              "      <td>A</td>\n",
              "      <td>A</td>\n",
              "      <td>B</td>\n",
              "      <td>A</td>\n",
              "      <td>B</td>\n",
              "      <td>A</td>\n",
              "      <td>A</td>\n",
              "      <td>A</td>\n",
              "      <td>A</td>\n",
              "      <td>B</td>\n",
              "      <td>A</td>\n",
              "      <td>B</td>\n",
              "      <td>B</td>\n",
              "      <td>A</td>\n",
              "      <td>A</td>\n",
              "      <td>B</td>\n",
              "    </tr>\n",
              "    <tr>\n",
              "      <th>3</th>\n",
              "      <td>190001004735</td>\n",
              "      <td>2019</td>\n",
              "      <td>1507300</td>\n",
              "      <td>São Félix do Xingu</td>\n",
              "      <td>15</td>\n",
              "      <td>PA</td>\n",
              "      <td>998.0</td>\n",
              "      <td>23</td>\n",
              "      <td>F</td>\n",
              "      <td>1</td>\n",
              "      <td>3</td>\n",
              "      <td>1</td>\n",
              "      <td>1505437.0</td>\n",
              "      <td>Ourilândia do Norte</td>\n",
              "      <td>15.0</td>\n",
              "      <td>PA</td>\n",
              "      <td>1</td>\n",
              "      <td>7</td>\n",
              "      <td>1</td>\n",
              "      <td>NaN</td>\n",
              "      <td>0</td>\n",
              "      <td>NaN</td>\n",
              "      <td>NaN</td>\n",
              "      <td>NaN</td>\n",
              "      <td>NaN</td>\n",
              "      <td>NaN</td>\n",
              "      <td>NaN</td>\n",
              "      <td>NaN</td>\n",
              "      <td>NaN</td>\n",
              "      <td>0</td>\n",
              "      <td>0</td>\n",
              "      <td>0</td>\n",
              "      <td>0</td>\n",
              "      <td>0</td>\n",
              "      <td>0</td>\n",
              "      <td>0</td>\n",
              "      <td>0</td>\n",
              "      <td>0</td>\n",
              "      <td>0</td>\n",
              "      <td>0</td>\n",
              "      <td>...</td>\n",
              "      <td>EECCCEDBADBEAAAAEBAECEAAAAEEEBACCAC*CEAEDAECE</td>\n",
              "      <td>99999BABCDABBCBDDAAECADBDDADDCBCEEDCAEBCEAEABD...</td>\n",
              "      <td>CBDEBBCBDEBCABCDBDEDADCCBEDBCAECEBEBDEBAEECBC</td>\n",
              "      <td>1</td>\n",
              "      <td>BEEAAEBEEBADEADDADAEABCEDDDBCBCBCCACBCDADCCEB</td>\n",
              "      <td>EEBCEEDBADBBCBABCCADCEBACDBBACCACACBEADBBADCB</td>\n",
              "      <td>ADBBEDCABAABBCBCDAAECDDDBAAAECADECDCEBDEEAECBD...</td>\n",
              "      <td>BEDEEEAADBEBACABCDBABECECACADCBDCCEDCDABECDDD</td>\n",
              "      <td>1.0</td>\n",
              "      <td>100.0</td>\n",
              "      <td>120.0</td>\n",
              "      <td>120.0</td>\n",
              "      <td>120.0</td>\n",
              "      <td>40.0</td>\n",
              "      <td>500.0</td>\n",
              "      <td>E</td>\n",
              "      <td>C</td>\n",
              "      <td>A</td>\n",
              "      <td>A</td>\n",
              "      <td>1</td>\n",
              "      <td>B</td>\n",
              "      <td>A</td>\n",
              "      <td>B</td>\n",
              "      <td>C</td>\n",
              "      <td>A</td>\n",
              "      <td>A</td>\n",
              "      <td>B</td>\n",
              "      <td>A</td>\n",
              "      <td>A</td>\n",
              "      <td>A</td>\n",
              "      <td>A</td>\n",
              "      <td>A</td>\n",
              "      <td>A</td>\n",
              "      <td>B</td>\n",
              "      <td>A</td>\n",
              "      <td>A</td>\n",
              "      <td>B</td>\n",
              "      <td>A</td>\n",
              "      <td>A</td>\n",
              "      <td>B</td>\n",
              "    </tr>\n",
              "    <tr>\n",
              "      <th>4</th>\n",
              "      <td>190001004776</td>\n",
              "      <td>2019</td>\n",
              "      <td>1500800</td>\n",
              "      <td>Ananindeua</td>\n",
              "      <td>15</td>\n",
              "      <td>PA</td>\n",
              "      <td>2495.0</td>\n",
              "      <td>16</td>\n",
              "      <td>F</td>\n",
              "      <td>1</td>\n",
              "      <td>3</td>\n",
              "      <td>1</td>\n",
              "      <td>1500800.0</td>\n",
              "      <td>Ananindeua</td>\n",
              "      <td>15.0</td>\n",
              "      <td>PA</td>\n",
              "      <td>3</td>\n",
              "      <td>0</td>\n",
              "      <td>1</td>\n",
              "      <td>NaN</td>\n",
              "      <td>1</td>\n",
              "      <td>NaN</td>\n",
              "      <td>NaN</td>\n",
              "      <td>NaN</td>\n",
              "      <td>NaN</td>\n",
              "      <td>NaN</td>\n",
              "      <td>NaN</td>\n",
              "      <td>NaN</td>\n",
              "      <td>NaN</td>\n",
              "      <td>0</td>\n",
              "      <td>0</td>\n",
              "      <td>0</td>\n",
              "      <td>0</td>\n",
              "      <td>0</td>\n",
              "      <td>0</td>\n",
              "      <td>0</td>\n",
              "      <td>0</td>\n",
              "      <td>0</td>\n",
              "      <td>0</td>\n",
              "      <td>0</td>\n",
              "      <td>...</td>\n",
              "      <td>CCBCBEACABACABBBBACCBCEBDCBABCADADCBCADBAADEA</td>\n",
              "      <td>EBCAB99999BBCECBCACBEACBDAABDBCBBDACEBBACDCAEC...</td>\n",
              "      <td>AECCBBCBBCBDEDECACBAABEDABBEDDADCEADDBEBDBBEB</td>\n",
              "      <td>0</td>\n",
              "      <td>DEADBAAAEBEECEBCBCBCBDADAEABCEDDDDADCBEECACBC</td>\n",
              "      <td>ACACEEBCCBABADBBBACDBBACCCCADCEBADCBEEDBBEADB</td>\n",
              "      <td>EBBADCABDABACBCEBDEEAAADDBECDECDDBADBCDAAECBCC...</td>\n",
              "      <td>AADDDBEEEBEDDBEBACABCDBABECECACAECDCBDCCEDCDA</td>\n",
              "      <td>1.0</td>\n",
              "      <td>160.0</td>\n",
              "      <td>140.0</td>\n",
              "      <td>160.0</td>\n",
              "      <td>160.0</td>\n",
              "      <td>160.0</td>\n",
              "      <td>780.0</td>\n",
              "      <td>E</td>\n",
              "      <td>E</td>\n",
              "      <td>B</td>\n",
              "      <td>D</td>\n",
              "      <td>3</td>\n",
              "      <td>E</td>\n",
              "      <td>A</td>\n",
              "      <td>B</td>\n",
              "      <td>C</td>\n",
              "      <td>B</td>\n",
              "      <td>A</td>\n",
              "      <td>B</td>\n",
              "      <td>A</td>\n",
              "      <td>A</td>\n",
              "      <td>A</td>\n",
              "      <td>A</td>\n",
              "      <td>A</td>\n",
              "      <td>A</td>\n",
              "      <td>B</td>\n",
              "      <td>A</td>\n",
              "      <td>A</td>\n",
              "      <td>D</td>\n",
              "      <td>A</td>\n",
              "      <td>A</td>\n",
              "      <td>B</td>\n",
              "    </tr>\n",
              "  </tbody>\n",
              "</table>\n",
              "<p>5 rows × 137 columns</p>\n",
              "</div>"
            ],
            "text/plain": [
              "   NU_INSCRICAO  NU_ANO  CO_MUNICIPIO_RESIDENCIA  ... Q023  Q024 Q025\n",
              "0  190001004661    2019                  1506138  ...    A     B    B\n",
              "1  190001004674    2019                  1504208  ...    A     A    B\n",
              "2  190001004722    2019                  1501402  ...    A     A    B\n",
              "3  190001004735    2019                  1507300  ...    A     A    B\n",
              "4  190001004776    2019                  1500800  ...    A     A    B\n",
              "\n",
              "[5 rows x 137 columns]"
            ]
          },
          "metadata": {
            "tags": []
          },
          "execution_count": 10
        }
      ]
    },
    {
      "cell_type": "markdown",
      "metadata": {
        "id": "Z3a-jiQKqWJp"
      },
      "source": [
        "**O segundo passo será criar uma coluna de renda per capita, usando a resposta da Q005, que diz: \"*Incluindo você, quantas pessoas moram atualmente em sua residência?*\"**"
      ]
    },
    {
      "cell_type": "code",
      "metadata": {
        "id": "nnj58WMDp3-x"
      },
      "source": [
        "#inserindo antes da idade\n",
        "dados.insert(7, 'NU_RENDA_PER_CAPITA', (dados.NU_RENDA_FAMILIAR/dados.Q005))"
      ],
      "execution_count": 11,
      "outputs": []
    },
    {
      "cell_type": "code",
      "metadata": {
        "id": "omIlv5UisvI0",
        "outputId": "92eeefc4-a3a1-4ce8-e9c5-013034c29654",
        "colab": {
          "base_uri": "https://localhost:8080/",
          "height": 252
        }
      },
      "source": [
        "dados.head()"
      ],
      "execution_count": 12,
      "outputs": [
        {
          "output_type": "execute_result",
          "data": {
            "text/html": [
              "<div>\n",
              "<style scoped>\n",
              "    .dataframe tbody tr th:only-of-type {\n",
              "        vertical-align: middle;\n",
              "    }\n",
              "\n",
              "    .dataframe tbody tr th {\n",
              "        vertical-align: top;\n",
              "    }\n",
              "\n",
              "    .dataframe thead th {\n",
              "        text-align: right;\n",
              "    }\n",
              "</style>\n",
              "<table border=\"1\" class=\"dataframe\">\n",
              "  <thead>\n",
              "    <tr style=\"text-align: right;\">\n",
              "      <th></th>\n",
              "      <th>NU_INSCRICAO</th>\n",
              "      <th>NU_ANO</th>\n",
              "      <th>CO_MUNICIPIO_RESIDENCIA</th>\n",
              "      <th>NO_MUNICIPIO_RESIDENCIA</th>\n",
              "      <th>CO_UF_RESIDENCIA</th>\n",
              "      <th>SG_UF_RESIDENCIA</th>\n",
              "      <th>NU_RENDA_FAMILIAR</th>\n",
              "      <th>NU_RENDA_PER_CAPITA</th>\n",
              "      <th>NU_IDADE</th>\n",
              "      <th>TP_SEXO</th>\n",
              "      <th>TP_ESTADO_CIVIL</th>\n",
              "      <th>TP_COR_RACA</th>\n",
              "      <th>TP_NACIONALIDADE</th>\n",
              "      <th>CO_MUNICIPIO_NASCIMENTO</th>\n",
              "      <th>NO_MUNICIPIO_NASCIMENTO</th>\n",
              "      <th>CO_UF_NASCIMENTO</th>\n",
              "      <th>SG_UF_NASCIMENTO</th>\n",
              "      <th>TP_ST_CONCLUSAO</th>\n",
              "      <th>TP_ANO_CONCLUIU</th>\n",
              "      <th>TP_ESCOLA</th>\n",
              "      <th>TP_ENSINO</th>\n",
              "      <th>IN_TREINEIRO</th>\n",
              "      <th>CO_ESCOLA</th>\n",
              "      <th>CO_MUNICIPIO_ESC</th>\n",
              "      <th>NO_MUNICIPIO_ESC</th>\n",
              "      <th>CO_UF_ESC</th>\n",
              "      <th>SG_UF_ESC</th>\n",
              "      <th>TP_DEPENDENCIA_ADM_ESC</th>\n",
              "      <th>TP_LOCALIZACAO_ESC</th>\n",
              "      <th>TP_SIT_FUNC_ESC</th>\n",
              "      <th>IN_BAIXA_VISAO</th>\n",
              "      <th>IN_CEGUEIRA</th>\n",
              "      <th>IN_SURDEZ</th>\n",
              "      <th>IN_DEFICIENCIA_AUDITIVA</th>\n",
              "      <th>IN_SURDO_CEGUEIRA</th>\n",
              "      <th>IN_DEFICIENCIA_FISICA</th>\n",
              "      <th>IN_DEFICIENCIA_MENTAL</th>\n",
              "      <th>IN_DEFICIT_ATENCAO</th>\n",
              "      <th>IN_DISLEXIA</th>\n",
              "      <th>IN_DISCALCULIA</th>\n",
              "      <th>...</th>\n",
              "      <th>TX_RESPOSTAS_CH</th>\n",
              "      <th>TX_RESPOSTAS_LC</th>\n",
              "      <th>TX_RESPOSTAS_MT</th>\n",
              "      <th>TP_LINGUA</th>\n",
              "      <th>TX_GABARITO_CN</th>\n",
              "      <th>TX_GABARITO_CH</th>\n",
              "      <th>TX_GABARITO_LC</th>\n",
              "      <th>TX_GABARITO_MT</th>\n",
              "      <th>TP_STATUS_REDACAO</th>\n",
              "      <th>NU_NOTA_COMP1</th>\n",
              "      <th>NU_NOTA_COMP2</th>\n",
              "      <th>NU_NOTA_COMP3</th>\n",
              "      <th>NU_NOTA_COMP4</th>\n",
              "      <th>NU_NOTA_COMP5</th>\n",
              "      <th>NU_NOTA_REDACAO</th>\n",
              "      <th>Q001</th>\n",
              "      <th>Q002</th>\n",
              "      <th>Q003</th>\n",
              "      <th>Q004</th>\n",
              "      <th>Q005</th>\n",
              "      <th>Q006</th>\n",
              "      <th>Q007</th>\n",
              "      <th>Q008</th>\n",
              "      <th>Q009</th>\n",
              "      <th>Q010</th>\n",
              "      <th>Q011</th>\n",
              "      <th>Q012</th>\n",
              "      <th>Q013</th>\n",
              "      <th>Q014</th>\n",
              "      <th>Q015</th>\n",
              "      <th>Q016</th>\n",
              "      <th>Q017</th>\n",
              "      <th>Q018</th>\n",
              "      <th>Q019</th>\n",
              "      <th>Q020</th>\n",
              "      <th>Q021</th>\n",
              "      <th>Q022</th>\n",
              "      <th>Q023</th>\n",
              "      <th>Q024</th>\n",
              "      <th>Q025</th>\n",
              "    </tr>\n",
              "  </thead>\n",
              "  <tbody>\n",
              "    <tr>\n",
              "      <th>0</th>\n",
              "      <td>190001004661</td>\n",
              "      <td>2019</td>\n",
              "      <td>1506138</td>\n",
              "      <td>Redenção</td>\n",
              "      <td>15</td>\n",
              "      <td>PA</td>\n",
              "      <td>998.0</td>\n",
              "      <td>249.500000</td>\n",
              "      <td>17</td>\n",
              "      <td>M</td>\n",
              "      <td>1</td>\n",
              "      <td>3</td>\n",
              "      <td>1</td>\n",
              "      <td>1506138.0</td>\n",
              "      <td>Redenção</td>\n",
              "      <td>15.0</td>\n",
              "      <td>PA</td>\n",
              "      <td>3</td>\n",
              "      <td>0</td>\n",
              "      <td>1</td>\n",
              "      <td>NaN</td>\n",
              "      <td>1</td>\n",
              "      <td>NaN</td>\n",
              "      <td>NaN</td>\n",
              "      <td>NaN</td>\n",
              "      <td>NaN</td>\n",
              "      <td>NaN</td>\n",
              "      <td>NaN</td>\n",
              "      <td>NaN</td>\n",
              "      <td>NaN</td>\n",
              "      <td>0</td>\n",
              "      <td>0</td>\n",
              "      <td>0</td>\n",
              "      <td>0</td>\n",
              "      <td>0</td>\n",
              "      <td>0</td>\n",
              "      <td>0</td>\n",
              "      <td>0</td>\n",
              "      <td>0</td>\n",
              "      <td>0</td>\n",
              "      <td>...</td>\n",
              "      <td>ACAEAAACABEBABAADCEEEDE*CBDCCCADADCCCBEBBBBDB</td>\n",
              "      <td>99999CCCABBCAADDBCEBCCADBEEBDECBAABDEACACAEABB...</td>\n",
              "      <td>DEEDCAECDDEEECBCBECABEBAECBBCDAECAEBBBBBDCCDB</td>\n",
              "      <td>1</td>\n",
              "      <td>DEADBAAAEBEECEBCBCBCBDADAEABCEDDDDADCBEECACBC</td>\n",
              "      <td>ACACEEBCCBABADBBBACDBBACCCCADCEBADCBEEDBBEADB</td>\n",
              "      <td>EBBADCABDABACBCEBDEEAAADDBECDECDDBADBCDAAECBCC...</td>\n",
              "      <td>AADDDBEEEBEDDBEBACABCDBABECECACAECDCBDCCEDCDA</td>\n",
              "      <td>1.0</td>\n",
              "      <td>60.0</td>\n",
              "      <td>100.0</td>\n",
              "      <td>80.0</td>\n",
              "      <td>80.0</td>\n",
              "      <td>100.0</td>\n",
              "      <td>420.0</td>\n",
              "      <td>B</td>\n",
              "      <td>B</td>\n",
              "      <td>A</td>\n",
              "      <td>A</td>\n",
              "      <td>4</td>\n",
              "      <td>B</td>\n",
              "      <td>A</td>\n",
              "      <td>C</td>\n",
              "      <td>B</td>\n",
              "      <td>A</td>\n",
              "      <td>C</td>\n",
              "      <td>B</td>\n",
              "      <td>A</td>\n",
              "      <td>A</td>\n",
              "      <td>A</td>\n",
              "      <td>A</td>\n",
              "      <td>A</td>\n",
              "      <td>A</td>\n",
              "      <td>A</td>\n",
              "      <td>B</td>\n",
              "      <td>A</td>\n",
              "      <td>C</td>\n",
              "      <td>A</td>\n",
              "      <td>B</td>\n",
              "      <td>B</td>\n",
              "    </tr>\n",
              "    <tr>\n",
              "      <th>1</th>\n",
              "      <td>190001004674</td>\n",
              "      <td>2019</td>\n",
              "      <td>1504208</td>\n",
              "      <td>Marabá</td>\n",
              "      <td>15</td>\n",
              "      <td>PA</td>\n",
              "      <td>998.0</td>\n",
              "      <td>249.500000</td>\n",
              "      <td>23</td>\n",
              "      <td>M</td>\n",
              "      <td>1</td>\n",
              "      <td>3</td>\n",
              "      <td>1</td>\n",
              "      <td>1504208.0</td>\n",
              "      <td>Marabá</td>\n",
              "      <td>15.0</td>\n",
              "      <td>PA</td>\n",
              "      <td>1</td>\n",
              "      <td>3</td>\n",
              "      <td>1</td>\n",
              "      <td>1.0</td>\n",
              "      <td>0</td>\n",
              "      <td>NaN</td>\n",
              "      <td>NaN</td>\n",
              "      <td>NaN</td>\n",
              "      <td>NaN</td>\n",
              "      <td>NaN</td>\n",
              "      <td>NaN</td>\n",
              "      <td>NaN</td>\n",
              "      <td>NaN</td>\n",
              "      <td>0</td>\n",
              "      <td>0</td>\n",
              "      <td>0</td>\n",
              "      <td>0</td>\n",
              "      <td>0</td>\n",
              "      <td>0</td>\n",
              "      <td>0</td>\n",
              "      <td>0</td>\n",
              "      <td>0</td>\n",
              "      <td>0</td>\n",
              "      <td>...</td>\n",
              "      <td>ABBCEADCEBAAACACEDCDCDACCCACDCBCABCAACBDBDEDE</td>\n",
              "      <td>99999ABCEBCEDDECEEEBBCCEECCABDABEEBCDEAEBBEAEA...</td>\n",
              "      <td>NaN</td>\n",
              "      <td>1</td>\n",
              "      <td>NaN</td>\n",
              "      <td>CBABADBBCEEEBCBADCBEEDBBEADBBACDBBACCCCADACAC</td>\n",
              "      <td>BBEDABDACACBABAECBBCCADCEBDBBCDDEEAAADDBECDECA...</td>\n",
              "      <td>NaN</td>\n",
              "      <td>1.0</td>\n",
              "      <td>80.0</td>\n",
              "      <td>100.0</td>\n",
              "      <td>80.0</td>\n",
              "      <td>80.0</td>\n",
              "      <td>60.0</td>\n",
              "      <td>400.0</td>\n",
              "      <td>C</td>\n",
              "      <td>C</td>\n",
              "      <td>A</td>\n",
              "      <td>A</td>\n",
              "      <td>4</td>\n",
              "      <td>B</td>\n",
              "      <td>A</td>\n",
              "      <td>B</td>\n",
              "      <td>C</td>\n",
              "      <td>A</td>\n",
              "      <td>A</td>\n",
              "      <td>B</td>\n",
              "      <td>B</td>\n",
              "      <td>B</td>\n",
              "      <td>A</td>\n",
              "      <td>A</td>\n",
              "      <td>A</td>\n",
              "      <td>A</td>\n",
              "      <td>B</td>\n",
              "      <td>A</td>\n",
              "      <td>A</td>\n",
              "      <td>B</td>\n",
              "      <td>A</td>\n",
              "      <td>A</td>\n",
              "      <td>B</td>\n",
              "    </tr>\n",
              "    <tr>\n",
              "      <th>2</th>\n",
              "      <td>190001004722</td>\n",
              "      <td>2019</td>\n",
              "      <td>1501402</td>\n",
              "      <td>Belém</td>\n",
              "      <td>15</td>\n",
              "      <td>PA</td>\n",
              "      <td>1497.0</td>\n",
              "      <td>299.400000</td>\n",
              "      <td>35</td>\n",
              "      <td>F</td>\n",
              "      <td>2</td>\n",
              "      <td>1</td>\n",
              "      <td>1</td>\n",
              "      <td>1501402.0</td>\n",
              "      <td>Belém</td>\n",
              "      <td>15.0</td>\n",
              "      <td>PA</td>\n",
              "      <td>1</td>\n",
              "      <td>12</td>\n",
              "      <td>1</td>\n",
              "      <td>1.0</td>\n",
              "      <td>0</td>\n",
              "      <td>NaN</td>\n",
              "      <td>NaN</td>\n",
              "      <td>NaN</td>\n",
              "      <td>NaN</td>\n",
              "      <td>NaN</td>\n",
              "      <td>NaN</td>\n",
              "      <td>NaN</td>\n",
              "      <td>NaN</td>\n",
              "      <td>0</td>\n",
              "      <td>0</td>\n",
              "      <td>0</td>\n",
              "      <td>0</td>\n",
              "      <td>0</td>\n",
              "      <td>0</td>\n",
              "      <td>0</td>\n",
              "      <td>0</td>\n",
              "      <td>0</td>\n",
              "      <td>0</td>\n",
              "      <td>...</td>\n",
              "      <td>CDCAACCAAADEACBBEBAAEECDABDEBAEAABEDCABABAABC</td>\n",
              "      <td>99999ECBCECEBBABECCCECECCEECCDECEEEDADDDDECEDD...</td>\n",
              "      <td>DDBEADEBBCADCEEACABECBCEBADECADCEDAACBDABABCE</td>\n",
              "      <td>1</td>\n",
              "      <td>AAECACDEADCBCDDDBCBDADAEABCEBABEEBCBEECEBDADC</td>\n",
              "      <td>CBABADBBCEEEBCBADCBEEDBBEADBBACDBBACCCCADACAC</td>\n",
              "      <td>BBEDABDACACBABAECBBCCADCEBDBBCDDEEAAADDBECDECA...</td>\n",
              "      <td>EEEADBEBACABCDBABECECACDCBDCCEDCDABEDECDDDBAA</td>\n",
              "      <td>1.0</td>\n",
              "      <td>100.0</td>\n",
              "      <td>120.0</td>\n",
              "      <td>120.0</td>\n",
              "      <td>100.0</td>\n",
              "      <td>120.0</td>\n",
              "      <td>560.0</td>\n",
              "      <td>C</td>\n",
              "      <td>A</td>\n",
              "      <td>B</td>\n",
              "      <td>B</td>\n",
              "      <td>5</td>\n",
              "      <td>C</td>\n",
              "      <td>A</td>\n",
              "      <td>B</td>\n",
              "      <td>C</td>\n",
              "      <td>A</td>\n",
              "      <td>A</td>\n",
              "      <td>B</td>\n",
              "      <td>A</td>\n",
              "      <td>B</td>\n",
              "      <td>A</td>\n",
              "      <td>A</td>\n",
              "      <td>A</td>\n",
              "      <td>A</td>\n",
              "      <td>B</td>\n",
              "      <td>A</td>\n",
              "      <td>B</td>\n",
              "      <td>B</td>\n",
              "      <td>A</td>\n",
              "      <td>A</td>\n",
              "      <td>B</td>\n",
              "    </tr>\n",
              "    <tr>\n",
              "      <th>3</th>\n",
              "      <td>190001004735</td>\n",
              "      <td>2019</td>\n",
              "      <td>1507300</td>\n",
              "      <td>São Félix do Xingu</td>\n",
              "      <td>15</td>\n",
              "      <td>PA</td>\n",
              "      <td>998.0</td>\n",
              "      <td>998.000000</td>\n",
              "      <td>23</td>\n",
              "      <td>F</td>\n",
              "      <td>1</td>\n",
              "      <td>3</td>\n",
              "      <td>1</td>\n",
              "      <td>1505437.0</td>\n",
              "      <td>Ourilândia do Norte</td>\n",
              "      <td>15.0</td>\n",
              "      <td>PA</td>\n",
              "      <td>1</td>\n",
              "      <td>7</td>\n",
              "      <td>1</td>\n",
              "      <td>NaN</td>\n",
              "      <td>0</td>\n",
              "      <td>NaN</td>\n",
              "      <td>NaN</td>\n",
              "      <td>NaN</td>\n",
              "      <td>NaN</td>\n",
              "      <td>NaN</td>\n",
              "      <td>NaN</td>\n",
              "      <td>NaN</td>\n",
              "      <td>NaN</td>\n",
              "      <td>0</td>\n",
              "      <td>0</td>\n",
              "      <td>0</td>\n",
              "      <td>0</td>\n",
              "      <td>0</td>\n",
              "      <td>0</td>\n",
              "      <td>0</td>\n",
              "      <td>0</td>\n",
              "      <td>0</td>\n",
              "      <td>0</td>\n",
              "      <td>...</td>\n",
              "      <td>EECCCEDBADBEAAAAEBAECEAAAAEEEBACCAC*CEAEDAECE</td>\n",
              "      <td>99999BABCDABBCBDDAAECADBDDADDCBCEEDCAEBCEAEABD...</td>\n",
              "      <td>CBDEBBCBDEBCABCDBDEDADCCBEDBCAECEBEBDEBAEECBC</td>\n",
              "      <td>1</td>\n",
              "      <td>BEEAAEBEEBADEADDADAEABCEDDDBCBCBCCACBCDADCCEB</td>\n",
              "      <td>EEBCEEDBADBBCBABCCADCEBACDBBACCACACBEADBBADCB</td>\n",
              "      <td>ADBBEDCABAABBCBCDAAECDDDBAAAECADECDCEBDEEAECBD...</td>\n",
              "      <td>BEDEEEAADBEBACABCDBABECECACADCBDCCEDCDABECDDD</td>\n",
              "      <td>1.0</td>\n",
              "      <td>100.0</td>\n",
              "      <td>120.0</td>\n",
              "      <td>120.0</td>\n",
              "      <td>120.0</td>\n",
              "      <td>40.0</td>\n",
              "      <td>500.0</td>\n",
              "      <td>E</td>\n",
              "      <td>C</td>\n",
              "      <td>A</td>\n",
              "      <td>A</td>\n",
              "      <td>1</td>\n",
              "      <td>B</td>\n",
              "      <td>A</td>\n",
              "      <td>B</td>\n",
              "      <td>C</td>\n",
              "      <td>A</td>\n",
              "      <td>A</td>\n",
              "      <td>B</td>\n",
              "      <td>A</td>\n",
              "      <td>A</td>\n",
              "      <td>A</td>\n",
              "      <td>A</td>\n",
              "      <td>A</td>\n",
              "      <td>A</td>\n",
              "      <td>B</td>\n",
              "      <td>A</td>\n",
              "      <td>A</td>\n",
              "      <td>B</td>\n",
              "      <td>A</td>\n",
              "      <td>A</td>\n",
              "      <td>B</td>\n",
              "    </tr>\n",
              "    <tr>\n",
              "      <th>4</th>\n",
              "      <td>190001004776</td>\n",
              "      <td>2019</td>\n",
              "      <td>1500800</td>\n",
              "      <td>Ananindeua</td>\n",
              "      <td>15</td>\n",
              "      <td>PA</td>\n",
              "      <td>2495.0</td>\n",
              "      <td>831.666667</td>\n",
              "      <td>16</td>\n",
              "      <td>F</td>\n",
              "      <td>1</td>\n",
              "      <td>3</td>\n",
              "      <td>1</td>\n",
              "      <td>1500800.0</td>\n",
              "      <td>Ananindeua</td>\n",
              "      <td>15.0</td>\n",
              "      <td>PA</td>\n",
              "      <td>3</td>\n",
              "      <td>0</td>\n",
              "      <td>1</td>\n",
              "      <td>NaN</td>\n",
              "      <td>1</td>\n",
              "      <td>NaN</td>\n",
              "      <td>NaN</td>\n",
              "      <td>NaN</td>\n",
              "      <td>NaN</td>\n",
              "      <td>NaN</td>\n",
              "      <td>NaN</td>\n",
              "      <td>NaN</td>\n",
              "      <td>NaN</td>\n",
              "      <td>0</td>\n",
              "      <td>0</td>\n",
              "      <td>0</td>\n",
              "      <td>0</td>\n",
              "      <td>0</td>\n",
              "      <td>0</td>\n",
              "      <td>0</td>\n",
              "      <td>0</td>\n",
              "      <td>0</td>\n",
              "      <td>0</td>\n",
              "      <td>...</td>\n",
              "      <td>CCBCBEACABACABBBBACCBCEBDCBABCADADCBCADBAADEA</td>\n",
              "      <td>EBCAB99999BBCECBCACBEACBDAABDBCBBDACEBBACDCAEC...</td>\n",
              "      <td>AECCBBCBBCBDEDECACBAABEDABBEDDADCEADDBEBDBBEB</td>\n",
              "      <td>0</td>\n",
              "      <td>DEADBAAAEBEECEBCBCBCBDADAEABCEDDDDADCBEECACBC</td>\n",
              "      <td>ACACEEBCCBABADBBBACDBBACCCCADCEBADCBEEDBBEADB</td>\n",
              "      <td>EBBADCABDABACBCEBDEEAAADDBECDECDDBADBCDAAECBCC...</td>\n",
              "      <td>AADDDBEEEBEDDBEBACABCDBABECECACAECDCBDCCEDCDA</td>\n",
              "      <td>1.0</td>\n",
              "      <td>160.0</td>\n",
              "      <td>140.0</td>\n",
              "      <td>160.0</td>\n",
              "      <td>160.0</td>\n",
              "      <td>160.0</td>\n",
              "      <td>780.0</td>\n",
              "      <td>E</td>\n",
              "      <td>E</td>\n",
              "      <td>B</td>\n",
              "      <td>D</td>\n",
              "      <td>3</td>\n",
              "      <td>E</td>\n",
              "      <td>A</td>\n",
              "      <td>B</td>\n",
              "      <td>C</td>\n",
              "      <td>B</td>\n",
              "      <td>A</td>\n",
              "      <td>B</td>\n",
              "      <td>A</td>\n",
              "      <td>A</td>\n",
              "      <td>A</td>\n",
              "      <td>A</td>\n",
              "      <td>A</td>\n",
              "      <td>A</td>\n",
              "      <td>B</td>\n",
              "      <td>A</td>\n",
              "      <td>A</td>\n",
              "      <td>D</td>\n",
              "      <td>A</td>\n",
              "      <td>A</td>\n",
              "      <td>B</td>\n",
              "    </tr>\n",
              "  </tbody>\n",
              "</table>\n",
              "<p>5 rows × 138 columns</p>\n",
              "</div>"
            ],
            "text/plain": [
              "   NU_INSCRICAO  NU_ANO  CO_MUNICIPIO_RESIDENCIA  ... Q023  Q024 Q025\n",
              "0  190001004661    2019                  1506138  ...    A     B    B\n",
              "1  190001004674    2019                  1504208  ...    A     A    B\n",
              "2  190001004722    2019                  1501402  ...    A     A    B\n",
              "3  190001004735    2019                  1507300  ...    A     A    B\n",
              "4  190001004776    2019                  1500800  ...    A     A    B\n",
              "\n",
              "[5 rows x 138 columns]"
            ]
          },
          "metadata": {
            "tags": []
          },
          "execution_count": 12
        }
      ]
    },
    {
      "cell_type": "markdown",
      "metadata": {
        "id": "ulm6PxMOtg8e"
      },
      "source": [
        "**Criando uma coluna com as classes sociais, considerando o teto de cada faixa no questionário do ENEM**"
      ]
    },
    {
      "cell_type": "code",
      "metadata": {
        "id": "OPujQxFTsxjF"
      },
      "source": [
        "#criando o rótulo das classes\n",
        "classes = ['E', 'D', 'C', 'B', 'A']"
      ],
      "execution_count": 13,
      "outputs": []
    },
    {
      "cell_type": "code",
      "metadata": {
        "id": "fhHhpdBWuLWG"
      },
      "source": [
        "#dividindo em classes, usando o pandas.cut\n",
        "dados['CLASSE_SOCIAL_FAMILIAR'] = pd.cut(dados['NU_RENDA_FAMILIAR'],\n",
        "                                         right=True,labels = classes, \n",
        "                                         bins=[0,e,d,c,b,a], include_lowest=True)\n"
      ],
      "execution_count": 14,
      "outputs": []
    },
    {
      "cell_type": "markdown",
      "metadata": {
        "id": "nRq6xng-dXcK"
      },
      "source": [
        "Vamos utilizar agora a média de pessoas por domicílio de 2,9 pessoas para determinar nossos novos limiares de classes,para criar uma coluna de Classe Social Per Capita, que será representada pelos limites de renda_familiar/2,9.\n",
        "\n",
        "fonte: https://www.istoedinheiro.com.br/maioria-dos-brasileiros-mora-em-casa-e-e-dona-do-imovel-mostra-ibge/#:~:text=No%20pa%C3%ADs%2C%20em%20cada%20domic%C3%ADlio,m%C3%A9dia%2C%202%2C9%20pessoas"
      ]
    },
    {
      "cell_type": "code",
      "metadata": {
        "id": "zyFNcXhEV50Q",
        "outputId": "a1bef689-2b45-45ae-b085-7597cf53ae22",
        "colab": {
          "base_uri": "https://localhost:8080/",
          "height": 103
        }
      },
      "source": [
        "#dividindo o limite superior das classes pelo valor por indivíduo médio numa família\n",
        "media_pessoas_por_familia = 2.9\n",
        "A = a/media_pessoas_por_familia\n",
        "B = b/media_pessoas_por_familia\n",
        "C = c/media_pessoas_por_familia\n",
        "D = d/media_pessoas_por_familia\n",
        "E = e/media_pessoas_por_familia\n",
        "(A,B,C,D,E)"
      ],
      "execution_count": 15,
      "outputs": [
        {
          "output_type": "execute_result",
          "data": {
            "text/plain": [
              "(15039.855172413794,\n",
              " 5162.068965517242,\n",
              " 1720.689655172414,\n",
              " 1032.4137931034484,\n",
              " 344.1379310344828)"
            ]
          },
          "metadata": {
            "tags": []
          },
          "execution_count": 15
        }
      ]
    },
    {
      "cell_type": "code",
      "metadata": {
        "id": "Vb2SnoTecKDP"
      },
      "source": [
        "#dividindo em classes, usando o pandas.cut\n",
        "dados['CLASSE_SOCIAL_PER_CAPITA'] = pd.cut(dados['NU_RENDA_PER_CAPITA'],\n",
        "                                         right=True,labels = classes, \n",
        "                                         bins=[0,E,D,C,B,A], include_lowest=True)"
      ],
      "execution_count": 16,
      "outputs": []
    },
    {
      "cell_type": "code",
      "metadata": {
        "id": "KskBuDN9vQpD",
        "outputId": "55f4dbb3-d953-44e1-9035-5b9b8df13aa4",
        "colab": {
          "base_uri": "https://localhost:8080/",
          "height": 417
        }
      },
      "source": [
        "#conferindo se a divisão ficou coerente com o critério do IBGE e nosso critério per capita\n",
        "#VISUALIZANDO APENAS AS COLUNAS DE RENDA E CLASSES SOCIAIS CRIADAS\n",
        "dados[['NU_RENDA_FAMILIAR', 'CLASSE_SOCIAL_FAMILIAR','NU_RENDA_PER_CAPITA', 'CLASSE_SOCIAL_PER_CAPITA']]"
      ],
      "execution_count": 17,
      "outputs": [
        {
          "output_type": "execute_result",
          "data": {
            "text/html": [
              "<div>\n",
              "<style scoped>\n",
              "    .dataframe tbody tr th:only-of-type {\n",
              "        vertical-align: middle;\n",
              "    }\n",
              "\n",
              "    .dataframe tbody tr th {\n",
              "        vertical-align: top;\n",
              "    }\n",
              "\n",
              "    .dataframe thead th {\n",
              "        text-align: right;\n",
              "    }\n",
              "</style>\n",
              "<table border=\"1\" class=\"dataframe\">\n",
              "  <thead>\n",
              "    <tr style=\"text-align: right;\">\n",
              "      <th></th>\n",
              "      <th>NU_RENDA_FAMILIAR</th>\n",
              "      <th>CLASSE_SOCIAL_FAMILIAR</th>\n",
              "      <th>NU_RENDA_PER_CAPITA</th>\n",
              "      <th>CLASSE_SOCIAL_PER_CAPITA</th>\n",
              "    </tr>\n",
              "  </thead>\n",
              "  <tbody>\n",
              "    <tr>\n",
              "      <th>0</th>\n",
              "      <td>998.0</td>\n",
              "      <td>E</td>\n",
              "      <td>249.500000</td>\n",
              "      <td>E</td>\n",
              "    </tr>\n",
              "    <tr>\n",
              "      <th>1</th>\n",
              "      <td>998.0</td>\n",
              "      <td>E</td>\n",
              "      <td>249.500000</td>\n",
              "      <td>E</td>\n",
              "    </tr>\n",
              "    <tr>\n",
              "      <th>2</th>\n",
              "      <td>1497.0</td>\n",
              "      <td>D</td>\n",
              "      <td>299.400000</td>\n",
              "      <td>E</td>\n",
              "    </tr>\n",
              "    <tr>\n",
              "      <th>3</th>\n",
              "      <td>998.0</td>\n",
              "      <td>E</td>\n",
              "      <td>998.000000</td>\n",
              "      <td>D</td>\n",
              "    </tr>\n",
              "    <tr>\n",
              "      <th>4</th>\n",
              "      <td>2495.0</td>\n",
              "      <td>D</td>\n",
              "      <td>831.666667</td>\n",
              "      <td>D</td>\n",
              "    </tr>\n",
              "    <tr>\n",
              "      <th>...</th>\n",
              "      <td>...</td>\n",
              "      <td>...</td>\n",
              "      <td>...</td>\n",
              "      <td>...</td>\n",
              "    </tr>\n",
              "    <tr>\n",
              "      <th>127375</th>\n",
              "      <td>3992.0</td>\n",
              "      <td>C</td>\n",
              "      <td>1330.666667</td>\n",
              "      <td>C</td>\n",
              "    </tr>\n",
              "    <tr>\n",
              "      <th>127376</th>\n",
              "      <td>998.0</td>\n",
              "      <td>E</td>\n",
              "      <td>249.500000</td>\n",
              "      <td>E</td>\n",
              "    </tr>\n",
              "    <tr>\n",
              "      <th>127377</th>\n",
              "      <td>998.0</td>\n",
              "      <td>E</td>\n",
              "      <td>998.000000</td>\n",
              "      <td>D</td>\n",
              "    </tr>\n",
              "    <tr>\n",
              "      <th>127378</th>\n",
              "      <td>1497.0</td>\n",
              "      <td>D</td>\n",
              "      <td>748.500000</td>\n",
              "      <td>D</td>\n",
              "    </tr>\n",
              "    <tr>\n",
              "      <th>127379</th>\n",
              "      <td>1497.0</td>\n",
              "      <td>D</td>\n",
              "      <td>374.250000</td>\n",
              "      <td>D</td>\n",
              "    </tr>\n",
              "  </tbody>\n",
              "</table>\n",
              "<p>127380 rows × 4 columns</p>\n",
              "</div>"
            ],
            "text/plain": [
              "        NU_RENDA_FAMILIAR  ... CLASSE_SOCIAL_PER_CAPITA\n",
              "0                   998.0  ...                        E\n",
              "1                   998.0  ...                        E\n",
              "2                  1497.0  ...                        E\n",
              "3                   998.0  ...                        D\n",
              "4                  2495.0  ...                        D\n",
              "...                   ...  ...                      ...\n",
              "127375             3992.0  ...                        C\n",
              "127376              998.0  ...                        E\n",
              "127377              998.0  ...                        D\n",
              "127378             1497.0  ...                        D\n",
              "127379             1497.0  ...                        D\n",
              "\n",
              "[127380 rows x 4 columns]"
            ]
          },
          "metadata": {
            "tags": []
          },
          "execution_count": 17
        }
      ]
    },
    {
      "cell_type": "code",
      "metadata": {
        "id": "WMJnwXiGwFqM",
        "outputId": "f5de9c2c-a7cf-4142-b770-7c2168f3e185",
        "colab": {
          "base_uri": "https://localhost:8080/",
          "height": 418
        }
      },
      "source": [
        "#visualizando quantos candidatos temos em cada classe social\n",
        "plt.figure(figsize=(12,6))\n",
        "ax = sns.countplot(x=dados['CLASSE_SOCIAL_FAMILIAR'], \n",
        "                   order=['A', 'B', 'C', 'D', 'E'],\n",
        "                   palette='autumn_r')\n",
        "ax.set_title('Inscritos por Classe Social', fontsize=25)\n",
        "ax.set_xlabel('Classe Social - IBGE', fontsize=16)\n",
        "ax.set_ylabel('Quantidade de Inscritos na amostra', fontsize=16);\n"
      ],
      "execution_count": 18,
      "outputs": [
        {
          "output_type": "display_data",
          "data": {
            "image/png": "[encoded data removed]",
            "text/plain": [
              "<Figure size 864x432 with 1 Axes>"
            ]
          },
          "metadata": {
            "tags": [],
            "needs_background": "light"
          }
        }
      ]
    },
    {
      "cell_type": "markdown",
      "metadata": {
        "id": "06W4bdmHzRA5"
      },
      "source": [
        "Podemos ver uma grande concentração da nossa amostra entre as classes sociais D e E, refletindo a desigualdade social brasileira"
      ]
    },
    {
      "cell_type": "markdown",
      "metadata": {
        "id": "e7JwJuNd79vl"
      },
      "source": [
        "### **Para nossas próximas análises, vamos criar uma coluna com a soma de todas as notas nas provas**"
      ]
    },
    {
      "cell_type": "code",
      "metadata": {
        "id": "dg7jziQY8SFj"
      },
      "source": [
        "#criando uma lista com as notas das provas\n",
        "provas = ['NU_NOTA_LC', 'NU_NOTA_CH', 'NU_NOTA_MT', 'NU_NOTA_CN', 'NU_NOTA_REDACAO']\n",
        "#criando uma coluna com o somatório das notas das 5 provas\n",
        "dados['NU_NOTA_TOTAL'] = dados[provas].sum(axis=1)\n"
      ],
      "execution_count": 19,
      "outputs": []
    },
    {
      "cell_type": "code",
      "metadata": {
        "id": "RDyoHVd63B91",
        "outputId": "6d284269-87ad-4e8f-9e4d-f48cd64f89be",
        "colab": {
          "base_uri": "https://localhost:8080/",
          "height": 103
        }
      },
      "source": [
        "#calculando as médias da soma das notas por classe social\n",
        "media_a = dados[dados.CLASSE_SOCIAL_FAMILIAR == 'A'].NU_NOTA_TOTAL.mean()\n",
        "media_b = dados[dados.CLASSE_SOCIAL_FAMILIAR == 'B'].NU_NOTA_TOTAL.mean()\n",
        "media_c = dados[dados.CLASSE_SOCIAL_FAMILIAR == 'C'].NU_NOTA_TOTAL.mean()\n",
        "media_d = dados[dados.CLASSE_SOCIAL_FAMILIAR == 'D'].NU_NOTA_TOTAL.mean()\n",
        "media_e = dados[dados.CLASSE_SOCIAL_FAMILIAR == 'E'].NU_NOTA_TOTAL.mean()\n",
        "(media_a, media_b, media_c, media_d, media_e)\n"
      ],
      "execution_count": 20,
      "outputs": [
        {
          "output_type": "execute_result",
          "data": {
            "text/plain": [
              "(2660.3872274143305,\n",
              " 2514.044842865351,\n",
              " 2275.505274244512,\n",
              " 1889.9548266615568,\n",
              " 1747.072298697849)"
            ]
          },
          "metadata": {
            "tags": []
          },
          "execution_count": 20
        }
      ]
    },
    {
      "cell_type": "code",
      "metadata": {
        "id": "iLwACg9D3-zO",
        "outputId": "ba03d67f-b93f-416c-98ac-2843afb6a44b",
        "colab": {
          "base_uri": "https://localhost:8080/",
          "height": 34
        }
      },
      "source": [
        "# #calculando as medianas da soma das notas por classe social\n",
        "media_a = dados[dados.CLASSE_SOCIAL_FAMILIAR == 'A'].NU_NOTA_TOTAL.median()\n",
        "media_b = dados[dados.CLASSE_SOCIAL_FAMILIAR == 'B'].NU_NOTA_TOTAL.median()\n",
        "media_c = dados[dados.CLASSE_SOCIAL_FAMILIAR == 'C'].NU_NOTA_TOTAL.median()\n",
        "media_d = dados[dados.CLASSE_SOCIAL_FAMILIAR == 'D'].NU_NOTA_TOTAL.median()\n",
        "media_e = dados[dados.CLASSE_SOCIAL_FAMILIAR == 'E'].NU_NOTA_TOTAL.median()\n",
        "(media_a, media_b, media_c, media_d, media_e)"
      ],
      "execution_count": 21,
      "outputs": [
        {
          "output_type": "execute_result",
          "data": {
            "text/plain": [
              "(3103.85, 2892.3, 2669.7, 2373.75, 2219.8)"
            ]
          },
          "metadata": {
            "tags": []
          },
          "execution_count": 21
        }
      ]
    },
    {
      "cell_type": "code",
      "metadata": {
        "id": "xhIjPpmFxioa",
        "outputId": "87a8e572-e2b7-4049-a5bb-d815bd977ff9",
        "colab": {
          "base_uri": "https://localhost:8080/",
          "height": 519
        }
      },
      "source": [
        "#visualizando a nota de Linguagem e códigos entre os inscritos do ENEM em 2019 (amostra)\n",
        "plt.figure(figsize=(10,8))\n",
        "ax = sns.histplot(dados, x='NU_NOTA_TOTAL', kde=True, \n",
        "                  hue='CLASSE_SOCIAL_FAMILIAR', \n",
        "                  hue_order=['A', 'B', 'C', 'D', 'E'], \n",
        "                  palette='autumn_r', stat='probability', cumulative=True)\n",
        "ax.set_title('Distribuição Cumulativa da Nota Total por Classe Social', fontsize=20);\n"
      ],
      "execution_count": 22,
      "outputs": [
        {
          "output_type": "display_data",
          "data": {
            "image/png": "[encoded data removed]",
            "text/plain": [
              "<Figure size 720x576 with 1 Axes>"
            ]
          },
          "metadata": {
            "tags": [],
            "needs_background": "light"
          }
        }
      ]
    },
    {
      "cell_type": "markdown",
      "metadata": {
        "id": "DmvyBUpH9qUh"
      },
      "source": [
        "Conseguimos ver que tanto a média quanto a mediana das notas aumenta junto com a renda, demonstrando claramente a influência da renda e conforto social na performance do inscrito"
      ]
    },
    {
      "cell_type": "markdown",
      "metadata": {
        "id": "Z4YPltYK-TU0"
      },
      "source": [
        "### Visualizando a distribuição das notas por classe social"
      ]
    },
    {
      "cell_type": "markdown",
      "metadata": {
        "id": "dIWKs1_6-YVJ"
      },
      "source": [
        "Vamos demonstrar agora como estão distribuidas as notas usando o boxplot, que traz dados como a mediana das notas por grupo e também a porcentagem de inscritos acima e abaixo da média e os pontos fora da curva"
      ]
    },
    {
      "cell_type": "code",
      "metadata": {
        "id": "tnlwxmzy0JPv",
        "outputId": "8df6f85b-920f-4a3b-9c07-0374f2cf92e3",
        "colab": {
          "base_uri": "https://localhost:8080/",
          "height": 409
        }
      },
      "source": [
        "def cria_boxplot(data,y,title,ylabel):\n",
        "  plt.figure(figsize=(12,6))\n",
        "  ax = sns.boxplot(data=data, x='CLASSE_SOCIAL_FAMILIAR', \n",
        "                  y=y, palette='autumn_r',order=['A', 'B', 'C', 'D', 'E'])\n",
        "  ax.set_title(title, fontsize=20)\n",
        "  ax.set_ylabel(ylabel)\n",
        "  ax.set_xlabel('Classe Social');\n",
        "\n",
        "cria_boxplot(dados,'NU_NOTA_TOTAL','Distribuição da Nota Total de Acordo com a Classe Social','Soma das Notas')"
      ],
      "execution_count": 23,
      "outputs": [
        {
          "output_type": "display_data",
          "data": {
            "image/png": "[encoded data removed]",
            "text/plain": [
              "<Figure size 864x432 with 1 Axes>"
            ]
          },
          "metadata": {
            "tags": [],
            "needs_background": "light"
          }
        }
      ]
    },
    {
      "cell_type": "markdown",
      "metadata": {
        "id": "2V56PJv2AP5O"
      },
      "source": [
        "Este gráfico nos mostra que pelo menos 25% das pessoas da classe \"E\" somaram 0 em todas as notas do ENEM, o que nos leva a crer que há uma correlação entre a renda e a presença na prova, o que vamos investigar agora"
      ]
    },
    {
      "cell_type": "markdown",
      "metadata": {
        "id": "MM1XPtgmAqVJ"
      },
      "source": [
        "### Conferindo as presenças "
      ]
    },
    {
      "cell_type": "code",
      "metadata": {
        "id": "y2yU9t5T-to0",
        "outputId": "d43f50cf-c213-472c-cd72-a17897b56acc",
        "colab": {
          "base_uri": "https://localhost:8080/",
          "height": 34
        }
      },
      "source": [
        "#conferindo a hipótese de que quem estava presente na prova de matemática estava presente na prova de ciências da natureza\n",
        "dados['TP_PRESENCA_MT'].equals(dados['TP_PRESENCA_CN'])"
      ],
      "execution_count": 24,
      "outputs": [
        {
          "output_type": "execute_result",
          "data": {
            "text/plain": [
              "True"
            ]
          },
          "metadata": {
            "tags": []
          },
          "execution_count": 24
        }
      ]
    },
    {
      "cell_type": "code",
      "metadata": {
        "id": "cTUGT2SlBDWg",
        "outputId": "a8aa699b-5f10-4fda-f1ad-0712e47d3330",
        "colab": {
          "base_uri": "https://localhost:8080/",
          "height": 34
        }
      },
      "source": [
        "#conferindo a hipótese de que quem estava presente na prova de linguagem estava presente na prova de ciências humanas\n",
        "dados['TP_PRESENCA_LC'].equals(dados['TP_PRESENCA_CH'])"
      ],
      "execution_count": 25,
      "outputs": [
        {
          "output_type": "execute_result",
          "data": {
            "text/plain": [
              "True"
            ]
          },
          "metadata": {
            "tags": []
          },
          "execution_count": 25
        }
      ]
    },
    {
      "cell_type": "code",
      "metadata": {
        "id": "aN56th0pBVhg",
        "outputId": "e1d6861b-6c18-4b0f-f66b-7a00fed49b72",
        "colab": {
          "base_uri": "https://localhost:8080/",
          "height": 34
        }
      },
      "source": [
        "#conferindo a hipótese de que quem estava presente na prova de linguagem estava presente na prova de matemática\n",
        "dados['TP_PRESENCA_LC'].equals(dados['TP_PRESENCA_MT'])"
      ],
      "execution_count": 26,
      "outputs": [
        {
          "output_type": "execute_result",
          "data": {
            "text/plain": [
              "False"
            ]
          },
          "metadata": {
            "tags": []
          },
          "execution_count": 26
        }
      ]
    },
    {
      "cell_type": "markdown",
      "metadata": {
        "id": "elEfZfIEBe_t"
      },
      "source": [
        "Conclusão: Quem estava presente na prova de Matemática estava presente na prova de Ciências da Natureza e quem estava na prova de Linguagem e Códigos estava presente na prova de Ciências Humanas, mas o mesmo não ocorre entre as provas de Matemática e Linguagem"
      ]
    },
    {
      "cell_type": "code",
      "metadata": {
        "id": "gVXJoUcfBZ6n"
      },
      "source": [
        "#criando um dataset com os ausentes\n",
        "ausentes = dados.query('TP_PRESENCA_LC ==0 & TP_PRESENCA_MT==0')"
      ],
      "execution_count": 27,
      "outputs": []
    },
    {
      "cell_type": "code",
      "metadata": {
        "id": "mTo914DgCAZx",
        "outputId": "699334f4-d09d-479e-defc-c2d036537623",
        "colab": {
          "base_uri": "https://localhost:8080/",
          "height": 34
        }
      },
      "source": [
        "#conferindo quantos inscritos faltaram à prova nos dois dias\n",
        "ausentes.shape"
      ],
      "execution_count": 28,
      "outputs": [
        {
          "output_type": "execute_result",
          "data": {
            "text/plain": [
              "(28998, 141)"
            ]
          },
          "metadata": {
            "tags": []
          },
          "execution_count": 28
        }
      ]
    },
    {
      "cell_type": "code",
      "metadata": {
        "id": "TqOzKDx1CjX4",
        "outputId": "bd10d8d5-9c90-4577-ff83-ba99192deac9",
        "colab": {
          "base_uri": "https://localhost:8080/",
          "height": 34
        }
      },
      "source": [
        "(ausentes.shape[0]/dados.shape[0])*100"
      ],
      "execution_count": 29,
      "outputs": [
        {
          "output_type": "execute_result",
          "data": {
            "text/plain": [
              "22.764955252001883"
            ]
          },
          "metadata": {
            "tags": []
          },
          "execution_count": 29
        }
      ]
    },
    {
      "cell_type": "markdown",
      "metadata": {
        "id": "GXt2oLK1CdVU"
      },
      "source": [
        "28.998 pessoas de nossa amostra não compareceram à prova, o que corresponde a 22,76% de nossa amostra"
      ]
    },
    {
      "cell_type": "code",
      "metadata": {
        "id": "ulLlySz4CadA",
        "outputId": "ba1a32a4-8433-4c06-e022-14b10349d724",
        "colab": {
          "base_uri": "https://localhost:8080/",
          "height": 418
        }
      },
      "source": [
        "#visualizando quantos candidatos ausente temos em cada classe social\n",
        "plt.figure(figsize=(12,6))\n",
        "ax = sns.countplot(x=ausentes['CLASSE_SOCIAL_FAMILIAR'], \n",
        "                   order=['A', 'B', 'C', 'D', 'E'],\n",
        "                   palette='autumn_r')\n",
        "ax.set_title('Ausentes por Classe Social', fontsize=25)\n",
        "ax.set_xlabel('Classe Social - IBGE', fontsize=16)\n",
        "ax.set_ylabel('Inscritos Ausentes', fontsize=16);"
      ],
      "execution_count": 30,
      "outputs": [
        {
          "output_type": "display_data",
          "data": {
            "image/png": "[encoded data removed]",
            "text/plain": [
              "<Figure size 864x432 with 1 Axes>"
            ]
          },
          "metadata": {
            "tags": [],
            "needs_background": "light"
          }
        }
      ]
    },
    {
      "cell_type": "code",
      "metadata": {
        "id": "9WKKGsoFDIDo",
        "outputId": "bb493bdc-8f92-4725-bc98-ca3e238943e2",
        "colab": {
          "base_uri": "https://localhost:8080/",
          "height": 120
        }
      },
      "source": [
        "#verificando a quantidade de ausentes\n",
        "ausentes['CLASSE_SOCIAL_FAMILIAR'].value_counts()"
      ],
      "execution_count": 31,
      "outputs": [
        {
          "output_type": "execute_result",
          "data": {
            "text/plain": [
              "D    15375\n",
              "E     9408\n",
              "C     2129\n",
              "B     1716\n",
              "A      370\n",
              "Name: CLASSE_SOCIAL_FAMILIAR, dtype: int64"
            ]
          },
          "metadata": {
            "tags": []
          },
          "execution_count": 31
        }
      ]
    },
    {
      "cell_type": "code",
      "metadata": {
        "id": "j_nBrSE5EG7e",
        "outputId": "f561eb71-1677-4304-ffef-ad3a8f807680",
        "colab": {
          "base_uri": "https://localhost:8080/",
          "height": 120
        }
      },
      "source": [
        "#verificando a quantidade total\n",
        "dados['CLASSE_SOCIAL_FAMILIAR'].value_counts()"
      ],
      "execution_count": 32,
      "outputs": [
        {
          "output_type": "execute_result",
          "data": {
            "text/plain": [
              "D    62652\n",
              "E    37630\n",
              "C    12343\n",
              "B    12187\n",
              "A     2568\n",
              "Name: CLASSE_SOCIAL_FAMILIAR, dtype: int64"
            ]
          },
          "metadata": {
            "tags": []
          },
          "execution_count": 32
        }
      ]
    },
    {
      "cell_type": "code",
      "metadata": {
        "id": "ZOakEWJrEx7c"
      },
      "source": [
        "#criando um dataframe para estimar o percentual de ausentes por classe social\n",
        "presenca = pd.DataFrame([ausentes['CLASSE_SOCIAL_FAMILIAR'].value_counts(),dados['CLASSE_SOCIAL_FAMILIAR'].value_counts()], index=['ausentes', 'total'], ).T\n",
        "#organizando em ordem de classe social\n",
        "presenca = presenca.sort_index(ascending=False)\n",
        "#calculando a proporção de ausentes por classe social\n",
        "presenca['proporcao'] = round((presenca['ausentes']/presenca['total'])*100,2)"
      ],
      "execution_count": 33,
      "outputs": []
    },
    {
      "cell_type": "code",
      "metadata": {
        "id": "97sHUwWoFbQz",
        "outputId": "214011a3-c955-4310-ff20-50dfcc38a88f",
        "colab": {
          "base_uri": "https://localhost:8080/",
          "height": 203
        }
      },
      "source": [
        "presenca"
      ],
      "execution_count": 34,
      "outputs": [
        {
          "output_type": "execute_result",
          "data": {
            "text/html": [
              "<div>\n",
              "<style scoped>\n",
              "    .dataframe tbody tr th:only-of-type {\n",
              "        vertical-align: middle;\n",
              "    }\n",
              "\n",
              "    .dataframe tbody tr th {\n",
              "        vertical-align: top;\n",
              "    }\n",
              "\n",
              "    .dataframe thead th {\n",
              "        text-align: right;\n",
              "    }\n",
              "</style>\n",
              "<table border=\"1\" class=\"dataframe\">\n",
              "  <thead>\n",
              "    <tr style=\"text-align: right;\">\n",
              "      <th></th>\n",
              "      <th>ausentes</th>\n",
              "      <th>total</th>\n",
              "      <th>proporcao</th>\n",
              "    </tr>\n",
              "  </thead>\n",
              "  <tbody>\n",
              "    <tr>\n",
              "      <th>A</th>\n",
              "      <td>370</td>\n",
              "      <td>2568</td>\n",
              "      <td>14.41</td>\n",
              "    </tr>\n",
              "    <tr>\n",
              "      <th>B</th>\n",
              "      <td>1716</td>\n",
              "      <td>12187</td>\n",
              "      <td>14.08</td>\n",
              "    </tr>\n",
              "    <tr>\n",
              "      <th>C</th>\n",
              "      <td>2129</td>\n",
              "      <td>12343</td>\n",
              "      <td>17.25</td>\n",
              "    </tr>\n",
              "    <tr>\n",
              "      <th>D</th>\n",
              "      <td>15375</td>\n",
              "      <td>62652</td>\n",
              "      <td>24.54</td>\n",
              "    </tr>\n",
              "    <tr>\n",
              "      <th>E</th>\n",
              "      <td>9408</td>\n",
              "      <td>37630</td>\n",
              "      <td>25.00</td>\n",
              "    </tr>\n",
              "  </tbody>\n",
              "</table>\n",
              "</div>"
            ],
            "text/plain": [
              "   ausentes  total  proporcao\n",
              "A       370   2568      14.41\n",
              "B      1716  12187      14.08\n",
              "C      2129  12343      17.25\n",
              "D     15375  62652      24.54\n",
              "E      9408  37630      25.00"
            ]
          },
          "metadata": {
            "tags": []
          },
          "execution_count": 34
        }
      ]
    },
    {
      "cell_type": "markdown",
      "metadata": {
        "id": "ZoepxS8vGAa7"
      },
      "source": [
        "Podemos ver que 25% dos inscritos de classe \"E\" não participaram da prova, contra 14,08% da classe \"B\", vemos que há uma grande diferença entre os participantes das classes D e E com a classe C e as classes A e B"
      ]
    },
    {
      "cell_type": "markdown",
      "metadata": {
        "id": "e2kwI4EoH1ld"
      },
      "source": [
        "### Analisando quem faltou em pelo menos um dos dias de prova para ver se a proporção se mantém"
      ]
    },
    {
      "cell_type": "code",
      "metadata": {
        "id": "h-qmlsIIGr2_"
      },
      "source": [
        "#criando um dataset com os ausentes\n",
        "ausentes_em_pelo_menos_uma_das_provas = dados.query('TP_PRESENCA_LC ==0 or TP_PRESENCA_MT==0')"
      ],
      "execution_count": 35,
      "outputs": []
    },
    {
      "cell_type": "code",
      "metadata": {
        "id": "WKokJ-7HIgxq",
        "outputId": "0e64ceef-2380-4a98-b0e3-bfee50df4654",
        "colab": {
          "base_uri": "https://localhost:8080/",
          "height": 34
        }
      },
      "source": [
        "#vendo quantas pessoas faltaram em pelo menos um dos dias\n",
        "ausentes_em_pelo_menos_uma_das_provas.shape"
      ],
      "execution_count": 36,
      "outputs": [
        {
          "output_type": "execute_result",
          "data": {
            "text/plain": [
              "(34783, 141)"
            ]
          },
          "metadata": {
            "tags": []
          },
          "execution_count": 36
        }
      ]
    },
    {
      "cell_type": "code",
      "metadata": {
        "id": "G54KsruhInXt",
        "outputId": "2eca221f-7118-490d-9c57-283568f9ee5c",
        "colab": {
          "base_uri": "https://localhost:8080/",
          "height": 34
        }
      },
      "source": [
        "(ausentes_em_pelo_menos_uma_das_provas.shape[0]/dados.shape[0])*100"
      ],
      "execution_count": 37,
      "outputs": [
        {
          "output_type": "execute_result",
          "data": {
            "text/plain": [
              "27.30648453446381"
            ]
          },
          "metadata": {
            "tags": []
          },
          "execution_count": 37
        }
      ]
    },
    {
      "cell_type": "markdown",
      "metadata": {
        "id": "n4u5O-vZIgAP"
      },
      "source": [
        "27,30% dos inscritos faltaram em pelo menos um dos dias de prova"
      ]
    },
    {
      "cell_type": "markdown",
      "metadata": {
        "id": "g3POZSxyIUmJ"
      },
      "source": [
        "Vamos ver agora como essas ausências se comportam entre as classes sociais"
      ]
    },
    {
      "cell_type": "code",
      "metadata": {
        "id": "vqXBNSrtIKgV"
      },
      "source": [
        "#criando um dataframe para estimar o percentual de ausentes por classe social\n",
        "presenca_parcial = pd.DataFrame([ausentes_em_pelo_menos_uma_das_provas['CLASSE_SOCIAL_FAMILIAR'].value_counts(),dados['CLASSE_SOCIAL_FAMILIAR'].value_counts()], index=['ausentes', 'total'], ).T\n",
        "#organizando em ordem de classe social\n",
        "presenca_parcial = presenca_parcial.sort_index(ascending=False)\n",
        "#calculando a proporção de ausentes por classe social\n",
        "presenca_parcial['proporcao'] = round((presenca_parcial['ausentes']/presenca_parcial['total'])*100,2)"
      ],
      "execution_count": 38,
      "outputs": []
    },
    {
      "cell_type": "code",
      "metadata": {
        "id": "CeMNPIj1JVQF",
        "outputId": "194ab3fd-b678-43cc-e5e7-888899b5d5dc",
        "colab": {
          "base_uri": "https://localhost:8080/",
          "height": 203
        }
      },
      "source": [
        "presenca_parcial"
      ],
      "execution_count": 39,
      "outputs": [
        {
          "output_type": "execute_result",
          "data": {
            "text/html": [
              "<div>\n",
              "<style scoped>\n",
              "    .dataframe tbody tr th:only-of-type {\n",
              "        vertical-align: middle;\n",
              "    }\n",
              "\n",
              "    .dataframe tbody tr th {\n",
              "        vertical-align: top;\n",
              "    }\n",
              "\n",
              "    .dataframe thead th {\n",
              "        text-align: right;\n",
              "    }\n",
              "</style>\n",
              "<table border=\"1\" class=\"dataframe\">\n",
              "  <thead>\n",
              "    <tr style=\"text-align: right;\">\n",
              "      <th></th>\n",
              "      <th>ausentes</th>\n",
              "      <th>total</th>\n",
              "      <th>proporcao</th>\n",
              "    </tr>\n",
              "  </thead>\n",
              "  <tbody>\n",
              "    <tr>\n",
              "      <th>A</th>\n",
              "      <td>473</td>\n",
              "      <td>2568</td>\n",
              "      <td>18.42</td>\n",
              "    </tr>\n",
              "    <tr>\n",
              "      <th>B</th>\n",
              "      <td>2118</td>\n",
              "      <td>12187</td>\n",
              "      <td>17.38</td>\n",
              "    </tr>\n",
              "    <tr>\n",
              "      <th>C</th>\n",
              "      <td>2562</td>\n",
              "      <td>12343</td>\n",
              "      <td>20.76</td>\n",
              "    </tr>\n",
              "    <tr>\n",
              "      <th>D</th>\n",
              "      <td>18319</td>\n",
              "      <td>62652</td>\n",
              "      <td>29.24</td>\n",
              "    </tr>\n",
              "    <tr>\n",
              "      <th>E</th>\n",
              "      <td>11311</td>\n",
              "      <td>37630</td>\n",
              "      <td>30.06</td>\n",
              "    </tr>\n",
              "  </tbody>\n",
              "</table>\n",
              "</div>"
            ],
            "text/plain": [
              "   ausentes  total  proporcao\n",
              "A       473   2568      18.42\n",
              "B      2118  12187      17.38\n",
              "C      2562  12343      20.76\n",
              "D     18319  62652      29.24\n",
              "E     11311  37630      30.06"
            ]
          },
          "metadata": {
            "tags": []
          },
          "execution_count": 39
        }
      ]
    },
    {
      "cell_type": "markdown",
      "metadata": {
        "id": "I_T9kEC9Jfqs"
      },
      "source": [
        "Vemos que há uma correlação entre presença e classe social, mas é interessante que há um percentual maior de ausentes no estrato social de maior renda que o da classe B, o que pode ser resultado da amostra menor, ou algum fator que precisamos investigar melhor"
      ]
    },
    {
      "cell_type": "markdown",
      "metadata": {
        "id": "a4oqG2O9J4oY"
      },
      "source": [
        "Considerando que há um grande percentual de ausentes, vamos realizar a análise de notas sem considerarmos os ausentes para ver se a média da nota total continua diferente entre as classes sociais entre os que participaram das duas provas"
      ]
    },
    {
      "cell_type": "code",
      "metadata": {
        "id": "xEY_R65CJWl8"
      },
      "source": [
        "#criando um dataset apenas com quem esteve presente nas duas provas\n",
        "presentes = dados.query('TP_PRESENCA_MT != 0 and TP_PRESENCA_LC != 0')"
      ],
      "execution_count": 40,
      "outputs": []
    },
    {
      "cell_type": "markdown",
      "metadata": {
        "id": "VbJ1-r74L5QK"
      },
      "source": [
        "### **Recriando o gráfico de distribuição de notas, agora só entre os presentes nas duas provas**"
      ]
    },
    {
      "cell_type": "code",
      "metadata": {
        "id": "3aQUT_N2Kb0c",
        "outputId": "afb67861-82d1-4723-98ca-c0074edac41c",
        "colab": {
          "base_uri": "https://localhost:8080/",
          "height": 409
        }
      },
      "source": [
        "cria_boxplot(presentes,'NU_NOTA_TOTAL','Distribuição da Nota Total de Acordo com a Classe Social','Soma das Notas')"
      ],
      "execution_count": 41,
      "outputs": [
        {
          "output_type": "display_data",
          "data": {
            "image/png": "[encoded data removed]",
            "text/plain": [
              "<Figure size 864x432 with 1 Axes>"
            ]
          },
          "metadata": {
            "tags": [],
            "needs_background": "light"
          }
        }
      ]
    },
    {
      "cell_type": "markdown",
      "metadata": {
        "id": "V785e8ncMiD-"
      },
      "source": [
        "Conclusão: A diferença entre as notas permanece mesmo se considerarmos apenas quem participou de todas as provas"
      ]
    },
    {
      "cell_type": "code",
      "metadata": {
        "id": "YjvtctelMBi2",
        "outputId": "146acede-6abb-445a-b98d-0aa82090e45d",
        "colab": {
          "base_uri": "https://localhost:8080/",
          "height": 518
        }
      },
      "source": [
        "#visualizando a nota de Linguagem e códigos entre os inscritos do ENEM em 2019 (amostra)\n",
        "plt.figure(figsize=(10,8))\n",
        "ax = sns.histplot(presentes, x='NU_NOTA_TOTAL', kde=True, \n",
        "                  hue='CLASSE_SOCIAL_FAMILIAR', \n",
        "                  hue_order=['A', 'B', 'C', 'D', 'E'], \n",
        "                  palette='autumn_r', stat='probability', cumulative=True)\n",
        "ax.set_title('Distribuição Cumulativa da Nota Total por Classe Social entre os Presentes nas duas provas', fontsize=18);"
      ],
      "execution_count": 42,
      "outputs": [
        {
          "output_type": "display_data",
          "data": {
            "image/png": "[encoded data removed]",
            "text/plain": [
              "<Figure size 720x576 with 1 Axes>"
            ]
          },
          "metadata": {
            "tags": [],
            "needs_background": "light"
          }
        }
      ]
    },
    {
      "cell_type": "markdown",
      "metadata": {
        "id": "VN9qYCALNIOQ"
      },
      "source": [
        "Vamos ver agora se esta tendência é replicada em todas as provas"
      ]
    },
    {
      "cell_type": "markdown",
      "metadata": {
        "id": "EaipZAq7RbMd"
      },
      "source": [
        "## **Distribuição de Notas de Acordo com a Classe Social**"
      ]
    },
    {
      "cell_type": "code",
      "metadata": {
        "id": "clKyMotGQdrK",
        "outputId": "60819e7a-f2ea-4e5f-b3fc-67b46ec5b4ad",
        "colab": {
          "base_uri": "https://localhost:8080/",
          "height": 1000
        }
      },
      "source": [
        "provas_sigla = {'MT': 'Matemática', \n",
        "          'LC': 'Linguagens e Códigos', \n",
        "          'CN': 'Ciências da Natureza', \n",
        "          'CH': 'Ciências Humanas', \n",
        "          'REDACAO': 'Redação'} \n",
        "for sigla, nome in zip(provas_sigla.keys(), provas_sigla.values()):\n",
        "  cria_boxplot(presentes, f'NU_NOTA_{sigla}', f'Distribuição da Nota de {nome}', f'Nota de {nome}')"
      ],
      "execution_count": 43,
      "outputs": [
        {
          "output_type": "display_data",
          "data": {
            "image/png": "[encoded data removed]",
            "text/plain": [
              "<Figure size 864x432 with 1 Axes>"
            ]
          },
          "metadata": {
            "tags": [],
            "needs_background": "light"
          }
        },
        {
          "output_type": "display_data",
          "data": {
            "image/png": "[encoded data removed]",
            "text/plain": [
              "<Figure size 864x432 with 1 Axes>"
            ]
          },
          "metadata": {
            "tags": [],
            "needs_background": "light"
          }
        },
        {
          "output_type": "display_data",
          "data": {
            "image/png": "[encoded data removed]",
            "text/plain": [
              "<Figure size 864x432 with 1 Axes>"
            ]
          },
          "metadata": {
            "tags": [],
            "needs_background": "light"
          }
        },
        {
          "output_type": "display_data",
          "data": {
            "image/png": "[encoded data removed]",
            "text/plain": [
              "<Figure size 864x432 with 1 Axes>"
            ]
          },
          "metadata": {
            "tags": [],
            "needs_background": "light"
          }
        },
        {
          "output_type": "display_data",
          "data": {
            "image/png": "[encoded data removed]",
            "text/plain": [
              "<Figure size 864x432 with 1 Axes>"
            ]
          },
          "metadata": {
            "tags": [],
            "needs_background": "light"
          }
        }
      ]
    },
    {
      "cell_type": "markdown",
      "metadata": {
        "id": "913Dqk4yURAA"
      },
      "source": [
        "## **Usando a renda per capita para distinguir entre classes sociais**"
      ]
    },
    {
      "cell_type": "markdown",
      "metadata": {
        "id": "-jEIChOhXz3M"
      },
      "source": [
        "Agora que criamos uma nova classificação usando a renda por pessoa no domicílio numa classe e a renda per capita do domicilio do inscrito como parâmetros, vamos revisitar nossas visualizações para ver qual o impacto desta mudança na distribuição das notas. Mas antes, vamos visualizar a distribuição das rendas familiar e per capita"
      ]
    },
    {
      "cell_type": "markdown",
      "metadata": {
        "id": "id6kyk93YYGV"
      },
      "source": [
        "### Distribuição das rendas Familiares"
      ]
    },
    {
      "cell_type": "code",
      "metadata": {
        "id": "qYWVnzAzYXNh",
        "outputId": "ffbbeda7-1308-4128-d423-8f0aa702f6d9",
        "colab": {
          "base_uri": "https://localhost:8080/",
          "height": 389
        }
      },
      "source": [
        "plt.figure(figsize=(12,6))\n",
        "ax = sns.kdeplot(data = dados, x='NU_RENDA_FAMILIAR', color='r');"
      ],
      "execution_count": 44,
      "outputs": [
        {
          "output_type": "display_data",
          "data": {
            "image/png": "[encoded data removed]",
            "text/plain": [
              "<Figure size 864x432 with 1 Axes>"
            ]
          },
          "metadata": {
            "tags": [],
            "needs_background": "light"
          }
        }
      ]
    },
    {
      "cell_type": "code",
      "metadata": {
        "id": "fD0KtX2yXqKb",
        "outputId": "6575896e-c0f5-42fd-b2b4-5bb8bb3f8fdd",
        "colab": {
          "base_uri": "https://localhost:8080/",
          "height": 389
        }
      },
      "source": [
        "plt.figure(figsize=(12,6))\n",
        "ax = sns.kdeplot(data = dados, x='NU_RENDA_PER_CAPITA', color='b');"
      ],
      "execution_count": 45,
      "outputs": [
        {
          "output_type": "display_data",
          "data": {
            "image/png": "[encoded data removed]",
            "text/plain": [
              "<Figure size 864x432 with 1 Axes>"
            ]
          },
          "metadata": {
            "tags": [],
            "needs_background": "light"
          }
        }
      ]
    },
    {
      "cell_type": "code",
      "metadata": {
        "id": "5vP7NyqOYsl2"
      },
      "source": [
        "def cria_boxplot_per_capita(data,y,title,ylabel):\n",
        "  plt.figure(figsize=(12,6))\n",
        "  ax = sns.boxplot(data=data, x='CLASSE_SOCIAL_PER_CAPITA', \n",
        "                  y=y, palette='autumn_r',order=['A', 'B', 'C', 'D', 'E'])\n",
        "  ax.set_title(title, fontsize=20)\n",
        "  ax.set_ylabel(ylabel)\n",
        "  ax.set_xlabel('Classe Social');"
      ],
      "execution_count": 46,
      "outputs": []
    },
    {
      "cell_type": "markdown",
      "metadata": {
        "id": "h7d3N_N3e3Ma"
      },
      "source": [
        "**Visualizando a distribuição das notas usando nossa Classe Social per Capita**"
      ]
    },
    {
      "cell_type": "code",
      "metadata": {
        "id": "8GhkvbcXcAzD",
        "outputId": "353023d9-1a81-4fe0-9245-162ed12b4f8a",
        "colab": {
          "base_uri": "https://localhost:8080/",
          "height": 409
        }
      },
      "source": [
        "cria_boxplot_per_capita(dados, 'NU_NOTA_TOTAL', \n",
        "                        'Distribuição da Nota Total considerando a Classe Social Per Capita', 'Nota Total')"
      ],
      "execution_count": 47,
      "outputs": [
        {
          "output_type": "display_data",
          "data": {
            "image/png": "[encoded data removed]",
            "text/plain": [
              "<Figure size 864x432 with 1 Axes>"
            ]
          },
          "metadata": {
            "tags": [],
            "needs_background": "light"
          }
        }
      ]
    },
    {
      "cell_type": "markdown",
      "metadata": {
        "id": "sV0qIwsmcq_G"
      },
      "source": [
        "A tendência permanece mesmo considerando a renda per capita, vamos conferir agora se há alguma mudança no percentual de presentes se considerarmos a classe social per capita que criamos"
      ]
    },
    {
      "cell_type": "code",
      "metadata": {
        "id": "vy_pQwlWcYhu"
      },
      "source": [
        "#criando um dataframe para estimar o percentual de ausentes por classe social\n",
        "presenca_parcial = pd.DataFrame([ausentes_em_pelo_menos_uma_das_provas['CLASSE_SOCIAL_PER_CAPITA'].value_counts(),dados['CLASSE_SOCIAL_PER_CAPITA'].value_counts()], index=['ausentes', 'total'], ).T\n",
        "#organizando em ordem de classe social\n",
        "presenca_parcial = presenca_parcial.sort_index(ascending=False)\n",
        "#calculando a proporção de ausentes por classe social\n",
        "presenca_parcial['proporcao'] = round((presenca_parcial['ausentes']/presenca_parcial['total'])*100,2)"
      ],
      "execution_count": 48,
      "outputs": []
    },
    {
      "cell_type": "code",
      "metadata": {
        "id": "sVDVpsOgeK8z",
        "outputId": "ae1b6581-e5c2-420f-d3bb-469944b27e9c",
        "colab": {
          "base_uri": "https://localhost:8080/",
          "height": 203
        }
      },
      "source": [
        "presenca_parcial"
      ],
      "execution_count": 49,
      "outputs": [
        {
          "output_type": "execute_result",
          "data": {
            "text/html": [
              "<div>\n",
              "<style scoped>\n",
              "    .dataframe tbody tr th:only-of-type {\n",
              "        vertical-align: middle;\n",
              "    }\n",
              "\n",
              "    .dataframe tbody tr th {\n",
              "        vertical-align: top;\n",
              "    }\n",
              "\n",
              "    .dataframe thead th {\n",
              "        text-align: right;\n",
              "    }\n",
              "</style>\n",
              "<table border=\"1\" class=\"dataframe\">\n",
              "  <thead>\n",
              "    <tr style=\"text-align: right;\">\n",
              "      <th></th>\n",
              "      <th>ausentes</th>\n",
              "      <th>total</th>\n",
              "      <th>proporcao</th>\n",
              "    </tr>\n",
              "  </thead>\n",
              "  <tbody>\n",
              "    <tr>\n",
              "      <th>A</th>\n",
              "      <td>456</td>\n",
              "      <td>2107</td>\n",
              "      <td>21.64</td>\n",
              "    </tr>\n",
              "    <tr>\n",
              "      <th>B</th>\n",
              "      <td>2051</td>\n",
              "      <td>10947</td>\n",
              "      <td>18.74</td>\n",
              "    </tr>\n",
              "    <tr>\n",
              "      <th>C</th>\n",
              "      <td>2557</td>\n",
              "      <td>11044</td>\n",
              "      <td>23.15</td>\n",
              "    </tr>\n",
              "    <tr>\n",
              "      <th>D</th>\n",
              "      <td>17279</td>\n",
              "      <td>60855</td>\n",
              "      <td>28.39</td>\n",
              "    </tr>\n",
              "    <tr>\n",
              "      <th>E</th>\n",
              "      <td>12387</td>\n",
              "      <td>42275</td>\n",
              "      <td>29.30</td>\n",
              "    </tr>\n",
              "  </tbody>\n",
              "</table>\n",
              "</div>"
            ],
            "text/plain": [
              "   ausentes  total  proporcao\n",
              "A       456   2107      21.64\n",
              "B      2051  10947      18.74\n",
              "C      2557  11044      23.15\n",
              "D     17279  60855      28.39\n",
              "E     12387  42275      29.30"
            ]
          },
          "metadata": {
            "tags": []
          },
          "execution_count": 49
        }
      ]
    },
    {
      "cell_type": "markdown",
      "metadata": {
        "id": "zo9oe6s7eRyA"
      },
      "source": [
        "Apesar de reduzir um pouco a diferença entre as novas classes, percebemos que a diferença entre as classes permanece, incluindo o fato da proporção de alunos de classe A ausentes ser maior do que a classe B, o que pode demonstrar que a influência da renda possui um limite na ausência dos candidatos"
      ]
    },
    {
      "cell_type": "markdown",
      "metadata": {
        "id": "Yc9SfOZOe_Lu"
      },
      "source": [
        "Vamos ver se há alguma mudança de tendência se considerarmos apenas os presentes e nossa classe social per capita"
      ]
    },
    {
      "cell_type": "code",
      "metadata": {
        "id": "FdtpvYWFeMrE",
        "outputId": "96062bd6-427a-489f-992b-b67f4da8dc72",
        "colab": {
          "base_uri": "https://localhost:8080/",
          "height": 409
        }
      },
      "source": [
        "cria_boxplot_per_capita(presentes, 'NU_NOTA_TOTAL', \n",
        "                        'Distribuição da Nota Total por Classe Social Per Capita entre os Presentes nas duas Provas',\n",
        "                        'Nota Total')"
      ],
      "execution_count": 50,
      "outputs": [
        {
          "output_type": "display_data",
          "data": {
            "image/png": "[encoded data removed]",
            "text/plain": [
              "<Figure size 864x432 with 1 Axes>"
            ]
          },
          "metadata": {
            "tags": [],
            "needs_background": "light"
          }
        }
      ]
    },
    {
      "cell_type": "markdown",
      "metadata": {
        "id": "JUWoaKr2gXXd"
      },
      "source": [
        "## **Testando um Algoritmo de Classificação**"
      ]
    },
    {
      "cell_type": "markdown",
      "metadata": {
        "id": "0gAzG_uzfoH6"
      },
      "source": [
        "Para finalizar nossa análise e colocar a teste nossas hipóteses de que há uma correlação entre a renda e a nota no ENEM, vamos ver como um algoritmo de classificação se comporta se usarmos apenas as notas como variáveis explicativas. Como não notamos uma diferença significativa entre a classe social familiar e a classe social per capita, vamos utilizar a primeira como nossa variável alvo\n",
        "\n"
      ]
    },
    {
      "cell_type": "markdown",
      "metadata": {
        "id": "DS9F6g6WhWRv"
      },
      "source": [
        "### **Tratamento de nulos**\n",
        "\n",
        "Vamos colocar zero em todas as notas faltantes"
      ]
    },
    {
      "cell_type": "code",
      "metadata": {
        "id": "ACFeqTe_gLHi"
      },
      "source": [
        "#nossas variáveis explicativas serão das notas das 5 provas, substituindo as notas faltantes por 0\n",
        "X = dados[provas].fillna(0)\n",
        "y = dados['CLASSE_SOCIAL_FAMILIAR']"
      ],
      "execution_count": 53,
      "outputs": []
    },
    {
      "cell_type": "markdown",
      "metadata": {
        "id": "ATFROO60iha_"
      },
      "source": [
        "### **Dividindo nossos dados de treino e teste**\n"
      ]
    },
    {
      "cell_type": "code",
      "metadata": {
        "id": "m50KsbZoisqF"
      },
      "source": [
        "from sklearn.model_selection import train_test_split"
      ],
      "execution_count": 54,
      "outputs": []
    },
    {
      "cell_type": "code",
      "metadata": {
        "id": "hyz4Ykxyi83N"
      },
      "source": [
        "#vamos estratificar nossas amostras para que nosso teste tenha a mesma proporção de classes que nosso treino\n",
        "X_train, X_test, y_train, y_test = train_test_split(X,y, test_size=0.25, \n",
        "                                                    random_state=42, stratify=y)"
      ],
      "execution_count": 60,
      "outputs": []
    },
    {
      "cell_type": "markdown",
      "metadata": {
        "id": "UokDvQ8OipUO"
      },
      "source": [
        "### **Escolhendo um modelo**"
      ]
    },
    {
      "cell_type": "markdown",
      "metadata": {
        "id": "ZwbL4A2xiOu1"
      },
      "source": [
        "Vamos escolher um algoritmo simples, apenas para determinar quão bem ele faria a distinção entre as classes"
      ]
    },
    {
      "cell_type": "code",
      "metadata": {
        "id": "P2z2ruhuiBEG"
      },
      "source": [
        "from sklearn.tree import DecisionTreeClassifier"
      ],
      "execution_count": 61,
      "outputs": []
    },
    {
      "cell_type": "code",
      "metadata": {
        "id": "KRLZObytjuv-"
      },
      "source": [
        "#criando nosso modelo\n",
        "modelo = DecisionTreeClassifier(max_depth=5, random_state=42)"
      ],
      "execution_count": 62,
      "outputs": []
    },
    {
      "cell_type": "code",
      "metadata": {
        "id": "1rbF13fhkVbL",
        "outputId": "e166af95-3bb8-4b20-e781-74256cfc30e0",
        "colab": {
          "base_uri": "https://localhost:8080/",
          "height": 120
        }
      },
      "source": [
        "#ajustando nosso modelo aos dados de treino\n",
        "modelo.fit(X_train,y_train)"
      ],
      "execution_count": 63,
      "outputs": [
        {
          "output_type": "execute_result",
          "data": {
            "text/plain": [
              "DecisionTreeClassifier(ccp_alpha=0.0, class_weight=None, criterion='gini',\n",
              "                       max_depth=5, max_features=None, max_leaf_nodes=None,\n",
              "                       min_impurity_decrease=0.0, min_impurity_split=None,\n",
              "                       min_samples_leaf=1, min_samples_split=2,\n",
              "                       min_weight_fraction_leaf=0.0, presort='deprecated',\n",
              "                       random_state=42, splitter='best')"
            ]
          },
          "metadata": {
            "tags": []
          },
          "execution_count": 63
        }
      ]
    },
    {
      "cell_type": "code",
      "metadata": {
        "id": "m7igXJHKkq5d"
      },
      "source": [
        "#fazendo nossa predição\n",
        "y_previsto = modelo.predict(X_test)"
      ],
      "execution_count": 64,
      "outputs": []
    },
    {
      "cell_type": "markdown",
      "metadata": {
        "id": "XI8deDdnk1MN"
      },
      "source": [
        "### Avaliando nosso modelo usando o Classification Report"
      ]
    },
    {
      "cell_type": "code",
      "metadata": {
        "id": "ZKNPN_gHkzg7"
      },
      "source": [
        "from sklearn.metrics import classification_report"
      ],
      "execution_count": 65,
      "outputs": []
    },
    {
      "cell_type": "code",
      "metadata": {
        "id": "cTvoD8EFk74b",
        "outputId": "d404dc6f-b642-415e-ac0c-c82adc42d0f8",
        "colab": {
          "base_uri": "https://localhost:8080/",
          "height": 277
        }
      },
      "source": [
        "print(classification_report(y_test,y_previsto))"
      ],
      "execution_count": 66,
      "outputs": [
        {
          "output_type": "stream",
          "text": [
            "/usr/local/lib/python3.6/dist-packages/sklearn/metrics/_classification.py:1272: UndefinedMetricWarning: Precision and F-score are ill-defined and being set to 0.0 in labels with no predicted samples. Use `zero_division` parameter to control this behavior.\n",
            "  _warn_prf(average, modifier, msg_start, len(result))\n"
          ],
          "name": "stderr"
        },
        {
          "output_type": "stream",
          "text": [
            "              precision    recall  f1-score   support\n",
            "\n",
            "           A       0.00      0.00      0.00       642\n",
            "           B       0.38      0.21      0.27      3047\n",
            "           C       0.00      0.00      0.00      3086\n",
            "           D       0.52      0.86      0.64     15663\n",
            "           E       0.49      0.21      0.30      9407\n",
            "\n",
            "    accuracy                           0.51     31845\n",
            "   macro avg       0.28      0.26      0.24     31845\n",
            "weighted avg       0.44      0.51      0.43     31845\n",
            "\n"
          ],
          "name": "stdout"
        }
      ]
    },
    {
      "cell_type": "markdown",
      "metadata": {
        "id": "V3kgW4qLlNVH"
      },
      "source": [
        "Conseguimos ver que o algoritmo se confunde bastante nos dados, e que a classe social não é o único fator que impacta as notas dos inscritos no ENEM de 2019. Vamos analisar outras variáveis com relação a renda:"
      ]
    },
    {
      "cell_type": "markdown",
      "metadata": {
        "id": "cuHZSTUbq4z3"
      },
      "source": [
        "## **Fazendo cruzamento da Renda com outros campos relevantes do nosso dataset**"
      ]
    },
    {
      "cell_type": "markdown",
      "metadata": {
        "id": "PZdyTf6trBZQ"
      },
      "source": [
        "### Status de Conclusão do Ensino Médio"
      ]
    },
    {
      "cell_type": "code",
      "metadata": {
        "id": "8q7KLAZblAma",
        "outputId": "f4b1fea5-a8d0-45a3-e2c7-c2ac2f29b0ea",
        "colab": {
          "base_uri": "https://localhost:8080/",
          "height": 86
        }
      },
      "source": [
        "#conclusão do ensino médio\n",
        "conclusao"
      ],
      "execution_count": 71,
      "outputs": [
        {
          "output_type": "execute_result",
          "data": {
            "text/plain": [
              "{1: 'ensino médio concluído',\n",
              " 2: 'cursando, conclusão em 2019',\n",
              " 3: 'cursando, conclusão após 2019',\n",
              " 4: 'ensino médio não concluído e não cursando'}"
            ]
          },
          "metadata": {
            "tags": []
          },
          "execution_count": 71
        }
      ]
    },
    {
      "cell_type": "code",
      "metadata": {
        "id": "EZzMkJj3mrYM",
        "outputId": "1dde2cc0-4971-411c-846a-07cd5354fb90",
        "colab": {
          "base_uri": "https://localhost:8080/",
          "height": 251
        }
      },
      "source": [
        "\n",
        "#tabela cruzada entre renda social e conclusão do ensino médio pela média do total da nota\n",
        "cross = pd.crosstab(index=dados['CLASSE_SOCIAL_FAMILIAR'], columns=dados['TP_ST_CONCLUSAO'].replace(conclusao),\n",
        "            aggfunc='mean', values=dados['NU_NOTA_TOTAL']).round(2)\n",
        "cross\n",
        "            "
      ],
      "execution_count": 86,
      "outputs": [
        {
          "output_type": "execute_result",
          "data": {
            "text/html": [
              "<div>\n",
              "<style scoped>\n",
              "    .dataframe tbody tr th:only-of-type {\n",
              "        vertical-align: middle;\n",
              "    }\n",
              "\n",
              "    .dataframe tbody tr th {\n",
              "        vertical-align: top;\n",
              "    }\n",
              "\n",
              "    .dataframe thead th {\n",
              "        text-align: right;\n",
              "    }\n",
              "</style>\n",
              "<table border=\"1\" class=\"dataframe\">\n",
              "  <thead>\n",
              "    <tr style=\"text-align: right;\">\n",
              "      <th>TP_ST_CONCLUSAO</th>\n",
              "      <th>cursando, conclusão após 2019</th>\n",
              "      <th>cursando, conclusão em 2019</th>\n",
              "      <th>ensino médio concluído</th>\n",
              "      <th>ensino médio não concluído e não cursando</th>\n",
              "    </tr>\n",
              "    <tr>\n",
              "      <th>CLASSE_SOCIAL_FAMILIAR</th>\n",
              "      <th></th>\n",
              "      <th></th>\n",
              "      <th></th>\n",
              "      <th></th>\n",
              "    </tr>\n",
              "  </thead>\n",
              "  <tbody>\n",
              "    <tr>\n",
              "      <th>E</th>\n",
              "      <td>1976.29</td>\n",
              "      <td>1935.68</td>\n",
              "      <td>1622.12</td>\n",
              "      <td>1000.39</td>\n",
              "    </tr>\n",
              "    <tr>\n",
              "      <th>D</th>\n",
              "      <td>2282.05</td>\n",
              "      <td>2171.62</td>\n",
              "      <td>1713.31</td>\n",
              "      <td>1310.49</td>\n",
              "    </tr>\n",
              "    <tr>\n",
              "      <th>C</th>\n",
              "      <td>2556.35</td>\n",
              "      <td>2545.90</td>\n",
              "      <td>2040.77</td>\n",
              "      <td>1788.51</td>\n",
              "    </tr>\n",
              "    <tr>\n",
              "      <th>B</th>\n",
              "      <td>2666.96</td>\n",
              "      <td>2776.23</td>\n",
              "      <td>2245.70</td>\n",
              "      <td>2164.83</td>\n",
              "    </tr>\n",
              "    <tr>\n",
              "      <th>A</th>\n",
              "      <td>2767.26</td>\n",
              "      <td>2993.97</td>\n",
              "      <td>2226.75</td>\n",
              "      <td>2115.59</td>\n",
              "    </tr>\n",
              "  </tbody>\n",
              "</table>\n",
              "</div>"
            ],
            "text/plain": [
              "TP_ST_CONCLUSAO         cursando, conclusão após 2019  ...  ensino médio não concluído e não cursando\n",
              "CLASSE_SOCIAL_FAMILIAR                                 ...                                           \n",
              "E                                             1976.29  ...                                    1000.39\n",
              "D                                             2282.05  ...                                    1310.49\n",
              "C                                             2556.35  ...                                    1788.51\n",
              "B                                             2666.96  ...                                    2164.83\n",
              "A                                             2767.26  ...                                    2115.59\n",
              "\n",
              "[5 rows x 4 columns]"
            ]
          },
          "metadata": {
            "tags": []
          },
          "execution_count": 86
        }
      ]
    },
    {
      "cell_type": "markdown",
      "metadata": {
        "id": "qKm_LFUjpn83"
      },
      "source": [
        "Conseguimos ver claramente que situação de conclusão do ensino médio também é um fator importante na nota total dos inscritos do ENEM, mas podemos perceber que em todas as situações de conclusão a média continua aumentando de acordo com a classe social. Interessante visualizar no entanto que, independentemente de classe social, a prova favorece os inscritos que estão cursando o ensino médio no ano em que o inscrito presta o exame."
      ]
    },
    {
      "cell_type": "markdown",
      "metadata": {
        "id": "C3fa2nScrGw4"
      },
      "source": [
        "### Por Tipo de Escola"
      ]
    },
    {
      "cell_type": "code",
      "metadata": {
        "id": "gH4AlxLOoeyZ",
        "outputId": "19b04f86-a2bc-459b-dad4-7c1127d91df9",
        "colab": {
          "base_uri": "https://localhost:8080/",
          "height": 34
        }
      },
      "source": [
        "tipo_escola"
      ],
      "execution_count": 80,
      "outputs": [
        {
          "output_type": "execute_result",
          "data": {
            "text/plain": [
              "{1: 'sem resposta', 2: 'pública', 3: 'privada', 4: 'exterior'}"
            ]
          },
          "metadata": {
            "tags": []
          },
          "execution_count": 80
        }
      ]
    },
    {
      "cell_type": "code",
      "metadata": {
        "id": "6OJYQbPgrke2",
        "outputId": "3dc231a6-2927-4a91-80e0-8b45f3f80261",
        "colab": {
          "base_uri": "https://localhost:8080/",
          "height": 234
        }
      },
      "source": [
        "#tabela cruzada entre classe social e Tipo de Escola (Pública ou Privada) pela média do total da nota\n",
        "pd.crosstab(index=dados['CLASSE_SOCIAL_FAMILIAR'], columns=dados['TP_ESCOLA'].replace(tipo_escola),\n",
        "            aggfunc='mean', values=dados['NU_NOTA_TOTAL']).round(2)"
      ],
      "execution_count": 81,
      "outputs": [
        {
          "output_type": "execute_result",
          "data": {
            "text/html": [
              "<div>\n",
              "<style scoped>\n",
              "    .dataframe tbody tr th:only-of-type {\n",
              "        vertical-align: middle;\n",
              "    }\n",
              "\n",
              "    .dataframe tbody tr th {\n",
              "        vertical-align: top;\n",
              "    }\n",
              "\n",
              "    .dataframe thead th {\n",
              "        text-align: right;\n",
              "    }\n",
              "</style>\n",
              "<table border=\"1\" class=\"dataframe\">\n",
              "  <thead>\n",
              "    <tr style=\"text-align: right;\">\n",
              "      <th>TP_ESCOLA</th>\n",
              "      <th>privada</th>\n",
              "      <th>pública</th>\n",
              "      <th>sem resposta</th>\n",
              "    </tr>\n",
              "    <tr>\n",
              "      <th>CLASSE_SOCIAL_FAMILIAR</th>\n",
              "      <th></th>\n",
              "      <th></th>\n",
              "      <th></th>\n",
              "    </tr>\n",
              "  </thead>\n",
              "  <tbody>\n",
              "    <tr>\n",
              "      <th>E</th>\n",
              "      <td>2593.50</td>\n",
              "      <td>1920.03</td>\n",
              "      <td>1667.22</td>\n",
              "    </tr>\n",
              "    <tr>\n",
              "      <th>D</th>\n",
              "      <td>2749.57</td>\n",
              "      <td>2114.42</td>\n",
              "      <td>1784.59</td>\n",
              "    </tr>\n",
              "    <tr>\n",
              "      <th>C</th>\n",
              "      <td>2866.82</td>\n",
              "      <td>2432.65</td>\n",
              "      <td>2160.29</td>\n",
              "    </tr>\n",
              "    <tr>\n",
              "      <th>B</th>\n",
              "      <td>2955.86</td>\n",
              "      <td>2567.38</td>\n",
              "      <td>2394.57</td>\n",
              "    </tr>\n",
              "    <tr>\n",
              "      <th>A</th>\n",
              "      <td>3042.65</td>\n",
              "      <td>2647.40</td>\n",
              "      <td>2503.90</td>\n",
              "    </tr>\n",
              "  </tbody>\n",
              "</table>\n",
              "</div>"
            ],
            "text/plain": [
              "TP_ESCOLA               privada  pública  sem resposta\n",
              "CLASSE_SOCIAL_FAMILIAR                                \n",
              "E                       2593.50  1920.03       1667.22\n",
              "D                       2749.57  2114.42       1784.59\n",
              "C                       2866.82  2432.65       2160.29\n",
              "B                       2955.86  2567.38       2394.57\n",
              "A                       3042.65  2647.40       2503.90"
            ]
          },
          "metadata": {
            "tags": []
          },
          "execution_count": 81
        }
      ]
    },
    {
      "cell_type": "markdown",
      "metadata": {
        "id": "wSWSaF9YryQl"
      },
      "source": [
        "A média da nota total aumenta drasticamente entre os alunos de escola privada, o que sustenta a importância deste fator em nosso estudo, aqui vale a pena verificar a quantidade de alunos de cada classe social em cada tipo de escola, o que faremos abaixo"
      ]
    },
    {
      "cell_type": "code",
      "metadata": {
        "id": "0zWsDHa3sK1F",
        "outputId": "299c3797-ae48-42c3-b732-fa4c6fafaa56",
        "colab": {
          "base_uri": "https://localhost:8080/",
          "height": 234
        }
      },
      "source": [
        "#tabela cruzada entre classe social e Tipo de Escola (Pública ou Privada) pela média do total da nota\n",
        "pd.crosstab(index=dados['CLASSE_SOCIAL_FAMILIAR'], columns=dados['TP_ESCOLA'].replace(tipo_escola)).round(2)"
      ],
      "execution_count": 82,
      "outputs": [
        {
          "output_type": "execute_result",
          "data": {
            "text/html": [
              "<div>\n",
              "<style scoped>\n",
              "    .dataframe tbody tr th:only-of-type {\n",
              "        vertical-align: middle;\n",
              "    }\n",
              "\n",
              "    .dataframe tbody tr th {\n",
              "        vertical-align: top;\n",
              "    }\n",
              "\n",
              "    .dataframe thead th {\n",
              "        text-align: right;\n",
              "    }\n",
              "</style>\n",
              "<table border=\"1\" class=\"dataframe\">\n",
              "  <thead>\n",
              "    <tr style=\"text-align: right;\">\n",
              "      <th>TP_ESCOLA</th>\n",
              "      <th>privada</th>\n",
              "      <th>pública</th>\n",
              "      <th>sem resposta</th>\n",
              "    </tr>\n",
              "    <tr>\n",
              "      <th>CLASSE_SOCIAL_FAMILIAR</th>\n",
              "      <th></th>\n",
              "      <th></th>\n",
              "      <th></th>\n",
              "    </tr>\n",
              "  </thead>\n",
              "  <tbody>\n",
              "    <tr>\n",
              "      <th>E</th>\n",
              "      <td>260</td>\n",
              "      <td>10933</td>\n",
              "      <td>26437</td>\n",
              "    </tr>\n",
              "    <tr>\n",
              "      <th>D</th>\n",
              "      <td>1536</td>\n",
              "      <td>15521</td>\n",
              "      <td>45595</td>\n",
              "    </tr>\n",
              "    <tr>\n",
              "      <th>C</th>\n",
              "      <td>962</td>\n",
              "      <td>2726</td>\n",
              "      <td>8655</td>\n",
              "    </tr>\n",
              "    <tr>\n",
              "      <th>B</th>\n",
              "      <td>2051</td>\n",
              "      <td>1764</td>\n",
              "      <td>8372</td>\n",
              "    </tr>\n",
              "    <tr>\n",
              "      <th>A</th>\n",
              "      <td>719</td>\n",
              "      <td>101</td>\n",
              "      <td>1748</td>\n",
              "    </tr>\n",
              "  </tbody>\n",
              "</table>\n",
              "</div>"
            ],
            "text/plain": [
              "TP_ESCOLA               privada  pública  sem resposta\n",
              "CLASSE_SOCIAL_FAMILIAR                                \n",
              "E                           260    10933         26437\n",
              "D                          1536    15521         45595\n",
              "C                           962     2726          8655\n",
              "B                          2051     1764          8372\n",
              "A                           719      101          1748"
            ]
          },
          "metadata": {
            "tags": []
          },
          "execution_count": 82
        }
      ]
    },
    {
      "cell_type": "markdown",
      "metadata": {
        "id": "CVCduDkfsG9o"
      },
      "source": [
        "podemos ver claramente que a proporção de alunos em escola privada aumenta de acordo com a classe social do inscrito, o que parece ser um fator"
      ]
    },
    {
      "cell_type": "markdown",
      "metadata": {
        "id": "kYuo30nOrMUx"
      },
      "source": [
        "### Por Localização da Escola"
      ]
    },
    {
      "cell_type": "code",
      "metadata": {
        "id": "I7il8OVbudQc",
        "outputId": "5ddbf1a6-f775-416b-aea7-d742906c973b",
        "colab": {
          "base_uri": "https://localhost:8080/",
          "height": 34
        }
      },
      "source": [
        "localizacao_escola"
      ],
      "execution_count": 94,
      "outputs": [
        {
          "output_type": "execute_result",
          "data": {
            "text/plain": [
              "{1: 'urbana', 2: 'rural'}"
            ]
          },
          "metadata": {
            "tags": []
          },
          "execution_count": 94
        }
      ]
    },
    {
      "cell_type": "code",
      "metadata": {
        "id": "XAdCkshIrLjC",
        "outputId": "579cd4d1-9fa2-42ca-f8c5-40771f18e889",
        "colab": {
          "base_uri": "https://localhost:8080/",
          "height": 264
        }
      },
      "source": [
        "#tabela cruzada entre classe social e localização da Escola (Rural ou Urbana) pela média do total da nota\n",
        "pd.crosstab(index=dados['CLASSE_SOCIAL_FAMILIAR'], columns=dados['TP_LOCALIZACAO_ESC'].replace(localizacao_escola),\n",
        "            aggfunc={'mean'}, values=dados['NU_NOTA_TOTAL']).round(2)"
      ],
      "execution_count": 100,
      "outputs": [
        {
          "output_type": "execute_result",
          "data": {
            "text/html": [
              "<div>\n",
              "<style scoped>\n",
              "    .dataframe tbody tr th:only-of-type {\n",
              "        vertical-align: middle;\n",
              "    }\n",
              "\n",
              "    .dataframe tbody tr th {\n",
              "        vertical-align: top;\n",
              "    }\n",
              "\n",
              "    .dataframe thead tr th {\n",
              "        text-align: left;\n",
              "    }\n",
              "\n",
              "    .dataframe thead tr:last-of-type th {\n",
              "        text-align: right;\n",
              "    }\n",
              "</style>\n",
              "<table border=\"1\" class=\"dataframe\">\n",
              "  <thead>\n",
              "    <tr>\n",
              "      <th></th>\n",
              "      <th colspan=\"2\" halign=\"left\">mean</th>\n",
              "    </tr>\n",
              "    <tr>\n",
              "      <th>TP_LOCALIZACAO_ESC</th>\n",
              "      <th>rural</th>\n",
              "      <th>urbana</th>\n",
              "    </tr>\n",
              "    <tr>\n",
              "      <th>CLASSE_SOCIAL_FAMILIAR</th>\n",
              "      <th></th>\n",
              "      <th></th>\n",
              "    </tr>\n",
              "  </thead>\n",
              "  <tbody>\n",
              "    <tr>\n",
              "      <th>E</th>\n",
              "      <td>1814.60</td>\n",
              "      <td>1956.47</td>\n",
              "    </tr>\n",
              "    <tr>\n",
              "      <th>D</th>\n",
              "      <td>2123.35</td>\n",
              "      <td>2185.91</td>\n",
              "    </tr>\n",
              "    <tr>\n",
              "      <th>C</th>\n",
              "      <td>2464.67</td>\n",
              "      <td>2558.64</td>\n",
              "    </tr>\n",
              "    <tr>\n",
              "      <th>B</th>\n",
              "      <td>2702.63</td>\n",
              "      <td>2800.05</td>\n",
              "    </tr>\n",
              "    <tr>\n",
              "      <th>A</th>\n",
              "      <td>NaN</td>\n",
              "      <td>3082.69</td>\n",
              "    </tr>\n",
              "  </tbody>\n",
              "</table>\n",
              "</div>"
            ],
            "text/plain": [
              "                           mean         \n",
              "TP_LOCALIZACAO_ESC        rural   urbana\n",
              "CLASSE_SOCIAL_FAMILIAR                  \n",
              "E                       1814.60  1956.47\n",
              "D                       2123.35  2185.91\n",
              "C                       2464.67  2558.64\n",
              "B                       2702.63  2800.05\n",
              "A                           NaN  3082.69"
            ]
          },
          "metadata": {
            "tags": []
          },
          "execution_count": 100
        }
      ]
    },
    {
      "cell_type": "code",
      "metadata": {
        "id": "ZTSvE_f2uqBe",
        "outputId": "ce9b6362-cb6a-4b49-aaf8-166f6fdaa732",
        "colab": {
          "base_uri": "https://localhost:8080/",
          "height": 234
        }
      },
      "source": [
        "pd.crosstab(index=dados['CLASSE_SOCIAL_FAMILIAR'], columns=dados['TP_LOCALIZACAO_ESC'].replace(localizacao_escola)).round(2)"
      ],
      "execution_count": 96,
      "outputs": [
        {
          "output_type": "execute_result",
          "data": {
            "text/html": [
              "<div>\n",
              "<style scoped>\n",
              "    .dataframe tbody tr th:only-of-type {\n",
              "        vertical-align: middle;\n",
              "    }\n",
              "\n",
              "    .dataframe tbody tr th {\n",
              "        vertical-align: top;\n",
              "    }\n",
              "\n",
              "    .dataframe thead th {\n",
              "        text-align: right;\n",
              "    }\n",
              "</style>\n",
              "<table border=\"1\" class=\"dataframe\">\n",
              "  <thead>\n",
              "    <tr style=\"text-align: right;\">\n",
              "      <th>TP_LOCALIZACAO_ESC</th>\n",
              "      <th>rural</th>\n",
              "      <th>urbana</th>\n",
              "    </tr>\n",
              "    <tr>\n",
              "      <th>CLASSE_SOCIAL_FAMILIAR</th>\n",
              "      <th></th>\n",
              "      <th></th>\n",
              "    </tr>\n",
              "  </thead>\n",
              "  <tbody>\n",
              "    <tr>\n",
              "      <th>E</th>\n",
              "      <td>521</td>\n",
              "      <td>8699</td>\n",
              "    </tr>\n",
              "    <tr>\n",
              "      <th>D</th>\n",
              "      <td>394</td>\n",
              "      <td>13003</td>\n",
              "    </tr>\n",
              "    <tr>\n",
              "      <th>C</th>\n",
              "      <td>54</td>\n",
              "      <td>2714</td>\n",
              "    </tr>\n",
              "    <tr>\n",
              "      <th>B</th>\n",
              "      <td>34</td>\n",
              "      <td>2623</td>\n",
              "    </tr>\n",
              "    <tr>\n",
              "      <th>A</th>\n",
              "      <td>0</td>\n",
              "      <td>585</td>\n",
              "    </tr>\n",
              "  </tbody>\n",
              "</table>\n",
              "</div>"
            ],
            "text/plain": [
              "TP_LOCALIZACAO_ESC      rural  urbana\n",
              "CLASSE_SOCIAL_FAMILIAR               \n",
              "E                         521    8699\n",
              "D                         394   13003\n",
              "C                          54    2714\n",
              "B                          34    2623\n",
              "A                           0     585"
            ]
          },
          "metadata": {
            "tags": []
          },
          "execution_count": 96
        }
      ]
    },
    {
      "cell_type": "markdown",
      "metadata": {
        "id": "QtMGkPBRuxQt"
      },
      "source": [
        "Vemos que apesar de exercer uma influência nas notas de 2019, a diferença é bem menos significativa que nos demais itens, no entanto vale a reflexão de que os números das escolas localizadas em zona rural são bem pequenos para tomarmos alguma decisão com base nesta amostra"
      ]
    },
    {
      "cell_type": "markdown",
      "metadata": {
        "id": "wSQK8TF5rZZa"
      },
      "source": [
        "### Por Idioma Estrangeiro Escolhido"
      ]
    },
    {
      "cell_type": "code",
      "metadata": {
        "id": "ZtZPLSa8v0jq",
        "outputId": "d5e2a0a4-5b8c-4bbd-ed77-51db29b2e8e5",
        "colab": {
          "base_uri": "https://localhost:8080/",
          "height": 34
        }
      },
      "source": [
        "idioma_estrangeiro"
      ],
      "execution_count": 101,
      "outputs": [
        {
          "output_type": "execute_result",
          "data": {
            "text/plain": [
              "{0: 'inglês', 1: 'espanhol'}"
            ]
          },
          "metadata": {
            "tags": []
          },
          "execution_count": 101
        }
      ]
    },
    {
      "cell_type": "code",
      "metadata": {
        "id": "nmd-oygQrbwg",
        "outputId": "47157ab0-9ad6-41fc-912f-0e48acf02b8f",
        "colab": {
          "base_uri": "https://localhost:8080/",
          "height": 264
        }
      },
      "source": [
        "#tabela cruzada entre classe social e o idioma escolhido pelo inscrito para a prova de língua estrangeira\n",
        "#pela média do total da nota\n",
        "pd.crosstab(index=dados['CLASSE_SOCIAL_FAMILIAR'], columns=dados['TP_LINGUA'].replace(idioma_estrangeiro),\n",
        "            aggfunc={'mean'}, values=dados['NU_NOTA_TOTAL']).round(2)"
      ],
      "execution_count": 102,
      "outputs": [
        {
          "output_type": "execute_result",
          "data": {
            "text/html": [
              "<div>\n",
              "<style scoped>\n",
              "    .dataframe tbody tr th:only-of-type {\n",
              "        vertical-align: middle;\n",
              "    }\n",
              "\n",
              "    .dataframe tbody tr th {\n",
              "        vertical-align: top;\n",
              "    }\n",
              "\n",
              "    .dataframe thead tr th {\n",
              "        text-align: left;\n",
              "    }\n",
              "\n",
              "    .dataframe thead tr:last-of-type th {\n",
              "        text-align: right;\n",
              "    }\n",
              "</style>\n",
              "<table border=\"1\" class=\"dataframe\">\n",
              "  <thead>\n",
              "    <tr>\n",
              "      <th></th>\n",
              "      <th colspan=\"2\" halign=\"left\">mean</th>\n",
              "    </tr>\n",
              "    <tr>\n",
              "      <th>TP_LINGUA</th>\n",
              "      <th>espanhol</th>\n",
              "      <th>inglês</th>\n",
              "    </tr>\n",
              "    <tr>\n",
              "      <th>CLASSE_SOCIAL_FAMILIAR</th>\n",
              "      <th></th>\n",
              "      <th></th>\n",
              "    </tr>\n",
              "  </thead>\n",
              "  <tbody>\n",
              "    <tr>\n",
              "      <th>E</th>\n",
              "      <td>1700.63</td>\n",
              "      <td>1834.49</td>\n",
              "    </tr>\n",
              "    <tr>\n",
              "      <th>D</th>\n",
              "      <td>1787.64</td>\n",
              "      <td>2011.28</td>\n",
              "    </tr>\n",
              "    <tr>\n",
              "      <th>C</th>\n",
              "      <td>2086.35</td>\n",
              "      <td>2395.14</td>\n",
              "    </tr>\n",
              "    <tr>\n",
              "      <th>B</th>\n",
              "      <td>2253.26</td>\n",
              "      <td>2605.65</td>\n",
              "    </tr>\n",
              "    <tr>\n",
              "      <th>A</th>\n",
              "      <td>2178.51</td>\n",
              "      <td>2722.93</td>\n",
              "    </tr>\n",
              "  </tbody>\n",
              "</table>\n",
              "</div>"
            ],
            "text/plain": [
              "                           mean         \n",
              "TP_LINGUA              espanhol   inglês\n",
              "CLASSE_SOCIAL_FAMILIAR                  \n",
              "E                       1700.63  1834.49\n",
              "D                       1787.64  2011.28\n",
              "C                       2086.35  2395.14\n",
              "B                       2253.26  2605.65\n",
              "A                       2178.51  2722.93"
            ]
          },
          "metadata": {
            "tags": []
          },
          "execution_count": 102
        }
      ]
    },
    {
      "cell_type": "markdown",
      "metadata": {
        "id": "LASRQhkuwGgA"
      },
      "source": [
        "Podemos ver que a média da nota total aumenta quando o idioma escolhido é o Inglês."
      ]
    },
    {
      "cell_type": "code",
      "metadata": {
        "id": "_2Uxvl-Gv686",
        "outputId": "bc352bd6-62e9-4127-e8ee-3c52e68af597",
        "colab": {
          "base_uri": "https://localhost:8080/",
          "height": 234
        }
      },
      "source": [
        "#vendo a proporção de inscritos que escolheram inglês e espanhol por classe social\n",
        "pd.crosstab(index=dados['CLASSE_SOCIAL_FAMILIAR'], columns=dados['TP_LINGUA'].replace(idioma_estrangeiro)).round(2)"
      ],
      "execution_count": 104,
      "outputs": [
        {
          "output_type": "execute_result",
          "data": {
            "text/html": [
              "<div>\n",
              "<style scoped>\n",
              "    .dataframe tbody tr th:only-of-type {\n",
              "        vertical-align: middle;\n",
              "    }\n",
              "\n",
              "    .dataframe tbody tr th {\n",
              "        vertical-align: top;\n",
              "    }\n",
              "\n",
              "    .dataframe thead th {\n",
              "        text-align: right;\n",
              "    }\n",
              "</style>\n",
              "<table border=\"1\" class=\"dataframe\">\n",
              "  <thead>\n",
              "    <tr style=\"text-align: right;\">\n",
              "      <th>TP_LINGUA</th>\n",
              "      <th>espanhol</th>\n",
              "      <th>inglês</th>\n",
              "    </tr>\n",
              "    <tr>\n",
              "      <th>CLASSE_SOCIAL_FAMILIAR</th>\n",
              "      <th></th>\n",
              "      <th></th>\n",
              "    </tr>\n",
              "  </thead>\n",
              "  <tbody>\n",
              "    <tr>\n",
              "      <th>E</th>\n",
              "      <td>24575</td>\n",
              "      <td>13055</td>\n",
              "    </tr>\n",
              "    <tr>\n",
              "      <th>D</th>\n",
              "      <td>33989</td>\n",
              "      <td>28663</td>\n",
              "    </tr>\n",
              "    <tr>\n",
              "      <th>C</th>\n",
              "      <td>4782</td>\n",
              "      <td>7561</td>\n",
              "    </tr>\n",
              "    <tr>\n",
              "      <th>B</th>\n",
              "      <td>3168</td>\n",
              "      <td>9019</td>\n",
              "    </tr>\n",
              "    <tr>\n",
              "      <th>A</th>\n",
              "      <td>295</td>\n",
              "      <td>2273</td>\n",
              "    </tr>\n",
              "  </tbody>\n",
              "</table>\n",
              "</div>"
            ],
            "text/plain": [
              "TP_LINGUA               espanhol  inglês\n",
              "CLASSE_SOCIAL_FAMILIAR                  \n",
              "E                          24575   13055\n",
              "D                          33989   28663\n",
              "C                           4782    7561\n",
              "B                           3168    9019\n",
              "A                            295    2273"
            ]
          },
          "metadata": {
            "tags": []
          },
          "execution_count": 104
        }
      ]
    },
    {
      "cell_type": "markdown",
      "metadata": {
        "id": "anhJupnhwvxx"
      },
      "source": [
        "Podemos ver que quanto maior a renda, maior a proporção de alunos que escolhem o inglês, o que pode refletir na nota final"
      ]
    },
    {
      "cell_type": "markdown",
      "metadata": {
        "id": "5Ud8PpL7xbpW"
      },
      "source": [
        "## **Conclusão**"
      ]
    },
    {
      "cell_type": "markdown",
      "metadata": {
        "id": "NB-hOilExge3"
      },
      "source": [
        "Desta análise, concluímos que a classe social do inscrito influencia tanto sua presença no exame, quanto sua nota, o que aumenta o gap social, uma vez que os alunos de renda mais alta tem mais chances de cursar o ensino superior, usando seu desempenho no ENEM."
      ]
    },
    {
      "cell_type": "code",
      "metadata": {
        "id": "jo4je7iNxfwP"
      },
      "source": [
        ""
      ],
      "execution_count": null,
      "outputs": []
    }
  ]
}