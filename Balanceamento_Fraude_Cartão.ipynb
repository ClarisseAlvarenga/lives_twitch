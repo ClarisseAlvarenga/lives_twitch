{
  "nbformat": 4,
  "nbformat_minor": 0,
  "metadata": {
    "colab": {
      "name": "Balanceamento_Fraude_Cartão.ipynb",
      "provenance": [],
      "collapsed_sections": [],
      "toc_visible": true,
      "authorship_tag": "ABX9TyOkdxRvAvgd3xPvMPnuNSz7",
      "include_colab_link": true
    },
    "kernelspec": {
      "name": "python3",
      "display_name": "Python 3"
    },
    "widgets": {
      "application/vnd.jupyter.widget-state+json": {
        "aba17ce553d54dee8671bebb5057e9d0": {
          "model_module": "@jupyter-widgets/controls",
          "model_name": "IntProgressModel",
          "state": {
            "_view_name": "ProgressView",
            "style": "IPY_MODEL_d2a1aeac9eaa4d249c9b3277e96b0819",
            "_dom_classes": [],
            "description": "Processing: ",
            "_model_name": "IntProgressModel",
            "bar_style": "",
            "max": 13,
            "_view_module": "@jupyter-widgets/controls",
            "_model_module_version": "1.5.0",
            "value": 12,
            "_view_count": null,
            "_view_module_version": "1.5.0",
            "orientation": "horizontal",
            "min": 0,
            "description_tooltip": null,
            "_model_module": "@jupyter-widgets/controls",
            "layout": "IPY_MODEL_ee62b8a119a84e2398797af05d53ac9d"
          }
        },
        "d2a1aeac9eaa4d249c9b3277e96b0819": {
          "model_module": "@jupyter-widgets/controls",
          "model_name": "ProgressStyleModel",
          "state": {
            "_view_name": "StyleView",
            "_model_name": "ProgressStyleModel",
            "description_width": "",
            "_view_module": "@jupyter-widgets/base",
            "_model_module_version": "1.5.0",
            "_view_count": null,
            "_view_module_version": "1.2.0",
            "bar_color": null,
            "_model_module": "@jupyter-widgets/controls"
          }
        },
        "ee62b8a119a84e2398797af05d53ac9d": {
          "model_module": "@jupyter-widgets/base",
          "model_name": "LayoutModel",
          "state": {
            "_view_name": "LayoutView",
            "grid_template_rows": null,
            "right": null,
            "justify_content": null,
            "_view_module": "@jupyter-widgets/base",
            "overflow": null,
            "_model_module_version": "1.2.0",
            "_view_count": null,
            "flex_flow": null,
            "width": null,
            "min_width": null,
            "border": null,
            "align_items": null,
            "bottom": null,
            "_model_module": "@jupyter-widgets/base",
            "top": null,
            "grid_column": null,
            "overflow_y": null,
            "overflow_x": null,
            "grid_auto_flow": null,
            "grid_area": null,
            "grid_template_columns": null,
            "flex": null,
            "_model_name": "LayoutModel",
            "justify_items": null,
            "grid_row": null,
            "max_height": null,
            "align_content": null,
            "visibility": null,
            "align_self": null,
            "height": null,
            "min_height": null,
            "padding": null,
            "grid_auto_rows": null,
            "grid_gap": null,
            "max_width": null,
            "order": null,
            "_view_module_version": "1.2.0",
            "grid_template_areas": null,
            "object_position": null,
            "object_fit": null,
            "grid_auto_columns": null,
            "margin": null,
            "display": null,
            "left": null
          }
        },
        "9e3bd3b45dae43edbb3e2036ea6fea18": {
          "model_module": "@jupyter-widgets/controls",
          "model_name": "TextModel",
          "state": {
            "_view_name": "TextView",
            "style": "IPY_MODEL_627d99555506463aa168c40346003322",
            "_dom_classes": [],
            "description": "",
            "_model_name": "TextModel",
            "placeholder": "​",
            "_view_module": "@jupyter-widgets/controls",
            "_model_module_version": "1.5.0",
            "value": "Following data types have been inferred automatically, if they are correct press enter to continue or type 'quit' otherwise.",
            "_view_count": null,
            "disabled": false,
            "_view_module_version": "1.5.0",
            "continuous_update": true,
            "description_tooltip": null,
            "_model_module": "@jupyter-widgets/controls",
            "layout": "IPY_MODEL_83cce00d36424e2aaaaa2f0a67f10ca4"
          }
        },
        "627d99555506463aa168c40346003322": {
          "model_module": "@jupyter-widgets/controls",
          "model_name": "DescriptionStyleModel",
          "state": {
            "_view_name": "StyleView",
            "_model_name": "DescriptionStyleModel",
            "description_width": "",
            "_view_module": "@jupyter-widgets/base",
            "_model_module_version": "1.5.0",
            "_view_count": null,
            "_view_module_version": "1.2.0",
            "_model_module": "@jupyter-widgets/controls"
          }
        },
        "83cce00d36424e2aaaaa2f0a67f10ca4": {
          "model_module": "@jupyter-widgets/base",
          "model_name": "LayoutModel",
          "state": {
            "_view_name": "LayoutView",
            "grid_template_rows": null,
            "right": null,
            "justify_content": null,
            "_view_module": "@jupyter-widgets/base",
            "overflow": null,
            "_model_module_version": "1.2.0",
            "_view_count": null,
            "flex_flow": null,
            "width": "100%",
            "min_width": null,
            "border": null,
            "align_items": null,
            "bottom": null,
            "_model_module": "@jupyter-widgets/base",
            "top": null,
            "grid_column": null,
            "overflow_y": null,
            "overflow_x": null,
            "grid_auto_flow": null,
            "grid_area": null,
            "grid_template_columns": null,
            "flex": null,
            "_model_name": "LayoutModel",
            "justify_items": null,
            "grid_row": null,
            "max_height": null,
            "align_content": null,
            "visibility": null,
            "align_self": null,
            "height": null,
            "min_height": null,
            "padding": null,
            "grid_auto_rows": null,
            "grid_gap": null,
            "max_width": null,
            "order": null,
            "_view_module_version": "1.2.0",
            "grid_template_areas": null,
            "object_position": null,
            "object_fit": null,
            "grid_auto_columns": null,
            "margin": null,
            "display": null,
            "left": null
          }
        },
        "fe3c320fd4204cf0b54921d815d0361c": {
          "model_module": "@jupyter-widgets/controls",
          "model_name": "IntProgressModel",
          "state": {
            "_view_name": "ProgressView",
            "style": "IPY_MODEL_c2a7c9339a014121973f32ae8e8da680",
            "_dom_classes": [],
            "description": "Processing: ",
            "_model_name": "IntProgressModel",
            "bar_style": "",
            "max": 176,
            "_view_module": "@jupyter-widgets/controls",
            "_model_module_version": "1.5.0",
            "value": 172,
            "_view_count": null,
            "_view_module_version": "1.5.0",
            "orientation": "horizontal",
            "min": 0,
            "description_tooltip": null,
            "_model_module": "@jupyter-widgets/controls",
            "layout": "IPY_MODEL_95d5b35227c54c00aba902155f01dbf0"
          }
        },
        "c2a7c9339a014121973f32ae8e8da680": {
          "model_module": "@jupyter-widgets/controls",
          "model_name": "ProgressStyleModel",
          "state": {
            "_view_name": "StyleView",
            "_model_name": "ProgressStyleModel",
            "description_width": "",
            "_view_module": "@jupyter-widgets/base",
            "_model_module_version": "1.5.0",
            "_view_count": null,
            "_view_module_version": "1.2.0",
            "bar_color": null,
            "_model_module": "@jupyter-widgets/controls"
          }
        },
        "95d5b35227c54c00aba902155f01dbf0": {
          "model_module": "@jupyter-widgets/base",
          "model_name": "LayoutModel",
          "state": {
            "_view_name": "LayoutView",
            "grid_template_rows": null,
            "right": null,
            "justify_content": null,
            "_view_module": "@jupyter-widgets/base",
            "overflow": null,
            "_model_module_version": "1.2.0",
            "_view_count": null,
            "flex_flow": null,
            "width": null,
            "min_width": null,
            "border": null,
            "align_items": null,
            "bottom": null,
            "_model_module": "@jupyter-widgets/base",
            "top": null,
            "grid_column": null,
            "overflow_y": null,
            "overflow_x": null,
            "grid_auto_flow": null,
            "grid_area": null,
            "grid_template_columns": null,
            "flex": null,
            "_model_name": "LayoutModel",
            "justify_items": null,
            "grid_row": null,
            "max_height": null,
            "align_content": null,
            "visibility": null,
            "align_self": null,
            "height": null,
            "min_height": null,
            "padding": null,
            "grid_auto_rows": null,
            "grid_gap": null,
            "max_width": null,
            "order": null,
            "_view_module_version": "1.2.0",
            "grid_template_areas": null,
            "object_position": null,
            "object_fit": null,
            "grid_auto_columns": null,
            "margin": null,
            "display": null,
            "left": null
          }
        },
        "cca9459ae1fd44f1bed77a83c83b1196": {
          "model_module": "@jupyter-widgets/controls",
          "model_name": "IntProgressModel",
          "state": {
            "_view_name": "ProgressView",
            "style": "IPY_MODEL_8e3ce09a10124360af0810af095c1292",
            "_dom_classes": [],
            "description": "Processing: ",
            "_model_name": "IntProgressModel",
            "bar_style": "",
            "max": 14,
            "_view_module": "@jupyter-widgets/controls",
            "_model_module_version": "1.5.0",
            "value": 14,
            "_view_count": null,
            "_view_module_version": "1.5.0",
            "orientation": "horizontal",
            "min": 0,
            "description_tooltip": null,
            "_model_module": "@jupyter-widgets/controls",
            "layout": "IPY_MODEL_33d3f12e154a46ef849d6dc0214214f5"
          }
        },
        "8e3ce09a10124360af0810af095c1292": {
          "model_module": "@jupyter-widgets/controls",
          "model_name": "ProgressStyleModel",
          "state": {
            "_view_name": "StyleView",
            "_model_name": "ProgressStyleModel",
            "description_width": "",
            "_view_module": "@jupyter-widgets/base",
            "_model_module_version": "1.5.0",
            "_view_count": null,
            "_view_module_version": "1.2.0",
            "bar_color": null,
            "_model_module": "@jupyter-widgets/controls"
          }
        },
        "33d3f12e154a46ef849d6dc0214214f5": {
          "model_module": "@jupyter-widgets/base",
          "model_name": "LayoutModel",
          "state": {
            "_view_name": "LayoutView",
            "grid_template_rows": null,
            "right": null,
            "justify_content": null,
            "_view_module": "@jupyter-widgets/base",
            "overflow": null,
            "_model_module_version": "1.2.0",
            "_view_count": null,
            "flex_flow": null,
            "width": null,
            "min_width": null,
            "border": null,
            "align_items": null,
            "bottom": null,
            "_model_module": "@jupyter-widgets/base",
            "top": null,
            "grid_column": null,
            "overflow_y": null,
            "overflow_x": null,
            "grid_auto_flow": null,
            "grid_area": null,
            "grid_template_columns": null,
            "flex": null,
            "_model_name": "LayoutModel",
            "justify_items": null,
            "grid_row": null,
            "max_height": null,
            "align_content": null,
            "visibility": null,
            "align_self": null,
            "height": null,
            "min_height": null,
            "padding": null,
            "grid_auto_rows": null,
            "grid_gap": null,
            "max_width": null,
            "order": null,
            "_view_module_version": "1.2.0",
            "grid_template_areas": null,
            "object_position": null,
            "object_fit": null,
            "grid_auto_columns": null,
            "margin": null,
            "display": null,
            "left": null
          }
        },
        "38f47ca6967d43d0adf0f8ab5763a644": {
          "model_module": "@jupyter-widgets/controls",
          "model_name": "IntProgressModel",
          "state": {
            "_view_name": "ProgressView",
            "style": "IPY_MODEL_c9b845d031254d8ab822b9b35d8a9eeb",
            "_dom_classes": [],
            "description": "Processing: ",
            "_model_name": "IntProgressModel",
            "bar_style": "",
            "max": 16,
            "_view_module": "@jupyter-widgets/controls",
            "_model_module_version": "1.5.0",
            "value": 16,
            "_view_count": null,
            "_view_module_version": "1.5.0",
            "orientation": "horizontal",
            "min": 0,
            "description_tooltip": null,
            "_model_module": "@jupyter-widgets/controls",
            "layout": "IPY_MODEL_81efc50c19b04296bbafa3d29b34ed36"
          }
        },
        "c9b845d031254d8ab822b9b35d8a9eeb": {
          "model_module": "@jupyter-widgets/controls",
          "model_name": "ProgressStyleModel",
          "state": {
            "_view_name": "StyleView",
            "_model_name": "ProgressStyleModel",
            "description_width": "",
            "_view_module": "@jupyter-widgets/base",
            "_model_module_version": "1.5.0",
            "_view_count": null,
            "_view_module_version": "1.2.0",
            "bar_color": null,
            "_model_module": "@jupyter-widgets/controls"
          }
        },
        "81efc50c19b04296bbafa3d29b34ed36": {
          "model_module": "@jupyter-widgets/base",
          "model_name": "LayoutModel",
          "state": {
            "_view_name": "LayoutView",
            "grid_template_rows": null,
            "right": null,
            "justify_content": null,
            "_view_module": "@jupyter-widgets/base",
            "overflow": null,
            "_model_module_version": "1.2.0",
            "_view_count": null,
            "flex_flow": null,
            "width": null,
            "min_width": null,
            "border": null,
            "align_items": null,
            "bottom": null,
            "_model_module": "@jupyter-widgets/base",
            "top": null,
            "grid_column": null,
            "overflow_y": null,
            "overflow_x": null,
            "grid_auto_flow": null,
            "grid_area": null,
            "grid_template_columns": null,
            "flex": null,
            "_model_name": "LayoutModel",
            "justify_items": null,
            "grid_row": null,
            "max_height": null,
            "align_content": null,
            "visibility": null,
            "align_self": null,
            "height": null,
            "min_height": null,
            "padding": null,
            "grid_auto_rows": null,
            "grid_gap": null,
            "max_width": null,
            "order": null,
            "_view_module_version": "1.2.0",
            "grid_template_areas": null,
            "object_position": null,
            "object_fit": null,
            "grid_auto_columns": null,
            "margin": null,
            "display": null,
            "left": null
          }
        },
        "c0879f6106df4ea69bcbe1033e72c934": {
          "model_module": "@jupyter-widgets/controls",
          "model_name": "HBoxModel",
          "state": {
            "_view_name": "HBoxView",
            "_dom_classes": [],
            "_model_name": "HBoxModel",
            "_view_module": "@jupyter-widgets/controls",
            "_model_module_version": "1.5.0",
            "_view_count": null,
            "_view_module_version": "1.5.0",
            "box_style": "",
            "layout": "IPY_MODEL_648c36aa606c459b8eca0b3a33dcb7c7",
            "_model_module": "@jupyter-widgets/controls",
            "children": [
              "IPY_MODEL_f474cef8fed44b2fa734def2740da1ed",
              "IPY_MODEL_6b200963c6b742cbb6aae877396920d8"
            ]
          }
        },
        "648c36aa606c459b8eca0b3a33dcb7c7": {
          "model_module": "@jupyter-widgets/base",
          "model_name": "LayoutModel",
          "state": {
            "_view_name": "LayoutView",
            "grid_template_rows": null,
            "right": null,
            "justify_content": null,
            "_view_module": "@jupyter-widgets/base",
            "overflow": null,
            "_model_module_version": "1.2.0",
            "_view_count": null,
            "flex_flow": null,
            "width": null,
            "min_width": null,
            "border": null,
            "align_items": null,
            "bottom": null,
            "_model_module": "@jupyter-widgets/base",
            "top": null,
            "grid_column": null,
            "overflow_y": null,
            "overflow_x": null,
            "grid_auto_flow": null,
            "grid_area": null,
            "grid_template_columns": null,
            "flex": null,
            "_model_name": "LayoutModel",
            "justify_items": null,
            "grid_row": null,
            "max_height": null,
            "align_content": null,
            "visibility": null,
            "align_self": null,
            "height": null,
            "min_height": null,
            "padding": null,
            "grid_auto_rows": null,
            "grid_gap": null,
            "max_width": null,
            "order": null,
            "_view_module_version": "1.2.0",
            "grid_template_areas": null,
            "object_position": null,
            "object_fit": null,
            "grid_auto_columns": null,
            "margin": null,
            "display": null,
            "left": null
          }
        },
        "f474cef8fed44b2fa734def2740da1ed": {
          "model_module": "@jupyter-widgets/controls",
          "model_name": "FloatProgressModel",
          "state": {
            "_view_name": "ProgressView",
            "style": "IPY_MODEL_0d5ef0fe07e9444281e8df7aeb7ab418",
            "_dom_classes": [],
            "description": "Optimization Progress: ",
            "_model_name": "FloatProgressModel",
            "bar_style": "",
            "max": 200,
            "_view_module": "@jupyter-widgets/controls",
            "_model_module_version": "1.5.0",
            "value": 200,
            "_view_count": null,
            "_view_module_version": "1.5.0",
            "orientation": "horizontal",
            "min": 0,
            "description_tooltip": null,
            "_model_module": "@jupyter-widgets/controls",
            "layout": "IPY_MODEL_cd92458198fe40829f444fff8cb35728"
          }
        },
        "6b200963c6b742cbb6aae877396920d8": {
          "model_module": "@jupyter-widgets/controls",
          "model_name": "HTMLModel",
          "state": {
            "_view_name": "HTMLView",
            "style": "IPY_MODEL_1575674ebd5e4f16a5dd0fc6eecf6c19",
            "_dom_classes": [],
            "description": "",
            "_model_name": "HTMLModel",
            "placeholder": "​",
            "_view_module": "@jupyter-widgets/controls",
            "_model_module_version": "1.5.0",
            "value": " 257/? [8:11:38&lt;00:00, 158.43s/pipeline]",
            "_view_count": null,
            "_view_module_version": "1.5.0",
            "description_tooltip": null,
            "_model_module": "@jupyter-widgets/controls",
            "layout": "IPY_MODEL_b0b767baccfd48a2ab95840599fac049"
          }
        },
        "0d5ef0fe07e9444281e8df7aeb7ab418": {
          "model_module": "@jupyter-widgets/controls",
          "model_name": "ProgressStyleModel",
          "state": {
            "_view_name": "StyleView",
            "_model_name": "ProgressStyleModel",
            "description_width": "initial",
            "_view_module": "@jupyter-widgets/base",
            "_model_module_version": "1.5.0",
            "_view_count": null,
            "_view_module_version": "1.2.0",
            "bar_color": null,
            "_model_module": "@jupyter-widgets/controls"
          }
        },
        "cd92458198fe40829f444fff8cb35728": {
          "model_module": "@jupyter-widgets/base",
          "model_name": "LayoutModel",
          "state": {
            "_view_name": "LayoutView",
            "grid_template_rows": null,
            "right": null,
            "justify_content": null,
            "_view_module": "@jupyter-widgets/base",
            "overflow": null,
            "_model_module_version": "1.2.0",
            "_view_count": null,
            "flex_flow": null,
            "width": null,
            "min_width": null,
            "border": null,
            "align_items": null,
            "bottom": null,
            "_model_module": "@jupyter-widgets/base",
            "top": null,
            "grid_column": null,
            "overflow_y": null,
            "overflow_x": null,
            "grid_auto_flow": null,
            "grid_area": null,
            "grid_template_columns": null,
            "flex": null,
            "_model_name": "LayoutModel",
            "justify_items": null,
            "grid_row": null,
            "max_height": null,
            "align_content": null,
            "visibility": null,
            "align_self": null,
            "height": null,
            "min_height": null,
            "padding": null,
            "grid_auto_rows": null,
            "grid_gap": null,
            "max_width": null,
            "order": null,
            "_view_module_version": "1.2.0",
            "grid_template_areas": null,
            "object_position": null,
            "object_fit": null,
            "grid_auto_columns": null,
            "margin": null,
            "display": null,
            "left": null
          }
        },
        "1575674ebd5e4f16a5dd0fc6eecf6c19": {
          "model_module": "@jupyter-widgets/controls",
          "model_name": "DescriptionStyleModel",
          "state": {
            "_view_name": "StyleView",
            "_model_name": "DescriptionStyleModel",
            "description_width": "",
            "_view_module": "@jupyter-widgets/base",
            "_model_module_version": "1.5.0",
            "_view_count": null,
            "_view_module_version": "1.2.0",
            "_model_module": "@jupyter-widgets/controls"
          }
        },
        "b0b767baccfd48a2ab95840599fac049": {
          "model_module": "@jupyter-widgets/base",
          "model_name": "LayoutModel",
          "state": {
            "_view_name": "LayoutView",
            "grid_template_rows": null,
            "right": null,
            "justify_content": null,
            "_view_module": "@jupyter-widgets/base",
            "overflow": null,
            "_model_module_version": "1.2.0",
            "_view_count": null,
            "flex_flow": null,
            "width": null,
            "min_width": null,
            "border": null,
            "align_items": null,
            "bottom": null,
            "_model_module": "@jupyter-widgets/base",
            "top": null,
            "grid_column": null,
            "overflow_y": null,
            "overflow_x": null,
            "grid_auto_flow": null,
            "grid_area": null,
            "grid_template_columns": null,
            "flex": null,
            "_model_name": "LayoutModel",
            "justify_items": null,
            "grid_row": null,
            "max_height": null,
            "align_content": null,
            "visibility": null,
            "align_self": null,
            "height": null,
            "min_height": null,
            "padding": null,
            "grid_auto_rows": null,
            "grid_gap": null,
            "max_width": null,
            "order": null,
            "_view_module_version": "1.2.0",
            "grid_template_areas": null,
            "object_position": null,
            "object_fit": null,
            "grid_auto_columns": null,
            "margin": null,
            "display": null,
            "left": null
          }
        }
      }
    }
  },
  "cells": [
    {
      "cell_type": "markdown",
      "metadata": {
        "id": "view-in-github",
        "colab_type": "text"
      },
      "source": [
        "<a href=\"https://colab.research.google.com/github/ClarisseAlvarenga/lives_twitch/blob/master/Balanceamento_Fraude_Cart%C3%A3o.ipynb\" target=\"_parent\"><img src=\"https://colab.research.google.com/assets/colab-badge.svg\" alt=\"Open In Colab\"/></a>"
      ]
    },
    {
      "cell_type": "markdown",
      "metadata": {
        "id": "BDfSInXAhHs5"
      },
      "source": [
        "# CARREGAR OS DADOS"
      ]
    },
    {
      "cell_type": "markdown",
      "metadata": {
        "id": "ARGuqtbeiAga"
      },
      "source": [
        "Usamos o dataset https://www.kaggle.com/mlg-ulb/creditcardfraud"
      ]
    },
    {
      "cell_type": "markdown",
      "metadata": {
        "id": "Ejt5VZu7iFRt"
      },
      "source": [
        "### Importando nossas bibliotecas"
      ]
    },
    {
      "cell_type": "code",
      "metadata": {
        "id": "yggQI0qkMo3r"
      },
      "source": [
        "#!pip install pycaret"
      ],
      "execution_count": 4,
      "outputs": []
    },
    {
      "cell_type": "code",
      "metadata": {
        "id": "YGJ4mASGL0Tk"
      },
      "source": [
        "#!pip install tpot"
      ],
      "execution_count": 5,
      "outputs": []
    },
    {
      "cell_type": "code",
      "metadata": {
        "id": "FqXOIJn91zCu"
      },
      "source": [
        "#!pip install shap"
      ],
      "execution_count": 6,
      "outputs": []
    },
    {
      "cell_type": "code",
      "metadata": {
        "id": "og9pJKS7Pptd"
      },
      "source": [
        "import pandas as pd\n",
        "import numpy as np\n",
        "import matplotlib.pyplot as plt\n",
        "import seaborn as sns\n",
        "from sklearn.tree import DecisionTreeClassifier\n",
        "from imblearn.over_sampling import RandomOverSampler"
      ],
      "execution_count": 7,
      "outputs": []
    },
    {
      "cell_type": "code",
      "metadata": {
        "id": "F7NnRSx3j_bW"
      },
      "source": [
        "from sklearn.metrics import RocCurveDisplay, confusion_matrix, classification_report, accuracy_score, auc"
      ],
      "execution_count": 8,
      "outputs": []
    },
    {
      "cell_type": "markdown",
      "metadata": {
        "id": "2q7XuvofhLH-"
      },
      "source": [
        "# VISUALIZAR OS DADOS"
      ]
    },
    {
      "cell_type": "code",
      "metadata": {
        "id": "xAG0QKAihNvq"
      },
      "source": [
        "#lendo os dados\n",
        "dados = pd.read_csv('creditcard.csv')"
      ],
      "execution_count": 9,
      "outputs": []
    },
    {
      "cell_type": "code",
      "metadata": {
        "id": "VjJeIvfnlTDK",
        "outputId": "04d95f61-e84b-4467-cd53-7c1b22296bbb",
        "colab": {
          "base_uri": "https://localhost:8080/",
          "height": 224
        }
      },
      "source": [
        "#visualizando as primeiras linhas\n",
        "dados.head()"
      ],
      "execution_count": 10,
      "outputs": [
        {
          "output_type": "execute_result",
          "data": {
            "text/html": [
              "<div>\n",
              "<style scoped>\n",
              "    .dataframe tbody tr th:only-of-type {\n",
              "        vertical-align: middle;\n",
              "    }\n",
              "\n",
              "    .dataframe tbody tr th {\n",
              "        vertical-align: top;\n",
              "    }\n",
              "\n",
              "    .dataframe thead th {\n",
              "        text-align: right;\n",
              "    }\n",
              "</style>\n",
              "<table border=\"1\" class=\"dataframe\">\n",
              "  <thead>\n",
              "    <tr style=\"text-align: right;\">\n",
              "      <th></th>\n",
              "      <th>Time</th>\n",
              "      <th>V1</th>\n",
              "      <th>V2</th>\n",
              "      <th>V3</th>\n",
              "      <th>V4</th>\n",
              "      <th>V5</th>\n",
              "      <th>V6</th>\n",
              "      <th>V7</th>\n",
              "      <th>V8</th>\n",
              "      <th>V9</th>\n",
              "      <th>V10</th>\n",
              "      <th>V11</th>\n",
              "      <th>V12</th>\n",
              "      <th>V13</th>\n",
              "      <th>V14</th>\n",
              "      <th>V15</th>\n",
              "      <th>V16</th>\n",
              "      <th>V17</th>\n",
              "      <th>V18</th>\n",
              "      <th>V19</th>\n",
              "      <th>V20</th>\n",
              "      <th>V21</th>\n",
              "      <th>V22</th>\n",
              "      <th>V23</th>\n",
              "      <th>V24</th>\n",
              "      <th>V25</th>\n",
              "      <th>V26</th>\n",
              "      <th>V27</th>\n",
              "      <th>V28</th>\n",
              "      <th>Amount</th>\n",
              "      <th>Class</th>\n",
              "    </tr>\n",
              "  </thead>\n",
              "  <tbody>\n",
              "    <tr>\n",
              "      <th>0</th>\n",
              "      <td>0.0</td>\n",
              "      <td>-1.359807</td>\n",
              "      <td>-0.072781</td>\n",
              "      <td>2.536347</td>\n",
              "      <td>1.378155</td>\n",
              "      <td>-0.338321</td>\n",
              "      <td>0.462388</td>\n",
              "      <td>0.239599</td>\n",
              "      <td>0.098698</td>\n",
              "      <td>0.363787</td>\n",
              "      <td>0.090794</td>\n",
              "      <td>-0.551600</td>\n",
              "      <td>-0.617801</td>\n",
              "      <td>-0.991390</td>\n",
              "      <td>-0.311169</td>\n",
              "      <td>1.468177</td>\n",
              "      <td>-0.470401</td>\n",
              "      <td>0.207971</td>\n",
              "      <td>0.025791</td>\n",
              "      <td>0.403993</td>\n",
              "      <td>0.251412</td>\n",
              "      <td>-0.018307</td>\n",
              "      <td>0.277838</td>\n",
              "      <td>-0.110474</td>\n",
              "      <td>0.066928</td>\n",
              "      <td>0.128539</td>\n",
              "      <td>-0.189115</td>\n",
              "      <td>0.133558</td>\n",
              "      <td>-0.021053</td>\n",
              "      <td>149.62</td>\n",
              "      <td>0</td>\n",
              "    </tr>\n",
              "    <tr>\n",
              "      <th>1</th>\n",
              "      <td>0.0</td>\n",
              "      <td>1.191857</td>\n",
              "      <td>0.266151</td>\n",
              "      <td>0.166480</td>\n",
              "      <td>0.448154</td>\n",
              "      <td>0.060018</td>\n",
              "      <td>-0.082361</td>\n",
              "      <td>-0.078803</td>\n",
              "      <td>0.085102</td>\n",
              "      <td>-0.255425</td>\n",
              "      <td>-0.166974</td>\n",
              "      <td>1.612727</td>\n",
              "      <td>1.065235</td>\n",
              "      <td>0.489095</td>\n",
              "      <td>-0.143772</td>\n",
              "      <td>0.635558</td>\n",
              "      <td>0.463917</td>\n",
              "      <td>-0.114805</td>\n",
              "      <td>-0.183361</td>\n",
              "      <td>-0.145783</td>\n",
              "      <td>-0.069083</td>\n",
              "      <td>-0.225775</td>\n",
              "      <td>-0.638672</td>\n",
              "      <td>0.101288</td>\n",
              "      <td>-0.339846</td>\n",
              "      <td>0.167170</td>\n",
              "      <td>0.125895</td>\n",
              "      <td>-0.008983</td>\n",
              "      <td>0.014724</td>\n",
              "      <td>2.69</td>\n",
              "      <td>0</td>\n",
              "    </tr>\n",
              "    <tr>\n",
              "      <th>2</th>\n",
              "      <td>1.0</td>\n",
              "      <td>-1.358354</td>\n",
              "      <td>-1.340163</td>\n",
              "      <td>1.773209</td>\n",
              "      <td>0.379780</td>\n",
              "      <td>-0.503198</td>\n",
              "      <td>1.800499</td>\n",
              "      <td>0.791461</td>\n",
              "      <td>0.247676</td>\n",
              "      <td>-1.514654</td>\n",
              "      <td>0.207643</td>\n",
              "      <td>0.624501</td>\n",
              "      <td>0.066084</td>\n",
              "      <td>0.717293</td>\n",
              "      <td>-0.165946</td>\n",
              "      <td>2.345865</td>\n",
              "      <td>-2.890083</td>\n",
              "      <td>1.109969</td>\n",
              "      <td>-0.121359</td>\n",
              "      <td>-2.261857</td>\n",
              "      <td>0.524980</td>\n",
              "      <td>0.247998</td>\n",
              "      <td>0.771679</td>\n",
              "      <td>0.909412</td>\n",
              "      <td>-0.689281</td>\n",
              "      <td>-0.327642</td>\n",
              "      <td>-0.139097</td>\n",
              "      <td>-0.055353</td>\n",
              "      <td>-0.059752</td>\n",
              "      <td>378.66</td>\n",
              "      <td>0</td>\n",
              "    </tr>\n",
              "    <tr>\n",
              "      <th>3</th>\n",
              "      <td>1.0</td>\n",
              "      <td>-0.966272</td>\n",
              "      <td>-0.185226</td>\n",
              "      <td>1.792993</td>\n",
              "      <td>-0.863291</td>\n",
              "      <td>-0.010309</td>\n",
              "      <td>1.247203</td>\n",
              "      <td>0.237609</td>\n",
              "      <td>0.377436</td>\n",
              "      <td>-1.387024</td>\n",
              "      <td>-0.054952</td>\n",
              "      <td>-0.226487</td>\n",
              "      <td>0.178228</td>\n",
              "      <td>0.507757</td>\n",
              "      <td>-0.287924</td>\n",
              "      <td>-0.631418</td>\n",
              "      <td>-1.059647</td>\n",
              "      <td>-0.684093</td>\n",
              "      <td>1.965775</td>\n",
              "      <td>-1.232622</td>\n",
              "      <td>-0.208038</td>\n",
              "      <td>-0.108300</td>\n",
              "      <td>0.005274</td>\n",
              "      <td>-0.190321</td>\n",
              "      <td>-1.175575</td>\n",
              "      <td>0.647376</td>\n",
              "      <td>-0.221929</td>\n",
              "      <td>0.062723</td>\n",
              "      <td>0.061458</td>\n",
              "      <td>123.50</td>\n",
              "      <td>0</td>\n",
              "    </tr>\n",
              "    <tr>\n",
              "      <th>4</th>\n",
              "      <td>2.0</td>\n",
              "      <td>-1.158233</td>\n",
              "      <td>0.877737</td>\n",
              "      <td>1.548718</td>\n",
              "      <td>0.403034</td>\n",
              "      <td>-0.407193</td>\n",
              "      <td>0.095921</td>\n",
              "      <td>0.592941</td>\n",
              "      <td>-0.270533</td>\n",
              "      <td>0.817739</td>\n",
              "      <td>0.753074</td>\n",
              "      <td>-0.822843</td>\n",
              "      <td>0.538196</td>\n",
              "      <td>1.345852</td>\n",
              "      <td>-1.119670</td>\n",
              "      <td>0.175121</td>\n",
              "      <td>-0.451449</td>\n",
              "      <td>-0.237033</td>\n",
              "      <td>-0.038195</td>\n",
              "      <td>0.803487</td>\n",
              "      <td>0.408542</td>\n",
              "      <td>-0.009431</td>\n",
              "      <td>0.798278</td>\n",
              "      <td>-0.137458</td>\n",
              "      <td>0.141267</td>\n",
              "      <td>-0.206010</td>\n",
              "      <td>0.502292</td>\n",
              "      <td>0.219422</td>\n",
              "      <td>0.215153</td>\n",
              "      <td>69.99</td>\n",
              "      <td>0</td>\n",
              "    </tr>\n",
              "  </tbody>\n",
              "</table>\n",
              "</div>"
            ],
            "text/plain": [
              "   Time        V1        V2        V3  ...       V27       V28  Amount  Class\n",
              "0   0.0 -1.359807 -0.072781  2.536347  ...  0.133558 -0.021053  149.62      0\n",
              "1   0.0  1.191857  0.266151  0.166480  ... -0.008983  0.014724    2.69      0\n",
              "2   1.0 -1.358354 -1.340163  1.773209  ... -0.055353 -0.059752  378.66      0\n",
              "3   1.0 -0.966272 -0.185226  1.792993  ...  0.062723  0.061458  123.50      0\n",
              "4   2.0 -1.158233  0.877737  1.548718  ...  0.219422  0.215153   69.99      0\n",
              "\n",
              "[5 rows x 31 columns]"
            ]
          },
          "metadata": {
            "tags": []
          },
          "execution_count": 10
        }
      ]
    },
    {
      "cell_type": "code",
      "metadata": {
        "id": "qU7otYHMlTMZ"
      },
      "source": [
        "#visualizando o tamanho do dataset\n",
        "linhas,colunas = dados.shape\n"
      ],
      "execution_count": 11,
      "outputs": []
    },
    {
      "cell_type": "code",
      "metadata": {
        "id": "PPX3dFO0lTTr",
        "outputId": "07cbb1c4-f10b-4e4c-cc0b-33df90050974",
        "colab": {
          "base_uri": "https://localhost:8080/",
          "height": 51
        }
      },
      "source": [
        "print(linhas)\n",
        "print(colunas)"
      ],
      "execution_count": 12,
      "outputs": [
        {
          "output_type": "stream",
          "text": [
            "284807\n",
            "31\n"
          ],
          "name": "stdout"
        }
      ]
    },
    {
      "cell_type": "code",
      "metadata": {
        "id": "z_wqLpQBlTaT",
        "outputId": "3e586c9d-a0a4-4673-d385-45ad78883acd",
        "colab": {
          "base_uri": "https://localhost:8080/",
          "height": 663
        }
      },
      "source": [
        "#equivalente ao str() no R - info\n",
        "dados.info()"
      ],
      "execution_count": 13,
      "outputs": [
        {
          "output_type": "stream",
          "text": [
            "<class 'pandas.core.frame.DataFrame'>\n",
            "RangeIndex: 284807 entries, 0 to 284806\n",
            "Data columns (total 31 columns):\n",
            " #   Column  Non-Null Count   Dtype  \n",
            "---  ------  --------------   -----  \n",
            " 0   Time    284807 non-null  float64\n",
            " 1   V1      284807 non-null  float64\n",
            " 2   V2      284807 non-null  float64\n",
            " 3   V3      284807 non-null  float64\n",
            " 4   V4      284807 non-null  float64\n",
            " 5   V5      284807 non-null  float64\n",
            " 6   V6      284807 non-null  float64\n",
            " 7   V7      284807 non-null  float64\n",
            " 8   V8      284807 non-null  float64\n",
            " 9   V9      284807 non-null  float64\n",
            " 10  V10     284807 non-null  float64\n",
            " 11  V11     284807 non-null  float64\n",
            " 12  V12     284807 non-null  float64\n",
            " 13  V13     284807 non-null  float64\n",
            " 14  V14     284807 non-null  float64\n",
            " 15  V15     284807 non-null  float64\n",
            " 16  V16     284807 non-null  float64\n",
            " 17  V17     284807 non-null  float64\n",
            " 18  V18     284807 non-null  float64\n",
            " 19  V19     284807 non-null  float64\n",
            " 20  V20     284807 non-null  float64\n",
            " 21  V21     284807 non-null  float64\n",
            " 22  V22     284807 non-null  float64\n",
            " 23  V23     284807 non-null  float64\n",
            " 24  V24     284807 non-null  float64\n",
            " 25  V25     284807 non-null  float64\n",
            " 26  V26     284807 non-null  float64\n",
            " 27  V27     284807 non-null  float64\n",
            " 28  V28     284807 non-null  float64\n",
            " 29  Amount  284807 non-null  float64\n",
            " 30  Class   284807 non-null  int64  \n",
            "dtypes: float64(30), int64(1)\n",
            "memory usage: 67.4 MB\n"
          ],
          "name": "stdout"
        }
      ]
    },
    {
      "cell_type": "code",
      "metadata": {
        "id": "wYclkM46lTRt",
        "outputId": "2cafe322-5f41-41bb-b8ca-79deb3fab055",
        "colab": {
          "base_uri": "https://localhost:8080/",
          "height": 317
        }
      },
      "source": [
        "#equivalente ao summary() no R - describe()\n",
        "dados.describe()"
      ],
      "execution_count": 14,
      "outputs": [
        {
          "output_type": "execute_result",
          "data": {
            "text/html": [
              "<div>\n",
              "<style scoped>\n",
              "    .dataframe tbody tr th:only-of-type {\n",
              "        vertical-align: middle;\n",
              "    }\n",
              "\n",
              "    .dataframe tbody tr th {\n",
              "        vertical-align: top;\n",
              "    }\n",
              "\n",
              "    .dataframe thead th {\n",
              "        text-align: right;\n",
              "    }\n",
              "</style>\n",
              "<table border=\"1\" class=\"dataframe\">\n",
              "  <thead>\n",
              "    <tr style=\"text-align: right;\">\n",
              "      <th></th>\n",
              "      <th>Time</th>\n",
              "      <th>V1</th>\n",
              "      <th>V2</th>\n",
              "      <th>V3</th>\n",
              "      <th>V4</th>\n",
              "      <th>V5</th>\n",
              "      <th>V6</th>\n",
              "      <th>V7</th>\n",
              "      <th>V8</th>\n",
              "      <th>V9</th>\n",
              "      <th>V10</th>\n",
              "      <th>V11</th>\n",
              "      <th>V12</th>\n",
              "      <th>V13</th>\n",
              "      <th>V14</th>\n",
              "      <th>V15</th>\n",
              "      <th>V16</th>\n",
              "      <th>V17</th>\n",
              "      <th>V18</th>\n",
              "      <th>V19</th>\n",
              "      <th>V20</th>\n",
              "      <th>V21</th>\n",
              "      <th>V22</th>\n",
              "      <th>V23</th>\n",
              "      <th>V24</th>\n",
              "      <th>V25</th>\n",
              "      <th>V26</th>\n",
              "      <th>V27</th>\n",
              "      <th>V28</th>\n",
              "      <th>Amount</th>\n",
              "      <th>Class</th>\n",
              "    </tr>\n",
              "  </thead>\n",
              "  <tbody>\n",
              "    <tr>\n",
              "      <th>count</th>\n",
              "      <td>284807.000000</td>\n",
              "      <td>2.848070e+05</td>\n",
              "      <td>2.848070e+05</td>\n",
              "      <td>2.848070e+05</td>\n",
              "      <td>2.848070e+05</td>\n",
              "      <td>2.848070e+05</td>\n",
              "      <td>2.848070e+05</td>\n",
              "      <td>2.848070e+05</td>\n",
              "      <td>2.848070e+05</td>\n",
              "      <td>2.848070e+05</td>\n",
              "      <td>2.848070e+05</td>\n",
              "      <td>2.848070e+05</td>\n",
              "      <td>2.848070e+05</td>\n",
              "      <td>2.848070e+05</td>\n",
              "      <td>2.848070e+05</td>\n",
              "      <td>2.848070e+05</td>\n",
              "      <td>2.848070e+05</td>\n",
              "      <td>2.848070e+05</td>\n",
              "      <td>2.848070e+05</td>\n",
              "      <td>2.848070e+05</td>\n",
              "      <td>2.848070e+05</td>\n",
              "      <td>2.848070e+05</td>\n",
              "      <td>2.848070e+05</td>\n",
              "      <td>2.848070e+05</td>\n",
              "      <td>2.848070e+05</td>\n",
              "      <td>2.848070e+05</td>\n",
              "      <td>2.848070e+05</td>\n",
              "      <td>2.848070e+05</td>\n",
              "      <td>2.848070e+05</td>\n",
              "      <td>284807.000000</td>\n",
              "      <td>284807.000000</td>\n",
              "    </tr>\n",
              "    <tr>\n",
              "      <th>mean</th>\n",
              "      <td>94813.859575</td>\n",
              "      <td>3.919560e-15</td>\n",
              "      <td>5.688174e-16</td>\n",
              "      <td>-8.769071e-15</td>\n",
              "      <td>2.782312e-15</td>\n",
              "      <td>-1.552563e-15</td>\n",
              "      <td>2.010663e-15</td>\n",
              "      <td>-1.694249e-15</td>\n",
              "      <td>-1.927028e-16</td>\n",
              "      <td>-3.137024e-15</td>\n",
              "      <td>1.768627e-15</td>\n",
              "      <td>9.170318e-16</td>\n",
              "      <td>-1.810658e-15</td>\n",
              "      <td>1.693438e-15</td>\n",
              "      <td>1.479045e-15</td>\n",
              "      <td>3.482336e-15</td>\n",
              "      <td>1.392007e-15</td>\n",
              "      <td>-7.528491e-16</td>\n",
              "      <td>4.328772e-16</td>\n",
              "      <td>9.049732e-16</td>\n",
              "      <td>5.085503e-16</td>\n",
              "      <td>1.537294e-16</td>\n",
              "      <td>7.959909e-16</td>\n",
              "      <td>5.367590e-16</td>\n",
              "      <td>4.458112e-15</td>\n",
              "      <td>1.453003e-15</td>\n",
              "      <td>1.699104e-15</td>\n",
              "      <td>-3.660161e-16</td>\n",
              "      <td>-1.206049e-16</td>\n",
              "      <td>88.349619</td>\n",
              "      <td>0.001727</td>\n",
              "    </tr>\n",
              "    <tr>\n",
              "      <th>std</th>\n",
              "      <td>47488.145955</td>\n",
              "      <td>1.958696e+00</td>\n",
              "      <td>1.651309e+00</td>\n",
              "      <td>1.516255e+00</td>\n",
              "      <td>1.415869e+00</td>\n",
              "      <td>1.380247e+00</td>\n",
              "      <td>1.332271e+00</td>\n",
              "      <td>1.237094e+00</td>\n",
              "      <td>1.194353e+00</td>\n",
              "      <td>1.098632e+00</td>\n",
              "      <td>1.088850e+00</td>\n",
              "      <td>1.020713e+00</td>\n",
              "      <td>9.992014e-01</td>\n",
              "      <td>9.952742e-01</td>\n",
              "      <td>9.585956e-01</td>\n",
              "      <td>9.153160e-01</td>\n",
              "      <td>8.762529e-01</td>\n",
              "      <td>8.493371e-01</td>\n",
              "      <td>8.381762e-01</td>\n",
              "      <td>8.140405e-01</td>\n",
              "      <td>7.709250e-01</td>\n",
              "      <td>7.345240e-01</td>\n",
              "      <td>7.257016e-01</td>\n",
              "      <td>6.244603e-01</td>\n",
              "      <td>6.056471e-01</td>\n",
              "      <td>5.212781e-01</td>\n",
              "      <td>4.822270e-01</td>\n",
              "      <td>4.036325e-01</td>\n",
              "      <td>3.300833e-01</td>\n",
              "      <td>250.120109</td>\n",
              "      <td>0.041527</td>\n",
              "    </tr>\n",
              "    <tr>\n",
              "      <th>min</th>\n",
              "      <td>0.000000</td>\n",
              "      <td>-5.640751e+01</td>\n",
              "      <td>-7.271573e+01</td>\n",
              "      <td>-4.832559e+01</td>\n",
              "      <td>-5.683171e+00</td>\n",
              "      <td>-1.137433e+02</td>\n",
              "      <td>-2.616051e+01</td>\n",
              "      <td>-4.355724e+01</td>\n",
              "      <td>-7.321672e+01</td>\n",
              "      <td>-1.343407e+01</td>\n",
              "      <td>-2.458826e+01</td>\n",
              "      <td>-4.797473e+00</td>\n",
              "      <td>-1.868371e+01</td>\n",
              "      <td>-5.791881e+00</td>\n",
              "      <td>-1.921433e+01</td>\n",
              "      <td>-4.498945e+00</td>\n",
              "      <td>-1.412985e+01</td>\n",
              "      <td>-2.516280e+01</td>\n",
              "      <td>-9.498746e+00</td>\n",
              "      <td>-7.213527e+00</td>\n",
              "      <td>-5.449772e+01</td>\n",
              "      <td>-3.483038e+01</td>\n",
              "      <td>-1.093314e+01</td>\n",
              "      <td>-4.480774e+01</td>\n",
              "      <td>-2.836627e+00</td>\n",
              "      <td>-1.029540e+01</td>\n",
              "      <td>-2.604551e+00</td>\n",
              "      <td>-2.256568e+01</td>\n",
              "      <td>-1.543008e+01</td>\n",
              "      <td>0.000000</td>\n",
              "      <td>0.000000</td>\n",
              "    </tr>\n",
              "    <tr>\n",
              "      <th>25%</th>\n",
              "      <td>54201.500000</td>\n",
              "      <td>-9.203734e-01</td>\n",
              "      <td>-5.985499e-01</td>\n",
              "      <td>-8.903648e-01</td>\n",
              "      <td>-8.486401e-01</td>\n",
              "      <td>-6.915971e-01</td>\n",
              "      <td>-7.682956e-01</td>\n",
              "      <td>-5.540759e-01</td>\n",
              "      <td>-2.086297e-01</td>\n",
              "      <td>-6.430976e-01</td>\n",
              "      <td>-5.354257e-01</td>\n",
              "      <td>-7.624942e-01</td>\n",
              "      <td>-4.055715e-01</td>\n",
              "      <td>-6.485393e-01</td>\n",
              "      <td>-4.255740e-01</td>\n",
              "      <td>-5.828843e-01</td>\n",
              "      <td>-4.680368e-01</td>\n",
              "      <td>-4.837483e-01</td>\n",
              "      <td>-4.988498e-01</td>\n",
              "      <td>-4.562989e-01</td>\n",
              "      <td>-2.117214e-01</td>\n",
              "      <td>-2.283949e-01</td>\n",
              "      <td>-5.423504e-01</td>\n",
              "      <td>-1.618463e-01</td>\n",
              "      <td>-3.545861e-01</td>\n",
              "      <td>-3.171451e-01</td>\n",
              "      <td>-3.269839e-01</td>\n",
              "      <td>-7.083953e-02</td>\n",
              "      <td>-5.295979e-02</td>\n",
              "      <td>5.600000</td>\n",
              "      <td>0.000000</td>\n",
              "    </tr>\n",
              "    <tr>\n",
              "      <th>50%</th>\n",
              "      <td>84692.000000</td>\n",
              "      <td>1.810880e-02</td>\n",
              "      <td>6.548556e-02</td>\n",
              "      <td>1.798463e-01</td>\n",
              "      <td>-1.984653e-02</td>\n",
              "      <td>-5.433583e-02</td>\n",
              "      <td>-2.741871e-01</td>\n",
              "      <td>4.010308e-02</td>\n",
              "      <td>2.235804e-02</td>\n",
              "      <td>-5.142873e-02</td>\n",
              "      <td>-9.291738e-02</td>\n",
              "      <td>-3.275735e-02</td>\n",
              "      <td>1.400326e-01</td>\n",
              "      <td>-1.356806e-02</td>\n",
              "      <td>5.060132e-02</td>\n",
              "      <td>4.807155e-02</td>\n",
              "      <td>6.641332e-02</td>\n",
              "      <td>-6.567575e-02</td>\n",
              "      <td>-3.636312e-03</td>\n",
              "      <td>3.734823e-03</td>\n",
              "      <td>-6.248109e-02</td>\n",
              "      <td>-2.945017e-02</td>\n",
              "      <td>6.781943e-03</td>\n",
              "      <td>-1.119293e-02</td>\n",
              "      <td>4.097606e-02</td>\n",
              "      <td>1.659350e-02</td>\n",
              "      <td>-5.213911e-02</td>\n",
              "      <td>1.342146e-03</td>\n",
              "      <td>1.124383e-02</td>\n",
              "      <td>22.000000</td>\n",
              "      <td>0.000000</td>\n",
              "    </tr>\n",
              "    <tr>\n",
              "      <th>75%</th>\n",
              "      <td>139320.500000</td>\n",
              "      <td>1.315642e+00</td>\n",
              "      <td>8.037239e-01</td>\n",
              "      <td>1.027196e+00</td>\n",
              "      <td>7.433413e-01</td>\n",
              "      <td>6.119264e-01</td>\n",
              "      <td>3.985649e-01</td>\n",
              "      <td>5.704361e-01</td>\n",
              "      <td>3.273459e-01</td>\n",
              "      <td>5.971390e-01</td>\n",
              "      <td>4.539234e-01</td>\n",
              "      <td>7.395934e-01</td>\n",
              "      <td>6.182380e-01</td>\n",
              "      <td>6.625050e-01</td>\n",
              "      <td>4.931498e-01</td>\n",
              "      <td>6.488208e-01</td>\n",
              "      <td>5.232963e-01</td>\n",
              "      <td>3.996750e-01</td>\n",
              "      <td>5.008067e-01</td>\n",
              "      <td>4.589494e-01</td>\n",
              "      <td>1.330408e-01</td>\n",
              "      <td>1.863772e-01</td>\n",
              "      <td>5.285536e-01</td>\n",
              "      <td>1.476421e-01</td>\n",
              "      <td>4.395266e-01</td>\n",
              "      <td>3.507156e-01</td>\n",
              "      <td>2.409522e-01</td>\n",
              "      <td>9.104512e-02</td>\n",
              "      <td>7.827995e-02</td>\n",
              "      <td>77.165000</td>\n",
              "      <td>0.000000</td>\n",
              "    </tr>\n",
              "    <tr>\n",
              "      <th>max</th>\n",
              "      <td>172792.000000</td>\n",
              "      <td>2.454930e+00</td>\n",
              "      <td>2.205773e+01</td>\n",
              "      <td>9.382558e+00</td>\n",
              "      <td>1.687534e+01</td>\n",
              "      <td>3.480167e+01</td>\n",
              "      <td>7.330163e+01</td>\n",
              "      <td>1.205895e+02</td>\n",
              "      <td>2.000721e+01</td>\n",
              "      <td>1.559499e+01</td>\n",
              "      <td>2.374514e+01</td>\n",
              "      <td>1.201891e+01</td>\n",
              "      <td>7.848392e+00</td>\n",
              "      <td>7.126883e+00</td>\n",
              "      <td>1.052677e+01</td>\n",
              "      <td>8.877742e+00</td>\n",
              "      <td>1.731511e+01</td>\n",
              "      <td>9.253526e+00</td>\n",
              "      <td>5.041069e+00</td>\n",
              "      <td>5.591971e+00</td>\n",
              "      <td>3.942090e+01</td>\n",
              "      <td>2.720284e+01</td>\n",
              "      <td>1.050309e+01</td>\n",
              "      <td>2.252841e+01</td>\n",
              "      <td>4.584549e+00</td>\n",
              "      <td>7.519589e+00</td>\n",
              "      <td>3.517346e+00</td>\n",
              "      <td>3.161220e+01</td>\n",
              "      <td>3.384781e+01</td>\n",
              "      <td>25691.160000</td>\n",
              "      <td>1.000000</td>\n",
              "    </tr>\n",
              "  </tbody>\n",
              "</table>\n",
              "</div>"
            ],
            "text/plain": [
              "                Time            V1  ...         Amount          Class\n",
              "count  284807.000000  2.848070e+05  ...  284807.000000  284807.000000\n",
              "mean    94813.859575  3.919560e-15  ...      88.349619       0.001727\n",
              "std     47488.145955  1.958696e+00  ...     250.120109       0.041527\n",
              "min         0.000000 -5.640751e+01  ...       0.000000       0.000000\n",
              "25%     54201.500000 -9.203734e-01  ...       5.600000       0.000000\n",
              "50%     84692.000000  1.810880e-02  ...      22.000000       0.000000\n",
              "75%    139320.500000  1.315642e+00  ...      77.165000       0.000000\n",
              "max    172792.000000  2.454930e+00  ...   25691.160000       1.000000\n",
              "\n",
              "[8 rows x 31 columns]"
            ]
          },
          "metadata": {
            "tags": []
          },
          "execution_count": 14
        }
      ]
    },
    {
      "cell_type": "markdown",
      "metadata": {
        "id": "khbuJeAqhOhg"
      },
      "source": [
        "# VERIFICAR OS NULOS"
      ]
    },
    {
      "cell_type": "code",
      "metadata": {
        "id": "26tiIC0HhRkp",
        "outputId": "1624df02-1719-41f2-acaa-bbbc44e2e71d",
        "colab": {
          "base_uri": "https://localhost:8080/",
          "height": 561
        }
      },
      "source": [
        "dados.isna().sum() # ele traz por coluna"
      ],
      "execution_count": 15,
      "outputs": [
        {
          "output_type": "execute_result",
          "data": {
            "text/plain": [
              "Time      0\n",
              "V1        0\n",
              "V2        0\n",
              "V3        0\n",
              "V4        0\n",
              "V5        0\n",
              "V6        0\n",
              "V7        0\n",
              "V8        0\n",
              "V9        0\n",
              "V10       0\n",
              "V11       0\n",
              "V12       0\n",
              "V13       0\n",
              "V14       0\n",
              "V15       0\n",
              "V16       0\n",
              "V17       0\n",
              "V18       0\n",
              "V19       0\n",
              "V20       0\n",
              "V21       0\n",
              "V22       0\n",
              "V23       0\n",
              "V24       0\n",
              "V25       0\n",
              "V26       0\n",
              "V27       0\n",
              "V28       0\n",
              "Amount    0\n",
              "Class     0\n",
              "dtype: int64"
            ]
          },
          "metadata": {
            "tags": []
          },
          "execution_count": 15
        }
      ]
    },
    {
      "cell_type": "code",
      "metadata": {
        "id": "Hbefa16gmScL",
        "outputId": "058d6fca-5a09-4155-b9a4-6ba53fa10c8b",
        "colab": {
          "base_uri": "https://localhost:8080/",
          "height": 34
        }
      },
      "source": [
        "dados.isna().sum().sum() # traz o total de nulos  no dataset"
      ],
      "execution_count": 16,
      "outputs": [
        {
          "output_type": "execute_result",
          "data": {
            "text/plain": [
              "0"
            ]
          },
          "metadata": {
            "tags": []
          },
          "execution_count": 16
        }
      ]
    },
    {
      "cell_type": "markdown",
      "metadata": {
        "id": "rEyWefJphS9k"
      },
      "source": [
        "# DISTRIBUIÇÃO DE CLASSE"
      ]
    },
    {
      "cell_type": "code",
      "metadata": {
        "id": "GepkLwlLhWTo",
        "outputId": "820a5846-25d2-472b-e35c-bbe4dd85190b",
        "colab": {
          "base_uri": "https://localhost:8080/",
          "height": 68
        }
      },
      "source": [
        "#numérica\n",
        "dados.Class.value_counts()"
      ],
      "execution_count": 17,
      "outputs": [
        {
          "output_type": "execute_result",
          "data": {
            "text/plain": [
              "0    284315\n",
              "1       492\n",
              "Name: Class, dtype: int64"
            ]
          },
          "metadata": {
            "tags": []
          },
          "execution_count": 17
        }
      ]
    },
    {
      "cell_type": "code",
      "metadata": {
        "id": "bF06lveTmcnf",
        "outputId": "382cc750-5bd9-4c1e-c29e-f2997e92ec5e",
        "colab": {
          "base_uri": "https://localhost:8080/",
          "height": 68
        }
      },
      "source": [
        "#porcentagem\n",
        "dados.Class.value_counts(normalize=True)*100"
      ],
      "execution_count": 18,
      "outputs": [
        {
          "output_type": "execute_result",
          "data": {
            "text/plain": [
              "0    99.827251\n",
              "1     0.172749\n",
              "Name: Class, dtype: float64"
            ]
          },
          "metadata": {
            "tags": []
          },
          "execution_count": 18
        }
      ]
    },
    {
      "cell_type": "code",
      "metadata": {
        "id": "xCs6VAF0mcyy",
        "outputId": "ca9406f7-448b-4efe-c26a-b37d5eac0e36",
        "colab": {
          "base_uri": "https://localhost:8080/",
          "height": 551
        }
      },
      "source": [
        "#visual\n",
        "plt.figure(figsize=(15,8))\n",
        "sns.countplot(dados.Class);\n",
        "#plt.show()"
      ],
      "execution_count": 19,
      "outputs": [
        {
          "output_type": "stream",
          "text": [
            "/usr/local/lib/python3.6/dist-packages/seaborn/_decorators.py:43: FutureWarning: Pass the following variable as a keyword arg: x. From version 0.12, the only valid positional argument will be `data`, and passing other arguments without an explicit keyword will result in an error or misinterpretation.\n",
            "  FutureWarning\n"
          ],
          "name": "stderr"
        },
        {
          "output_type": "display_data",
          "data": {
            "image/png": "[encoded data removed]",
            "text/plain": [
              "<Figure size 1080x576 with 1 Axes>"
            ]
          },
          "metadata": {
            "tags": [],
            "needs_background": "light"
          }
        }
      ]
    },
    {
      "cell_type": "markdown",
      "metadata": {
        "id": "sL3PmHgkhYT5"
      },
      "source": [
        "# DIVIDIR ENTRE TREINO E TESTE"
      ]
    },
    {
      "cell_type": "code",
      "metadata": {
        "id": "7M4v4WxwhdQA"
      },
      "source": [
        "#importar o train test split\n",
        "from sklearn.model_selection import train_test_split"
      ],
      "execution_count": 20,
      "outputs": []
    },
    {
      "cell_type": "code",
      "metadata": {
        "id": "wrGP55YEpNHa"
      },
      "source": [
        "X = dados.drop('Class', axis=1) #todas as variáveis menos a coluna Class\n",
        "y = dados.Class #só a coluna Class"
      ],
      "execution_count": 21,
      "outputs": []
    },
    {
      "cell_type": "code",
      "metadata": {
        "id": "4VzdrEF_pNOJ",
        "outputId": "3b903663-d0cd-49c4-ee2b-63e75c645c2e",
        "colab": {
          "base_uri": "https://localhost:8080/",
          "height": 224
        }
      },
      "source": [
        "X.head()"
      ],
      "execution_count": 22,
      "outputs": [
        {
          "output_type": "execute_result",
          "data": {
            "text/html": [
              "<div>\n",
              "<style scoped>\n",
              "    .dataframe tbody tr th:only-of-type {\n",
              "        vertical-align: middle;\n",
              "    }\n",
              "\n",
              "    .dataframe tbody tr th {\n",
              "        vertical-align: top;\n",
              "    }\n",
              "\n",
              "    .dataframe thead th {\n",
              "        text-align: right;\n",
              "    }\n",
              "</style>\n",
              "<table border=\"1\" class=\"dataframe\">\n",
              "  <thead>\n",
              "    <tr style=\"text-align: right;\">\n",
              "      <th></th>\n",
              "      <th>Time</th>\n",
              "      <th>V1</th>\n",
              "      <th>V2</th>\n",
              "      <th>V3</th>\n",
              "      <th>V4</th>\n",
              "      <th>V5</th>\n",
              "      <th>V6</th>\n",
              "      <th>V7</th>\n",
              "      <th>V8</th>\n",
              "      <th>V9</th>\n",
              "      <th>V10</th>\n",
              "      <th>V11</th>\n",
              "      <th>V12</th>\n",
              "      <th>V13</th>\n",
              "      <th>V14</th>\n",
              "      <th>V15</th>\n",
              "      <th>V16</th>\n",
              "      <th>V17</th>\n",
              "      <th>V18</th>\n",
              "      <th>V19</th>\n",
              "      <th>V20</th>\n",
              "      <th>V21</th>\n",
              "      <th>V22</th>\n",
              "      <th>V23</th>\n",
              "      <th>V24</th>\n",
              "      <th>V25</th>\n",
              "      <th>V26</th>\n",
              "      <th>V27</th>\n",
              "      <th>V28</th>\n",
              "      <th>Amount</th>\n",
              "    </tr>\n",
              "  </thead>\n",
              "  <tbody>\n",
              "    <tr>\n",
              "      <th>0</th>\n",
              "      <td>0.0</td>\n",
              "      <td>-1.359807</td>\n",
              "      <td>-0.072781</td>\n",
              "      <td>2.536347</td>\n",
              "      <td>1.378155</td>\n",
              "      <td>-0.338321</td>\n",
              "      <td>0.462388</td>\n",
              "      <td>0.239599</td>\n",
              "      <td>0.098698</td>\n",
              "      <td>0.363787</td>\n",
              "      <td>0.090794</td>\n",
              "      <td>-0.551600</td>\n",
              "      <td>-0.617801</td>\n",
              "      <td>-0.991390</td>\n",
              "      <td>-0.311169</td>\n",
              "      <td>1.468177</td>\n",
              "      <td>-0.470401</td>\n",
              "      <td>0.207971</td>\n",
              "      <td>0.025791</td>\n",
              "      <td>0.403993</td>\n",
              "      <td>0.251412</td>\n",
              "      <td>-0.018307</td>\n",
              "      <td>0.277838</td>\n",
              "      <td>-0.110474</td>\n",
              "      <td>0.066928</td>\n",
              "      <td>0.128539</td>\n",
              "      <td>-0.189115</td>\n",
              "      <td>0.133558</td>\n",
              "      <td>-0.021053</td>\n",
              "      <td>149.62</td>\n",
              "    </tr>\n",
              "    <tr>\n",
              "      <th>1</th>\n",
              "      <td>0.0</td>\n",
              "      <td>1.191857</td>\n",
              "      <td>0.266151</td>\n",
              "      <td>0.166480</td>\n",
              "      <td>0.448154</td>\n",
              "      <td>0.060018</td>\n",
              "      <td>-0.082361</td>\n",
              "      <td>-0.078803</td>\n",
              "      <td>0.085102</td>\n",
              "      <td>-0.255425</td>\n",
              "      <td>-0.166974</td>\n",
              "      <td>1.612727</td>\n",
              "      <td>1.065235</td>\n",
              "      <td>0.489095</td>\n",
              "      <td>-0.143772</td>\n",
              "      <td>0.635558</td>\n",
              "      <td>0.463917</td>\n",
              "      <td>-0.114805</td>\n",
              "      <td>-0.183361</td>\n",
              "      <td>-0.145783</td>\n",
              "      <td>-0.069083</td>\n",
              "      <td>-0.225775</td>\n",
              "      <td>-0.638672</td>\n",
              "      <td>0.101288</td>\n",
              "      <td>-0.339846</td>\n",
              "      <td>0.167170</td>\n",
              "      <td>0.125895</td>\n",
              "      <td>-0.008983</td>\n",
              "      <td>0.014724</td>\n",
              "      <td>2.69</td>\n",
              "    </tr>\n",
              "    <tr>\n",
              "      <th>2</th>\n",
              "      <td>1.0</td>\n",
              "      <td>-1.358354</td>\n",
              "      <td>-1.340163</td>\n",
              "      <td>1.773209</td>\n",
              "      <td>0.379780</td>\n",
              "      <td>-0.503198</td>\n",
              "      <td>1.800499</td>\n",
              "      <td>0.791461</td>\n",
              "      <td>0.247676</td>\n",
              "      <td>-1.514654</td>\n",
              "      <td>0.207643</td>\n",
              "      <td>0.624501</td>\n",
              "      <td>0.066084</td>\n",
              "      <td>0.717293</td>\n",
              "      <td>-0.165946</td>\n",
              "      <td>2.345865</td>\n",
              "      <td>-2.890083</td>\n",
              "      <td>1.109969</td>\n",
              "      <td>-0.121359</td>\n",
              "      <td>-2.261857</td>\n",
              "      <td>0.524980</td>\n",
              "      <td>0.247998</td>\n",
              "      <td>0.771679</td>\n",
              "      <td>0.909412</td>\n",
              "      <td>-0.689281</td>\n",
              "      <td>-0.327642</td>\n",
              "      <td>-0.139097</td>\n",
              "      <td>-0.055353</td>\n",
              "      <td>-0.059752</td>\n",
              "      <td>378.66</td>\n",
              "    </tr>\n",
              "    <tr>\n",
              "      <th>3</th>\n",
              "      <td>1.0</td>\n",
              "      <td>-0.966272</td>\n",
              "      <td>-0.185226</td>\n",
              "      <td>1.792993</td>\n",
              "      <td>-0.863291</td>\n",
              "      <td>-0.010309</td>\n",
              "      <td>1.247203</td>\n",
              "      <td>0.237609</td>\n",
              "      <td>0.377436</td>\n",
              "      <td>-1.387024</td>\n",
              "      <td>-0.054952</td>\n",
              "      <td>-0.226487</td>\n",
              "      <td>0.178228</td>\n",
              "      <td>0.507757</td>\n",
              "      <td>-0.287924</td>\n",
              "      <td>-0.631418</td>\n",
              "      <td>-1.059647</td>\n",
              "      <td>-0.684093</td>\n",
              "      <td>1.965775</td>\n",
              "      <td>-1.232622</td>\n",
              "      <td>-0.208038</td>\n",
              "      <td>-0.108300</td>\n",
              "      <td>0.005274</td>\n",
              "      <td>-0.190321</td>\n",
              "      <td>-1.175575</td>\n",
              "      <td>0.647376</td>\n",
              "      <td>-0.221929</td>\n",
              "      <td>0.062723</td>\n",
              "      <td>0.061458</td>\n",
              "      <td>123.50</td>\n",
              "    </tr>\n",
              "    <tr>\n",
              "      <th>4</th>\n",
              "      <td>2.0</td>\n",
              "      <td>-1.158233</td>\n",
              "      <td>0.877737</td>\n",
              "      <td>1.548718</td>\n",
              "      <td>0.403034</td>\n",
              "      <td>-0.407193</td>\n",
              "      <td>0.095921</td>\n",
              "      <td>0.592941</td>\n",
              "      <td>-0.270533</td>\n",
              "      <td>0.817739</td>\n",
              "      <td>0.753074</td>\n",
              "      <td>-0.822843</td>\n",
              "      <td>0.538196</td>\n",
              "      <td>1.345852</td>\n",
              "      <td>-1.119670</td>\n",
              "      <td>0.175121</td>\n",
              "      <td>-0.451449</td>\n",
              "      <td>-0.237033</td>\n",
              "      <td>-0.038195</td>\n",
              "      <td>0.803487</td>\n",
              "      <td>0.408542</td>\n",
              "      <td>-0.009431</td>\n",
              "      <td>0.798278</td>\n",
              "      <td>-0.137458</td>\n",
              "      <td>0.141267</td>\n",
              "      <td>-0.206010</td>\n",
              "      <td>0.502292</td>\n",
              "      <td>0.219422</td>\n",
              "      <td>0.215153</td>\n",
              "      <td>69.99</td>\n",
              "    </tr>\n",
              "  </tbody>\n",
              "</table>\n",
              "</div>"
            ],
            "text/plain": [
              "   Time        V1        V2        V3  ...       V26       V27       V28  Amount\n",
              "0   0.0 -1.359807 -0.072781  2.536347  ... -0.189115  0.133558 -0.021053  149.62\n",
              "1   0.0  1.191857  0.266151  0.166480  ...  0.125895 -0.008983  0.014724    2.69\n",
              "2   1.0 -1.358354 -1.340163  1.773209  ... -0.139097 -0.055353 -0.059752  378.66\n",
              "3   1.0 -0.966272 -0.185226  1.792993  ... -0.221929  0.062723  0.061458  123.50\n",
              "4   2.0 -1.158233  0.877737  1.548718  ...  0.502292  0.219422  0.215153   69.99\n",
              "\n",
              "[5 rows x 30 columns]"
            ]
          },
          "metadata": {
            "tags": []
          },
          "execution_count": 22
        }
      ]
    },
    {
      "cell_type": "code",
      "metadata": {
        "id": "xqWFrVJApNLN",
        "outputId": "9df7088c-70d6-4956-c8fa-e6c94160c78b",
        "colab": {
          "base_uri": "https://localhost:8080/",
          "height": 119
        }
      },
      "source": [
        "y.head()"
      ],
      "execution_count": 23,
      "outputs": [
        {
          "output_type": "execute_result",
          "data": {
            "text/plain": [
              "0    0\n",
              "1    0\n",
              "2    0\n",
              "3    0\n",
              "4    0\n",
              "Name: Class, dtype: int64"
            ]
          },
          "metadata": {
            "tags": []
          },
          "execution_count": 23
        }
      ]
    },
    {
      "cell_type": "code",
      "metadata": {
        "id": "hI3tFI5IqFxj"
      },
      "source": [
        "#dividiu os dados de treino e teste\n",
        "X_train, X_test, y_train, y_test = train_test_split(X,y, test_size=0.3, random_state=7, stratify=y)"
      ],
      "execution_count": 24,
      "outputs": []
    },
    {
      "cell_type": "code",
      "metadata": {
        "id": "5QDrX-hQqnPs",
        "outputId": "441f62cc-f765-477c-ed24-165e542a9a1d",
        "colab": {
          "base_uri": "https://localhost:8080/",
          "height": 68
        }
      },
      "source": [
        "#proporção de 0 e 1 no y_train\n",
        "y_train.value_counts(normalize=True)*100"
      ],
      "execution_count": 25,
      "outputs": [
        {
          "output_type": "execute_result",
          "data": {
            "text/plain": [
              "0    99.827451\n",
              "1     0.172549\n",
              "Name: Class, dtype: float64"
            ]
          },
          "metadata": {
            "tags": []
          },
          "execution_count": 25
        }
      ]
    },
    {
      "cell_type": "code",
      "metadata": {
        "id": "pzNx8Jkcqnen",
        "outputId": "5cd56f82-e04c-460c-a751-2fd1cac8c56b",
        "colab": {
          "base_uri": "https://localhost:8080/",
          "height": 68
        }
      },
      "source": [
        "#proporção de 0 e 1 no y_test\n",
        "y_test.value_counts(normalize=True)*100"
      ],
      "execution_count": 26,
      "outputs": [
        {
          "output_type": "execute_result",
          "data": {
            "text/plain": [
              "0    99.826785\n",
              "1     0.173215\n",
              "Name: Class, dtype: float64"
            ]
          },
          "metadata": {
            "tags": []
          },
          "execution_count": 26
        }
      ]
    },
    {
      "cell_type": "markdown",
      "metadata": {
        "id": "3GTowNRXheeG"
      },
      "source": [
        "# MODELO ANTES DO BALANCEAMENTO"
      ]
    },
    {
      "cell_type": "code",
      "metadata": {
        "id": "i-97Pckthih6"
      },
      "source": [
        "#criar o modelo\n",
        "modelo_v1 = DecisionTreeClassifier(criterion='entropy')"
      ],
      "execution_count": 27,
      "outputs": []
    },
    {
      "cell_type": "code",
      "metadata": {
        "id": "xugYFJ54rM2d",
        "outputId": "7e7f8bb1-ac1c-448a-88bd-60374e7ec305",
        "colab": {
          "base_uri": "https://localhost:8080/",
          "height": 34
        }
      },
      "source": [
        "#ajusta o modelo aos dados\n",
        "modelo_v1.fit(X_train, y_train)"
      ],
      "execution_count": 28,
      "outputs": [
        {
          "output_type": "execute_result",
          "data": {
            "text/plain": [
              "DecisionTreeClassifier(criterion='entropy')"
            ]
          },
          "metadata": {
            "tags": []
          },
          "execution_count": 28
        }
      ]
    },
    {
      "cell_type": "code",
      "metadata": {
        "id": "yk6g-PgqrNAf"
      },
      "source": [
        "#primeira previsão\n",
        "y_pred_1 = modelo_v1.predict(X_test)"
      ],
      "execution_count": 29,
      "outputs": []
    },
    {
      "cell_type": "markdown",
      "metadata": {
        "id": "JqQ3XuqKsHig"
      },
      "source": [
        "### Avaliando o modelo antes do balanceamento"
      ]
    },
    {
      "cell_type": "code",
      "metadata": {
        "id": "SMcP9UTgsMxM",
        "outputId": "b25c4c7c-80f8-48e6-e267-795ba8f533c0",
        "colab": {
          "base_uri": "https://localhost:8080/",
          "height": 51
        }
      },
      "source": [
        "#visualizando a matriz de confusão\n",
        "confusion_matrix(y_test,y_pred_1)"
      ],
      "execution_count": 30,
      "outputs": [
        {
          "output_type": "execute_result",
          "data": {
            "text/plain": [
              "array([[85266,    29],\n",
              "       [   39,   109]])"
            ]
          },
          "metadata": {
            "tags": []
          },
          "execution_count": 30
        }
      ]
    },
    {
      "cell_type": "code",
      "metadata": {
        "id": "l03Q-_UosM0x",
        "outputId": "380be845-545a-446a-d66b-e9cbeacc8ced",
        "colab": {
          "base_uri": "https://localhost:8080/",
          "height": 170
        }
      },
      "source": [
        "#vendo o classification report\n",
        "print(classification_report(y_test, y_pred_1))"
      ],
      "execution_count": 31,
      "outputs": [
        {
          "output_type": "stream",
          "text": [
            "              precision    recall  f1-score   support\n",
            "\n",
            "           0       1.00      1.00      1.00     85295\n",
            "           1       0.79      0.74      0.76       148\n",
            "\n",
            "    accuracy                           1.00     85443\n",
            "   macro avg       0.89      0.87      0.88     85443\n",
            "weighted avg       1.00      1.00      1.00     85443\n",
            "\n"
          ],
          "name": "stdout"
        }
      ]
    },
    {
      "cell_type": "code",
      "metadata": {
        "id": "nhhRtlVgun7c",
        "outputId": "46162e89-d0b2-4cfa-bbbb-44ee44067d2e",
        "colab": {
          "base_uri": "https://localhost:8080/",
          "height": 34
        }
      },
      "source": [
        "#vendo a acurácia\n",
        "accuracy_score(y_test, y_pred_1)*100"
      ],
      "execution_count": 32,
      "outputs": [
        {
          "output_type": "execute_result",
          "data": {
            "text/plain": [
              "99.9204147794436"
            ]
          },
          "metadata": {
            "tags": []
          },
          "execution_count": 32
        }
      ]
    },
    {
      "cell_type": "code",
      "metadata": {
        "id": "X9XQuH2xsNjN",
        "outputId": "7c690ad5-837b-4638-ceb6-fc76c0065e64",
        "colab": {
          "base_uri": "https://localhost:8080/",
          "height": 483
        }
      },
      "source": [
        "#vendo a Área sob a Curva antes do balanceamento\n",
        "from sklearn.metrics import roc_curve, roc_auc_score\n",
        "fpr, tpr, _ = roc_curve(y_test,  y_pred_1)\n",
        "auc = roc_auc_score(y_test, y_pred_1)\n",
        "plt.figure(figsize=(15,8))\n",
        "plt.plot(fpr,tpr,label=\"data 1, auc=\"+str(auc))\n",
        "plt.legend(loc=4)\n",
        "plt.show()"
      ],
      "execution_count": 33,
      "outputs": [
        {
          "output_type": "display_data",
          "data": {
            "image/png": "[encoded data removed]",
            "text/plain": [
              "<Figure size 1080x576 with 1 Axes>"
            ]
          },
          "metadata": {
            "tags": [],
            "needs_background": "light"
          }
        }
      ]
    },
    {
      "cell_type": "markdown",
      "metadata": {
        "id": "HG30qsrivPhr"
      },
      "source": [
        "### Usar o balanceamento no modelo (class_weight)"
      ]
    },
    {
      "cell_type": "code",
      "metadata": {
        "id": "0hAvnPP0sM45"
      },
      "source": [
        "#novo modelo\n",
        "modelo_v2 = DecisionTreeClassifier(criterion='entropy', class_weight='balanced',)"
      ],
      "execution_count": 34,
      "outputs": []
    },
    {
      "cell_type": "code",
      "metadata": {
        "id": "A_bEbFCrwIIj",
        "outputId": "d5ec3410-08e1-4d89-b99c-675eac6d040d",
        "colab": {
          "base_uri": "https://localhost:8080/",
          "height": 34
        }
      },
      "source": [
        "#ajustando aos dados de treino\n",
        "modelo_v2.fit(X_train,y_train)"
      ],
      "execution_count": 35,
      "outputs": [
        {
          "output_type": "execute_result",
          "data": {
            "text/plain": [
              "DecisionTreeClassifier(class_weight='balanced', criterion='entropy')"
            ]
          },
          "metadata": {
            "tags": []
          },
          "execution_count": 35
        }
      ]
    },
    {
      "cell_type": "code",
      "metadata": {
        "id": "y606S0jjwINo"
      },
      "source": [
        "#novas predições\n",
        "y_pred_2 = modelo_v2.predict(X_test)"
      ],
      "execution_count": 36,
      "outputs": []
    },
    {
      "cell_type": "markdown",
      "metadata": {
        "id": "fEx_XS8wwTxY"
      },
      "source": [
        "#### Avaliação 2"
      ]
    },
    {
      "cell_type": "code",
      "metadata": {
        "id": "l_Z_m-ZowV8S",
        "outputId": "c4a4a23f-e530-4fc1-b7e7-4a05159e9730",
        "colab": {
          "base_uri": "https://localhost:8080/",
          "height": 51
        }
      },
      "source": [
        "#visualizando a matriz de confusão\n",
        "confusion_matrix(y_test,y_pred_2)"
      ],
      "execution_count": 37,
      "outputs": [
        {
          "output_type": "execute_result",
          "data": {
            "text/plain": [
              "array([[85264,    31],\n",
              "       [   42,   106]])"
            ]
          },
          "metadata": {
            "tags": []
          },
          "execution_count": 37
        }
      ]
    },
    {
      "cell_type": "code",
      "metadata": {
        "id": "8q4N_QxOwWF_",
        "outputId": "a7663e54-8051-4e75-c8b1-63922c4325e6",
        "colab": {
          "base_uri": "https://localhost:8080/",
          "height": 170
        }
      },
      "source": [
        "#vendo o classification report\n",
        "print(classification_report(y_test, y_pred_2))"
      ],
      "execution_count": 38,
      "outputs": [
        {
          "output_type": "stream",
          "text": [
            "              precision    recall  f1-score   support\n",
            "\n",
            "           0       1.00      1.00      1.00     85295\n",
            "           1       0.77      0.72      0.74       148\n",
            "\n",
            "    accuracy                           1.00     85443\n",
            "   macro avg       0.89      0.86      0.87     85443\n",
            "weighted avg       1.00      1.00      1.00     85443\n",
            "\n"
          ],
          "name": "stdout"
        }
      ]
    },
    {
      "cell_type": "code",
      "metadata": {
        "id": "6TrP66y7wWDJ",
        "outputId": "89c74e55-47e9-4677-94e6-e630d54fc75c",
        "colab": {
          "base_uri": "https://localhost:8080/",
          "height": 34
        }
      },
      "source": [
        "#vendo a acurácia\n",
        "accuracy_score(y_test, y_pred_2)*100"
      ],
      "execution_count": 39,
      "outputs": [
        {
          "output_type": "execute_result",
          "data": {
            "text/plain": [
              "99.91456292499093"
            ]
          },
          "metadata": {
            "tags": []
          },
          "execution_count": 39
        }
      ]
    },
    {
      "cell_type": "code",
      "metadata": {
        "id": "wnkG4Rl2wWAo",
        "outputId": "14743c65-3d79-4662-f626-d6c343fa2717",
        "colab": {
          "base_uri": "https://localhost:8080/",
          "height": 483
        }
      },
      "source": [
        "#vendo a Área sob a Curva usando o class_weight\n",
        "from sklearn.metrics import roc_curve\n",
        "fpr, tpr, _ = roc_curve(y_test,  y_pred_2)\n",
        "auc = roc_auc_score(y_test, y_pred_2)\n",
        "plt.figure(figsize=(15,8))\n",
        "plt.plot(fpr,tpr,label=\"data 1, auc=\"+str(auc))\n",
        "plt.legend(loc=4)\n",
        "plt.show()"
      ],
      "execution_count": 40,
      "outputs": [
        {
          "output_type": "display_data",
          "data": {
            "image/png": "[encoded data removed]",
            "text/plain": [
              "<Figure size 1080x576 with 1 Axes>"
            ]
          },
          "metadata": {
            "tags": [],
            "needs_background": "light"
          }
        }
      ]
    },
    {
      "cell_type": "markdown",
      "metadata": {
        "id": "4KqBufOWhjer"
      },
      "source": [
        "# BALANCEAMENTO DA CLASSE ALVO"
      ]
    },
    {
      "cell_type": "code",
      "metadata": {
        "id": "vCqZ-qsrhr7w"
      },
      "source": [
        "#criando o over sampler\n",
        "ROSE = RandomOverSampler(random_state=1)"
      ],
      "execution_count": 41,
      "outputs": []
    },
    {
      "cell_type": "code",
      "metadata": {
        "id": "zEuk-GqPxZnb"
      },
      "source": [
        "X_train_o, y_train_o = ROSE.fit_resample(X_train, y_train)"
      ],
      "execution_count": 42,
      "outputs": []
    },
    {
      "cell_type": "code",
      "metadata": {
        "id": "voV020CwxmAL",
        "outputId": "65ac80dd-d561-4bc0-fd0a-ea3e2f82097f",
        "colab": {
          "base_uri": "https://localhost:8080/",
          "height": 34
        }
      },
      "source": [
        "#ver a proporção entre as classes no novo y - que é um numpy array\n",
        "unique, counts = np.unique(y_train_o, return_counts=True)\n",
        "dict(zip(unique, counts))"
      ],
      "execution_count": 43,
      "outputs": [
        {
          "output_type": "execute_result",
          "data": {
            "text/plain": [
              "{0: 199020, 1: 199020}"
            ]
          },
          "metadata": {
            "tags": []
          },
          "execution_count": 43
        }
      ]
    },
    {
      "cell_type": "code",
      "metadata": {
        "id": "VqLJqSSNxmIY"
      },
      "source": [
        "#balancear os dados de teste\n",
        "X_test_o, y_test_o = ROSE.fit_resample(X_test, y_test)"
      ],
      "execution_count": 44,
      "outputs": []
    },
    {
      "cell_type": "code",
      "metadata": {
        "id": "-E30DXqBxmM-",
        "outputId": "04cfa77e-1479-436c-8e1b-8665419edfc0",
        "colab": {
          "base_uri": "https://localhost:8080/",
          "height": 34
        }
      },
      "source": [
        "#ver a proporção entre as classes no novo y - que é um numpy array\n",
        "unique, counts = np.unique(y_test_o, return_counts=True)\n",
        "dict(zip(unique, counts))"
      ],
      "execution_count": 45,
      "outputs": [
        {
          "output_type": "execute_result",
          "data": {
            "text/plain": [
              "{0: 85295, 1: 85295}"
            ]
          },
          "metadata": {
            "tags": []
          },
          "execution_count": 45
        }
      ]
    },
    {
      "cell_type": "markdown",
      "metadata": {
        "id": "c5gKzaLIhs8A"
      },
      "source": [
        "# MODELO PÓS BALANCEAMENTO"
      ]
    },
    {
      "cell_type": "code",
      "metadata": {
        "id": "2yzk0ytBhyTq"
      },
      "source": [
        "#criando o novo modelo\n",
        "modelo_v3 = DecisionTreeClassifier(criterion='entropy')"
      ],
      "execution_count": 46,
      "outputs": []
    },
    {
      "cell_type": "code",
      "metadata": {
        "id": "PRO3ogcFy47n",
        "outputId": "49d51b08-d435-400f-e255-53e2c4f49adc",
        "colab": {
          "base_uri": "https://localhost:8080/",
          "height": 34
        }
      },
      "source": [
        "#ajustando o modelo aos dados balanceados\n",
        "modelo_v3.fit(X_train_o,y_train_o)"
      ],
      "execution_count": 47,
      "outputs": [
        {
          "output_type": "execute_result",
          "data": {
            "text/plain": [
              "DecisionTreeClassifier(criterion='entropy')"
            ]
          },
          "metadata": {
            "tags": []
          },
          "execution_count": 47
        }
      ]
    },
    {
      "cell_type": "code",
      "metadata": {
        "id": "l_DykUNXzh-v"
      },
      "source": [
        "#predizendo os dados de teste não balanceados\n",
        "y_pred_3 = modelo_v3.predict(X_test)"
      ],
      "execution_count": 48,
      "outputs": []
    },
    {
      "cell_type": "code",
      "metadata": {
        "id": "qibtExXuzrvt"
      },
      "source": [
        "#predizendo os dados do teste balanceado\n",
        "y_pred_4 = modelo_v3.predict(X_test_o)"
      ],
      "execution_count": 49,
      "outputs": []
    },
    {
      "cell_type": "markdown",
      "metadata": {
        "id": "KiiMBwXmz6B2"
      },
      "source": [
        "### Avaliando o modelo após o balanceamento - Teste balanceado (y_pred_4)"
      ]
    },
    {
      "cell_type": "code",
      "metadata": {
        "id": "V-nqgBKFz4Nh",
        "outputId": "17107ea5-3172-4100-9479-1f8cd29c43c9",
        "colab": {
          "base_uri": "https://localhost:8080/",
          "height": 51
        }
      },
      "source": [
        "#visualizando a matriz de confusão\n",
        "confusion_matrix(y_test_o,y_pred_4)"
      ],
      "execution_count": 50,
      "outputs": [
        {
          "output_type": "execute_result",
          "data": {
            "text/plain": [
              "array([[85261,    34],\n",
              "       [24016, 61279]])"
            ]
          },
          "metadata": {
            "tags": []
          },
          "execution_count": 50
        }
      ]
    },
    {
      "cell_type": "code",
      "metadata": {
        "id": "wCDX1c5h0KJd",
        "outputId": "c1a34040-9a8f-4161-d81f-887e613f70fc",
        "colab": {
          "base_uri": "https://localhost:8080/",
          "height": 170
        }
      },
      "source": [
        "#vendo o classification report\n",
        "print(classification_report(y_test_o, y_pred_4))"
      ],
      "execution_count": 51,
      "outputs": [
        {
          "output_type": "stream",
          "text": [
            "              precision    recall  f1-score   support\n",
            "\n",
            "           0       0.78      1.00      0.88     85295\n",
            "           1       1.00      0.72      0.84     85295\n",
            "\n",
            "    accuracy                           0.86    170590\n",
            "   macro avg       0.89      0.86      0.86    170590\n",
            "weighted avg       0.89      0.86      0.86    170590\n",
            "\n"
          ],
          "name": "stdout"
        }
      ]
    },
    {
      "cell_type": "code",
      "metadata": {
        "id": "TWts9HNi0KOd",
        "outputId": "5664d405-6e3d-4dbe-ea6c-cf0eced819d2",
        "colab": {
          "base_uri": "https://localhost:8080/",
          "height": 34
        }
      },
      "source": [
        "#vendo a acurácia\n",
        "accuracy_score(y_test_o, y_pred_4)*100"
      ],
      "execution_count": 52,
      "outputs": [
        {
          "output_type": "execute_result",
          "data": {
            "text/plain": [
              "85.90186998065538"
            ]
          },
          "metadata": {
            "tags": []
          },
          "execution_count": 52
        }
      ]
    },
    {
      "cell_type": "code",
      "metadata": {
        "id": "bKNBjw2V0KTm",
        "outputId": "8b5fe0cd-1187-483f-bb0f-d975e412462a",
        "colab": {
          "base_uri": "https://localhost:8080/",
          "height": 483
        }
      },
      "source": [
        "#vendo a Área sob a Curva usando o class_weight\n",
        "from sklearn.metrics import roc_curve\n",
        "fpr, tpr, _ = roc_curve(y_test_o,  y_pred_4)\n",
        "auc = roc_auc_score(y_test_o, y_pred_4)\n",
        "plt.figure(figsize=(15,8))\n",
        "plt.plot(fpr,tpr,label=\"data 1, auc=\"+str(auc))\n",
        "plt.legend(loc=4)\n",
        "plt.show()"
      ],
      "execution_count": 53,
      "outputs": [
        {
          "output_type": "display_data",
          "data": {
            "image/png": "[encoded data removed]",
            "text/plain": [
              "<Figure size 1080x576 with 1 Axes>"
            ]
          },
          "metadata": {
            "tags": [],
            "needs_background": "light"
          }
        }
      ]
    },
    {
      "cell_type": "markdown",
      "metadata": {
        "id": "mK2MVKiO0ByM"
      },
      "source": [
        "### Avaliando o modelo após o balanceamento  - Teste original (y_pred_3)"
      ]
    },
    {
      "cell_type": "code",
      "metadata": {
        "id": "aztVgbi50IfD",
        "outputId": "3a08828e-fd98-4b50-afac-f0db5b5ad68b",
        "colab": {
          "base_uri": "https://localhost:8080/",
          "height": 51
        }
      },
      "source": [
        "#visualizando a matriz de confusão\n",
        "confusion_matrix(y_test,y_pred_3)"
      ],
      "execution_count": 54,
      "outputs": [
        {
          "output_type": "execute_result",
          "data": {
            "text/plain": [
              "array([[85261,    34],\n",
              "       [   42,   106]])"
            ]
          },
          "metadata": {
            "tags": []
          },
          "execution_count": 54
        }
      ]
    },
    {
      "cell_type": "code",
      "metadata": {
        "id": "viMf77xA0LoF",
        "outputId": "088c2fc7-e2a7-436a-e48d-fc54720a22fe",
        "colab": {
          "base_uri": "https://localhost:8080/",
          "height": 170
        }
      },
      "source": [
        "#vendo o classification report\n",
        "print(classification_report(y_test, y_pred_3))"
      ],
      "execution_count": 55,
      "outputs": [
        {
          "output_type": "stream",
          "text": [
            "              precision    recall  f1-score   support\n",
            "\n",
            "           0       1.00      1.00      1.00     85295\n",
            "           1       0.76      0.72      0.74       148\n",
            "\n",
            "    accuracy                           1.00     85443\n",
            "   macro avg       0.88      0.86      0.87     85443\n",
            "weighted avg       1.00      1.00      1.00     85443\n",
            "\n"
          ],
          "name": "stdout"
        }
      ]
    },
    {
      "cell_type": "code",
      "metadata": {
        "id": "hh5rni890Lvm",
        "outputId": "02144393-349e-4d43-8bc2-1ef2b0c5593d",
        "colab": {
          "base_uri": "https://localhost:8080/",
          "height": 34
        }
      },
      "source": [
        "#vendo a acurácia\n",
        "accuracy_score(y_test, y_pred_3)*100"
      ],
      "execution_count": 56,
      "outputs": [
        {
          "output_type": "execute_result",
          "data": {
            "text/plain": [
              "99.91105181231933"
            ]
          },
          "metadata": {
            "tags": []
          },
          "execution_count": 56
        }
      ]
    },
    {
      "cell_type": "code",
      "metadata": {
        "id": "fdTMlYpv0L8M",
        "outputId": "526f23e2-e62d-4823-a714-95ab1aec3b84",
        "colab": {
          "base_uri": "https://localhost:8080/",
          "height": 483
        }
      },
      "source": [
        "#vendo a Área sob a Curva usando o class_weight\n",
        "fpr, tpr, _ = roc_curve(y_test,  y_pred_3)\n",
        "auc = roc_auc_score(y_test, y_pred_3)\n",
        "plt.figure(figsize=(15,8))\n",
        "plt.plot(fpr,tpr,label=\"data 1, auc=\"+str(auc))\n",
        "plt.legend(loc=4)\n",
        "plt.show()"
      ],
      "execution_count": 57,
      "outputs": [
        {
          "output_type": "display_data",
          "data": {
            "image/png": "[encoded data removed]",
            "text/plain": [
              "<Figure size 1080x576 with 1 Axes>"
            ]
          },
          "metadata": {
            "tags": [],
            "needs_background": "light"
          }
        }
      ]
    },
    {
      "cell_type": "markdown",
      "metadata": {
        "id": "CDAeztTw2Au6"
      },
      "source": [
        "# BALANCEAMENTO COM SMOTE"
      ]
    },
    {
      "cell_type": "code",
      "metadata": {
        "id": "EB6zliuy0LtF"
      },
      "source": [
        "from imblearn.over_sampling import SMOTE"
      ],
      "execution_count": 58,
      "outputs": []
    },
    {
      "cell_type": "code",
      "metadata": {
        "id": "qZJyMghr2HxY"
      },
      "source": [
        "smote = SMOTE()"
      ],
      "execution_count": 59,
      "outputs": []
    },
    {
      "cell_type": "code",
      "metadata": {
        "id": "9122-zk32U1_"
      },
      "source": [
        "#fazendo o resample nos dados de treino\n",
        "X_train_smote, y_train_smote = smote.fit_resample(X_train,y_train)"
      ],
      "execution_count": 60,
      "outputs": []
    },
    {
      "cell_type": "code",
      "metadata": {
        "id": "OhgGJfq22jFf"
      },
      "source": [
        "#fazendo o resample nos dados de teste\n",
        "X_test_smote, y_test_smote = smote.fit_resample(X_test,y_test)"
      ],
      "execution_count": 61,
      "outputs": []
    },
    {
      "cell_type": "code",
      "metadata": {
        "id": "5u9c3ds_3Glf",
        "outputId": "98f5732f-1bbf-46a1-ea9f-43244d3d8f95",
        "colab": {
          "base_uri": "https://localhost:8080/",
          "height": 34
        }
      },
      "source": [
        "#ver a proporção entre as classes no novo y - que é um numpy array\n",
        "unique, counts = np.unique(y_train_smote, return_counts=True)\n",
        "dict(zip(unique, counts))"
      ],
      "execution_count": 62,
      "outputs": [
        {
          "output_type": "execute_result",
          "data": {
            "text/plain": [
              "{0: 199020, 1: 199020}"
            ]
          },
          "metadata": {
            "tags": []
          },
          "execution_count": 62
        }
      ]
    },
    {
      "cell_type": "code",
      "metadata": {
        "id": "KjK9IpPb3H7y",
        "outputId": "66fedd21-af1e-4f69-cc98-d666bd50617c",
        "colab": {
          "base_uri": "https://localhost:8080/",
          "height": 34
        }
      },
      "source": [
        "#ver a proporção entre as classes no novo y - que é um numpy array\n",
        "unique, counts = np.unique(y_test_smote, return_counts=True)\n",
        "dict(zip(unique, counts))"
      ],
      "execution_count": 63,
      "outputs": [
        {
          "output_type": "execute_result",
          "data": {
            "text/plain": [
              "{0: 85295, 1: 85295}"
            ]
          },
          "metadata": {
            "tags": []
          },
          "execution_count": 63
        }
      ]
    },
    {
      "cell_type": "markdown",
      "metadata": {
        "id": "MhKIjXxh2uNp"
      },
      "source": [
        "## TREINANDO UM MODELO COM OS DADOS BALANCEADOS COM SMOTE"
      ]
    },
    {
      "cell_type": "code",
      "metadata": {
        "id": "nAlgCVsH2skO"
      },
      "source": [
        "modelo_v4 = DecisionTreeClassifier(criterion='entropy')"
      ],
      "execution_count": 64,
      "outputs": []
    },
    {
      "cell_type": "code",
      "metadata": {
        "id": "96_yWHte29Yc",
        "outputId": "264c7523-2e51-4629-a629-77a69618f663",
        "colab": {
          "base_uri": "https://localhost:8080/",
          "height": 34
        }
      },
      "source": [
        "#ajustando aos dados tratados com smote\n",
        "modelo_v4.fit(X_train_smote,y_train_smote)"
      ],
      "execution_count": 65,
      "outputs": [
        {
          "output_type": "execute_result",
          "data": {
            "text/plain": [
              "DecisionTreeClassifier(criterion='entropy')"
            ]
          },
          "metadata": {
            "tags": []
          },
          "execution_count": 65
        }
      ]
    },
    {
      "cell_type": "code",
      "metadata": {
        "id": "nitlW-3E3bdO"
      },
      "source": [
        "#predizendo os dados de teste balanceados com smote\n",
        "y_pred_5 = modelo_v4.predict(X_test_smote)"
      ],
      "execution_count": 66,
      "outputs": []
    },
    {
      "cell_type": "code",
      "metadata": {
        "id": "CosI8uuv3gHV"
      },
      "source": [
        "#predizendo o teste original\n",
        "y_pred_6 = modelo_v4.predict(X_test)"
      ],
      "execution_count": 67,
      "outputs": []
    },
    {
      "cell_type": "markdown",
      "metadata": {
        "id": "pfID-VI04Bca"
      },
      "source": [
        "#### Avaliando o modelo com o teste balanceado (y_pred_5)"
      ]
    },
    {
      "cell_type": "code",
      "metadata": {
        "id": "9T5557La4AGc",
        "outputId": "0f857744-13c8-4691-eb94-6f079ca1a66f",
        "colab": {
          "base_uri": "https://localhost:8080/",
          "height": 51
        }
      },
      "source": [
        "#visualizando a matriz de confusão\n",
        "confusion_matrix(y_test_smote,y_pred_5)"
      ],
      "execution_count": 68,
      "outputs": [
        {
          "output_type": "execute_result",
          "data": {
            "text/plain": [
              "array([[85151,   144],\n",
              "       [ 8576, 76719]])"
            ]
          },
          "metadata": {
            "tags": []
          },
          "execution_count": 68
        }
      ]
    },
    {
      "cell_type": "code",
      "metadata": {
        "id": "187X5lOe4Pow",
        "outputId": "99c7e5cb-d0c2-4a22-d831-91d2d29aaaa6",
        "colab": {
          "base_uri": "https://localhost:8080/",
          "height": 170
        }
      },
      "source": [
        "#vendo o classification report\n",
        "print(classification_report(y_test_smote, y_pred_5))"
      ],
      "execution_count": 69,
      "outputs": [
        {
          "output_type": "stream",
          "text": [
            "              precision    recall  f1-score   support\n",
            "\n",
            "           0       0.91      1.00      0.95     85295\n",
            "           1       1.00      0.90      0.95     85295\n",
            "\n",
            "    accuracy                           0.95    170590\n",
            "   macro avg       0.95      0.95      0.95    170590\n",
            "weighted avg       0.95      0.95      0.95    170590\n",
            "\n"
          ],
          "name": "stdout"
        }
      ]
    },
    {
      "cell_type": "code",
      "metadata": {
        "id": "8udzGJZc4P0w",
        "outputId": "3da5c1b2-9e31-4d5b-e9d7-79a88d0efc33",
        "colab": {
          "base_uri": "https://localhost:8080/",
          "height": 34
        }
      },
      "source": [
        "#vendo a acurácia\n",
        "accuracy_score(y_test_smote, y_pred_5)*100"
      ],
      "execution_count": 70,
      "outputs": [
        {
          "output_type": "execute_result",
          "data": {
            "text/plain": [
              "94.8883287414268"
            ]
          },
          "metadata": {
            "tags": []
          },
          "execution_count": 70
        }
      ]
    },
    {
      "cell_type": "code",
      "metadata": {
        "id": "cwR0u3wX4PvX",
        "outputId": "c682613f-6665-42db-d0ee-5ebe6afae51d",
        "colab": {
          "base_uri": "https://localhost:8080/",
          "height": 483
        }
      },
      "source": [
        "#vendo a Área sob a Curva usando o class_weight\n",
        "from sklearn.metrics import roc_curve\n",
        "fpr, tpr, _ = roc_curve(y_test_smote,  y_pred_5)\n",
        "auc = roc_auc_score(y_test_smote, y_pred_5)\n",
        "plt.figure(figsize=(15,8))\n",
        "plt.plot(fpr,tpr,label=\"data 1, auc=\"+str(auc))\n",
        "plt.legend(loc=4)\n",
        "plt.show()"
      ],
      "execution_count": 71,
      "outputs": [
        {
          "output_type": "display_data",
          "data": {
            "image/png": "[encoded data removed]",
            "text/plain": [
              "<Figure size 1080x576 with 1 Axes>"
            ]
          },
          "metadata": {
            "tags": [],
            "needs_background": "light"
          }
        }
      ]
    },
    {
      "cell_type": "markdown",
      "metadata": {
        "id": "EZQJziHb42uM"
      },
      "source": [
        "#### Avaliando o modelo com os dados originais (y_pred_6)"
      ]
    },
    {
      "cell_type": "code",
      "metadata": {
        "id": "jsg_v2uS4txX",
        "outputId": "b03b081f-dff2-4a66-84bc-ee707e870b45",
        "colab": {
          "base_uri": "https://localhost:8080/",
          "height": 51
        }
      },
      "source": [
        "#visualizando a matriz de confusão\n",
        "confusion_matrix(y_test,y_pred_6)"
      ],
      "execution_count": 72,
      "outputs": [
        {
          "output_type": "execute_result",
          "data": {
            "text/plain": [
              "array([[85151,   144],\n",
              "       [   27,   121]])"
            ]
          },
          "metadata": {
            "tags": []
          },
          "execution_count": 72
        }
      ]
    },
    {
      "cell_type": "code",
      "metadata": {
        "id": "HBvTXQz65GsA",
        "outputId": "fd3d1803-eb81-41db-f91d-5f3fef9ad079",
        "colab": {
          "base_uri": "https://localhost:8080/",
          "height": 170
        }
      },
      "source": [
        "#vendo o classification report\n",
        "print(classification_report(y_test, y_pred_6))"
      ],
      "execution_count": 73,
      "outputs": [
        {
          "output_type": "stream",
          "text": [
            "              precision    recall  f1-score   support\n",
            "\n",
            "           0       1.00      1.00      1.00     85295\n",
            "           1       0.46      0.82      0.59       148\n",
            "\n",
            "    accuracy                           1.00     85443\n",
            "   macro avg       0.73      0.91      0.79     85443\n",
            "weighted avg       1.00      1.00      1.00     85443\n",
            "\n"
          ],
          "name": "stdout"
        }
      ]
    },
    {
      "cell_type": "code",
      "metadata": {
        "id": "6qxC1cHt5Gx-",
        "outputId": "7814914e-19ae-4b55-be9e-f397b40e6c7a",
        "colab": {
          "base_uri": "https://localhost:8080/",
          "height": 34
        }
      },
      "source": [
        "#vendo a acurácia\n",
        "accuracy_score(y_test, y_pred_6)*100"
      ],
      "execution_count": 74,
      "outputs": [
        {
          "output_type": "execute_result",
          "data": {
            "text/plain": [
              "99.79986657771848"
            ]
          },
          "metadata": {
            "tags": []
          },
          "execution_count": 74
        }
      ]
    },
    {
      "cell_type": "code",
      "metadata": {
        "id": "jxeCZAid5OOE",
        "outputId": "53a17c08-d4bd-44a4-9b55-9d7be2da4457",
        "colab": {
          "base_uri": "https://localhost:8080/",
          "height": 483
        }
      },
      "source": [
        "#vendo a Área sob a Curva usando o class_weight\n",
        "from sklearn.metrics import roc_curve\n",
        "fpr, tpr, _ = roc_curve(y_test,  y_pred_6)\n",
        "auc = roc_auc_score(y_test, y_pred_6)\n",
        "plt.figure(figsize=(15,8))\n",
        "plt.plot(fpr,tpr,label=\"data 1, auc=\"+str(auc))\n",
        "plt.legend(loc=4)\n",
        "plt.show()"
      ],
      "execution_count": 75,
      "outputs": [
        {
          "output_type": "display_data",
          "data": {
            "image/png": "[encoded data removed]",
            "text/plain": [
              "<Figure size 1080x576 with 1 Axes>"
            ]
          },
          "metadata": {
            "tags": [],
            "needs_background": "light"
          }
        }
      ]
    },
    {
      "cell_type": "markdown",
      "metadata": {
        "id": "YOZ2uv8N8Dll"
      },
      "source": [
        "# USANDO OS DADOS DO SCRIPT R"
      ]
    },
    {
      "cell_type": "code",
      "metadata": {
        "id": "-ugjWoAn5j8j"
      },
      "source": [
        "#pegando os dados do R\n",
        "rose_treino = pd.read_csv('rose_treino.csv')"
      ],
      "execution_count": 76,
      "outputs": []
    },
    {
      "cell_type": "code",
      "metadata": {
        "id": "oyTC7HDw-3k_"
      },
      "source": [
        "rose_teste = pd.read_csv('rose_teste.csv')"
      ],
      "execution_count": 77,
      "outputs": []
    },
    {
      "cell_type": "code",
      "metadata": {
        "id": "emQ4bNoH_CNS"
      },
      "source": [
        "#teste desbalanceado\n",
        "teste_R = pd.read_csv('teste_R.csv')"
      ],
      "execution_count": 78,
      "outputs": []
    },
    {
      "cell_type": "markdown",
      "metadata": {
        "id": "zcgLf5NE__UM"
      },
      "source": [
        "### Lendo os dados"
      ]
    },
    {
      "cell_type": "code",
      "metadata": {
        "id": "3jACPMKh_TVB",
        "outputId": "cab9773e-d81f-4870-9a2a-e06bca6befb4",
        "colab": {
          "base_uri": "https://localhost:8080/",
          "height": 241
        }
      },
      "source": [
        "rose_treino.head()"
      ],
      "execution_count": 79,
      "outputs": [
        {
          "output_type": "execute_result",
          "data": {
            "text/html": [
              "<div>\n",
              "<style scoped>\n",
              "    .dataframe tbody tr th:only-of-type {\n",
              "        vertical-align: middle;\n",
              "    }\n",
              "\n",
              "    .dataframe tbody tr th {\n",
              "        vertical-align: top;\n",
              "    }\n",
              "\n",
              "    .dataframe thead th {\n",
              "        text-align: right;\n",
              "    }\n",
              "</style>\n",
              "<table border=\"1\" class=\"dataframe\">\n",
              "  <thead>\n",
              "    <tr style=\"text-align: right;\">\n",
              "      <th></th>\n",
              "      <th>Unnamed: 0</th>\n",
              "      <th>Time</th>\n",
              "      <th>V1</th>\n",
              "      <th>V2</th>\n",
              "      <th>V3</th>\n",
              "      <th>V4</th>\n",
              "      <th>V5</th>\n",
              "      <th>V6</th>\n",
              "      <th>V7</th>\n",
              "      <th>V8</th>\n",
              "      <th>V9</th>\n",
              "      <th>V10</th>\n",
              "      <th>V11</th>\n",
              "      <th>V12</th>\n",
              "      <th>V13</th>\n",
              "      <th>V14</th>\n",
              "      <th>V15</th>\n",
              "      <th>V16</th>\n",
              "      <th>V17</th>\n",
              "      <th>V18</th>\n",
              "      <th>V19</th>\n",
              "      <th>V20</th>\n",
              "      <th>V21</th>\n",
              "      <th>V22</th>\n",
              "      <th>V23</th>\n",
              "      <th>V24</th>\n",
              "      <th>V25</th>\n",
              "      <th>V26</th>\n",
              "      <th>V27</th>\n",
              "      <th>V28</th>\n",
              "      <th>Amount</th>\n",
              "      <th>Class</th>\n",
              "    </tr>\n",
              "  </thead>\n",
              "  <tbody>\n",
              "    <tr>\n",
              "      <th>0</th>\n",
              "      <td>1</td>\n",
              "      <td>217205.803513</td>\n",
              "      <td>-2.567981</td>\n",
              "      <td>0.898000</td>\n",
              "      <td>-0.767780</td>\n",
              "      <td>-2.728384</td>\n",
              "      <td>1.208778</td>\n",
              "      <td>-2.414597</td>\n",
              "      <td>0.820543</td>\n",
              "      <td>-0.291104</td>\n",
              "      <td>-1.322237</td>\n",
              "      <td>-0.986977</td>\n",
              "      <td>-1.773612</td>\n",
              "      <td>0.146018</td>\n",
              "      <td>0.294645</td>\n",
              "      <td>-0.890830</td>\n",
              "      <td>-1.912879</td>\n",
              "      <td>1.275707</td>\n",
              "      <td>0.867205</td>\n",
              "      <td>-0.210741</td>\n",
              "      <td>-0.442621</td>\n",
              "      <td>0.786827</td>\n",
              "      <td>0.428279</td>\n",
              "      <td>-0.225452</td>\n",
              "      <td>-0.701389</td>\n",
              "      <td>-0.199779</td>\n",
              "      <td>1.595748</td>\n",
              "      <td>-0.147785</td>\n",
              "      <td>-0.372765</td>\n",
              "      <td>-0.628274</td>\n",
              "      <td>160.405993</td>\n",
              "      <td>0</td>\n",
              "    </tr>\n",
              "    <tr>\n",
              "      <th>1</th>\n",
              "      <td>2</td>\n",
              "      <td>152178.961131</td>\n",
              "      <td>2.464177</td>\n",
              "      <td>0.769727</td>\n",
              "      <td>-1.677835</td>\n",
              "      <td>-0.264555</td>\n",
              "      <td>-0.752586</td>\n",
              "      <td>-0.444199</td>\n",
              "      <td>0.736922</td>\n",
              "      <td>0.516300</td>\n",
              "      <td>-0.333578</td>\n",
              "      <td>-0.471416</td>\n",
              "      <td>1.857264</td>\n",
              "      <td>0.445935</td>\n",
              "      <td>-0.247741</td>\n",
              "      <td>1.609412</td>\n",
              "      <td>-1.949613</td>\n",
              "      <td>0.008885</td>\n",
              "      <td>-0.406072</td>\n",
              "      <td>0.012527</td>\n",
              "      <td>0.556883</td>\n",
              "      <td>-1.052852</td>\n",
              "      <td>0.179824</td>\n",
              "      <td>-0.879074</td>\n",
              "      <td>0.671705</td>\n",
              "      <td>-0.040643</td>\n",
              "      <td>-0.617697</td>\n",
              "      <td>0.575995</td>\n",
              "      <td>-0.431744</td>\n",
              "      <td>0.018294</td>\n",
              "      <td>280.848610</td>\n",
              "      <td>0</td>\n",
              "    </tr>\n",
              "    <tr>\n",
              "      <th>2</th>\n",
              "      <td>3</td>\n",
              "      <td>182977.585124</td>\n",
              "      <td>-0.928121</td>\n",
              "      <td>-0.347480</td>\n",
              "      <td>-0.562512</td>\n",
              "      <td>0.324371</td>\n",
              "      <td>0.141313</td>\n",
              "      <td>1.307359</td>\n",
              "      <td>-0.128218</td>\n",
              "      <td>-0.978227</td>\n",
              "      <td>-0.779199</td>\n",
              "      <td>-1.961890</td>\n",
              "      <td>-1.267183</td>\n",
              "      <td>-0.237118</td>\n",
              "      <td>-0.394160</td>\n",
              "      <td>-0.653186</td>\n",
              "      <td>-0.410073</td>\n",
              "      <td>-1.107511</td>\n",
              "      <td>1.331703</td>\n",
              "      <td>-0.485902</td>\n",
              "      <td>0.016075</td>\n",
              "      <td>0.170843</td>\n",
              "      <td>-0.142135</td>\n",
              "      <td>0.152564</td>\n",
              "      <td>0.278665</td>\n",
              "      <td>1.235203</td>\n",
              "      <td>0.032195</td>\n",
              "      <td>0.843445</td>\n",
              "      <td>-0.154998</td>\n",
              "      <td>-0.157450</td>\n",
              "      <td>258.813132</td>\n",
              "      <td>0</td>\n",
              "    </tr>\n",
              "    <tr>\n",
              "      <th>3</th>\n",
              "      <td>4</td>\n",
              "      <td>125476.880682</td>\n",
              "      <td>-5.294014</td>\n",
              "      <td>-7.711289</td>\n",
              "      <td>-0.187482</td>\n",
              "      <td>0.446199</td>\n",
              "      <td>5.035787</td>\n",
              "      <td>-3.538694</td>\n",
              "      <td>-3.209072</td>\n",
              "      <td>-0.210478</td>\n",
              "      <td>0.789281</td>\n",
              "      <td>-0.214555</td>\n",
              "      <td>0.994566</td>\n",
              "      <td>0.438681</td>\n",
              "      <td>-1.441440</td>\n",
              "      <td>0.722324</td>\n",
              "      <td>-0.311711</td>\n",
              "      <td>-3.100765</td>\n",
              "      <td>-0.468878</td>\n",
              "      <td>1.904907</td>\n",
              "      <td>-0.779730</td>\n",
              "      <td>1.658596</td>\n",
              "      <td>0.579284</td>\n",
              "      <td>0.368786</td>\n",
              "      <td>1.080375</td>\n",
              "      <td>0.389435</td>\n",
              "      <td>0.095096</td>\n",
              "      <td>-0.034558</td>\n",
              "      <td>-0.230594</td>\n",
              "      <td>0.054191</td>\n",
              "      <td>169.302354</td>\n",
              "      <td>0</td>\n",
              "    </tr>\n",
              "    <tr>\n",
              "      <th>4</th>\n",
              "      <td>5</td>\n",
              "      <td>109467.436111</td>\n",
              "      <td>-3.310566</td>\n",
              "      <td>2.543741</td>\n",
              "      <td>-0.454611</td>\n",
              "      <td>-1.164950</td>\n",
              "      <td>-0.014708</td>\n",
              "      <td>-0.371611</td>\n",
              "      <td>-1.120068</td>\n",
              "      <td>-3.462906</td>\n",
              "      <td>2.214135</td>\n",
              "      <td>-0.178497</td>\n",
              "      <td>-0.395631</td>\n",
              "      <td>-3.075713</td>\n",
              "      <td>2.190316</td>\n",
              "      <td>0.706173</td>\n",
              "      <td>-0.357781</td>\n",
              "      <td>0.386493</td>\n",
              "      <td>0.262908</td>\n",
              "      <td>0.092927</td>\n",
              "      <td>-0.522715</td>\n",
              "      <td>-1.023052</td>\n",
              "      <td>2.406482</td>\n",
              "      <td>-1.435943</td>\n",
              "      <td>0.564870</td>\n",
              "      <td>-0.595498</td>\n",
              "      <td>-0.913191</td>\n",
              "      <td>0.085156</td>\n",
              "      <td>0.123373</td>\n",
              "      <td>-0.002864</td>\n",
              "      <td>19.754487</td>\n",
              "      <td>0</td>\n",
              "    </tr>\n",
              "  </tbody>\n",
              "</table>\n",
              "</div>"
            ],
            "text/plain": [
              "   Unnamed: 0           Time        V1  ...       V28      Amount  Class\n",
              "0           1  217205.803513 -2.567981  ... -0.628274  160.405993      0\n",
              "1           2  152178.961131  2.464177  ...  0.018294  280.848610      0\n",
              "2           3  182977.585124 -0.928121  ... -0.157450  258.813132      0\n",
              "3           4  125476.880682 -5.294014  ...  0.054191  169.302354      0\n",
              "4           5  109467.436111 -3.310566  ... -0.002864   19.754487      0\n",
              "\n",
              "[5 rows x 32 columns]"
            ]
          },
          "metadata": {
            "tags": []
          },
          "execution_count": 79
        }
      ]
    },
    {
      "cell_type": "code",
      "metadata": {
        "id": "gC-EHJdeAJVA",
        "outputId": "f7215b19-f12f-4209-d44a-c256e86a9755",
        "colab": {
          "base_uri": "https://localhost:8080/",
          "height": 241
        }
      },
      "source": [
        "rose_teste.head()"
      ],
      "execution_count": 80,
      "outputs": [
        {
          "output_type": "execute_result",
          "data": {
            "text/html": [
              "<div>\n",
              "<style scoped>\n",
              "    .dataframe tbody tr th:only-of-type {\n",
              "        vertical-align: middle;\n",
              "    }\n",
              "\n",
              "    .dataframe tbody tr th {\n",
              "        vertical-align: top;\n",
              "    }\n",
              "\n",
              "    .dataframe thead th {\n",
              "        text-align: right;\n",
              "    }\n",
              "</style>\n",
              "<table border=\"1\" class=\"dataframe\">\n",
              "  <thead>\n",
              "    <tr style=\"text-align: right;\">\n",
              "      <th></th>\n",
              "      <th>Unnamed: 0</th>\n",
              "      <th>Time</th>\n",
              "      <th>V1</th>\n",
              "      <th>V2</th>\n",
              "      <th>V3</th>\n",
              "      <th>V4</th>\n",
              "      <th>V5</th>\n",
              "      <th>V6</th>\n",
              "      <th>V7</th>\n",
              "      <th>V8</th>\n",
              "      <th>V9</th>\n",
              "      <th>V10</th>\n",
              "      <th>V11</th>\n",
              "      <th>V12</th>\n",
              "      <th>V13</th>\n",
              "      <th>V14</th>\n",
              "      <th>V15</th>\n",
              "      <th>V16</th>\n",
              "      <th>V17</th>\n",
              "      <th>V18</th>\n",
              "      <th>V19</th>\n",
              "      <th>V20</th>\n",
              "      <th>V21</th>\n",
              "      <th>V22</th>\n",
              "      <th>V23</th>\n",
              "      <th>V24</th>\n",
              "      <th>V25</th>\n",
              "      <th>V26</th>\n",
              "      <th>V27</th>\n",
              "      <th>V28</th>\n",
              "      <th>Amount</th>\n",
              "      <th>Class</th>\n",
              "    </tr>\n",
              "  </thead>\n",
              "  <tbody>\n",
              "    <tr>\n",
              "      <th>0</th>\n",
              "      <td>1</td>\n",
              "      <td>100451.654404</td>\n",
              "      <td>0.835494</td>\n",
              "      <td>-0.515926</td>\n",
              "      <td>-1.917480</td>\n",
              "      <td>2.981701</td>\n",
              "      <td>-0.351667</td>\n",
              "      <td>-0.322559</td>\n",
              "      <td>-1.019767</td>\n",
              "      <td>0.854651</td>\n",
              "      <td>-0.396209</td>\n",
              "      <td>0.778483</td>\n",
              "      <td>-0.914643</td>\n",
              "      <td>-0.567016</td>\n",
              "      <td>-0.849374</td>\n",
              "      <td>0.324713</td>\n",
              "      <td>1.020657</td>\n",
              "      <td>0.559622</td>\n",
              "      <td>-0.627162</td>\n",
              "      <td>0.680035</td>\n",
              "      <td>-0.787069</td>\n",
              "      <td>-0.249650</td>\n",
              "      <td>-0.892906</td>\n",
              "      <td>-0.026410</td>\n",
              "      <td>0.222306</td>\n",
              "      <td>0.324409</td>\n",
              "      <td>0.893922</td>\n",
              "      <td>-0.455777</td>\n",
              "      <td>0.014020</td>\n",
              "      <td>0.180375</td>\n",
              "      <td>44.663140</td>\n",
              "      <td>0</td>\n",
              "    </tr>\n",
              "    <tr>\n",
              "      <th>1</th>\n",
              "      <td>2</td>\n",
              "      <td>89789.404102</td>\n",
              "      <td>0.796821</td>\n",
              "      <td>1.157225</td>\n",
              "      <td>0.964042</td>\n",
              "      <td>0.713635</td>\n",
              "      <td>-1.718851</td>\n",
              "      <td>-0.481958</td>\n",
              "      <td>-2.237540</td>\n",
              "      <td>-1.159084</td>\n",
              "      <td>1.449394</td>\n",
              "      <td>1.268521</td>\n",
              "      <td>-1.749091</td>\n",
              "      <td>0.640670</td>\n",
              "      <td>-0.580593</td>\n",
              "      <td>-1.279014</td>\n",
              "      <td>-0.240555</td>\n",
              "      <td>0.316832</td>\n",
              "      <td>0.292700</td>\n",
              "      <td>0.793222</td>\n",
              "      <td>-0.003040</td>\n",
              "      <td>-0.070233</td>\n",
              "      <td>-0.376944</td>\n",
              "      <td>0.445669</td>\n",
              "      <td>-0.363435</td>\n",
              "      <td>1.005757</td>\n",
              "      <td>0.197879</td>\n",
              "      <td>-0.779452</td>\n",
              "      <td>0.434642</td>\n",
              "      <td>0.060588</td>\n",
              "      <td>-4.513026</td>\n",
              "      <td>0</td>\n",
              "    </tr>\n",
              "    <tr>\n",
              "      <th>2</th>\n",
              "      <td>3</td>\n",
              "      <td>69703.722904</td>\n",
              "      <td>1.506110</td>\n",
              "      <td>1.500464</td>\n",
              "      <td>1.840818</td>\n",
              "      <td>-3.023737</td>\n",
              "      <td>-0.493129</td>\n",
              "      <td>0.512150</td>\n",
              "      <td>0.668140</td>\n",
              "      <td>1.061339</td>\n",
              "      <td>0.582431</td>\n",
              "      <td>-0.627479</td>\n",
              "      <td>2.122898</td>\n",
              "      <td>-0.221596</td>\n",
              "      <td>0.641509</td>\n",
              "      <td>1.255493</td>\n",
              "      <td>0.871446</td>\n",
              "      <td>-2.370964</td>\n",
              "      <td>0.642706</td>\n",
              "      <td>-0.507503</td>\n",
              "      <td>3.282407</td>\n",
              "      <td>-0.076969</td>\n",
              "      <td>0.167389</td>\n",
              "      <td>0.441469</td>\n",
              "      <td>0.128360</td>\n",
              "      <td>-0.387545</td>\n",
              "      <td>0.227522</td>\n",
              "      <td>-0.344947</td>\n",
              "      <td>0.226256</td>\n",
              "      <td>0.078189</td>\n",
              "      <td>-282.077495</td>\n",
              "      <td>0</td>\n",
              "    </tr>\n",
              "    <tr>\n",
              "      <th>3</th>\n",
              "      <td>4</td>\n",
              "      <td>43316.890993</td>\n",
              "      <td>-0.425023</td>\n",
              "      <td>-1.926346</td>\n",
              "      <td>2.905975</td>\n",
              "      <td>0.331543</td>\n",
              "      <td>-0.731026</td>\n",
              "      <td>-1.045221</td>\n",
              "      <td>-0.665823</td>\n",
              "      <td>0.051061</td>\n",
              "      <td>1.105838</td>\n",
              "      <td>-0.901832</td>\n",
              "      <td>-0.559504</td>\n",
              "      <td>1.512642</td>\n",
              "      <td>0.457490</td>\n",
              "      <td>-0.023867</td>\n",
              "      <td>1.941779</td>\n",
              "      <td>1.116098</td>\n",
              "      <td>-0.768118</td>\n",
              "      <td>0.583072</td>\n",
              "      <td>-0.524923</td>\n",
              "      <td>-0.350025</td>\n",
              "      <td>0.892887</td>\n",
              "      <td>0.031339</td>\n",
              "      <td>0.055278</td>\n",
              "      <td>0.458679</td>\n",
              "      <td>0.012613</td>\n",
              "      <td>0.405719</td>\n",
              "      <td>0.200270</td>\n",
              "      <td>0.239794</td>\n",
              "      <td>7.302140</td>\n",
              "      <td>0</td>\n",
              "    </tr>\n",
              "    <tr>\n",
              "      <th>4</th>\n",
              "      <td>5</td>\n",
              "      <td>156815.482578</td>\n",
              "      <td>0.449738</td>\n",
              "      <td>1.459230</td>\n",
              "      <td>-0.217602</td>\n",
              "      <td>-1.837296</td>\n",
              "      <td>-0.087504</td>\n",
              "      <td>-1.838171</td>\n",
              "      <td>0.180964</td>\n",
              "      <td>0.316996</td>\n",
              "      <td>0.621333</td>\n",
              "      <td>-0.920477</td>\n",
              "      <td>-1.362959</td>\n",
              "      <td>-0.178791</td>\n",
              "      <td>-1.649568</td>\n",
              "      <td>-1.221910</td>\n",
              "      <td>-0.487833</td>\n",
              "      <td>-0.074288</td>\n",
              "      <td>0.266133</td>\n",
              "      <td>-0.356626</td>\n",
              "      <td>0.269816</td>\n",
              "      <td>-0.293671</td>\n",
              "      <td>-0.120940</td>\n",
              "      <td>-1.687764</td>\n",
              "      <td>0.796283</td>\n",
              "      <td>0.446470</td>\n",
              "      <td>0.003706</td>\n",
              "      <td>0.470983</td>\n",
              "      <td>0.442681</td>\n",
              "      <td>0.207617</td>\n",
              "      <td>-41.468278</td>\n",
              "      <td>0</td>\n",
              "    </tr>\n",
              "  </tbody>\n",
              "</table>\n",
              "</div>"
            ],
            "text/plain": [
              "   Unnamed: 0           Time        V1  ...       V28      Amount  Class\n",
              "0           1  100451.654404  0.835494  ...  0.180375   44.663140      0\n",
              "1           2   89789.404102  0.796821  ...  0.060588   -4.513026      0\n",
              "2           3   69703.722904  1.506110  ...  0.078189 -282.077495      0\n",
              "3           4   43316.890993 -0.425023  ...  0.239794    7.302140      0\n",
              "4           5  156815.482578  0.449738  ...  0.207617  -41.468278      0\n",
              "\n",
              "[5 rows x 32 columns]"
            ]
          },
          "metadata": {
            "tags": []
          },
          "execution_count": 80
        }
      ]
    },
    {
      "cell_type": "code",
      "metadata": {
        "id": "XLclFADNAYRQ",
        "outputId": "ccbc21a8-3af3-4ad8-cf74-bfb121b97c3e",
        "colab": {
          "base_uri": "https://localhost:8080/",
          "height": 241
        }
      },
      "source": [
        "teste_R.head()"
      ],
      "execution_count": 81,
      "outputs": [
        {
          "output_type": "execute_result",
          "data": {
            "text/html": [
              "<div>\n",
              "<style scoped>\n",
              "    .dataframe tbody tr th:only-of-type {\n",
              "        vertical-align: middle;\n",
              "    }\n",
              "\n",
              "    .dataframe tbody tr th {\n",
              "        vertical-align: top;\n",
              "    }\n",
              "\n",
              "    .dataframe thead th {\n",
              "        text-align: right;\n",
              "    }\n",
              "</style>\n",
              "<table border=\"1\" class=\"dataframe\">\n",
              "  <thead>\n",
              "    <tr style=\"text-align: right;\">\n",
              "      <th></th>\n",
              "      <th>Unnamed: 0</th>\n",
              "      <th>Time</th>\n",
              "      <th>V1</th>\n",
              "      <th>V2</th>\n",
              "      <th>V3</th>\n",
              "      <th>V4</th>\n",
              "      <th>V5</th>\n",
              "      <th>V6</th>\n",
              "      <th>V7</th>\n",
              "      <th>V8</th>\n",
              "      <th>V9</th>\n",
              "      <th>V10</th>\n",
              "      <th>V11</th>\n",
              "      <th>V12</th>\n",
              "      <th>V13</th>\n",
              "      <th>V14</th>\n",
              "      <th>V15</th>\n",
              "      <th>V16</th>\n",
              "      <th>V17</th>\n",
              "      <th>V18</th>\n",
              "      <th>V19</th>\n",
              "      <th>V20</th>\n",
              "      <th>V21</th>\n",
              "      <th>V22</th>\n",
              "      <th>V23</th>\n",
              "      <th>V24</th>\n",
              "      <th>V25</th>\n",
              "      <th>V26</th>\n",
              "      <th>V27</th>\n",
              "      <th>V28</th>\n",
              "      <th>Amount</th>\n",
              "      <th>Class</th>\n",
              "    </tr>\n",
              "  </thead>\n",
              "  <tbody>\n",
              "    <tr>\n",
              "      <th>0</th>\n",
              "      <td>1</td>\n",
              "      <td>0</td>\n",
              "      <td>1.191857</td>\n",
              "      <td>0.266151</td>\n",
              "      <td>0.166480</td>\n",
              "      <td>0.448154</td>\n",
              "      <td>0.060018</td>\n",
              "      <td>-0.082361</td>\n",
              "      <td>-0.078803</td>\n",
              "      <td>0.085102</td>\n",
              "      <td>-0.255425</td>\n",
              "      <td>-0.166974</td>\n",
              "      <td>1.612727</td>\n",
              "      <td>1.065235</td>\n",
              "      <td>0.489095</td>\n",
              "      <td>-0.143772</td>\n",
              "      <td>0.635558</td>\n",
              "      <td>0.463917</td>\n",
              "      <td>-0.114805</td>\n",
              "      <td>-0.183361</td>\n",
              "      <td>-0.145783</td>\n",
              "      <td>-0.069083</td>\n",
              "      <td>-0.225775</td>\n",
              "      <td>-0.638672</td>\n",
              "      <td>0.101288</td>\n",
              "      <td>-0.339846</td>\n",
              "      <td>0.167170</td>\n",
              "      <td>0.125895</td>\n",
              "      <td>-0.008983</td>\n",
              "      <td>0.014724</td>\n",
              "      <td>2.69</td>\n",
              "      <td>0</td>\n",
              "    </tr>\n",
              "    <tr>\n",
              "      <th>1</th>\n",
              "      <td>2</td>\n",
              "      <td>10</td>\n",
              "      <td>1.249999</td>\n",
              "      <td>-1.221637</td>\n",
              "      <td>0.383930</td>\n",
              "      <td>-1.234899</td>\n",
              "      <td>-1.485419</td>\n",
              "      <td>-0.753230</td>\n",
              "      <td>-0.689405</td>\n",
              "      <td>-0.227487</td>\n",
              "      <td>-2.094011</td>\n",
              "      <td>1.323729</td>\n",
              "      <td>0.227666</td>\n",
              "      <td>-0.242682</td>\n",
              "      <td>1.205417</td>\n",
              "      <td>-0.317631</td>\n",
              "      <td>0.725675</td>\n",
              "      <td>-0.815612</td>\n",
              "      <td>0.873936</td>\n",
              "      <td>-0.847789</td>\n",
              "      <td>-0.683193</td>\n",
              "      <td>-0.102756</td>\n",
              "      <td>-0.231809</td>\n",
              "      <td>-0.483285</td>\n",
              "      <td>0.084668</td>\n",
              "      <td>0.392831</td>\n",
              "      <td>0.161135</td>\n",
              "      <td>-0.354990</td>\n",
              "      <td>0.026416</td>\n",
              "      <td>0.042422</td>\n",
              "      <td>121.50</td>\n",
              "      <td>0</td>\n",
              "    </tr>\n",
              "    <tr>\n",
              "      <th>2</th>\n",
              "      <td>3</td>\n",
              "      <td>12</td>\n",
              "      <td>1.103215</td>\n",
              "      <td>-0.040296</td>\n",
              "      <td>1.267332</td>\n",
              "      <td>1.289091</td>\n",
              "      <td>-0.735997</td>\n",
              "      <td>0.288069</td>\n",
              "      <td>-0.586057</td>\n",
              "      <td>0.189380</td>\n",
              "      <td>0.782333</td>\n",
              "      <td>-0.267975</td>\n",
              "      <td>-0.450311</td>\n",
              "      <td>0.936708</td>\n",
              "      <td>0.708380</td>\n",
              "      <td>-0.468647</td>\n",
              "      <td>0.354574</td>\n",
              "      <td>-0.246635</td>\n",
              "      <td>-0.009212</td>\n",
              "      <td>-0.595912</td>\n",
              "      <td>-0.575682</td>\n",
              "      <td>-0.113910</td>\n",
              "      <td>-0.024612</td>\n",
              "      <td>0.196002</td>\n",
              "      <td>0.013802</td>\n",
              "      <td>0.103758</td>\n",
              "      <td>0.364298</td>\n",
              "      <td>-0.382261</td>\n",
              "      <td>0.092809</td>\n",
              "      <td>0.037051</td>\n",
              "      <td>12.99</td>\n",
              "      <td>0</td>\n",
              "    </tr>\n",
              "    <tr>\n",
              "      <th>3</th>\n",
              "      <td>4</td>\n",
              "      <td>13</td>\n",
              "      <td>-0.436905</td>\n",
              "      <td>0.918966</td>\n",
              "      <td>0.924591</td>\n",
              "      <td>-0.727219</td>\n",
              "      <td>0.915679</td>\n",
              "      <td>-0.127867</td>\n",
              "      <td>0.707642</td>\n",
              "      <td>0.087962</td>\n",
              "      <td>-0.665271</td>\n",
              "      <td>-0.737980</td>\n",
              "      <td>0.324098</td>\n",
              "      <td>0.277192</td>\n",
              "      <td>0.252624</td>\n",
              "      <td>-0.291896</td>\n",
              "      <td>-0.184520</td>\n",
              "      <td>1.143174</td>\n",
              "      <td>-0.928709</td>\n",
              "      <td>0.680470</td>\n",
              "      <td>0.025436</td>\n",
              "      <td>-0.047021</td>\n",
              "      <td>-0.194796</td>\n",
              "      <td>-0.672638</td>\n",
              "      <td>-0.156858</td>\n",
              "      <td>-0.888386</td>\n",
              "      <td>-0.342413</td>\n",
              "      <td>-0.049027</td>\n",
              "      <td>0.079692</td>\n",
              "      <td>0.131024</td>\n",
              "      <td>0.89</td>\n",
              "      <td>0</td>\n",
              "    </tr>\n",
              "    <tr>\n",
              "      <th>4</th>\n",
              "      <td>5</td>\n",
              "      <td>15</td>\n",
              "      <td>1.492936</td>\n",
              "      <td>-1.029346</td>\n",
              "      <td>0.454795</td>\n",
              "      <td>-1.438026</td>\n",
              "      <td>-1.555434</td>\n",
              "      <td>-0.720961</td>\n",
              "      <td>-1.080664</td>\n",
              "      <td>-0.053127</td>\n",
              "      <td>-1.978682</td>\n",
              "      <td>1.638076</td>\n",
              "      <td>1.077542</td>\n",
              "      <td>-0.632047</td>\n",
              "      <td>-0.416957</td>\n",
              "      <td>0.052011</td>\n",
              "      <td>-0.042979</td>\n",
              "      <td>-0.166432</td>\n",
              "      <td>0.304241</td>\n",
              "      <td>0.554432</td>\n",
              "      <td>0.054230</td>\n",
              "      <td>-0.387910</td>\n",
              "      <td>-0.177650</td>\n",
              "      <td>-0.175074</td>\n",
              "      <td>0.040002</td>\n",
              "      <td>0.295814</td>\n",
              "      <td>0.332931</td>\n",
              "      <td>-0.220385</td>\n",
              "      <td>0.022298</td>\n",
              "      <td>0.007602</td>\n",
              "      <td>5.00</td>\n",
              "      <td>0</td>\n",
              "    </tr>\n",
              "  </tbody>\n",
              "</table>\n",
              "</div>"
            ],
            "text/plain": [
              "   Unnamed: 0  Time        V1        V2  ...       V27       V28  Amount  Class\n",
              "0           1     0  1.191857  0.266151  ... -0.008983  0.014724    2.69      0\n",
              "1           2    10  1.249999 -1.221637  ...  0.026416  0.042422  121.50      0\n",
              "2           3    12  1.103215 -0.040296  ...  0.092809  0.037051   12.99      0\n",
              "3           4    13 -0.436905  0.918966  ...  0.079692  0.131024    0.89      0\n",
              "4           5    15  1.492936 -1.029346  ...  0.022298  0.007602    5.00      0\n",
              "\n",
              "[5 rows x 32 columns]"
            ]
          },
          "metadata": {
            "tags": []
          },
          "execution_count": 81
        }
      ]
    },
    {
      "cell_type": "markdown",
      "metadata": {
        "id": "ecRghx8lA0al"
      },
      "source": [
        "## Excluir a coluna Unnamed:0"
      ]
    },
    {
      "cell_type": "code",
      "metadata": {
        "id": "CbP3kr3ZAfjW",
        "outputId": "89ee07ee-52ee-45ed-91e8-d8454fe2d853",
        "colab": {
          "base_uri": "https://localhost:8080/",
          "height": 102
        }
      },
      "source": [
        "#visualizar o nome das colunas\n",
        "rose_treino.columns\n"
      ],
      "execution_count": 82,
      "outputs": [
        {
          "output_type": "execute_result",
          "data": {
            "text/plain": [
              "Index(['Unnamed: 0', 'Time', 'V1', 'V2', 'V3', 'V4', 'V5', 'V6', 'V7', 'V8',\n",
              "       'V9', 'V10', 'V11', 'V12', 'V13', 'V14', 'V15', 'V16', 'V17', 'V18',\n",
              "       'V19', 'V20', 'V21', 'V22', 'V23', 'V24', 'V25', 'V26', 'V27', 'V28',\n",
              "       'Amount', 'Class'],\n",
              "      dtype='object')"
            ]
          },
          "metadata": {
            "tags": []
          },
          "execution_count": 82
        }
      ]
    },
    {
      "cell_type": "markdown",
      "metadata": {
        "id": "oq7pzfqbBP9g"
      },
      "source": [
        "Drop"
      ]
    },
    {
      "cell_type": "code",
      "metadata": {
        "id": "DVFmTi6TBNGW"
      },
      "source": [
        "#usando o drop\n",
        "rose_treino.drop('Unnamed: 0', axis=1, inplace=True)"
      ],
      "execution_count": 83,
      "outputs": []
    },
    {
      "cell_type": "code",
      "metadata": {
        "id": "YBHwYSP3Cl1V",
        "outputId": "7ca3f0ec-ff86-489a-a47b-1335bdc9abbd",
        "colab": {
          "base_uri": "https://localhost:8080/",
          "height": 224
        }
      },
      "source": [
        "rose_treino.sample(5)"
      ],
      "execution_count": 84,
      "outputs": [
        {
          "output_type": "execute_result",
          "data": {
            "text/html": [
              "<div>\n",
              "<style scoped>\n",
              "    .dataframe tbody tr th:only-of-type {\n",
              "        vertical-align: middle;\n",
              "    }\n",
              "\n",
              "    .dataframe tbody tr th {\n",
              "        vertical-align: top;\n",
              "    }\n",
              "\n",
              "    .dataframe thead th {\n",
              "        text-align: right;\n",
              "    }\n",
              "</style>\n",
              "<table border=\"1\" class=\"dataframe\">\n",
              "  <thead>\n",
              "    <tr style=\"text-align: right;\">\n",
              "      <th></th>\n",
              "      <th>Time</th>\n",
              "      <th>V1</th>\n",
              "      <th>V2</th>\n",
              "      <th>V3</th>\n",
              "      <th>V4</th>\n",
              "      <th>V5</th>\n",
              "      <th>V6</th>\n",
              "      <th>V7</th>\n",
              "      <th>V8</th>\n",
              "      <th>V9</th>\n",
              "      <th>V10</th>\n",
              "      <th>V11</th>\n",
              "      <th>V12</th>\n",
              "      <th>V13</th>\n",
              "      <th>V14</th>\n",
              "      <th>V15</th>\n",
              "      <th>V16</th>\n",
              "      <th>V17</th>\n",
              "      <th>V18</th>\n",
              "      <th>V19</th>\n",
              "      <th>V20</th>\n",
              "      <th>V21</th>\n",
              "      <th>V22</th>\n",
              "      <th>V23</th>\n",
              "      <th>V24</th>\n",
              "      <th>V25</th>\n",
              "      <th>V26</th>\n",
              "      <th>V27</th>\n",
              "      <th>V28</th>\n",
              "      <th>Amount</th>\n",
              "      <th>Class</th>\n",
              "    </tr>\n",
              "  </thead>\n",
              "  <tbody>\n",
              "    <tr>\n",
              "      <th>66382</th>\n",
              "      <td>83434.500514</td>\n",
              "      <td>-3.576780</td>\n",
              "      <td>-1.663907</td>\n",
              "      <td>-0.015275</td>\n",
              "      <td>-1.874741</td>\n",
              "      <td>-0.726536</td>\n",
              "      <td>-1.623651</td>\n",
              "      <td>0.157485</td>\n",
              "      <td>1.676740</td>\n",
              "      <td>-1.815686</td>\n",
              "      <td>0.423277</td>\n",
              "      <td>1.702398</td>\n",
              "      <td>0.194744</td>\n",
              "      <td>0.906117</td>\n",
              "      <td>1.262864</td>\n",
              "      <td>-0.739549</td>\n",
              "      <td>-0.765386</td>\n",
              "      <td>0.290493</td>\n",
              "      <td>0.760803</td>\n",
              "      <td>-0.357709</td>\n",
              "      <td>0.695450</td>\n",
              "      <td>-0.438840</td>\n",
              "      <td>-0.879436</td>\n",
              "      <td>-0.065822</td>\n",
              "      <td>0.433372</td>\n",
              "      <td>0.386501</td>\n",
              "      <td>1.028376</td>\n",
              "      <td>-0.827216</td>\n",
              "      <td>-0.690251</td>\n",
              "      <td>216.117174</td>\n",
              "      <td>0</td>\n",
              "    </tr>\n",
              "    <tr>\n",
              "      <th>99658</th>\n",
              "      <td>124109.822049</td>\n",
              "      <td>-1.976096</td>\n",
              "      <td>4.577101</td>\n",
              "      <td>-0.908729</td>\n",
              "      <td>3.078257</td>\n",
              "      <td>0.527572</td>\n",
              "      <td>-3.322396</td>\n",
              "      <td>-2.925775</td>\n",
              "      <td>1.151764</td>\n",
              "      <td>-6.741386</td>\n",
              "      <td>0.643991</td>\n",
              "      <td>4.765706</td>\n",
              "      <td>-3.977460</td>\n",
              "      <td>-0.079299</td>\n",
              "      <td>-11.507115</td>\n",
              "      <td>1.539888</td>\n",
              "      <td>-4.760894</td>\n",
              "      <td>-6.816735</td>\n",
              "      <td>-0.356043</td>\n",
              "      <td>1.110055</td>\n",
              "      <td>1.053251</td>\n",
              "      <td>-0.203148</td>\n",
              "      <td>1.637836</td>\n",
              "      <td>-1.573440</td>\n",
              "      <td>-0.959306</td>\n",
              "      <td>0.773941</td>\n",
              "      <td>-0.903076</td>\n",
              "      <td>0.730946</td>\n",
              "      <td>0.607904</td>\n",
              "      <td>-178.719642</td>\n",
              "      <td>1</td>\n",
              "    </tr>\n",
              "    <tr>\n",
              "      <th>152352</th>\n",
              "      <td>22361.065997</td>\n",
              "      <td>2.871141</td>\n",
              "      <td>-3.255087</td>\n",
              "      <td>16.328594</td>\n",
              "      <td>1.971154</td>\n",
              "      <td>3.293299</td>\n",
              "      <td>2.015611</td>\n",
              "      <td>0.516155</td>\n",
              "      <td>0.179140</td>\n",
              "      <td>-2.288279</td>\n",
              "      <td>-0.246381</td>\n",
              "      <td>-2.270659</td>\n",
              "      <td>-7.110902</td>\n",
              "      <td>-2.341176</td>\n",
              "      <td>1.414579</td>\n",
              "      <td>0.656343</td>\n",
              "      <td>7.007639</td>\n",
              "      <td>6.007469</td>\n",
              "      <td>0.697928</td>\n",
              "      <td>-1.466749</td>\n",
              "      <td>-0.146154</td>\n",
              "      <td>3.477120</td>\n",
              "      <td>-1.707392</td>\n",
              "      <td>0.848642</td>\n",
              "      <td>-0.257220</td>\n",
              "      <td>0.427215</td>\n",
              "      <td>0.494376</td>\n",
              "      <td>-0.537849</td>\n",
              "      <td>0.113346</td>\n",
              "      <td>-116.949872</td>\n",
              "      <td>1</td>\n",
              "    </tr>\n",
              "    <tr>\n",
              "      <th>65164</th>\n",
              "      <td>124613.412429</td>\n",
              "      <td>0.629634</td>\n",
              "      <td>-0.916282</td>\n",
              "      <td>2.072696</td>\n",
              "      <td>-0.023037</td>\n",
              "      <td>-0.180579</td>\n",
              "      <td>2.193970</td>\n",
              "      <td>-0.583422</td>\n",
              "      <td>-0.024205</td>\n",
              "      <td>1.472859</td>\n",
              "      <td>-0.310978</td>\n",
              "      <td>-0.175671</td>\n",
              "      <td>0.412602</td>\n",
              "      <td>0.865807</td>\n",
              "      <td>-0.955302</td>\n",
              "      <td>-0.526738</td>\n",
              "      <td>1.028661</td>\n",
              "      <td>-0.251546</td>\n",
              "      <td>1.319955</td>\n",
              "      <td>0.331585</td>\n",
              "      <td>-0.689489</td>\n",
              "      <td>0.314553</td>\n",
              "      <td>0.256246</td>\n",
              "      <td>-0.491107</td>\n",
              "      <td>-0.026499</td>\n",
              "      <td>0.251065</td>\n",
              "      <td>0.457714</td>\n",
              "      <td>-0.037979</td>\n",
              "      <td>0.248067</td>\n",
              "      <td>-94.209638</td>\n",
              "      <td>0</td>\n",
              "    </tr>\n",
              "    <tr>\n",
              "      <th>27577</th>\n",
              "      <td>129464.098272</td>\n",
              "      <td>0.635370</td>\n",
              "      <td>0.309681</td>\n",
              "      <td>2.406266</td>\n",
              "      <td>-0.870326</td>\n",
              "      <td>0.348453</td>\n",
              "      <td>0.066139</td>\n",
              "      <td>-0.871218</td>\n",
              "      <td>-0.286118</td>\n",
              "      <td>-0.143303</td>\n",
              "      <td>-0.856726</td>\n",
              "      <td>-0.226555</td>\n",
              "      <td>0.811953</td>\n",
              "      <td>1.279342</td>\n",
              "      <td>-1.590399</td>\n",
              "      <td>0.573912</td>\n",
              "      <td>1.035473</td>\n",
              "      <td>0.103139</td>\n",
              "      <td>-0.717821</td>\n",
              "      <td>0.324178</td>\n",
              "      <td>-0.513518</td>\n",
              "      <td>0.939821</td>\n",
              "      <td>0.342293</td>\n",
              "      <td>-0.585367</td>\n",
              "      <td>0.775575</td>\n",
              "      <td>-0.301086</td>\n",
              "      <td>-0.094232</td>\n",
              "      <td>0.235038</td>\n",
              "      <td>0.346548</td>\n",
              "      <td>-13.671186</td>\n",
              "      <td>0</td>\n",
              "    </tr>\n",
              "  </tbody>\n",
              "</table>\n",
              "</div>"
            ],
            "text/plain": [
              "                 Time        V1        V2  ...       V28      Amount  Class\n",
              "66382    83434.500514 -3.576780 -1.663907  ... -0.690251  216.117174      0\n",
              "99658   124109.822049 -1.976096  4.577101  ...  0.607904 -178.719642      1\n",
              "152352   22361.065997  2.871141 -3.255087  ...  0.113346 -116.949872      1\n",
              "65164   124613.412429  0.629634 -0.916282  ...  0.248067  -94.209638      0\n",
              "27577   129464.098272  0.635370  0.309681  ...  0.346548  -13.671186      0\n",
              "\n",
              "[5 rows x 31 columns]"
            ]
          },
          "metadata": {
            "tags": []
          },
          "execution_count": 84
        }
      ]
    },
    {
      "cell_type": "markdown",
      "metadata": {
        "id": "t17fb3mhCSWW"
      },
      "source": [
        "Set_Index"
      ]
    },
    {
      "cell_type": "code",
      "metadata": {
        "id": "ufoWXo2UBwmB"
      },
      "source": [
        "rose_teste.set_index('Unnamed: 0', inplace=True)"
      ],
      "execution_count": 85,
      "outputs": []
    },
    {
      "cell_type": "code",
      "metadata": {
        "id": "_NYXZwTGCguD",
        "outputId": "fe3501ff-28c6-4240-fba7-bfeb159dbe9d",
        "colab": {
          "base_uri": "https://localhost:8080/",
          "height": 272
        }
      },
      "source": [
        "rose_teste.head()"
      ],
      "execution_count": 86,
      "outputs": [
        {
          "output_type": "execute_result",
          "data": {
            "text/html": [
              "<div>\n",
              "<style scoped>\n",
              "    .dataframe tbody tr th:only-of-type {\n",
              "        vertical-align: middle;\n",
              "    }\n",
              "\n",
              "    .dataframe tbody tr th {\n",
              "        vertical-align: top;\n",
              "    }\n",
              "\n",
              "    .dataframe thead th {\n",
              "        text-align: right;\n",
              "    }\n",
              "</style>\n",
              "<table border=\"1\" class=\"dataframe\">\n",
              "  <thead>\n",
              "    <tr style=\"text-align: right;\">\n",
              "      <th></th>\n",
              "      <th>Time</th>\n",
              "      <th>V1</th>\n",
              "      <th>V2</th>\n",
              "      <th>V3</th>\n",
              "      <th>V4</th>\n",
              "      <th>V5</th>\n",
              "      <th>V6</th>\n",
              "      <th>V7</th>\n",
              "      <th>V8</th>\n",
              "      <th>V9</th>\n",
              "      <th>V10</th>\n",
              "      <th>V11</th>\n",
              "      <th>V12</th>\n",
              "      <th>V13</th>\n",
              "      <th>V14</th>\n",
              "      <th>V15</th>\n",
              "      <th>V16</th>\n",
              "      <th>V17</th>\n",
              "      <th>V18</th>\n",
              "      <th>V19</th>\n",
              "      <th>V20</th>\n",
              "      <th>V21</th>\n",
              "      <th>V22</th>\n",
              "      <th>V23</th>\n",
              "      <th>V24</th>\n",
              "      <th>V25</th>\n",
              "      <th>V26</th>\n",
              "      <th>V27</th>\n",
              "      <th>V28</th>\n",
              "      <th>Amount</th>\n",
              "      <th>Class</th>\n",
              "    </tr>\n",
              "    <tr>\n",
              "      <th>Unnamed: 0</th>\n",
              "      <th></th>\n",
              "      <th></th>\n",
              "      <th></th>\n",
              "      <th></th>\n",
              "      <th></th>\n",
              "      <th></th>\n",
              "      <th></th>\n",
              "      <th></th>\n",
              "      <th></th>\n",
              "      <th></th>\n",
              "      <th></th>\n",
              "      <th></th>\n",
              "      <th></th>\n",
              "      <th></th>\n",
              "      <th></th>\n",
              "      <th></th>\n",
              "      <th></th>\n",
              "      <th></th>\n",
              "      <th></th>\n",
              "      <th></th>\n",
              "      <th></th>\n",
              "      <th></th>\n",
              "      <th></th>\n",
              "      <th></th>\n",
              "      <th></th>\n",
              "      <th></th>\n",
              "      <th></th>\n",
              "      <th></th>\n",
              "      <th></th>\n",
              "      <th></th>\n",
              "      <th></th>\n",
              "    </tr>\n",
              "  </thead>\n",
              "  <tbody>\n",
              "    <tr>\n",
              "      <th>1</th>\n",
              "      <td>100451.654404</td>\n",
              "      <td>0.835494</td>\n",
              "      <td>-0.515926</td>\n",
              "      <td>-1.917480</td>\n",
              "      <td>2.981701</td>\n",
              "      <td>-0.351667</td>\n",
              "      <td>-0.322559</td>\n",
              "      <td>-1.019767</td>\n",
              "      <td>0.854651</td>\n",
              "      <td>-0.396209</td>\n",
              "      <td>0.778483</td>\n",
              "      <td>-0.914643</td>\n",
              "      <td>-0.567016</td>\n",
              "      <td>-0.849374</td>\n",
              "      <td>0.324713</td>\n",
              "      <td>1.020657</td>\n",
              "      <td>0.559622</td>\n",
              "      <td>-0.627162</td>\n",
              "      <td>0.680035</td>\n",
              "      <td>-0.787069</td>\n",
              "      <td>-0.249650</td>\n",
              "      <td>-0.892906</td>\n",
              "      <td>-0.026410</td>\n",
              "      <td>0.222306</td>\n",
              "      <td>0.324409</td>\n",
              "      <td>0.893922</td>\n",
              "      <td>-0.455777</td>\n",
              "      <td>0.014020</td>\n",
              "      <td>0.180375</td>\n",
              "      <td>44.663140</td>\n",
              "      <td>0</td>\n",
              "    </tr>\n",
              "    <tr>\n",
              "      <th>2</th>\n",
              "      <td>89789.404102</td>\n",
              "      <td>0.796821</td>\n",
              "      <td>1.157225</td>\n",
              "      <td>0.964042</td>\n",
              "      <td>0.713635</td>\n",
              "      <td>-1.718851</td>\n",
              "      <td>-0.481958</td>\n",
              "      <td>-2.237540</td>\n",
              "      <td>-1.159084</td>\n",
              "      <td>1.449394</td>\n",
              "      <td>1.268521</td>\n",
              "      <td>-1.749091</td>\n",
              "      <td>0.640670</td>\n",
              "      <td>-0.580593</td>\n",
              "      <td>-1.279014</td>\n",
              "      <td>-0.240555</td>\n",
              "      <td>0.316832</td>\n",
              "      <td>0.292700</td>\n",
              "      <td>0.793222</td>\n",
              "      <td>-0.003040</td>\n",
              "      <td>-0.070233</td>\n",
              "      <td>-0.376944</td>\n",
              "      <td>0.445669</td>\n",
              "      <td>-0.363435</td>\n",
              "      <td>1.005757</td>\n",
              "      <td>0.197879</td>\n",
              "      <td>-0.779452</td>\n",
              "      <td>0.434642</td>\n",
              "      <td>0.060588</td>\n",
              "      <td>-4.513026</td>\n",
              "      <td>0</td>\n",
              "    </tr>\n",
              "    <tr>\n",
              "      <th>3</th>\n",
              "      <td>69703.722904</td>\n",
              "      <td>1.506110</td>\n",
              "      <td>1.500464</td>\n",
              "      <td>1.840818</td>\n",
              "      <td>-3.023737</td>\n",
              "      <td>-0.493129</td>\n",
              "      <td>0.512150</td>\n",
              "      <td>0.668140</td>\n",
              "      <td>1.061339</td>\n",
              "      <td>0.582431</td>\n",
              "      <td>-0.627479</td>\n",
              "      <td>2.122898</td>\n",
              "      <td>-0.221596</td>\n",
              "      <td>0.641509</td>\n",
              "      <td>1.255493</td>\n",
              "      <td>0.871446</td>\n",
              "      <td>-2.370964</td>\n",
              "      <td>0.642706</td>\n",
              "      <td>-0.507503</td>\n",
              "      <td>3.282407</td>\n",
              "      <td>-0.076969</td>\n",
              "      <td>0.167389</td>\n",
              "      <td>0.441469</td>\n",
              "      <td>0.128360</td>\n",
              "      <td>-0.387545</td>\n",
              "      <td>0.227522</td>\n",
              "      <td>-0.344947</td>\n",
              "      <td>0.226256</td>\n",
              "      <td>0.078189</td>\n",
              "      <td>-282.077495</td>\n",
              "      <td>0</td>\n",
              "    </tr>\n",
              "    <tr>\n",
              "      <th>4</th>\n",
              "      <td>43316.890993</td>\n",
              "      <td>-0.425023</td>\n",
              "      <td>-1.926346</td>\n",
              "      <td>2.905975</td>\n",
              "      <td>0.331543</td>\n",
              "      <td>-0.731026</td>\n",
              "      <td>-1.045221</td>\n",
              "      <td>-0.665823</td>\n",
              "      <td>0.051061</td>\n",
              "      <td>1.105838</td>\n",
              "      <td>-0.901832</td>\n",
              "      <td>-0.559504</td>\n",
              "      <td>1.512642</td>\n",
              "      <td>0.457490</td>\n",
              "      <td>-0.023867</td>\n",
              "      <td>1.941779</td>\n",
              "      <td>1.116098</td>\n",
              "      <td>-0.768118</td>\n",
              "      <td>0.583072</td>\n",
              "      <td>-0.524923</td>\n",
              "      <td>-0.350025</td>\n",
              "      <td>0.892887</td>\n",
              "      <td>0.031339</td>\n",
              "      <td>0.055278</td>\n",
              "      <td>0.458679</td>\n",
              "      <td>0.012613</td>\n",
              "      <td>0.405719</td>\n",
              "      <td>0.200270</td>\n",
              "      <td>0.239794</td>\n",
              "      <td>7.302140</td>\n",
              "      <td>0</td>\n",
              "    </tr>\n",
              "    <tr>\n",
              "      <th>5</th>\n",
              "      <td>156815.482578</td>\n",
              "      <td>0.449738</td>\n",
              "      <td>1.459230</td>\n",
              "      <td>-0.217602</td>\n",
              "      <td>-1.837296</td>\n",
              "      <td>-0.087504</td>\n",
              "      <td>-1.838171</td>\n",
              "      <td>0.180964</td>\n",
              "      <td>0.316996</td>\n",
              "      <td>0.621333</td>\n",
              "      <td>-0.920477</td>\n",
              "      <td>-1.362959</td>\n",
              "      <td>-0.178791</td>\n",
              "      <td>-1.649568</td>\n",
              "      <td>-1.221910</td>\n",
              "      <td>-0.487833</td>\n",
              "      <td>-0.074288</td>\n",
              "      <td>0.266133</td>\n",
              "      <td>-0.356626</td>\n",
              "      <td>0.269816</td>\n",
              "      <td>-0.293671</td>\n",
              "      <td>-0.120940</td>\n",
              "      <td>-1.687764</td>\n",
              "      <td>0.796283</td>\n",
              "      <td>0.446470</td>\n",
              "      <td>0.003706</td>\n",
              "      <td>0.470983</td>\n",
              "      <td>0.442681</td>\n",
              "      <td>0.207617</td>\n",
              "      <td>-41.468278</td>\n",
              "      <td>0</td>\n",
              "    </tr>\n",
              "  </tbody>\n",
              "</table>\n",
              "</div>"
            ],
            "text/plain": [
              "                     Time        V1        V2  ...       V28      Amount  Class\n",
              "Unnamed: 0                                     ...                             \n",
              "1           100451.654404  0.835494 -0.515926  ...  0.180375   44.663140      0\n",
              "2            89789.404102  0.796821  1.157225  ...  0.060588   -4.513026      0\n",
              "3            69703.722904  1.506110  1.500464  ...  0.078189 -282.077495      0\n",
              "4            43316.890993 -0.425023 -1.926346  ...  0.239794    7.302140      0\n",
              "5           156815.482578  0.449738  1.459230  ...  0.207617  -41.468278      0\n",
              "\n",
              "[5 rows x 31 columns]"
            ]
          },
          "metadata": {
            "tags": []
          },
          "execution_count": 86
        }
      ]
    },
    {
      "cell_type": "markdown",
      "metadata": {
        "id": "rIC4gLmCC8B1"
      },
      "source": [
        "Subset"
      ]
    },
    {
      "cell_type": "code",
      "metadata": {
        "id": "LxMbInFoCt9z",
        "outputId": "9668b73f-c80a-4668-81b5-83cd0c3ed5ee",
        "colab": {
          "base_uri": "https://localhost:8080/",
          "height": 102
        }
      },
      "source": [
        "teste_R.columns"
      ],
      "execution_count": 87,
      "outputs": [
        {
          "output_type": "execute_result",
          "data": {
            "text/plain": [
              "Index(['Unnamed: 0', 'Time', 'V1', 'V2', 'V3', 'V4', 'V5', 'V6', 'V7', 'V8',\n",
              "       'V9', 'V10', 'V11', 'V12', 'V13', 'V14', 'V15', 'V16', 'V17', 'V18',\n",
              "       'V19', 'V20', 'V21', 'V22', 'V23', 'V24', 'V25', 'V26', 'V27', 'V28',\n",
              "       'Amount', 'Class'],\n",
              "      dtype='object')"
            ]
          },
          "metadata": {
            "tags": []
          },
          "execution_count": 87
        }
      ]
    },
    {
      "cell_type": "code",
      "metadata": {
        "id": "QQiBLgs1DCzJ"
      },
      "source": [
        "teste_r = teste_R[['Time', 'V1', 'V2', 'V3', 'V4', 'V5', 'V6', 'V7', 'V8',\n",
        "       'V9', 'V10', 'V11', 'V12', 'V13', 'V14', 'V15', 'V16', 'V17', 'V18',\n",
        "       'V19', 'V20', 'V21', 'V22', 'V23', 'V24', 'V25', 'V26', 'V27', 'V28',\n",
        "       'Amount', 'Class']]"
      ],
      "execution_count": 88,
      "outputs": []
    },
    {
      "cell_type": "code",
      "metadata": {
        "id": "rZQsuBNUDLnj",
        "outputId": "e1453b67-b571-46c6-f1db-112bbeef029b",
        "colab": {
          "base_uri": "https://localhost:8080/",
          "height": 224
        }
      },
      "source": [
        "teste_r.tail()"
      ],
      "execution_count": 89,
      "outputs": [
        {
          "output_type": "execute_result",
          "data": {
            "text/html": [
              "<div>\n",
              "<style scoped>\n",
              "    .dataframe tbody tr th:only-of-type {\n",
              "        vertical-align: middle;\n",
              "    }\n",
              "\n",
              "    .dataframe tbody tr th {\n",
              "        vertical-align: top;\n",
              "    }\n",
              "\n",
              "    .dataframe thead th {\n",
              "        text-align: right;\n",
              "    }\n",
              "</style>\n",
              "<table border=\"1\" class=\"dataframe\">\n",
              "  <thead>\n",
              "    <tr style=\"text-align: right;\">\n",
              "      <th></th>\n",
              "      <th>Time</th>\n",
              "      <th>V1</th>\n",
              "      <th>V2</th>\n",
              "      <th>V3</th>\n",
              "      <th>V4</th>\n",
              "      <th>V5</th>\n",
              "      <th>V6</th>\n",
              "      <th>V7</th>\n",
              "      <th>V8</th>\n",
              "      <th>V9</th>\n",
              "      <th>V10</th>\n",
              "      <th>V11</th>\n",
              "      <th>V12</th>\n",
              "      <th>V13</th>\n",
              "      <th>V14</th>\n",
              "      <th>V15</th>\n",
              "      <th>V16</th>\n",
              "      <th>V17</th>\n",
              "      <th>V18</th>\n",
              "      <th>V19</th>\n",
              "      <th>V20</th>\n",
              "      <th>V21</th>\n",
              "      <th>V22</th>\n",
              "      <th>V23</th>\n",
              "      <th>V24</th>\n",
              "      <th>V25</th>\n",
              "      <th>V26</th>\n",
              "      <th>V27</th>\n",
              "      <th>V28</th>\n",
              "      <th>Amount</th>\n",
              "      <th>Class</th>\n",
              "    </tr>\n",
              "  </thead>\n",
              "  <tbody>\n",
              "    <tr>\n",
              "      <th>85438</th>\n",
              "      <td>172770</td>\n",
              "      <td>2.007418</td>\n",
              "      <td>-0.280235</td>\n",
              "      <td>-0.208113</td>\n",
              "      <td>0.335261</td>\n",
              "      <td>-0.715798</td>\n",
              "      <td>-0.751373</td>\n",
              "      <td>-0.458972</td>\n",
              "      <td>-0.140140</td>\n",
              "      <td>0.959971</td>\n",
              "      <td>-0.028284</td>\n",
              "      <td>-0.635200</td>\n",
              "      <td>0.869261</td>\n",
              "      <td>0.996596</td>\n",
              "      <td>-0.280317</td>\n",
              "      <td>0.436079</td>\n",
              "      <td>0.397439</td>\n",
              "      <td>-0.557940</td>\n",
              "      <td>-0.536840</td>\n",
              "      <td>-0.082349</td>\n",
              "      <td>-0.143294</td>\n",
              "      <td>-0.208260</td>\n",
              "      <td>-0.430347</td>\n",
              "      <td>0.416765</td>\n",
              "      <td>0.064819</td>\n",
              "      <td>-0.608337</td>\n",
              "      <td>0.268436</td>\n",
              "      <td>-0.028069</td>\n",
              "      <td>-0.041367</td>\n",
              "      <td>3.99</td>\n",
              "      <td>0</td>\n",
              "    </tr>\n",
              "    <tr>\n",
              "      <th>85439</th>\n",
              "      <td>172770</td>\n",
              "      <td>-0.446951</td>\n",
              "      <td>1.302212</td>\n",
              "      <td>-0.168583</td>\n",
              "      <td>0.981577</td>\n",
              "      <td>0.578957</td>\n",
              "      <td>-0.605641</td>\n",
              "      <td>1.253430</td>\n",
              "      <td>-1.042610</td>\n",
              "      <td>-0.417116</td>\n",
              "      <td>0.076605</td>\n",
              "      <td>-1.291228</td>\n",
              "      <td>-0.690868</td>\n",
              "      <td>-1.481724</td>\n",
              "      <td>0.753473</td>\n",
              "      <td>-0.191141</td>\n",
              "      <td>-1.129904</td>\n",
              "      <td>0.319074</td>\n",
              "      <td>-0.201862</td>\n",
              "      <td>0.744416</td>\n",
              "      <td>-0.203306</td>\n",
              "      <td>0.851800</td>\n",
              "      <td>0.305268</td>\n",
              "      <td>-0.148093</td>\n",
              "      <td>-0.038712</td>\n",
              "      <td>0.010209</td>\n",
              "      <td>-0.362666</td>\n",
              "      <td>0.503092</td>\n",
              "      <td>0.229921</td>\n",
              "      <td>60.50</td>\n",
              "      <td>0</td>\n",
              "    </tr>\n",
              "    <tr>\n",
              "      <th>85440</th>\n",
              "      <td>172780</td>\n",
              "      <td>1.884849</td>\n",
              "      <td>-0.143540</td>\n",
              "      <td>-0.999943</td>\n",
              "      <td>1.506772</td>\n",
              "      <td>-0.035300</td>\n",
              "      <td>-0.613638</td>\n",
              "      <td>0.190241</td>\n",
              "      <td>-0.249058</td>\n",
              "      <td>0.666458</td>\n",
              "      <td>0.120908</td>\n",
              "      <td>-1.134176</td>\n",
              "      <td>0.677729</td>\n",
              "      <td>0.345928</td>\n",
              "      <td>0.002019</td>\n",
              "      <td>-0.679626</td>\n",
              "      <td>-0.549982</td>\n",
              "      <td>-0.199950</td>\n",
              "      <td>-0.420551</td>\n",
              "      <td>-0.283278</td>\n",
              "      <td>-0.153997</td>\n",
              "      <td>0.144008</td>\n",
              "      <td>0.634646</td>\n",
              "      <td>-0.042114</td>\n",
              "      <td>-0.053206</td>\n",
              "      <td>0.316403</td>\n",
              "      <td>-0.461441</td>\n",
              "      <td>0.018265</td>\n",
              "      <td>-0.041068</td>\n",
              "      <td>60.00</td>\n",
              "      <td>0</td>\n",
              "    </tr>\n",
              "    <tr>\n",
              "      <th>85441</th>\n",
              "      <td>172783</td>\n",
              "      <td>-1.775135</td>\n",
              "      <td>-0.004235</td>\n",
              "      <td>1.189786</td>\n",
              "      <td>0.331096</td>\n",
              "      <td>1.196063</td>\n",
              "      <td>5.519980</td>\n",
              "      <td>-1.518185</td>\n",
              "      <td>2.080825</td>\n",
              "      <td>1.159498</td>\n",
              "      <td>-0.594242</td>\n",
              "      <td>-1.264072</td>\n",
              "      <td>0.453596</td>\n",
              "      <td>-0.243142</td>\n",
              "      <td>-0.858719</td>\n",
              "      <td>-0.766554</td>\n",
              "      <td>-0.644646</td>\n",
              "      <td>0.447184</td>\n",
              "      <td>0.388721</td>\n",
              "      <td>0.792135</td>\n",
              "      <td>0.348176</td>\n",
              "      <td>0.103302</td>\n",
              "      <td>0.654850</td>\n",
              "      <td>-0.348929</td>\n",
              "      <td>0.745323</td>\n",
              "      <td>0.704545</td>\n",
              "      <td>-0.127579</td>\n",
              "      <td>0.454379</td>\n",
              "      <td>0.130308</td>\n",
              "      <td>79.99</td>\n",
              "      <td>0</td>\n",
              "    </tr>\n",
              "    <tr>\n",
              "      <th>85442</th>\n",
              "      <td>172788</td>\n",
              "      <td>1.919565</td>\n",
              "      <td>-0.301254</td>\n",
              "      <td>-3.249640</td>\n",
              "      <td>-0.557828</td>\n",
              "      <td>2.630515</td>\n",
              "      <td>3.031260</td>\n",
              "      <td>-0.296827</td>\n",
              "      <td>0.708417</td>\n",
              "      <td>0.432454</td>\n",
              "      <td>-0.484782</td>\n",
              "      <td>0.411614</td>\n",
              "      <td>0.063119</td>\n",
              "      <td>-0.183699</td>\n",
              "      <td>-0.510602</td>\n",
              "      <td>1.329284</td>\n",
              "      <td>0.140716</td>\n",
              "      <td>0.313502</td>\n",
              "      <td>0.395652</td>\n",
              "      <td>-0.577252</td>\n",
              "      <td>0.001396</td>\n",
              "      <td>0.232045</td>\n",
              "      <td>0.578229</td>\n",
              "      <td>-0.037501</td>\n",
              "      <td>0.640134</td>\n",
              "      <td>0.265745</td>\n",
              "      <td>-0.087371</td>\n",
              "      <td>0.004455</td>\n",
              "      <td>-0.026561</td>\n",
              "      <td>67.88</td>\n",
              "      <td>0</td>\n",
              "    </tr>\n",
              "  </tbody>\n",
              "</table>\n",
              "</div>"
            ],
            "text/plain": [
              "         Time        V1        V2        V3  ...       V27       V28  Amount  Class\n",
              "85438  172770  2.007418 -0.280235 -0.208113  ... -0.028069 -0.041367    3.99      0\n",
              "85439  172770 -0.446951  1.302212 -0.168583  ...  0.503092  0.229921   60.50      0\n",
              "85440  172780  1.884849 -0.143540 -0.999943  ...  0.018265 -0.041068   60.00      0\n",
              "85441  172783 -1.775135 -0.004235  1.189786  ...  0.454379  0.130308   79.99      0\n",
              "85442  172788  1.919565 -0.301254 -3.249640  ...  0.004455 -0.026561   67.88      0\n",
              "\n",
              "[5 rows x 31 columns]"
            ]
          },
          "metadata": {
            "tags": []
          },
          "execution_count": 89
        }
      ]
    },
    {
      "cell_type": "markdown",
      "metadata": {
        "id": "BaPJBiPADhR4"
      },
      "source": [
        "## Dividindo entre X e Y\n",
        "\n",
        "$X$ = variáveis explicativas\n",
        "\n",
        "$y$ = variável alvo"
      ]
    },
    {
      "cell_type": "markdown",
      "metadata": {
        "id": "HQRQG6eNEdIw"
      },
      "source": [
        "### Dados de Treino"
      ]
    },
    {
      "cell_type": "code",
      "metadata": {
        "id": "pyjo-JIFDRxp"
      },
      "source": [
        "#Drops\n",
        "X_train_r = rose_treino.drop('Class', axis='columns')\n"
      ],
      "execution_count": 90,
      "outputs": []
    },
    {
      "cell_type": "code",
      "metadata": {
        "id": "apekKwbcEOaE",
        "outputId": "c49496a1-3af4-4199-b29c-27a712cd3198",
        "colab": {
          "base_uri": "https://localhost:8080/",
          "height": 224
        }
      },
      "source": [
        "X_train_r.head()"
      ],
      "execution_count": 91,
      "outputs": [
        {
          "output_type": "execute_result",
          "data": {
            "text/html": [
              "<div>\n",
              "<style scoped>\n",
              "    .dataframe tbody tr th:only-of-type {\n",
              "        vertical-align: middle;\n",
              "    }\n",
              "\n",
              "    .dataframe tbody tr th {\n",
              "        vertical-align: top;\n",
              "    }\n",
              "\n",
              "    .dataframe thead th {\n",
              "        text-align: right;\n",
              "    }\n",
              "</style>\n",
              "<table border=\"1\" class=\"dataframe\">\n",
              "  <thead>\n",
              "    <tr style=\"text-align: right;\">\n",
              "      <th></th>\n",
              "      <th>Time</th>\n",
              "      <th>V1</th>\n",
              "      <th>V2</th>\n",
              "      <th>V3</th>\n",
              "      <th>V4</th>\n",
              "      <th>V5</th>\n",
              "      <th>V6</th>\n",
              "      <th>V7</th>\n",
              "      <th>V8</th>\n",
              "      <th>V9</th>\n",
              "      <th>V10</th>\n",
              "      <th>V11</th>\n",
              "      <th>V12</th>\n",
              "      <th>V13</th>\n",
              "      <th>V14</th>\n",
              "      <th>V15</th>\n",
              "      <th>V16</th>\n",
              "      <th>V17</th>\n",
              "      <th>V18</th>\n",
              "      <th>V19</th>\n",
              "      <th>V20</th>\n",
              "      <th>V21</th>\n",
              "      <th>V22</th>\n",
              "      <th>V23</th>\n",
              "      <th>V24</th>\n",
              "      <th>V25</th>\n",
              "      <th>V26</th>\n",
              "      <th>V27</th>\n",
              "      <th>V28</th>\n",
              "      <th>Amount</th>\n",
              "    </tr>\n",
              "  </thead>\n",
              "  <tbody>\n",
              "    <tr>\n",
              "      <th>0</th>\n",
              "      <td>217205.803513</td>\n",
              "      <td>-2.567981</td>\n",
              "      <td>0.898000</td>\n",
              "      <td>-0.767780</td>\n",
              "      <td>-2.728384</td>\n",
              "      <td>1.208778</td>\n",
              "      <td>-2.414597</td>\n",
              "      <td>0.820543</td>\n",
              "      <td>-0.291104</td>\n",
              "      <td>-1.322237</td>\n",
              "      <td>-0.986977</td>\n",
              "      <td>-1.773612</td>\n",
              "      <td>0.146018</td>\n",
              "      <td>0.294645</td>\n",
              "      <td>-0.890830</td>\n",
              "      <td>-1.912879</td>\n",
              "      <td>1.275707</td>\n",
              "      <td>0.867205</td>\n",
              "      <td>-0.210741</td>\n",
              "      <td>-0.442621</td>\n",
              "      <td>0.786827</td>\n",
              "      <td>0.428279</td>\n",
              "      <td>-0.225452</td>\n",
              "      <td>-0.701389</td>\n",
              "      <td>-0.199779</td>\n",
              "      <td>1.595748</td>\n",
              "      <td>-0.147785</td>\n",
              "      <td>-0.372765</td>\n",
              "      <td>-0.628274</td>\n",
              "      <td>160.405993</td>\n",
              "    </tr>\n",
              "    <tr>\n",
              "      <th>1</th>\n",
              "      <td>152178.961131</td>\n",
              "      <td>2.464177</td>\n",
              "      <td>0.769727</td>\n",
              "      <td>-1.677835</td>\n",
              "      <td>-0.264555</td>\n",
              "      <td>-0.752586</td>\n",
              "      <td>-0.444199</td>\n",
              "      <td>0.736922</td>\n",
              "      <td>0.516300</td>\n",
              "      <td>-0.333578</td>\n",
              "      <td>-0.471416</td>\n",
              "      <td>1.857264</td>\n",
              "      <td>0.445935</td>\n",
              "      <td>-0.247741</td>\n",
              "      <td>1.609412</td>\n",
              "      <td>-1.949613</td>\n",
              "      <td>0.008885</td>\n",
              "      <td>-0.406072</td>\n",
              "      <td>0.012527</td>\n",
              "      <td>0.556883</td>\n",
              "      <td>-1.052852</td>\n",
              "      <td>0.179824</td>\n",
              "      <td>-0.879074</td>\n",
              "      <td>0.671705</td>\n",
              "      <td>-0.040643</td>\n",
              "      <td>-0.617697</td>\n",
              "      <td>0.575995</td>\n",
              "      <td>-0.431744</td>\n",
              "      <td>0.018294</td>\n",
              "      <td>280.848610</td>\n",
              "    </tr>\n",
              "    <tr>\n",
              "      <th>2</th>\n",
              "      <td>182977.585124</td>\n",
              "      <td>-0.928121</td>\n",
              "      <td>-0.347480</td>\n",
              "      <td>-0.562512</td>\n",
              "      <td>0.324371</td>\n",
              "      <td>0.141313</td>\n",
              "      <td>1.307359</td>\n",
              "      <td>-0.128218</td>\n",
              "      <td>-0.978227</td>\n",
              "      <td>-0.779199</td>\n",
              "      <td>-1.961890</td>\n",
              "      <td>-1.267183</td>\n",
              "      <td>-0.237118</td>\n",
              "      <td>-0.394160</td>\n",
              "      <td>-0.653186</td>\n",
              "      <td>-0.410073</td>\n",
              "      <td>-1.107511</td>\n",
              "      <td>1.331703</td>\n",
              "      <td>-0.485902</td>\n",
              "      <td>0.016075</td>\n",
              "      <td>0.170843</td>\n",
              "      <td>-0.142135</td>\n",
              "      <td>0.152564</td>\n",
              "      <td>0.278665</td>\n",
              "      <td>1.235203</td>\n",
              "      <td>0.032195</td>\n",
              "      <td>0.843445</td>\n",
              "      <td>-0.154998</td>\n",
              "      <td>-0.157450</td>\n",
              "      <td>258.813132</td>\n",
              "    </tr>\n",
              "    <tr>\n",
              "      <th>3</th>\n",
              "      <td>125476.880682</td>\n",
              "      <td>-5.294014</td>\n",
              "      <td>-7.711289</td>\n",
              "      <td>-0.187482</td>\n",
              "      <td>0.446199</td>\n",
              "      <td>5.035787</td>\n",
              "      <td>-3.538694</td>\n",
              "      <td>-3.209072</td>\n",
              "      <td>-0.210478</td>\n",
              "      <td>0.789281</td>\n",
              "      <td>-0.214555</td>\n",
              "      <td>0.994566</td>\n",
              "      <td>0.438681</td>\n",
              "      <td>-1.441440</td>\n",
              "      <td>0.722324</td>\n",
              "      <td>-0.311711</td>\n",
              "      <td>-3.100765</td>\n",
              "      <td>-0.468878</td>\n",
              "      <td>1.904907</td>\n",
              "      <td>-0.779730</td>\n",
              "      <td>1.658596</td>\n",
              "      <td>0.579284</td>\n",
              "      <td>0.368786</td>\n",
              "      <td>1.080375</td>\n",
              "      <td>0.389435</td>\n",
              "      <td>0.095096</td>\n",
              "      <td>-0.034558</td>\n",
              "      <td>-0.230594</td>\n",
              "      <td>0.054191</td>\n",
              "      <td>169.302354</td>\n",
              "    </tr>\n",
              "    <tr>\n",
              "      <th>4</th>\n",
              "      <td>109467.436111</td>\n",
              "      <td>-3.310566</td>\n",
              "      <td>2.543741</td>\n",
              "      <td>-0.454611</td>\n",
              "      <td>-1.164950</td>\n",
              "      <td>-0.014708</td>\n",
              "      <td>-0.371611</td>\n",
              "      <td>-1.120068</td>\n",
              "      <td>-3.462906</td>\n",
              "      <td>2.214135</td>\n",
              "      <td>-0.178497</td>\n",
              "      <td>-0.395631</td>\n",
              "      <td>-3.075713</td>\n",
              "      <td>2.190316</td>\n",
              "      <td>0.706173</td>\n",
              "      <td>-0.357781</td>\n",
              "      <td>0.386493</td>\n",
              "      <td>0.262908</td>\n",
              "      <td>0.092927</td>\n",
              "      <td>-0.522715</td>\n",
              "      <td>-1.023052</td>\n",
              "      <td>2.406482</td>\n",
              "      <td>-1.435943</td>\n",
              "      <td>0.564870</td>\n",
              "      <td>-0.595498</td>\n",
              "      <td>-0.913191</td>\n",
              "      <td>0.085156</td>\n",
              "      <td>0.123373</td>\n",
              "      <td>-0.002864</td>\n",
              "      <td>19.754487</td>\n",
              "    </tr>\n",
              "  </tbody>\n",
              "</table>\n",
              "</div>"
            ],
            "text/plain": [
              "            Time        V1        V2  ...       V27       V28      Amount\n",
              "0  217205.803513 -2.567981  0.898000  ... -0.372765 -0.628274  160.405993\n",
              "1  152178.961131  2.464177  0.769727  ... -0.431744  0.018294  280.848610\n",
              "2  182977.585124 -0.928121 -0.347480  ... -0.154998 -0.157450  258.813132\n",
              "3  125476.880682 -5.294014 -7.711289  ... -0.230594  0.054191  169.302354\n",
              "4  109467.436111 -3.310566  2.543741  ...  0.123373 -0.002864   19.754487\n",
              "\n",
              "[5 rows x 30 columns]"
            ]
          },
          "metadata": {
            "tags": []
          },
          "execution_count": 91
        }
      ]
    },
    {
      "cell_type": "code",
      "metadata": {
        "id": "pB0TdZcUEQl3"
      },
      "source": [
        "#subset\n",
        "y_train_r = rose_treino.Class"
      ],
      "execution_count": 92,
      "outputs": []
    },
    {
      "cell_type": "code",
      "metadata": {
        "id": "BCsnrCJbE57G",
        "outputId": "5fe3ae07-b90f-48ae-e18c-1a5954c2883f",
        "colab": {
          "base_uri": "https://localhost:8080/",
          "height": 333
        }
      },
      "source": [
        "#conferindo o balanceamento das classes no treino\n",
        "sns.countplot(y_train_r);"
      ],
      "execution_count": 93,
      "outputs": [
        {
          "output_type": "stream",
          "text": [
            "/usr/local/lib/python3.6/dist-packages/seaborn/_decorators.py:43: FutureWarning: Pass the following variable as a keyword arg: x. From version 0.12, the only valid positional argument will be `data`, and passing other arguments without an explicit keyword will result in an error or misinterpretation.\n",
            "  FutureWarning\n"
          ],
          "name": "stderr"
        },
        {
          "output_type": "display_data",
          "data": {
            "image/png": "[encoded data removed]",
            "text/plain": [
              "<Figure size 432x288 with 1 Axes>"
            ]
          },
          "metadata": {
            "tags": [],
            "needs_background": "light"
          }
        }
      ]
    },
    {
      "cell_type": "markdown",
      "metadata": {
        "id": "dulhs1AgEgi8"
      },
      "source": [
        "### Dados de Teste balanceados"
      ]
    },
    {
      "cell_type": "code",
      "metadata": {
        "id": "ugkPzYoUEbF_",
        "outputId": "362169b5-ac72-4406-bf9c-f01e970f737b",
        "colab": {
          "base_uri": "https://localhost:8080/",
          "height": 102
        }
      },
      "source": [
        "#seleção de features\n",
        "rose_teste.columns\n"
      ],
      "execution_count": 94,
      "outputs": [
        {
          "output_type": "execute_result",
          "data": {
            "text/plain": [
              "Index(['Time', 'V1', 'V2', 'V3', 'V4', 'V5', 'V6', 'V7', 'V8', 'V9', 'V10',\n",
              "       'V11', 'V12', 'V13', 'V14', 'V15', 'V16', 'V17', 'V18', 'V19', 'V20',\n",
              "       'V21', 'V22', 'V23', 'V24', 'V25', 'V26', 'V27', 'V28', 'Amount',\n",
              "       'Class'],\n",
              "      dtype='object')"
            ]
          },
          "metadata": {
            "tags": []
          },
          "execution_count": 94
        }
      ]
    },
    {
      "cell_type": "code",
      "metadata": {
        "id": "lCIYTfhfFpPQ"
      },
      "source": [
        "#selecionando as features e o label\n",
        "features = ['Time', 'V1', 'V2', 'V3', 'V4', 'V5', 'V6', 'V7', 'V8', 'V9', 'V10',\n",
        "       'V11', 'V12', 'V13', 'V14', 'V15', 'V16', 'V17', 'V18', 'V19', 'V20',\n",
        "       'V21', 'V22', 'V23', 'V24', 'V25', 'V26', 'V27', 'V28', 'Amount']\n",
        "label = 'Class'"
      ],
      "execution_count": 95,
      "outputs": []
    },
    {
      "cell_type": "code",
      "metadata": {
        "id": "FxUmkhB5F8Bc"
      },
      "source": [
        "#criando o subset\n",
        "X_test_r = rose_teste[features]"
      ],
      "execution_count": 96,
      "outputs": []
    },
    {
      "cell_type": "code",
      "metadata": {
        "id": "BLOI3NzdGEUV",
        "outputId": "c2632d01-2363-4d55-948c-34cf438cf189",
        "colab": {
          "base_uri": "https://localhost:8080/",
          "height": 148
        }
      },
      "source": [
        "X_test_r.head(1)"
      ],
      "execution_count": 97,
      "outputs": [
        {
          "output_type": "execute_result",
          "data": {
            "text/html": [
              "<div>\n",
              "<style scoped>\n",
              "    .dataframe tbody tr th:only-of-type {\n",
              "        vertical-align: middle;\n",
              "    }\n",
              "\n",
              "    .dataframe tbody tr th {\n",
              "        vertical-align: top;\n",
              "    }\n",
              "\n",
              "    .dataframe thead th {\n",
              "        text-align: right;\n",
              "    }\n",
              "</style>\n",
              "<table border=\"1\" class=\"dataframe\">\n",
              "  <thead>\n",
              "    <tr style=\"text-align: right;\">\n",
              "      <th></th>\n",
              "      <th>Time</th>\n",
              "      <th>V1</th>\n",
              "      <th>V2</th>\n",
              "      <th>V3</th>\n",
              "      <th>V4</th>\n",
              "      <th>V5</th>\n",
              "      <th>V6</th>\n",
              "      <th>V7</th>\n",
              "      <th>V8</th>\n",
              "      <th>V9</th>\n",
              "      <th>V10</th>\n",
              "      <th>V11</th>\n",
              "      <th>V12</th>\n",
              "      <th>V13</th>\n",
              "      <th>V14</th>\n",
              "      <th>V15</th>\n",
              "      <th>V16</th>\n",
              "      <th>V17</th>\n",
              "      <th>V18</th>\n",
              "      <th>V19</th>\n",
              "      <th>V20</th>\n",
              "      <th>V21</th>\n",
              "      <th>V22</th>\n",
              "      <th>V23</th>\n",
              "      <th>V24</th>\n",
              "      <th>V25</th>\n",
              "      <th>V26</th>\n",
              "      <th>V27</th>\n",
              "      <th>V28</th>\n",
              "      <th>Amount</th>\n",
              "    </tr>\n",
              "    <tr>\n",
              "      <th>Unnamed: 0</th>\n",
              "      <th></th>\n",
              "      <th></th>\n",
              "      <th></th>\n",
              "      <th></th>\n",
              "      <th></th>\n",
              "      <th></th>\n",
              "      <th></th>\n",
              "      <th></th>\n",
              "      <th></th>\n",
              "      <th></th>\n",
              "      <th></th>\n",
              "      <th></th>\n",
              "      <th></th>\n",
              "      <th></th>\n",
              "      <th></th>\n",
              "      <th></th>\n",
              "      <th></th>\n",
              "      <th></th>\n",
              "      <th></th>\n",
              "      <th></th>\n",
              "      <th></th>\n",
              "      <th></th>\n",
              "      <th></th>\n",
              "      <th></th>\n",
              "      <th></th>\n",
              "      <th></th>\n",
              "      <th></th>\n",
              "      <th></th>\n",
              "      <th></th>\n",
              "      <th></th>\n",
              "    </tr>\n",
              "  </thead>\n",
              "  <tbody>\n",
              "    <tr>\n",
              "      <th>1</th>\n",
              "      <td>100451.654404</td>\n",
              "      <td>0.835494</td>\n",
              "      <td>-0.515926</td>\n",
              "      <td>-1.91748</td>\n",
              "      <td>2.981701</td>\n",
              "      <td>-0.351667</td>\n",
              "      <td>-0.322559</td>\n",
              "      <td>-1.019767</td>\n",
              "      <td>0.854651</td>\n",
              "      <td>-0.396209</td>\n",
              "      <td>0.778483</td>\n",
              "      <td>-0.914643</td>\n",
              "      <td>-0.567016</td>\n",
              "      <td>-0.849374</td>\n",
              "      <td>0.324713</td>\n",
              "      <td>1.020657</td>\n",
              "      <td>0.559622</td>\n",
              "      <td>-0.627162</td>\n",
              "      <td>0.680035</td>\n",
              "      <td>-0.787069</td>\n",
              "      <td>-0.24965</td>\n",
              "      <td>-0.892906</td>\n",
              "      <td>-0.02641</td>\n",
              "      <td>0.222306</td>\n",
              "      <td>0.324409</td>\n",
              "      <td>0.893922</td>\n",
              "      <td>-0.455777</td>\n",
              "      <td>0.01402</td>\n",
              "      <td>0.180375</td>\n",
              "      <td>44.66314</td>\n",
              "    </tr>\n",
              "  </tbody>\n",
              "</table>\n",
              "</div>"
            ],
            "text/plain": [
              "                     Time        V1        V2  ...      V27       V28    Amount\n",
              "Unnamed: 0                                     ...                             \n",
              "1           100451.654404  0.835494 -0.515926  ...  0.01402  0.180375  44.66314\n",
              "\n",
              "[1 rows x 30 columns]"
            ]
          },
          "metadata": {
            "tags": []
          },
          "execution_count": 97
        }
      ]
    },
    {
      "cell_type": "code",
      "metadata": {
        "id": "h6tlc3wlGUA-",
        "outputId": "8d5d8715-a981-4585-eb73-e03548f3579e",
        "colab": {
          "base_uri": "https://localhost:8080/",
          "height": 136
        }
      },
      "source": [
        "y_test_r = rose_teste[label]\n",
        "y_test_r.head()"
      ],
      "execution_count": 98,
      "outputs": [
        {
          "output_type": "execute_result",
          "data": {
            "text/plain": [
              "Unnamed: 0\n",
              "1    0\n",
              "2    0\n",
              "3    0\n",
              "4    0\n",
              "5    0\n",
              "Name: Class, dtype: int64"
            ]
          },
          "metadata": {
            "tags": []
          },
          "execution_count": 98
        }
      ]
    },
    {
      "cell_type": "code",
      "metadata": {
        "id": "eUBAMa1uGgPW",
        "outputId": "40d23479-7ac6-404f-f9dd-897724b4ce64",
        "colab": {
          "base_uri": "https://localhost:8080/",
          "height": 333
        }
      },
      "source": [
        "sns.countplot(y_test_r);"
      ],
      "execution_count": 99,
      "outputs": [
        {
          "output_type": "stream",
          "text": [
            "/usr/local/lib/python3.6/dist-packages/seaborn/_decorators.py:43: FutureWarning: Pass the following variable as a keyword arg: x. From version 0.12, the only valid positional argument will be `data`, and passing other arguments without an explicit keyword will result in an error or misinterpretation.\n",
            "  FutureWarning\n"
          ],
          "name": "stderr"
        },
        {
          "output_type": "display_data",
          "data": {
            "image/png": "[encoded data removed]",
            "text/plain": [
              "<Figure size 432x288 with 1 Axes>"
            ]
          },
          "metadata": {
            "tags": [],
            "needs_background": "light"
          }
        }
      ]
    },
    {
      "cell_type": "markdown",
      "metadata": {
        "id": "6nC0WuLbEkHl"
      },
      "source": [
        "### Dados de teste sem balanceamento"
      ]
    },
    {
      "cell_type": "code",
      "metadata": {
        "id": "v2bE_aivEmdO"
      },
      "source": [
        "X_teste_r = teste_r.drop('Class', axis=1)\n",
        "y_teste_r = teste_r['Class']"
      ],
      "execution_count": 100,
      "outputs": []
    },
    {
      "cell_type": "code",
      "metadata": {
        "id": "WTN2zAmHG2lj",
        "outputId": "eb679820-c1e8-46e0-94ef-2bbf4bfa8a06",
        "colab": {
          "base_uri": "https://localhost:8080/",
          "height": 333
        }
      },
      "source": [
        "sns.countplot(y_teste_r)\n",
        "plt.show()"
      ],
      "execution_count": 101,
      "outputs": [
        {
          "output_type": "stream",
          "text": [
            "/usr/local/lib/python3.6/dist-packages/seaborn/_decorators.py:43: FutureWarning: Pass the following variable as a keyword arg: x. From version 0.12, the only valid positional argument will be `data`, and passing other arguments without an explicit keyword will result in an error or misinterpretation.\n",
            "  FutureWarning\n"
          ],
          "name": "stderr"
        },
        {
          "output_type": "display_data",
          "data": {
            "image/png": "[encoded data removed]",
            "text/plain": [
              "<Figure size 432x288 with 1 Axes>"
            ]
          },
          "metadata": {
            "tags": [],
            "needs_background": "light"
          }
        }
      ]
    },
    {
      "cell_type": "markdown",
      "metadata": {
        "id": "vr3mC_CAHIVD"
      },
      "source": [
        "## Criando o modelo para os dados do R\n"
      ]
    },
    {
      "cell_type": "code",
      "metadata": {
        "id": "5cgI76lJG5Dr"
      },
      "source": [
        "#criando o modelo\n",
        "modelo_v5 = DecisionTreeClassifier(criterion='entropy')"
      ],
      "execution_count": 102,
      "outputs": []
    },
    {
      "cell_type": "code",
      "metadata": {
        "id": "GeuBjFdXHfSb",
        "outputId": "3f352e9c-fc41-414b-e603-380acf827fc7",
        "colab": {
          "base_uri": "https://localhost:8080/",
          "height": 34
        }
      },
      "source": [
        "#ajustando o modelo aos dados de treino\n",
        "modelo_v5.fit(X_train_r, y_train_r)"
      ],
      "execution_count": 103,
      "outputs": [
        {
          "output_type": "execute_result",
          "data": {
            "text/plain": [
              "DecisionTreeClassifier(criterion='entropy')"
            ]
          },
          "metadata": {
            "tags": []
          },
          "execution_count": 103
        }
      ]
    },
    {
      "cell_type": "code",
      "metadata": {
        "id": "q2_QIpfMHrt3"
      },
      "source": [
        "#predizendo o teste balanceado\n",
        "y_pred_7 = modelo_v5.predict(X_test_r)"
      ],
      "execution_count": 104,
      "outputs": []
    },
    {
      "cell_type": "code",
      "metadata": {
        "id": "wnbKg5pUIVfz"
      },
      "source": [
        "#predizendo o teste sem balanceamento\n",
        "y_pred_8 = modelo_v5.predict(X_teste_r)"
      ],
      "execution_count": 105,
      "outputs": []
    },
    {
      "cell_type": "code",
      "metadata": {
        "id": "OF8sFsvWLHis"
      },
      "source": [
        "#predizendo o teste original\n",
        "y_pred_9 = modelo_v5.predict(X_test)"
      ],
      "execution_count": 106,
      "outputs": []
    },
    {
      "cell_type": "markdown",
      "metadata": {
        "id": "lFUinKmxIm82"
      },
      "source": [
        "## Avaliar o modelo com os dados do R"
      ]
    },
    {
      "cell_type": "markdown",
      "metadata": {
        "id": "4si8THpmIrvu"
      },
      "source": [
        "### Avaliando o modelo com os dados balanceados (y_pred_7)"
      ]
    },
    {
      "cell_type": "code",
      "metadata": {
        "id": "cUI4Pv3kIlcp",
        "outputId": "319daa5c-7db7-4264-c0a6-f65003ddca42",
        "colab": {
          "base_uri": "https://localhost:8080/",
          "height": 51
        }
      },
      "source": [
        "#usando a confusion matrix\n",
        "confusion_matrix(y_test_r,y_pred_7)"
      ],
      "execution_count": 107,
      "outputs": [
        {
          "output_type": "execute_result",
          "data": {
            "text/plain": [
              "array([[42346,   323],\n",
              "       [  413, 42361]])"
            ]
          },
          "metadata": {
            "tags": []
          },
          "execution_count": 107
        }
      ]
    },
    {
      "cell_type": "code",
      "metadata": {
        "id": "J0H5TLalI7Mg",
        "outputId": "3330aa25-9327-4492-be0a-2b3ec399d8a5",
        "colab": {
          "base_uri": "https://localhost:8080/",
          "height": 170
        }
      },
      "source": [
        "#vendo o classification report\n",
        "print(classification_report(y_test_r, y_pred_7))"
      ],
      "execution_count": 108,
      "outputs": [
        {
          "output_type": "stream",
          "text": [
            "              precision    recall  f1-score   support\n",
            "\n",
            "           0       0.99      0.99      0.99     42669\n",
            "           1       0.99      0.99      0.99     42774\n",
            "\n",
            "    accuracy                           0.99     85443\n",
            "   macro avg       0.99      0.99      0.99     85443\n",
            "weighted avg       0.99      0.99      0.99     85443\n",
            "\n"
          ],
          "name": "stdout"
        }
      ]
    },
    {
      "cell_type": "code",
      "metadata": {
        "id": "1yZ4FFyAI7Se",
        "outputId": "534a0d5b-b8d2-4298-916e-2670282a6e5a",
        "colab": {
          "base_uri": "https://localhost:8080/",
          "height": 34
        }
      },
      "source": [
        "#ver a acurácia do modelo\n",
        "accuracy_score(y_test_r, y_pred_7)*100"
      ],
      "execution_count": 109,
      "outputs": [
        {
          "output_type": "execute_result",
          "data": {
            "text/plain": [
              "99.13860702456608"
            ]
          },
          "metadata": {
            "tags": []
          },
          "execution_count": 109
        }
      ]
    },
    {
      "cell_type": "code",
      "metadata": {
        "id": "GK45Fxn8I7lq",
        "outputId": "e5ef547e-d735-4570-cf94-b8aa5ea17f93",
        "colab": {
          "base_uri": "https://localhost:8080/",
          "height": 483
        }
      },
      "source": [
        "#gráfico da Área sob a Curva\n",
        "fpr, tpr, _ = roc_curve(y_test_r,  y_pred_7)\n",
        "auc = roc_auc_score(y_test_r, y_pred_7)\n",
        "plt.figure(figsize=(12,8))\n",
        "plt.plot(fpr,tpr,label=\"data 1, auc=\"+str(auc))\n",
        "plt.legend(loc=4)\n",
        "plt.show()"
      ],
      "execution_count": 110,
      "outputs": [
        {
          "output_type": "display_data",
          "data": {
            "image/png": "[encoded data removed]",
            "text/plain": [
              "<Figure size 864x576 with 1 Axes>"
            ]
          },
          "metadata": {
            "tags": [],
            "needs_background": "light"
          }
        }
      ]
    },
    {
      "cell_type": "markdown",
      "metadata": {
        "id": "Rz-6-yezI0t4"
      },
      "source": [
        "### Avaliando o modelo com os dados sem balanceamento (y_pred_8)"
      ]
    },
    {
      "cell_type": "code",
      "metadata": {
        "id": "NUgiJJceI6B4",
        "outputId": "495980a1-c9e3-410d-9349-2542dc9708db",
        "colab": {
          "base_uri": "https://localhost:8080/",
          "height": 51
        }
      },
      "source": [
        "#usando a confusion matrix\n",
        "confusion_matrix(y_teste_r,y_pred_8)"
      ],
      "execution_count": 111,
      "outputs": [
        {
          "output_type": "execute_result",
          "data": {
            "text/plain": [
              "array([[85086,   216],\n",
              "       [   27,   114]])"
            ]
          },
          "metadata": {
            "tags": []
          },
          "execution_count": 111
        }
      ]
    },
    {
      "cell_type": "code",
      "metadata": {
        "id": "xUJnOLzyI829",
        "outputId": "796d2e82-b247-4833-fe73-d4fadf9978e5",
        "colab": {
          "base_uri": "https://localhost:8080/",
          "height": 170
        }
      },
      "source": [
        "#vendo o classification report\n",
        "print(classification_report(y_teste_r, y_pred_8))"
      ],
      "execution_count": 112,
      "outputs": [
        {
          "output_type": "stream",
          "text": [
            "              precision    recall  f1-score   support\n",
            "\n",
            "           0       1.00      1.00      1.00     85302\n",
            "           1       0.35      0.81      0.48       141\n",
            "\n",
            "    accuracy                           1.00     85443\n",
            "   macro avg       0.67      0.90      0.74     85443\n",
            "weighted avg       1.00      1.00      1.00     85443\n",
            "\n"
          ],
          "name": "stdout"
        }
      ]
    },
    {
      "cell_type": "code",
      "metadata": {
        "id": "SW_FC_ZeI9K1",
        "outputId": "da19f6c9-d1da-48ba-885e-0d2c3bb45333",
        "colab": {
          "base_uri": "https://localhost:8080/",
          "height": 34
        }
      },
      "source": [
        "#ver a acurácia do modelo\n",
        "accuracy_score(y_teste_r, y_pred_8)*100"
      ],
      "execution_count": 113,
      "outputs": [
        {
          "output_type": "execute_result",
          "data": {
            "text/plain": [
              "99.71559987359994"
            ]
          },
          "metadata": {
            "tags": []
          },
          "execution_count": 113
        }
      ]
    },
    {
      "cell_type": "code",
      "metadata": {
        "id": "AykvzCUjI9wN",
        "outputId": "d06b696f-ce52-4ebf-f1ff-4f851816e28b",
        "colab": {
          "base_uri": "https://localhost:8080/",
          "height": 483
        }
      },
      "source": [
        "#gráfico da Área sob a Curva\n",
        "fpr, tpr, _ = roc_curve(y_teste_r,  y_pred_8)\n",
        "auc = roc_auc_score(y_teste_r, y_pred_8)\n",
        "plt.figure(figsize=(12,8))\n",
        "plt.plot(fpr,tpr,label=\"data 1, auc=\"+str(auc))\n",
        "plt.legend(loc=4)\n",
        "plt.show()"
      ],
      "execution_count": 114,
      "outputs": [
        {
          "output_type": "display_data",
          "data": {
            "image/png": "[encoded data removed]",
            "text/plain": [
              "<Figure size 864x576 with 1 Axes>"
            ]
          },
          "metadata": {
            "tags": [],
            "needs_background": "light"
          }
        }
      ]
    },
    {
      "cell_type": "markdown",
      "metadata": {
        "id": "xBFvJYBpLRxc"
      },
      "source": [
        "### Avaliando o modelo com o teste original (y_pred_9)"
      ]
    },
    {
      "cell_type": "code",
      "metadata": {
        "id": "85IxoyTyKw-q",
        "outputId": "fc7547c8-3326-4b57-9166-37eab42d3acc",
        "colab": {
          "base_uri": "https://localhost:8080/",
          "height": 51
        }
      },
      "source": [
        "#usando a confusion matrix\n",
        "confusion_matrix(y_test,y_pred_9)"
      ],
      "execution_count": 115,
      "outputs": [
        {
          "output_type": "execute_result",
          "data": {
            "text/plain": [
              "array([[85117,   178],\n",
              "       [   33,   115]])"
            ]
          },
          "metadata": {
            "tags": []
          },
          "execution_count": 115
        }
      ]
    },
    {
      "cell_type": "code",
      "metadata": {
        "id": "hS9vZavELc7V",
        "outputId": "4b35cd5d-ecc7-417e-db96-2d26beca485f",
        "colab": {
          "base_uri": "https://localhost:8080/",
          "height": 170
        }
      },
      "source": [
        "#vendo o classification report\n",
        "print(classification_report(y_test, y_pred_9))"
      ],
      "execution_count": 116,
      "outputs": [
        {
          "output_type": "stream",
          "text": [
            "              precision    recall  f1-score   support\n",
            "\n",
            "           0       1.00      1.00      1.00     85295\n",
            "           1       0.39      0.78      0.52       148\n",
            "\n",
            "    accuracy                           1.00     85443\n",
            "   macro avg       0.70      0.89      0.76     85443\n",
            "weighted avg       1.00      1.00      1.00     85443\n",
            "\n"
          ],
          "name": "stdout"
        }
      ]
    },
    {
      "cell_type": "code",
      "metadata": {
        "id": "w-FgUD1tLipG",
        "outputId": "72fb69f8-4b4a-4bde-ceb7-d014f41d6189",
        "colab": {
          "base_uri": "https://localhost:8080/",
          "height": 34
        }
      },
      "source": [
        "#ver a acurácia do modelo\n",
        "accuracy_score(y_test, y_pred_9)*100"
      ],
      "execution_count": 117,
      "outputs": [
        {
          "output_type": "execute_result",
          "data": {
            "text/plain": [
              "99.75305174209707"
            ]
          },
          "metadata": {
            "tags": []
          },
          "execution_count": 117
        }
      ]
    },
    {
      "cell_type": "code",
      "metadata": {
        "id": "5jIMKlnKLoss",
        "outputId": "1b127332-e052-477c-c6a5-659d40e853cb",
        "colab": {
          "base_uri": "https://localhost:8080/",
          "height": 483
        }
      },
      "source": [
        "#gráfico da Área sob a Curva\n",
        "fpr, tpr, _ = roc_curve(y_test,  y_pred_9)\n",
        "auc = roc_auc_score(y_test, y_pred_9)\n",
        "plt.figure(figsize=(12,8))\n",
        "plt.plot(fpr,tpr,label=\"data 1, auc=\"+str(auc))\n",
        "plt.legend(loc=4)\n",
        "plt.show()"
      ],
      "execution_count": 118,
      "outputs": [
        {
          "output_type": "display_data",
          "data": {
            "image/png": "[encoded data removed]",
            "text/plain": [
              "<Figure size 864x576 with 1 Axes>"
            ]
          },
          "metadata": {
            "tags": [],
            "needs_background": "light"
          }
        }
      ]
    },
    {
      "cell_type": "markdown",
      "metadata": {
        "id": "N2zoiDyRMs1D"
      },
      "source": [
        "# RODANDO UM AUTOML"
      ]
    },
    {
      "cell_type": "markdown",
      "metadata": {
        "id": "Sp8nfUbdNFiH"
      },
      "source": [
        "## Pycaret"
      ]
    },
    {
      "cell_type": "code",
      "metadata": {
        "id": "CoaiocV4Ne2S"
      },
      "source": [
        "from pycaret.classification import *"
      ],
      "execution_count": 119,
      "outputs": []
    },
    {
      "cell_type": "code",
      "metadata": {
        "id": "LWyxe2pUPmnY",
        "outputId": "5b952532-218f-4bc2-f59f-c0e7b746e0c9",
        "colab": {
          "base_uri": "https://localhost:8080/",
          "height": 1000,
          "referenced_widgets": [
            "aba17ce553d54dee8671bebb5057e9d0",
            "d2a1aeac9eaa4d249c9b3277e96b0819",
            "ee62b8a119a84e2398797af05d53ac9d",
            "9e3bd3b45dae43edbb3e2036ea6fea18",
            "627d99555506463aa168c40346003322",
            "83cce00d36424e2aaaaa2f0a67f10ca4"
          ]
        }
      },
      "source": [
        "#fazendo o setup e escolhendo os dados \n",
        "setup(data = rose_treino, target ='Class')"
      ],
      "execution_count": 120,
      "outputs": [
        {
          "output_type": "stream",
          "text": [
            "Setup Succesfully Completed!\n"
          ],
          "name": "stdout"
        },
        {
          "output_type": "display_data",
          "data": {
            "text/html": [
              "<style  type=\"text/css\" >\n",
              "</style><table id=\"T_cb25dc0e_0320_11eb_9902_0242ac1c0002\" ><thead>    <tr>        <th class=\"blank level0\" ></th>        <th class=\"col_heading level0 col0\" >Description</th>        <th class=\"col_heading level0 col1\" >Value</th>    </tr></thead><tbody>\n",
              "                <tr>\n",
              "                        <th id=\"T_cb25dc0e_0320_11eb_9902_0242ac1c0002level0_row0\" class=\"row_heading level0 row0\" >0</th>\n",
              "                        <td id=\"T_cb25dc0e_0320_11eb_9902_0242ac1c0002row0_col0\" class=\"data row0 col0\" >session_id</td>\n",
              "                        <td id=\"T_cb25dc0e_0320_11eb_9902_0242ac1c0002row0_col1\" class=\"data row0 col1\" >5443</td>\n",
              "            </tr>\n",
              "            <tr>\n",
              "                        <th id=\"T_cb25dc0e_0320_11eb_9902_0242ac1c0002level0_row1\" class=\"row_heading level0 row1\" >1</th>\n",
              "                        <td id=\"T_cb25dc0e_0320_11eb_9902_0242ac1c0002row1_col0\" class=\"data row1 col0\" >Target Type</td>\n",
              "                        <td id=\"T_cb25dc0e_0320_11eb_9902_0242ac1c0002row1_col1\" class=\"data row1 col1\" >Binary</td>\n",
              "            </tr>\n",
              "            <tr>\n",
              "                        <th id=\"T_cb25dc0e_0320_11eb_9902_0242ac1c0002level0_row2\" class=\"row_heading level0 row2\" >2</th>\n",
              "                        <td id=\"T_cb25dc0e_0320_11eb_9902_0242ac1c0002row2_col0\" class=\"data row2 col0\" >Label Encoded</td>\n",
              "                        <td id=\"T_cb25dc0e_0320_11eb_9902_0242ac1c0002row2_col1\" class=\"data row2 col1\" >0: 0, 1: 1</td>\n",
              "            </tr>\n",
              "            <tr>\n",
              "                        <th id=\"T_cb25dc0e_0320_11eb_9902_0242ac1c0002level0_row3\" class=\"row_heading level0 row3\" >3</th>\n",
              "                        <td id=\"T_cb25dc0e_0320_11eb_9902_0242ac1c0002row3_col0\" class=\"data row3 col0\" >Original Data</td>\n",
              "                        <td id=\"T_cb25dc0e_0320_11eb_9902_0242ac1c0002row3_col1\" class=\"data row3 col1\" >(199364, 31)</td>\n",
              "            </tr>\n",
              "            <tr>\n",
              "                        <th id=\"T_cb25dc0e_0320_11eb_9902_0242ac1c0002level0_row4\" class=\"row_heading level0 row4\" >4</th>\n",
              "                        <td id=\"T_cb25dc0e_0320_11eb_9902_0242ac1c0002row4_col0\" class=\"data row4 col0\" >Missing Values </td>\n",
              "                        <td id=\"T_cb25dc0e_0320_11eb_9902_0242ac1c0002row4_col1\" class=\"data row4 col1\" >False</td>\n",
              "            </tr>\n",
              "            <tr>\n",
              "                        <th id=\"T_cb25dc0e_0320_11eb_9902_0242ac1c0002level0_row5\" class=\"row_heading level0 row5\" >5</th>\n",
              "                        <td id=\"T_cb25dc0e_0320_11eb_9902_0242ac1c0002row5_col0\" class=\"data row5 col0\" >Numeric Features </td>\n",
              "                        <td id=\"T_cb25dc0e_0320_11eb_9902_0242ac1c0002row5_col1\" class=\"data row5 col1\" >30</td>\n",
              "            </tr>\n",
              "            <tr>\n",
              "                        <th id=\"T_cb25dc0e_0320_11eb_9902_0242ac1c0002level0_row6\" class=\"row_heading level0 row6\" >6</th>\n",
              "                        <td id=\"T_cb25dc0e_0320_11eb_9902_0242ac1c0002row6_col0\" class=\"data row6 col0\" >Categorical Features </td>\n",
              "                        <td id=\"T_cb25dc0e_0320_11eb_9902_0242ac1c0002row6_col1\" class=\"data row6 col1\" >0</td>\n",
              "            </tr>\n",
              "            <tr>\n",
              "                        <th id=\"T_cb25dc0e_0320_11eb_9902_0242ac1c0002level0_row7\" class=\"row_heading level0 row7\" >7</th>\n",
              "                        <td id=\"T_cb25dc0e_0320_11eb_9902_0242ac1c0002row7_col0\" class=\"data row7 col0\" >Ordinal Features </td>\n",
              "                        <td id=\"T_cb25dc0e_0320_11eb_9902_0242ac1c0002row7_col1\" class=\"data row7 col1\" >False</td>\n",
              "            </tr>\n",
              "            <tr>\n",
              "                        <th id=\"T_cb25dc0e_0320_11eb_9902_0242ac1c0002level0_row8\" class=\"row_heading level0 row8\" >8</th>\n",
              "                        <td id=\"T_cb25dc0e_0320_11eb_9902_0242ac1c0002row8_col0\" class=\"data row8 col0\" >High Cardinality Features </td>\n",
              "                        <td id=\"T_cb25dc0e_0320_11eb_9902_0242ac1c0002row8_col1\" class=\"data row8 col1\" >False</td>\n",
              "            </tr>\n",
              "            <tr>\n",
              "                        <th id=\"T_cb25dc0e_0320_11eb_9902_0242ac1c0002level0_row9\" class=\"row_heading level0 row9\" >9</th>\n",
              "                        <td id=\"T_cb25dc0e_0320_11eb_9902_0242ac1c0002row9_col0\" class=\"data row9 col0\" >High Cardinality Method </td>\n",
              "                        <td id=\"T_cb25dc0e_0320_11eb_9902_0242ac1c0002row9_col1\" class=\"data row9 col1\" >None</td>\n",
              "            </tr>\n",
              "            <tr>\n",
              "                        <th id=\"T_cb25dc0e_0320_11eb_9902_0242ac1c0002level0_row10\" class=\"row_heading level0 row10\" >10</th>\n",
              "                        <td id=\"T_cb25dc0e_0320_11eb_9902_0242ac1c0002row10_col0\" class=\"data row10 col0\" >Sampled Data</td>\n",
              "                        <td id=\"T_cb25dc0e_0320_11eb_9902_0242ac1c0002row10_col1\" class=\"data row10 col1\" >(99682, 31)</td>\n",
              "            </tr>\n",
              "            <tr>\n",
              "                        <th id=\"T_cb25dc0e_0320_11eb_9902_0242ac1c0002level0_row11\" class=\"row_heading level0 row11\" >11</th>\n",
              "                        <td id=\"T_cb25dc0e_0320_11eb_9902_0242ac1c0002row11_col0\" class=\"data row11 col0\" >Transformed Train Set</td>\n",
              "                        <td id=\"T_cb25dc0e_0320_11eb_9902_0242ac1c0002row11_col1\" class=\"data row11 col1\" >(69777, 30)</td>\n",
              "            </tr>\n",
              "            <tr>\n",
              "                        <th id=\"T_cb25dc0e_0320_11eb_9902_0242ac1c0002level0_row12\" class=\"row_heading level0 row12\" >12</th>\n",
              "                        <td id=\"T_cb25dc0e_0320_11eb_9902_0242ac1c0002row12_col0\" class=\"data row12 col0\" >Transformed Test Set</td>\n",
              "                        <td id=\"T_cb25dc0e_0320_11eb_9902_0242ac1c0002row12_col1\" class=\"data row12 col1\" >(29905, 30)</td>\n",
              "            </tr>\n",
              "            <tr>\n",
              "                        <th id=\"T_cb25dc0e_0320_11eb_9902_0242ac1c0002level0_row13\" class=\"row_heading level0 row13\" >13</th>\n",
              "                        <td id=\"T_cb25dc0e_0320_11eb_9902_0242ac1c0002row13_col0\" class=\"data row13 col0\" >Numeric Imputer </td>\n",
              "                        <td id=\"T_cb25dc0e_0320_11eb_9902_0242ac1c0002row13_col1\" class=\"data row13 col1\" >mean</td>\n",
              "            </tr>\n",
              "            <tr>\n",
              "                        <th id=\"T_cb25dc0e_0320_11eb_9902_0242ac1c0002level0_row14\" class=\"row_heading level0 row14\" >14</th>\n",
              "                        <td id=\"T_cb25dc0e_0320_11eb_9902_0242ac1c0002row14_col0\" class=\"data row14 col0\" >Categorical Imputer </td>\n",
              "                        <td id=\"T_cb25dc0e_0320_11eb_9902_0242ac1c0002row14_col1\" class=\"data row14 col1\" >constant</td>\n",
              "            </tr>\n",
              "            <tr>\n",
              "                        <th id=\"T_cb25dc0e_0320_11eb_9902_0242ac1c0002level0_row15\" class=\"row_heading level0 row15\" >15</th>\n",
              "                        <td id=\"T_cb25dc0e_0320_11eb_9902_0242ac1c0002row15_col0\" class=\"data row15 col0\" >Normalize </td>\n",
              "                        <td id=\"T_cb25dc0e_0320_11eb_9902_0242ac1c0002row15_col1\" class=\"data row15 col1\" >False</td>\n",
              "            </tr>\n",
              "            <tr>\n",
              "                        <th id=\"T_cb25dc0e_0320_11eb_9902_0242ac1c0002level0_row16\" class=\"row_heading level0 row16\" >16</th>\n",
              "                        <td id=\"T_cb25dc0e_0320_11eb_9902_0242ac1c0002row16_col0\" class=\"data row16 col0\" >Normalize Method </td>\n",
              "                        <td id=\"T_cb25dc0e_0320_11eb_9902_0242ac1c0002row16_col1\" class=\"data row16 col1\" >None</td>\n",
              "            </tr>\n",
              "            <tr>\n",
              "                        <th id=\"T_cb25dc0e_0320_11eb_9902_0242ac1c0002level0_row17\" class=\"row_heading level0 row17\" >17</th>\n",
              "                        <td id=\"T_cb25dc0e_0320_11eb_9902_0242ac1c0002row17_col0\" class=\"data row17 col0\" >Transformation </td>\n",
              "                        <td id=\"T_cb25dc0e_0320_11eb_9902_0242ac1c0002row17_col1\" class=\"data row17 col1\" >False</td>\n",
              "            </tr>\n",
              "            <tr>\n",
              "                        <th id=\"T_cb25dc0e_0320_11eb_9902_0242ac1c0002level0_row18\" class=\"row_heading level0 row18\" >18</th>\n",
              "                        <td id=\"T_cb25dc0e_0320_11eb_9902_0242ac1c0002row18_col0\" class=\"data row18 col0\" >Transformation Method </td>\n",
              "                        <td id=\"T_cb25dc0e_0320_11eb_9902_0242ac1c0002row18_col1\" class=\"data row18 col1\" >None</td>\n",
              "            </tr>\n",
              "            <tr>\n",
              "                        <th id=\"T_cb25dc0e_0320_11eb_9902_0242ac1c0002level0_row19\" class=\"row_heading level0 row19\" >19</th>\n",
              "                        <td id=\"T_cb25dc0e_0320_11eb_9902_0242ac1c0002row19_col0\" class=\"data row19 col0\" >PCA </td>\n",
              "                        <td id=\"T_cb25dc0e_0320_11eb_9902_0242ac1c0002row19_col1\" class=\"data row19 col1\" >False</td>\n",
              "            </tr>\n",
              "            <tr>\n",
              "                        <th id=\"T_cb25dc0e_0320_11eb_9902_0242ac1c0002level0_row20\" class=\"row_heading level0 row20\" >20</th>\n",
              "                        <td id=\"T_cb25dc0e_0320_11eb_9902_0242ac1c0002row20_col0\" class=\"data row20 col0\" >PCA Method </td>\n",
              "                        <td id=\"T_cb25dc0e_0320_11eb_9902_0242ac1c0002row20_col1\" class=\"data row20 col1\" >None</td>\n",
              "            </tr>\n",
              "            <tr>\n",
              "                        <th id=\"T_cb25dc0e_0320_11eb_9902_0242ac1c0002level0_row21\" class=\"row_heading level0 row21\" >21</th>\n",
              "                        <td id=\"T_cb25dc0e_0320_11eb_9902_0242ac1c0002row21_col0\" class=\"data row21 col0\" >PCA Components </td>\n",
              "                        <td id=\"T_cb25dc0e_0320_11eb_9902_0242ac1c0002row21_col1\" class=\"data row21 col1\" >None</td>\n",
              "            </tr>\n",
              "            <tr>\n",
              "                        <th id=\"T_cb25dc0e_0320_11eb_9902_0242ac1c0002level0_row22\" class=\"row_heading level0 row22\" >22</th>\n",
              "                        <td id=\"T_cb25dc0e_0320_11eb_9902_0242ac1c0002row22_col0\" class=\"data row22 col0\" >Ignore Low Variance </td>\n",
              "                        <td id=\"T_cb25dc0e_0320_11eb_9902_0242ac1c0002row22_col1\" class=\"data row22 col1\" >False</td>\n",
              "            </tr>\n",
              "            <tr>\n",
              "                        <th id=\"T_cb25dc0e_0320_11eb_9902_0242ac1c0002level0_row23\" class=\"row_heading level0 row23\" >23</th>\n",
              "                        <td id=\"T_cb25dc0e_0320_11eb_9902_0242ac1c0002row23_col0\" class=\"data row23 col0\" >Combine Rare Levels </td>\n",
              "                        <td id=\"T_cb25dc0e_0320_11eb_9902_0242ac1c0002row23_col1\" class=\"data row23 col1\" >False</td>\n",
              "            </tr>\n",
              "            <tr>\n",
              "                        <th id=\"T_cb25dc0e_0320_11eb_9902_0242ac1c0002level0_row24\" class=\"row_heading level0 row24\" >24</th>\n",
              "                        <td id=\"T_cb25dc0e_0320_11eb_9902_0242ac1c0002row24_col0\" class=\"data row24 col0\" >Rare Level Threshold </td>\n",
              "                        <td id=\"T_cb25dc0e_0320_11eb_9902_0242ac1c0002row24_col1\" class=\"data row24 col1\" >None</td>\n",
              "            </tr>\n",
              "            <tr>\n",
              "                        <th id=\"T_cb25dc0e_0320_11eb_9902_0242ac1c0002level0_row25\" class=\"row_heading level0 row25\" >25</th>\n",
              "                        <td id=\"T_cb25dc0e_0320_11eb_9902_0242ac1c0002row25_col0\" class=\"data row25 col0\" >Numeric Binning </td>\n",
              "                        <td id=\"T_cb25dc0e_0320_11eb_9902_0242ac1c0002row25_col1\" class=\"data row25 col1\" >False</td>\n",
              "            </tr>\n",
              "            <tr>\n",
              "                        <th id=\"T_cb25dc0e_0320_11eb_9902_0242ac1c0002level0_row26\" class=\"row_heading level0 row26\" >26</th>\n",
              "                        <td id=\"T_cb25dc0e_0320_11eb_9902_0242ac1c0002row26_col0\" class=\"data row26 col0\" >Remove Outliers </td>\n",
              "                        <td id=\"T_cb25dc0e_0320_11eb_9902_0242ac1c0002row26_col1\" class=\"data row26 col1\" >False</td>\n",
              "            </tr>\n",
              "            <tr>\n",
              "                        <th id=\"T_cb25dc0e_0320_11eb_9902_0242ac1c0002level0_row27\" class=\"row_heading level0 row27\" >27</th>\n",
              "                        <td id=\"T_cb25dc0e_0320_11eb_9902_0242ac1c0002row27_col0\" class=\"data row27 col0\" >Outliers Threshold </td>\n",
              "                        <td id=\"T_cb25dc0e_0320_11eb_9902_0242ac1c0002row27_col1\" class=\"data row27 col1\" >None</td>\n",
              "            </tr>\n",
              "            <tr>\n",
              "                        <th id=\"T_cb25dc0e_0320_11eb_9902_0242ac1c0002level0_row28\" class=\"row_heading level0 row28\" >28</th>\n",
              "                        <td id=\"T_cb25dc0e_0320_11eb_9902_0242ac1c0002row28_col0\" class=\"data row28 col0\" >Remove Multicollinearity </td>\n",
              "                        <td id=\"T_cb25dc0e_0320_11eb_9902_0242ac1c0002row28_col1\" class=\"data row28 col1\" >False</td>\n",
              "            </tr>\n",
              "            <tr>\n",
              "                        <th id=\"T_cb25dc0e_0320_11eb_9902_0242ac1c0002level0_row29\" class=\"row_heading level0 row29\" >29</th>\n",
              "                        <td id=\"T_cb25dc0e_0320_11eb_9902_0242ac1c0002row29_col0\" class=\"data row29 col0\" >Multicollinearity Threshold </td>\n",
              "                        <td id=\"T_cb25dc0e_0320_11eb_9902_0242ac1c0002row29_col1\" class=\"data row29 col1\" >None</td>\n",
              "            </tr>\n",
              "            <tr>\n",
              "                        <th id=\"T_cb25dc0e_0320_11eb_9902_0242ac1c0002level0_row30\" class=\"row_heading level0 row30\" >30</th>\n",
              "                        <td id=\"T_cb25dc0e_0320_11eb_9902_0242ac1c0002row30_col0\" class=\"data row30 col0\" >Clustering </td>\n",
              "                        <td id=\"T_cb25dc0e_0320_11eb_9902_0242ac1c0002row30_col1\" class=\"data row30 col1\" >False</td>\n",
              "            </tr>\n",
              "            <tr>\n",
              "                        <th id=\"T_cb25dc0e_0320_11eb_9902_0242ac1c0002level0_row31\" class=\"row_heading level0 row31\" >31</th>\n",
              "                        <td id=\"T_cb25dc0e_0320_11eb_9902_0242ac1c0002row31_col0\" class=\"data row31 col0\" >Clustering Iteration </td>\n",
              "                        <td id=\"T_cb25dc0e_0320_11eb_9902_0242ac1c0002row31_col1\" class=\"data row31 col1\" >None</td>\n",
              "            </tr>\n",
              "            <tr>\n",
              "                        <th id=\"T_cb25dc0e_0320_11eb_9902_0242ac1c0002level0_row32\" class=\"row_heading level0 row32\" >32</th>\n",
              "                        <td id=\"T_cb25dc0e_0320_11eb_9902_0242ac1c0002row32_col0\" class=\"data row32 col0\" >Polynomial Features </td>\n",
              "                        <td id=\"T_cb25dc0e_0320_11eb_9902_0242ac1c0002row32_col1\" class=\"data row32 col1\" >False</td>\n",
              "            </tr>\n",
              "            <tr>\n",
              "                        <th id=\"T_cb25dc0e_0320_11eb_9902_0242ac1c0002level0_row33\" class=\"row_heading level0 row33\" >33</th>\n",
              "                        <td id=\"T_cb25dc0e_0320_11eb_9902_0242ac1c0002row33_col0\" class=\"data row33 col0\" >Polynomial Degree </td>\n",
              "                        <td id=\"T_cb25dc0e_0320_11eb_9902_0242ac1c0002row33_col1\" class=\"data row33 col1\" >None</td>\n",
              "            </tr>\n",
              "            <tr>\n",
              "                        <th id=\"T_cb25dc0e_0320_11eb_9902_0242ac1c0002level0_row34\" class=\"row_heading level0 row34\" >34</th>\n",
              "                        <td id=\"T_cb25dc0e_0320_11eb_9902_0242ac1c0002row34_col0\" class=\"data row34 col0\" >Trignometry Features </td>\n",
              "                        <td id=\"T_cb25dc0e_0320_11eb_9902_0242ac1c0002row34_col1\" class=\"data row34 col1\" >False</td>\n",
              "            </tr>\n",
              "            <tr>\n",
              "                        <th id=\"T_cb25dc0e_0320_11eb_9902_0242ac1c0002level0_row35\" class=\"row_heading level0 row35\" >35</th>\n",
              "                        <td id=\"T_cb25dc0e_0320_11eb_9902_0242ac1c0002row35_col0\" class=\"data row35 col0\" >Polynomial Threshold </td>\n",
              "                        <td id=\"T_cb25dc0e_0320_11eb_9902_0242ac1c0002row35_col1\" class=\"data row35 col1\" >None</td>\n",
              "            </tr>\n",
              "            <tr>\n",
              "                        <th id=\"T_cb25dc0e_0320_11eb_9902_0242ac1c0002level0_row36\" class=\"row_heading level0 row36\" >36</th>\n",
              "                        <td id=\"T_cb25dc0e_0320_11eb_9902_0242ac1c0002row36_col0\" class=\"data row36 col0\" >Group Features </td>\n",
              "                        <td id=\"T_cb25dc0e_0320_11eb_9902_0242ac1c0002row36_col1\" class=\"data row36 col1\" >False</td>\n",
              "            </tr>\n",
              "            <tr>\n",
              "                        <th id=\"T_cb25dc0e_0320_11eb_9902_0242ac1c0002level0_row37\" class=\"row_heading level0 row37\" >37</th>\n",
              "                        <td id=\"T_cb25dc0e_0320_11eb_9902_0242ac1c0002row37_col0\" class=\"data row37 col0\" >Feature Selection </td>\n",
              "                        <td id=\"T_cb25dc0e_0320_11eb_9902_0242ac1c0002row37_col1\" class=\"data row37 col1\" >False</td>\n",
              "            </tr>\n",
              "            <tr>\n",
              "                        <th id=\"T_cb25dc0e_0320_11eb_9902_0242ac1c0002level0_row38\" class=\"row_heading level0 row38\" >38</th>\n",
              "                        <td id=\"T_cb25dc0e_0320_11eb_9902_0242ac1c0002row38_col0\" class=\"data row38 col0\" >Features Selection Threshold </td>\n",
              "                        <td id=\"T_cb25dc0e_0320_11eb_9902_0242ac1c0002row38_col1\" class=\"data row38 col1\" >None</td>\n",
              "            </tr>\n",
              "            <tr>\n",
              "                        <th id=\"T_cb25dc0e_0320_11eb_9902_0242ac1c0002level0_row39\" class=\"row_heading level0 row39\" >39</th>\n",
              "                        <td id=\"T_cb25dc0e_0320_11eb_9902_0242ac1c0002row39_col0\" class=\"data row39 col0\" >Feature Interaction </td>\n",
              "                        <td id=\"T_cb25dc0e_0320_11eb_9902_0242ac1c0002row39_col1\" class=\"data row39 col1\" >False</td>\n",
              "            </tr>\n",
              "            <tr>\n",
              "                        <th id=\"T_cb25dc0e_0320_11eb_9902_0242ac1c0002level0_row40\" class=\"row_heading level0 row40\" >40</th>\n",
              "                        <td id=\"T_cb25dc0e_0320_11eb_9902_0242ac1c0002row40_col0\" class=\"data row40 col0\" >Feature Ratio </td>\n",
              "                        <td id=\"T_cb25dc0e_0320_11eb_9902_0242ac1c0002row40_col1\" class=\"data row40 col1\" >False</td>\n",
              "            </tr>\n",
              "            <tr>\n",
              "                        <th id=\"T_cb25dc0e_0320_11eb_9902_0242ac1c0002level0_row41\" class=\"row_heading level0 row41\" >41</th>\n",
              "                        <td id=\"T_cb25dc0e_0320_11eb_9902_0242ac1c0002row41_col0\" class=\"data row41 col0\" >Interaction Threshold </td>\n",
              "                        <td id=\"T_cb25dc0e_0320_11eb_9902_0242ac1c0002row41_col1\" class=\"data row41 col1\" >None</td>\n",
              "            </tr>\n",
              "            <tr>\n",
              "                        <th id=\"T_cb25dc0e_0320_11eb_9902_0242ac1c0002level0_row42\" class=\"row_heading level0 row42\" >42</th>\n",
              "                        <td id=\"T_cb25dc0e_0320_11eb_9902_0242ac1c0002row42_col0\" class=\"data row42 col0\" >Fix Imbalance</td>\n",
              "                        <td id=\"T_cb25dc0e_0320_11eb_9902_0242ac1c0002row42_col1\" class=\"data row42 col1\" >False</td>\n",
              "            </tr>\n",
              "            <tr>\n",
              "                        <th id=\"T_cb25dc0e_0320_11eb_9902_0242ac1c0002level0_row43\" class=\"row_heading level0 row43\" >43</th>\n",
              "                        <td id=\"T_cb25dc0e_0320_11eb_9902_0242ac1c0002row43_col0\" class=\"data row43 col0\" >Fix Imbalance Method</td>\n",
              "                        <td id=\"T_cb25dc0e_0320_11eb_9902_0242ac1c0002row43_col1\" class=\"data row43 col1\" >SMOTE</td>\n",
              "            </tr>\n",
              "    </tbody></table>"
            ],
            "text/plain": [
              "<pandas.io.formats.style.Styler at 0x7f7e070ecb00>"
            ]
          },
          "metadata": {
            "tags": []
          }
        },
        {
          "output_type": "execute_result",
          "data": {
            "text/plain": [
              "(                 Time        V1         V2  ...       V27       V28      Amount\n",
              " 0       217205.803513 -2.567981   0.898000  ... -0.372765 -0.628274  160.405993\n",
              " 1       152178.961131  2.464177   0.769727  ... -0.431744  0.018294  280.848610\n",
              " 2       182977.585124 -0.928121  -0.347480  ... -0.154998 -0.157450  258.813132\n",
              " 3       125476.880682 -5.294014  -7.711289  ... -0.230594  0.054191  169.302354\n",
              " 4       109467.436111 -3.310566   2.543741  ...  0.123373 -0.002864   19.754487\n",
              " ...               ...       ...        ...  ...       ...       ...         ...\n",
              " 199359  125425.327156 -2.490395   6.199844  ... -0.209445 -1.042581  677.645646\n",
              " 199360   20328.369295 -1.441320   4.867258  ... -1.862583  0.040780 -199.652155\n",
              " 199361   67602.297127 -0.286126 -13.001091  ...  0.210092  0.009773  140.976120\n",
              " 199362  140527.616884  4.706068   6.388379  ...  0.765785  0.499481  286.169822\n",
              " 199363   58137.551655 -0.533701   7.697579  ...  0.916655  0.729042 -304.884391\n",
              " \n",
              " [199364 rows x 30 columns], 0         0\n",
              " 1         0\n",
              " 2         0\n",
              " 3         0\n",
              " 4         0\n",
              "          ..\n",
              " 199359    1\n",
              " 199360    1\n",
              " 199361    1\n",
              " 199362    1\n",
              " 199363    1\n",
              " Name: Class, Length: 199364, dtype: int64,                  Time         V1         V2  ...       V27       V28      Amount\n",
              " 149665   58613.573235  -9.569040  -3.736329  ...  1.457575  0.142114  -36.670825\n",
              " 114059  111739.943176  -9.407314   1.144057  ... -1.097896  0.304204 -164.850843\n",
              " 17025   -20075.685330   4.421947  -1.106832  ... -0.288861 -0.220150   71.898434\n",
              " 18277    73452.114169  -1.563618   1.494101  ...  0.852703  0.148255 -209.693786\n",
              " 47633   170179.395814   2.822317   1.213821  ...  0.002318 -0.277419 -201.843876\n",
              " ...               ...        ...        ...  ...       ...       ...         ...\n",
              " 135961  175176.417456  -0.687320   0.088811  ... -0.705489 -0.660179  224.745128\n",
              " 193568   55934.251803 -33.168161  20.994227  ...  4.927338  0.765564  -85.722942\n",
              " 134032  122546.916924  -3.282223  -0.204636  ... -0.431412  0.265906  118.989940\n",
              " 48938   212795.634378   0.293762   1.888179  ... -0.289145 -0.451324 -207.119938\n",
              " 33467    97934.026177  -1.297710  -3.539607  ... -0.088273  0.077488  508.055554\n",
              " \n",
              " [69777 rows x 30 columns],                  Time         V1         V2  ...       V27       V28       Amount\n",
              " 88439   120142.022487  -0.871838  -4.485644  ...  0.169441  0.368874  1064.241875\n",
              " 35901    15189.152958   0.053255  -0.702032  ... -0.139642 -0.123304  -172.002429\n",
              " 153171   42888.717115  -1.390946   2.244777  ...  0.213858  0.135591    15.924652\n",
              " 154785   66724.254264  -9.570013   0.212222  ...  1.721588 -0.752904   -79.416700\n",
              " 11768   144890.796668  -3.468563   1.209527  ...  0.342060  0.201294    80.892357\n",
              " ...               ...        ...        ...  ...       ...       ...          ...\n",
              " 103157   92220.677753  -9.715432   8.509263  ...  1.635359 -0.208282    66.215135\n",
              " 62604   121078.098112  -2.079383   4.575169  ...  0.086440  0.260004   -83.375329\n",
              " 155599   15426.550896 -30.811426  11.863946  ...  1.722409 -0.351100    36.468312\n",
              " 46097   105707.848881  -0.057949   1.607356  ...  0.413281  0.305201    48.241495\n",
              " 20482    29954.872199  -1.988423   0.766723  ...  0.577431 -0.034842    26.317790\n",
              " \n",
              " [29905 rows x 30 columns], 149665    1\n",
              " 114059    1\n",
              " 17025     0\n",
              " 18277     0\n",
              " 47633     0\n",
              "          ..\n",
              " 135961    1\n",
              " 193568    1\n",
              " 134032    1\n",
              " 48938     0\n",
              " 33467     0\n",
              " Name: Class, Length: 69777, dtype: int64, 88439     0\n",
              " 35901     0\n",
              " 153171    1\n",
              " 154785    1\n",
              " 11768     0\n",
              "          ..\n",
              " 103157    1\n",
              " 62604     0\n",
              " 155599    1\n",
              " 46097     0\n",
              " 20482     0\n",
              " Name: Class, Length: 29905, dtype: int64, 5443, Pipeline(memory=None,\n",
              "          steps=[('dtypes',\n",
              "                  DataTypes_Auto_infer(categorical_features=[],\n",
              "                                       display_types=True, features_todrop=[],\n",
              "                                       ml_usecase='classification',\n",
              "                                       numerical_features=[], target='Class',\n",
              "                                       time_features=[])),\n",
              "                 ('imputer',\n",
              "                  Simple_Imputer(categorical_strategy='not_available',\n",
              "                                 numeric_strategy='mean',\n",
              "                                 target_variable=None)),\n",
              "                 ('new_levels1',\n",
              "                  New_Catagorical_Leve...\n",
              "                 ('group', Empty()), ('nonliner', Empty()), ('scaling', Empty()),\n",
              "                 ('P_transform', Empty()), ('pt_target', Empty()),\n",
              "                 ('binn', Empty()), ('rem_outliers', Empty()),\n",
              "                 ('cluster_all', Empty()), ('dummy', Dummify(target='Class')),\n",
              "                 ('fix_perfect', Empty()), ('clean_names', Clean_Colum_Names()),\n",
              "                 ('feature_select', Empty()), ('fix_multi', Empty()),\n",
              "                 ('dfs', Empty()), ('pca', Empty())],\n",
              "          verbose=False), [('Classification Setup Config',\n",
              "                         Description         Value\n",
              "   0                      session_id          5443\n",
              "   1                     Target Type        Binary\n",
              "   2                   Label Encoded    0: 0, 1: 1\n",
              "   3                   Original Data  (199364, 31)\n",
              "   4                 Missing Values          False\n",
              "   5               Numeric Features             30\n",
              "   6           Categorical Features              0\n",
              "   7               Ordinal Features          False\n",
              "   8      High Cardinality Features          False\n",
              "   9        High Cardinality Method           None\n",
              "   10                   Sampled Data   (99682, 31)\n",
              "   11          Transformed Train Set   (69777, 30)\n",
              "   12           Transformed Test Set   (29905, 30)\n",
              "   13               Numeric Imputer           mean\n",
              "   14           Categorical Imputer       constant\n",
              "   15                     Normalize          False\n",
              "   16              Normalize Method           None\n",
              "   17                Transformation          False\n",
              "   18         Transformation Method           None\n",
              "   19                           PCA          False\n",
              "   20                    PCA Method           None\n",
              "   21                PCA Components           None\n",
              "   22           Ignore Low Variance          False\n",
              "   23           Combine Rare Levels          False\n",
              "   24          Rare Level Threshold           None\n",
              "   25               Numeric Binning          False\n",
              "   26               Remove Outliers          False\n",
              "   27            Outliers Threshold           None\n",
              "   28      Remove Multicollinearity          False\n",
              "   29   Multicollinearity Threshold           None\n",
              "   30                    Clustering          False\n",
              "   31          Clustering Iteration           None\n",
              "   32           Polynomial Features          False\n",
              "   33             Polynomial Degree           None\n",
              "   34          Trignometry Features          False\n",
              "   35          Polynomial Threshold           None\n",
              "   36                Group Features          False\n",
              "   37             Feature Selection          False\n",
              "   38  Features Selection Threshold           None\n",
              "   39           Feature Interaction          False\n",
              "   40                 Feature Ratio          False\n",
              "   41         Interaction Threshold           None\n",
              "   42                  Fix Imbalance         False\n",
              "   43           Fix Imbalance Method         SMOTE),\n",
              "  ('X_training Set',\n",
              "                    Time         V1         V2  ...       V27       V28      Amount\n",
              "   149665   58613.573235  -9.569040  -3.736329  ...  1.457575  0.142114  -36.670825\n",
              "   114059  111739.943176  -9.407314   1.144057  ... -1.097896  0.304204 -164.850843\n",
              "   17025   -20075.685330   4.421947  -1.106832  ... -0.288861 -0.220150   71.898434\n",
              "   18277    73452.114169  -1.563618   1.494101  ...  0.852703  0.148255 -209.693786\n",
              "   47633   170179.395814   2.822317   1.213821  ...  0.002318 -0.277419 -201.843876\n",
              "   ...               ...        ...        ...  ...       ...       ...         ...\n",
              "   135961  175176.417456  -0.687320   0.088811  ... -0.705489 -0.660179  224.745128\n",
              "   193568   55934.251803 -33.168161  20.994227  ...  4.927338  0.765564  -85.722942\n",
              "   134032  122546.916924  -3.282223  -0.204636  ... -0.431412  0.265906  118.989940\n",
              "   48938   212795.634378   0.293762   1.888179  ... -0.289145 -0.451324 -207.119938\n",
              "   33467    97934.026177  -1.297710  -3.539607  ... -0.088273  0.077488  508.055554\n",
              "   \n",
              "   [69777 rows x 30 columns]),\n",
              "  ('y_training Set', 149665    1\n",
              "   114059    1\n",
              "   17025     0\n",
              "   18277     0\n",
              "   47633     0\n",
              "            ..\n",
              "   135961    1\n",
              "   193568    1\n",
              "   134032    1\n",
              "   48938     0\n",
              "   33467     0\n",
              "   Name: Class, Length: 69777, dtype: int64),\n",
              "  ('X_test Set',\n",
              "                    Time         V1         V2  ...       V27       V28       Amount\n",
              "   88439   120142.022487  -0.871838  -4.485644  ...  0.169441  0.368874  1064.241875\n",
              "   35901    15189.152958   0.053255  -0.702032  ... -0.139642 -0.123304  -172.002429\n",
              "   153171   42888.717115  -1.390946   2.244777  ...  0.213858  0.135591    15.924652\n",
              "   154785   66724.254264  -9.570013   0.212222  ...  1.721588 -0.752904   -79.416700\n",
              "   11768   144890.796668  -3.468563   1.209527  ...  0.342060  0.201294    80.892357\n",
              "   ...               ...        ...        ...  ...       ...       ...          ...\n",
              "   103157   92220.677753  -9.715432   8.509263  ...  1.635359 -0.208282    66.215135\n",
              "   62604   121078.098112  -2.079383   4.575169  ...  0.086440  0.260004   -83.375329\n",
              "   155599   15426.550896 -30.811426  11.863946  ...  1.722409 -0.351100    36.468312\n",
              "   46097   105707.848881  -0.057949   1.607356  ...  0.413281  0.305201    48.241495\n",
              "   20482    29954.872199  -1.988423   0.766723  ...  0.577431 -0.034842    26.317790\n",
              "   \n",
              "   [29905 rows x 30 columns]),\n",
              "  ('y_test Set', 88439     0\n",
              "   35901     0\n",
              "   153171    1\n",
              "   154785    1\n",
              "   11768     0\n",
              "            ..\n",
              "   103157    1\n",
              "   62604     0\n",
              "   155599    1\n",
              "   46097     0\n",
              "   20482     0\n",
              "   Name: Class, Length: 29905, dtype: int64),\n",
              "  ('Transformation Pipeline', Pipeline(memory=None,\n",
              "            steps=[('dtypes',\n",
              "                    DataTypes_Auto_infer(categorical_features=[],\n",
              "                                         display_types=True, features_todrop=[],\n",
              "                                         ml_usecase='classification',\n",
              "                                         numerical_features=[], target='Class',\n",
              "                                         time_features=[])),\n",
              "                   ('imputer',\n",
              "                    Simple_Imputer(categorical_strategy='not_available',\n",
              "                                   numeric_strategy='mean',\n",
              "                                   target_variable=None)),\n",
              "                   ('new_levels1',\n",
              "                    New_Catagorical_Leve...\n",
              "                   ('group', Empty()), ('nonliner', Empty()), ('scaling', Empty()),\n",
              "                   ('P_transform', Empty()), ('pt_target', Empty()),\n",
              "                   ('binn', Empty()), ('rem_outliers', Empty()),\n",
              "                   ('cluster_all', Empty()), ('dummy', Dummify(target='Class')),\n",
              "                   ('fix_perfect', Empty()), ('clean_names', Clean_Colum_Names()),\n",
              "                   ('feature_select', Empty()), ('fix_multi', Empty()),\n",
              "                   ('dfs', Empty()), ('pca', Empty())],\n",
              "            verbose=False))], False, -1, True, [], [], [], 'no_logging', False, False, 'dc1b', False, None, <Logger logs (DEBUG)>,                  Time        V1         V2  ...       V28      Amount  Class\n",
              " 0       217205.803513 -2.567981   0.898000  ... -0.628274  160.405993      0\n",
              " 1       152178.961131  2.464177   0.769727  ...  0.018294  280.848610      0\n",
              " 2       182977.585124 -0.928121  -0.347480  ... -0.157450  258.813132      0\n",
              " 3       125476.880682 -5.294014  -7.711289  ...  0.054191  169.302354      0\n",
              " 4       109467.436111 -3.310566   2.543741  ... -0.002864   19.754487      0\n",
              " ...               ...       ...        ...  ...       ...         ...    ...\n",
              " 199359  125425.327156 -2.490395   6.199844  ... -1.042581  677.645646      1\n",
              " 199360   20328.369295 -1.441320   4.867258  ...  0.040780 -199.652155      1\n",
              " 199361   67602.297127 -0.286126 -13.001091  ...  0.009773  140.976120      1\n",
              " 199362  140527.616884  4.706068   6.388379  ...  0.499481  286.169822      1\n",
              " 199363   58137.551655 -0.533701   7.697579  ...  0.729042 -304.884391      1\n",
              " \n",
              " [199364 rows x 31 columns], 'Class', False)"
            ]
          },
          "metadata": {
            "tags": []
          },
          "execution_count": 120
        }
      ]
    },
    {
      "cell_type": "code",
      "metadata": {
        "id": "rhIfwABFQKZl",
        "outputId": "36b7ba4a-da8e-42e2-8627-81630913ec12",
        "colab": {
          "base_uri": "https://localhost:8080/",
          "height": 491,
          "referenced_widgets": [
            "fe3c320fd4204cf0b54921d815d0361c",
            "c2a7c9339a014121973f32ae8e8da680",
            "95d5b35227c54c00aba902155f01dbf0"
          ]
        }
      },
      "source": [
        "#comparando modelos\n",
        "compare_models(sort='AUC')\n"
      ],
      "execution_count": 121,
      "outputs": [
        {
          "output_type": "display_data",
          "data": {
            "text/html": [
              "<style  type=\"text/css\" >\n",
              "    #T_3a40e332_0325_11eb_9902_0242ac1c0002 th {\n",
              "          text-align: left;\n",
              "    }#T_3a40e332_0325_11eb_9902_0242ac1c0002row0_col0,#T_3a40e332_0325_11eb_9902_0242ac1c0002row0_col3,#T_3a40e332_0325_11eb_9902_0242ac1c0002row0_col4,#T_3a40e332_0325_11eb_9902_0242ac1c0002row0_col6,#T_3a40e332_0325_11eb_9902_0242ac1c0002row0_col7,#T_3a40e332_0325_11eb_9902_0242ac1c0002row1_col0,#T_3a40e332_0325_11eb_9902_0242ac1c0002row1_col1,#T_3a40e332_0325_11eb_9902_0242ac1c0002row1_col3,#T_3a40e332_0325_11eb_9902_0242ac1c0002row1_col4,#T_3a40e332_0325_11eb_9902_0242ac1c0002row1_col5,#T_3a40e332_0325_11eb_9902_0242ac1c0002row1_col6,#T_3a40e332_0325_11eb_9902_0242ac1c0002row1_col7,#T_3a40e332_0325_11eb_9902_0242ac1c0002row2_col0,#T_3a40e332_0325_11eb_9902_0242ac1c0002row2_col3,#T_3a40e332_0325_11eb_9902_0242ac1c0002row3_col0,#T_3a40e332_0325_11eb_9902_0242ac1c0002row3_col1,#T_3a40e332_0325_11eb_9902_0242ac1c0002row3_col2,#T_3a40e332_0325_11eb_9902_0242ac1c0002row3_col3,#T_3a40e332_0325_11eb_9902_0242ac1c0002row3_col4,#T_3a40e332_0325_11eb_9902_0242ac1c0002row3_col5,#T_3a40e332_0325_11eb_9902_0242ac1c0002row3_col6,#T_3a40e332_0325_11eb_9902_0242ac1c0002row3_col7,#T_3a40e332_0325_11eb_9902_0242ac1c0002row4_col0,#T_3a40e332_0325_11eb_9902_0242ac1c0002row4_col1,#T_3a40e332_0325_11eb_9902_0242ac1c0002row4_col2,#T_3a40e332_0325_11eb_9902_0242ac1c0002row4_col3,#T_3a40e332_0325_11eb_9902_0242ac1c0002row4_col4,#T_3a40e332_0325_11eb_9902_0242ac1c0002row4_col5,#T_3a40e332_0325_11eb_9902_0242ac1c0002row4_col6,#T_3a40e332_0325_11eb_9902_0242ac1c0002row4_col7,#T_3a40e332_0325_11eb_9902_0242ac1c0002row5_col0,#T_3a40e332_0325_11eb_9902_0242ac1c0002row5_col1,#T_3a40e332_0325_11eb_9902_0242ac1c0002row5_col2,#T_3a40e332_0325_11eb_9902_0242ac1c0002row5_col3,#T_3a40e332_0325_11eb_9902_0242ac1c0002row5_col4,#T_3a40e332_0325_11eb_9902_0242ac1c0002row5_col5,#T_3a40e332_0325_11eb_9902_0242ac1c0002row5_col6,#T_3a40e332_0325_11eb_9902_0242ac1c0002row5_col7,#T_3a40e332_0325_11eb_9902_0242ac1c0002row6_col0,#T_3a40e332_0325_11eb_9902_0242ac1c0002row6_col1,#T_3a40e332_0325_11eb_9902_0242ac1c0002row6_col2,#T_3a40e332_0325_11eb_9902_0242ac1c0002row6_col3,#T_3a40e332_0325_11eb_9902_0242ac1c0002row6_col4,#T_3a40e332_0325_11eb_9902_0242ac1c0002row6_col5,#T_3a40e332_0325_11eb_9902_0242ac1c0002row6_col6,#T_3a40e332_0325_11eb_9902_0242ac1c0002row6_col7,#T_3a40e332_0325_11eb_9902_0242ac1c0002row7_col0,#T_3a40e332_0325_11eb_9902_0242ac1c0002row7_col1,#T_3a40e332_0325_11eb_9902_0242ac1c0002row7_col2,#T_3a40e332_0325_11eb_9902_0242ac1c0002row7_col3,#T_3a40e332_0325_11eb_9902_0242ac1c0002row7_col4,#T_3a40e332_0325_11eb_9902_0242ac1c0002row7_col5,#T_3a40e332_0325_11eb_9902_0242ac1c0002row7_col6,#T_3a40e332_0325_11eb_9902_0242ac1c0002row7_col7,#T_3a40e332_0325_11eb_9902_0242ac1c0002row8_col0,#T_3a40e332_0325_11eb_9902_0242ac1c0002row8_col1,#T_3a40e332_0325_11eb_9902_0242ac1c0002row8_col2,#T_3a40e332_0325_11eb_9902_0242ac1c0002row8_col4,#T_3a40e332_0325_11eb_9902_0242ac1c0002row8_col5,#T_3a40e332_0325_11eb_9902_0242ac1c0002row8_col6,#T_3a40e332_0325_11eb_9902_0242ac1c0002row8_col7,#T_3a40e332_0325_11eb_9902_0242ac1c0002row9_col0,#T_3a40e332_0325_11eb_9902_0242ac1c0002row9_col1,#T_3a40e332_0325_11eb_9902_0242ac1c0002row9_col2,#T_3a40e332_0325_11eb_9902_0242ac1c0002row9_col3,#T_3a40e332_0325_11eb_9902_0242ac1c0002row9_col4,#T_3a40e332_0325_11eb_9902_0242ac1c0002row9_col5,#T_3a40e332_0325_11eb_9902_0242ac1c0002row9_col6,#T_3a40e332_0325_11eb_9902_0242ac1c0002row9_col7,#T_3a40e332_0325_11eb_9902_0242ac1c0002row10_col0,#T_3a40e332_0325_11eb_9902_0242ac1c0002row10_col1,#T_3a40e332_0325_11eb_9902_0242ac1c0002row10_col2,#T_3a40e332_0325_11eb_9902_0242ac1c0002row10_col3,#T_3a40e332_0325_11eb_9902_0242ac1c0002row10_col4,#T_3a40e332_0325_11eb_9902_0242ac1c0002row10_col5,#T_3a40e332_0325_11eb_9902_0242ac1c0002row10_col6,#T_3a40e332_0325_11eb_9902_0242ac1c0002row10_col7,#T_3a40e332_0325_11eb_9902_0242ac1c0002row11_col0,#T_3a40e332_0325_11eb_9902_0242ac1c0002row11_col1,#T_3a40e332_0325_11eb_9902_0242ac1c0002row11_col2,#T_3a40e332_0325_11eb_9902_0242ac1c0002row11_col3,#T_3a40e332_0325_11eb_9902_0242ac1c0002row11_col4,#T_3a40e332_0325_11eb_9902_0242ac1c0002row11_col5,#T_3a40e332_0325_11eb_9902_0242ac1c0002row11_col6,#T_3a40e332_0325_11eb_9902_0242ac1c0002row11_col7,#T_3a40e332_0325_11eb_9902_0242ac1c0002row12_col0,#T_3a40e332_0325_11eb_9902_0242ac1c0002row12_col1,#T_3a40e332_0325_11eb_9902_0242ac1c0002row12_col2,#T_3a40e332_0325_11eb_9902_0242ac1c0002row12_col3,#T_3a40e332_0325_11eb_9902_0242ac1c0002row12_col4,#T_3a40e332_0325_11eb_9902_0242ac1c0002row12_col5,#T_3a40e332_0325_11eb_9902_0242ac1c0002row12_col6,#T_3a40e332_0325_11eb_9902_0242ac1c0002row12_col7,#T_3a40e332_0325_11eb_9902_0242ac1c0002row13_col0,#T_3a40e332_0325_11eb_9902_0242ac1c0002row13_col1,#T_3a40e332_0325_11eb_9902_0242ac1c0002row13_col2,#T_3a40e332_0325_11eb_9902_0242ac1c0002row13_col3,#T_3a40e332_0325_11eb_9902_0242ac1c0002row13_col4,#T_3a40e332_0325_11eb_9902_0242ac1c0002row13_col5,#T_3a40e332_0325_11eb_9902_0242ac1c0002row13_col6,#T_3a40e332_0325_11eb_9902_0242ac1c0002row13_col7,#T_3a40e332_0325_11eb_9902_0242ac1c0002row14_col0,#T_3a40e332_0325_11eb_9902_0242ac1c0002row14_col1,#T_3a40e332_0325_11eb_9902_0242ac1c0002row14_col2,#T_3a40e332_0325_11eb_9902_0242ac1c0002row14_col3,#T_3a40e332_0325_11eb_9902_0242ac1c0002row14_col4,#T_3a40e332_0325_11eb_9902_0242ac1c0002row14_col5,#T_3a40e332_0325_11eb_9902_0242ac1c0002row14_col6,#T_3a40e332_0325_11eb_9902_0242ac1c0002row14_col7{\n",
              "            text-align:  left;\n",
              "        }#T_3a40e332_0325_11eb_9902_0242ac1c0002row0_col1,#T_3a40e332_0325_11eb_9902_0242ac1c0002row0_col2,#T_3a40e332_0325_11eb_9902_0242ac1c0002row0_col5,#T_3a40e332_0325_11eb_9902_0242ac1c0002row1_col2,#T_3a40e332_0325_11eb_9902_0242ac1c0002row2_col1,#T_3a40e332_0325_11eb_9902_0242ac1c0002row2_col2,#T_3a40e332_0325_11eb_9902_0242ac1c0002row2_col4,#T_3a40e332_0325_11eb_9902_0242ac1c0002row2_col5,#T_3a40e332_0325_11eb_9902_0242ac1c0002row2_col6,#T_3a40e332_0325_11eb_9902_0242ac1c0002row2_col7,#T_3a40e332_0325_11eb_9902_0242ac1c0002row8_col3{\n",
              "            background-color:  yellow;\n",
              "            text-align:  left;\n",
              "        }#T_3a40e332_0325_11eb_9902_0242ac1c0002row0_col8,#T_3a40e332_0325_11eb_9902_0242ac1c0002row1_col8,#T_3a40e332_0325_11eb_9902_0242ac1c0002row2_col8,#T_3a40e332_0325_11eb_9902_0242ac1c0002row3_col8,#T_3a40e332_0325_11eb_9902_0242ac1c0002row4_col8,#T_3a40e332_0325_11eb_9902_0242ac1c0002row5_col8,#T_3a40e332_0325_11eb_9902_0242ac1c0002row6_col8,#T_3a40e332_0325_11eb_9902_0242ac1c0002row7_col8,#T_3a40e332_0325_11eb_9902_0242ac1c0002row8_col8,#T_3a40e332_0325_11eb_9902_0242ac1c0002row9_col8,#T_3a40e332_0325_11eb_9902_0242ac1c0002row10_col8,#T_3a40e332_0325_11eb_9902_0242ac1c0002row11_col8,#T_3a40e332_0325_11eb_9902_0242ac1c0002row12_col8,#T_3a40e332_0325_11eb_9902_0242ac1c0002row13_col8,#T_3a40e332_0325_11eb_9902_0242ac1c0002row14_col8{\n",
              "            background-color:  lightgrey;\n",
              "            text-align:  left;\n",
              "        }</style><table id=\"T_3a40e332_0325_11eb_9902_0242ac1c0002\" ><thead>    <tr>        <th class=\"blank level0\" ></th>        <th class=\"col_heading level0 col0\" >Model</th>        <th class=\"col_heading level0 col1\" >Accuracy</th>        <th class=\"col_heading level0 col2\" >AUC</th>        <th class=\"col_heading level0 col3\" >Recall</th>        <th class=\"col_heading level0 col4\" >Prec.</th>        <th class=\"col_heading level0 col5\" >F1</th>        <th class=\"col_heading level0 col6\" >Kappa</th>        <th class=\"col_heading level0 col7\" >MCC</th>        <th class=\"col_heading level0 col8\" >TT (Sec)</th>    </tr></thead><tbody>\n",
              "                <tr>\n",
              "                        <th id=\"T_3a40e332_0325_11eb_9902_0242ac1c0002level0_row0\" class=\"row_heading level0 row0\" >0</th>\n",
              "                        <td id=\"T_3a40e332_0325_11eb_9902_0242ac1c0002row0_col0\" class=\"data row0 col0\" >Extra Trees Classifier</td>\n",
              "                        <td id=\"T_3a40e332_0325_11eb_9902_0242ac1c0002row0_col1\" class=\"data row0 col1\" >0.9984</td>\n",
              "                        <td id=\"T_3a40e332_0325_11eb_9902_0242ac1c0002row0_col2\" class=\"data row0 col2\" >0.9999</td>\n",
              "                        <td id=\"T_3a40e332_0325_11eb_9902_0242ac1c0002row0_col3\" class=\"data row0 col3\" >0.9988</td>\n",
              "                        <td id=\"T_3a40e332_0325_11eb_9902_0242ac1c0002row0_col4\" class=\"data row0 col4\" >0.9980</td>\n",
              "                        <td id=\"T_3a40e332_0325_11eb_9902_0242ac1c0002row0_col5\" class=\"data row0 col5\" >0.9984</td>\n",
              "                        <td id=\"T_3a40e332_0325_11eb_9902_0242ac1c0002row0_col6\" class=\"data row0 col6\" >0.9968</td>\n",
              "                        <td id=\"T_3a40e332_0325_11eb_9902_0242ac1c0002row0_col7\" class=\"data row0 col7\" >0.9968</td>\n",
              "                        <td id=\"T_3a40e332_0325_11eb_9902_0242ac1c0002row0_col8\" class=\"data row0 col8\" >5.9996</td>\n",
              "            </tr>\n",
              "            <tr>\n",
              "                        <th id=\"T_3a40e332_0325_11eb_9902_0242ac1c0002level0_row1\" class=\"row_heading level0 row1\" >1</th>\n",
              "                        <td id=\"T_3a40e332_0325_11eb_9902_0242ac1c0002row1_col0\" class=\"data row1 col0\" >Light Gradient Boosting Machine</td>\n",
              "                        <td id=\"T_3a40e332_0325_11eb_9902_0242ac1c0002row1_col1\" class=\"data row1 col1\" >0.9983</td>\n",
              "                        <td id=\"T_3a40e332_0325_11eb_9902_0242ac1c0002row1_col2\" class=\"data row1 col2\" >0.9999</td>\n",
              "                        <td id=\"T_3a40e332_0325_11eb_9902_0242ac1c0002row1_col3\" class=\"data row1 col3\" >0.9983</td>\n",
              "                        <td id=\"T_3a40e332_0325_11eb_9902_0242ac1c0002row1_col4\" class=\"data row1 col4\" >0.9983</td>\n",
              "                        <td id=\"T_3a40e332_0325_11eb_9902_0242ac1c0002row1_col5\" class=\"data row1 col5\" >0.9983</td>\n",
              "                        <td id=\"T_3a40e332_0325_11eb_9902_0242ac1c0002row1_col6\" class=\"data row1 col6\" >0.9966</td>\n",
              "                        <td id=\"T_3a40e332_0325_11eb_9902_0242ac1c0002row1_col7\" class=\"data row1 col7\" >0.9966</td>\n",
              "                        <td id=\"T_3a40e332_0325_11eb_9902_0242ac1c0002row1_col8\" class=\"data row1 col8\" >1.7220</td>\n",
              "            </tr>\n",
              "            <tr>\n",
              "                        <th id=\"T_3a40e332_0325_11eb_9902_0242ac1c0002level0_row2\" class=\"row_heading level0 row2\" >2</th>\n",
              "                        <td id=\"T_3a40e332_0325_11eb_9902_0242ac1c0002row2_col0\" class=\"data row2 col0\" >CatBoost Classifier</td>\n",
              "                        <td id=\"T_3a40e332_0325_11eb_9902_0242ac1c0002row2_col1\" class=\"data row2 col1\" >0.9984</td>\n",
              "                        <td id=\"T_3a40e332_0325_11eb_9902_0242ac1c0002row2_col2\" class=\"data row2 col2\" >0.9999</td>\n",
              "                        <td id=\"T_3a40e332_0325_11eb_9902_0242ac1c0002row2_col3\" class=\"data row2 col3\" >0.9979</td>\n",
              "                        <td id=\"T_3a40e332_0325_11eb_9902_0242ac1c0002row2_col4\" class=\"data row2 col4\" >0.9990</td>\n",
              "                        <td id=\"T_3a40e332_0325_11eb_9902_0242ac1c0002row2_col5\" class=\"data row2 col5\" >0.9984</td>\n",
              "                        <td id=\"T_3a40e332_0325_11eb_9902_0242ac1c0002row2_col6\" class=\"data row2 col6\" >0.9969</td>\n",
              "                        <td id=\"T_3a40e332_0325_11eb_9902_0242ac1c0002row2_col7\" class=\"data row2 col7\" >0.9969</td>\n",
              "                        <td id=\"T_3a40e332_0325_11eb_9902_0242ac1c0002row2_col8\" class=\"data row2 col8\" >31.9465</td>\n",
              "            </tr>\n",
              "            <tr>\n",
              "                        <th id=\"T_3a40e332_0325_11eb_9902_0242ac1c0002level0_row3\" class=\"row_heading level0 row3\" >3</th>\n",
              "                        <td id=\"T_3a40e332_0325_11eb_9902_0242ac1c0002row3_col0\" class=\"data row3 col0\" >Gradient Boosting Classifier</td>\n",
              "                        <td id=\"T_3a40e332_0325_11eb_9902_0242ac1c0002row3_col1\" class=\"data row3 col1\" >0.9957</td>\n",
              "                        <td id=\"T_3a40e332_0325_11eb_9902_0242ac1c0002row3_col2\" class=\"data row3 col2\" >0.9998</td>\n",
              "                        <td id=\"T_3a40e332_0325_11eb_9902_0242ac1c0002row3_col3\" class=\"data row3 col3\" >0.9950</td>\n",
              "                        <td id=\"T_3a40e332_0325_11eb_9902_0242ac1c0002row3_col4\" class=\"data row3 col4\" >0.9963</td>\n",
              "                        <td id=\"T_3a40e332_0325_11eb_9902_0242ac1c0002row3_col5\" class=\"data row3 col5\" >0.9957</td>\n",
              "                        <td id=\"T_3a40e332_0325_11eb_9902_0242ac1c0002row3_col6\" class=\"data row3 col6\" >0.9913</td>\n",
              "                        <td id=\"T_3a40e332_0325_11eb_9902_0242ac1c0002row3_col7\" class=\"data row3 col7\" >0.9913</td>\n",
              "                        <td id=\"T_3a40e332_0325_11eb_9902_0242ac1c0002row3_col8\" class=\"data row3 col8\" >92.6296</td>\n",
              "            </tr>\n",
              "            <tr>\n",
              "                        <th id=\"T_3a40e332_0325_11eb_9902_0242ac1c0002level0_row4\" class=\"row_heading level0 row4\" >4</th>\n",
              "                        <td id=\"T_3a40e332_0325_11eb_9902_0242ac1c0002row4_col0\" class=\"data row4 col0\" >Extreme Gradient Boosting</td>\n",
              "                        <td id=\"T_3a40e332_0325_11eb_9902_0242ac1c0002row4_col1\" class=\"data row4 col1\" >0.9954</td>\n",
              "                        <td id=\"T_3a40e332_0325_11eb_9902_0242ac1c0002row4_col2\" class=\"data row4 col2\" >0.9998</td>\n",
              "                        <td id=\"T_3a40e332_0325_11eb_9902_0242ac1c0002row4_col3\" class=\"data row4 col3\" >0.9944</td>\n",
              "                        <td id=\"T_3a40e332_0325_11eb_9902_0242ac1c0002row4_col4\" class=\"data row4 col4\" >0.9964</td>\n",
              "                        <td id=\"T_3a40e332_0325_11eb_9902_0242ac1c0002row4_col5\" class=\"data row4 col5\" >0.9954</td>\n",
              "                        <td id=\"T_3a40e332_0325_11eb_9902_0242ac1c0002row4_col6\" class=\"data row4 col6\" >0.9908</td>\n",
              "                        <td id=\"T_3a40e332_0325_11eb_9902_0242ac1c0002row4_col7\" class=\"data row4 col7\" >0.9908</td>\n",
              "                        <td id=\"T_3a40e332_0325_11eb_9902_0242ac1c0002row4_col8\" class=\"data row4 col8\" >11.7581</td>\n",
              "            </tr>\n",
              "            <tr>\n",
              "                        <th id=\"T_3a40e332_0325_11eb_9902_0242ac1c0002level0_row5\" class=\"row_heading level0 row5\" >5</th>\n",
              "                        <td id=\"T_3a40e332_0325_11eb_9902_0242ac1c0002row5_col0\" class=\"data row5 col0\" >Random Forest Classifier</td>\n",
              "                        <td id=\"T_3a40e332_0325_11eb_9902_0242ac1c0002row5_col1\" class=\"data row5 col1\" >0.9966</td>\n",
              "                        <td id=\"T_3a40e332_0325_11eb_9902_0242ac1c0002row5_col2\" class=\"data row5 col2\" >0.9997</td>\n",
              "                        <td id=\"T_3a40e332_0325_11eb_9902_0242ac1c0002row5_col3\" class=\"data row5 col3\" >0.9981</td>\n",
              "                        <td id=\"T_3a40e332_0325_11eb_9902_0242ac1c0002row5_col4\" class=\"data row5 col4\" >0.9952</td>\n",
              "                        <td id=\"T_3a40e332_0325_11eb_9902_0242ac1c0002row5_col5\" class=\"data row5 col5\" >0.9966</td>\n",
              "                        <td id=\"T_3a40e332_0325_11eb_9902_0242ac1c0002row5_col6\" class=\"data row5 col6\" >0.9933</td>\n",
              "                        <td id=\"T_3a40e332_0325_11eb_9902_0242ac1c0002row5_col7\" class=\"data row5 col7\" >0.9933</td>\n",
              "                        <td id=\"T_3a40e332_0325_11eb_9902_0242ac1c0002row5_col8\" class=\"data row5 col8\" >4.2301</td>\n",
              "            </tr>\n",
              "            <tr>\n",
              "                        <th id=\"T_3a40e332_0325_11eb_9902_0242ac1c0002level0_row6\" class=\"row_heading level0 row6\" >6</th>\n",
              "                        <td id=\"T_3a40e332_0325_11eb_9902_0242ac1c0002row6_col0\" class=\"data row6 col0\" >Ada Boost Classifier</td>\n",
              "                        <td id=\"T_3a40e332_0325_11eb_9902_0242ac1c0002row6_col1\" class=\"data row6 col1\" >0.9923</td>\n",
              "                        <td id=\"T_3a40e332_0325_11eb_9902_0242ac1c0002row6_col2\" class=\"data row6 col2\" >0.9995</td>\n",
              "                        <td id=\"T_3a40e332_0325_11eb_9902_0242ac1c0002row6_col3\" class=\"data row6 col3\" >0.9902</td>\n",
              "                        <td id=\"T_3a40e332_0325_11eb_9902_0242ac1c0002row6_col4\" class=\"data row6 col4\" >0.9944</td>\n",
              "                        <td id=\"T_3a40e332_0325_11eb_9902_0242ac1c0002row6_col5\" class=\"data row6 col5\" >0.9923</td>\n",
              "                        <td id=\"T_3a40e332_0325_11eb_9902_0242ac1c0002row6_col6\" class=\"data row6 col6\" >0.9846</td>\n",
              "                        <td id=\"T_3a40e332_0325_11eb_9902_0242ac1c0002row6_col7\" class=\"data row6 col7\" >0.9846</td>\n",
              "                        <td id=\"T_3a40e332_0325_11eb_9902_0242ac1c0002row6_col8\" class=\"data row6 col8\" >17.8837</td>\n",
              "            </tr>\n",
              "            <tr>\n",
              "                        <th id=\"T_3a40e332_0325_11eb_9902_0242ac1c0002level0_row7\" class=\"row_heading level0 row7\" >7</th>\n",
              "                        <td id=\"T_3a40e332_0325_11eb_9902_0242ac1c0002row7_col0\" class=\"data row7 col0\" >Naive Bayes</td>\n",
              "                        <td id=\"T_3a40e332_0325_11eb_9902_0242ac1c0002row7_col1\" class=\"data row7 col1\" >0.9512</td>\n",
              "                        <td id=\"T_3a40e332_0325_11eb_9902_0242ac1c0002row7_col2\" class=\"data row7 col2\" >0.9971</td>\n",
              "                        <td id=\"T_3a40e332_0325_11eb_9902_0242ac1c0002row7_col3\" class=\"data row7 col3\" >0.9098</td>\n",
              "                        <td id=\"T_3a40e332_0325_11eb_9902_0242ac1c0002row7_col4\" class=\"data row7 col4\" >0.9922</td>\n",
              "                        <td id=\"T_3a40e332_0325_11eb_9902_0242ac1c0002row7_col5\" class=\"data row7 col5\" >0.9492</td>\n",
              "                        <td id=\"T_3a40e332_0325_11eb_9902_0242ac1c0002row7_col6\" class=\"data row7 col6\" >0.9025</td>\n",
              "                        <td id=\"T_3a40e332_0325_11eb_9902_0242ac1c0002row7_col7\" class=\"data row7 col7\" >0.9056</td>\n",
              "                        <td id=\"T_3a40e332_0325_11eb_9902_0242ac1c0002row7_col8\" class=\"data row7 col8\" >0.0365</td>\n",
              "            </tr>\n",
              "            <tr>\n",
              "                        <th id=\"T_3a40e332_0325_11eb_9902_0242ac1c0002level0_row8\" class=\"row_heading level0 row8\" >8</th>\n",
              "                        <td id=\"T_3a40e332_0325_11eb_9902_0242ac1c0002row8_col0\" class=\"data row8 col0\" >Quadratic Discriminant Analysis</td>\n",
              "                        <td id=\"T_3a40e332_0325_11eb_9902_0242ac1c0002row8_col1\" class=\"data row8 col1\" >0.9868</td>\n",
              "                        <td id=\"T_3a40e332_0325_11eb_9902_0242ac1c0002row8_col2\" class=\"data row8 col2\" >0.9950</td>\n",
              "                        <td id=\"T_3a40e332_0325_11eb_9902_0242ac1c0002row8_col3\" class=\"data row8 col3\" >0.9994</td>\n",
              "                        <td id=\"T_3a40e332_0325_11eb_9902_0242ac1c0002row8_col4\" class=\"data row8 col4\" >0.9749</td>\n",
              "                        <td id=\"T_3a40e332_0325_11eb_9902_0242ac1c0002row8_col5\" class=\"data row8 col5\" >0.9870</td>\n",
              "                        <td id=\"T_3a40e332_0325_11eb_9902_0242ac1c0002row8_col6\" class=\"data row8 col6\" >0.9737</td>\n",
              "                        <td id=\"T_3a40e332_0325_11eb_9902_0242ac1c0002row8_col7\" class=\"data row8 col7\" >0.9740</td>\n",
              "                        <td id=\"T_3a40e332_0325_11eb_9902_0242ac1c0002row8_col8\" class=\"data row8 col8\" >0.1267</td>\n",
              "            </tr>\n",
              "            <tr>\n",
              "                        <th id=\"T_3a40e332_0325_11eb_9902_0242ac1c0002level0_row9\" class=\"row_heading level0 row9\" >9</th>\n",
              "                        <td id=\"T_3a40e332_0325_11eb_9902_0242ac1c0002row9_col0\" class=\"data row9 col0\" >Decision Tree Classifier</td>\n",
              "                        <td id=\"T_3a40e332_0325_11eb_9902_0242ac1c0002row9_col1\" class=\"data row9 col1\" >0.9885</td>\n",
              "                        <td id=\"T_3a40e332_0325_11eb_9902_0242ac1c0002row9_col2\" class=\"data row9 col2\" >0.9885</td>\n",
              "                        <td id=\"T_3a40e332_0325_11eb_9902_0242ac1c0002row9_col3\" class=\"data row9 col3\" >0.9882</td>\n",
              "                        <td id=\"T_3a40e332_0325_11eb_9902_0242ac1c0002row9_col4\" class=\"data row9 col4\" >0.9888</td>\n",
              "                        <td id=\"T_3a40e332_0325_11eb_9902_0242ac1c0002row9_col5\" class=\"data row9 col5\" >0.9885</td>\n",
              "                        <td id=\"T_3a40e332_0325_11eb_9902_0242ac1c0002row9_col6\" class=\"data row9 col6\" >0.9769</td>\n",
              "                        <td id=\"T_3a40e332_0325_11eb_9902_0242ac1c0002row9_col7\" class=\"data row9 col7\" >0.9769</td>\n",
              "                        <td id=\"T_3a40e332_0325_11eb_9902_0242ac1c0002row9_col8\" class=\"data row9 col8\" >7.0561</td>\n",
              "            </tr>\n",
              "            <tr>\n",
              "                        <th id=\"T_3a40e332_0325_11eb_9902_0242ac1c0002level0_row10\" class=\"row_heading level0 row10\" >10</th>\n",
              "                        <td id=\"T_3a40e332_0325_11eb_9902_0242ac1c0002row10_col0\" class=\"data row10 col0\" >Linear Discriminant Analysis</td>\n",
              "                        <td id=\"T_3a40e332_0325_11eb_9902_0242ac1c0002row10_col1\" class=\"data row10 col1\" >0.8883</td>\n",
              "                        <td id=\"T_3a40e332_0325_11eb_9902_0242ac1c0002row10_col2\" class=\"data row10 col2\" >0.9525</td>\n",
              "                        <td id=\"T_3a40e332_0325_11eb_9902_0242ac1c0002row10_col3\" class=\"data row10 col3\" >0.7821</td>\n",
              "                        <td id=\"T_3a40e332_0325_11eb_9902_0242ac1c0002row10_col4\" class=\"data row10 col4\" >0.9934</td>\n",
              "                        <td id=\"T_3a40e332_0325_11eb_9902_0242ac1c0002row10_col5\" class=\"data row10 col5\" >0.8752</td>\n",
              "                        <td id=\"T_3a40e332_0325_11eb_9902_0242ac1c0002row10_col6\" class=\"data row10 col6\" >0.7767</td>\n",
              "                        <td id=\"T_3a40e332_0325_11eb_9902_0242ac1c0002row10_col7\" class=\"data row10 col7\" >0.7949</td>\n",
              "                        <td id=\"T_3a40e332_0325_11eb_9902_0242ac1c0002row10_col8\" class=\"data row10 col8\" >0.3367</td>\n",
              "            </tr>\n",
              "            <tr>\n",
              "                        <th id=\"T_3a40e332_0325_11eb_9902_0242ac1c0002level0_row11\" class=\"row_heading level0 row11\" >11</th>\n",
              "                        <td id=\"T_3a40e332_0325_11eb_9902_0242ac1c0002row11_col0\" class=\"data row11 col0\" >Logistic Regression</td>\n",
              "                        <td id=\"T_3a40e332_0325_11eb_9902_0242ac1c0002row11_col1\" class=\"data row11 col1\" >0.9093</td>\n",
              "                        <td id=\"T_3a40e332_0325_11eb_9902_0242ac1c0002row11_col2\" class=\"data row11 col2\" >0.9400</td>\n",
              "                        <td id=\"T_3a40e332_0325_11eb_9902_0242ac1c0002row11_col3\" class=\"data row11 col3\" >0.8899</td>\n",
              "                        <td id=\"T_3a40e332_0325_11eb_9902_0242ac1c0002row11_col4\" class=\"data row11 col4\" >0.9261</td>\n",
              "                        <td id=\"T_3a40e332_0325_11eb_9902_0242ac1c0002row11_col5\" class=\"data row11 col5\" >0.9076</td>\n",
              "                        <td id=\"T_3a40e332_0325_11eb_9902_0242ac1c0002row11_col6\" class=\"data row11 col6\" >0.8185</td>\n",
              "                        <td id=\"T_3a40e332_0325_11eb_9902_0242ac1c0002row11_col7\" class=\"data row11 col7\" >0.8193</td>\n",
              "                        <td id=\"T_3a40e332_0325_11eb_9902_0242ac1c0002row11_col8\" class=\"data row11 col8\" >1.1254</td>\n",
              "            </tr>\n",
              "            <tr>\n",
              "                        <th id=\"T_3a40e332_0325_11eb_9902_0242ac1c0002level0_row12\" class=\"row_heading level0 row12\" >12</th>\n",
              "                        <td id=\"T_3a40e332_0325_11eb_9902_0242ac1c0002row12_col0\" class=\"data row12 col0\" >K Neighbors Classifier</td>\n",
              "                        <td id=\"T_3a40e332_0325_11eb_9902_0242ac1c0002row12_col1\" class=\"data row12 col1\" >0.5791</td>\n",
              "                        <td id=\"T_3a40e332_0325_11eb_9902_0242ac1c0002row12_col2\" class=\"data row12 col2\" >0.6034</td>\n",
              "                        <td id=\"T_3a40e332_0325_11eb_9902_0242ac1c0002row12_col3\" class=\"data row12 col3\" >0.5052</td>\n",
              "                        <td id=\"T_3a40e332_0325_11eb_9902_0242ac1c0002row12_col4\" class=\"data row12 col4\" >0.5938</td>\n",
              "                        <td id=\"T_3a40e332_0325_11eb_9902_0242ac1c0002row12_col5\" class=\"data row12 col5\" >0.5459</td>\n",
              "                        <td id=\"T_3a40e332_0325_11eb_9902_0242ac1c0002row12_col6\" class=\"data row12 col6\" >0.1584</td>\n",
              "                        <td id=\"T_3a40e332_0325_11eb_9902_0242ac1c0002row12_col7\" class=\"data row12 col7\" >0.1602</td>\n",
              "                        <td id=\"T_3a40e332_0325_11eb_9902_0242ac1c0002row12_col8\" class=\"data row12 col8\" >0.4556</td>\n",
              "            </tr>\n",
              "            <tr>\n",
              "                        <th id=\"T_3a40e332_0325_11eb_9902_0242ac1c0002level0_row13\" class=\"row_heading level0 row13\" >13</th>\n",
              "                        <td id=\"T_3a40e332_0325_11eb_9902_0242ac1c0002row13_col0\" class=\"data row13 col0\" >SVM - Linear Kernel</td>\n",
              "                        <td id=\"T_3a40e332_0325_11eb_9902_0242ac1c0002row13_col1\" class=\"data row13 col1\" >0.5709</td>\n",
              "                        <td id=\"T_3a40e332_0325_11eb_9902_0242ac1c0002row13_col2\" class=\"data row13 col2\" >0.0000</td>\n",
              "                        <td id=\"T_3a40e332_0325_11eb_9902_0242ac1c0002row13_col3\" class=\"data row13 col3\" >0.6445</td>\n",
              "                        <td id=\"T_3a40e332_0325_11eb_9902_0242ac1c0002row13_col4\" class=\"data row13 col4\" >0.6833</td>\n",
              "                        <td id=\"T_3a40e332_0325_11eb_9902_0242ac1c0002row13_col5\" class=\"data row13 col5\" >0.5635</td>\n",
              "                        <td id=\"T_3a40e332_0325_11eb_9902_0242ac1c0002row13_col6\" class=\"data row13 col6\" >0.1415</td>\n",
              "                        <td id=\"T_3a40e332_0325_11eb_9902_0242ac1c0002row13_col7\" class=\"data row13 col7\" >0.1852</td>\n",
              "                        <td id=\"T_3a40e332_0325_11eb_9902_0242ac1c0002row13_col8\" class=\"data row13 col8\" >5.4935</td>\n",
              "            </tr>\n",
              "            <tr>\n",
              "                        <th id=\"T_3a40e332_0325_11eb_9902_0242ac1c0002level0_row14\" class=\"row_heading level0 row14\" >14</th>\n",
              "                        <td id=\"T_3a40e332_0325_11eb_9902_0242ac1c0002row14_col0\" class=\"data row14 col0\" >Ridge Classifier</td>\n",
              "                        <td id=\"T_3a40e332_0325_11eb_9902_0242ac1c0002row14_col1\" class=\"data row14 col1\" >0.8883</td>\n",
              "                        <td id=\"T_3a40e332_0325_11eb_9902_0242ac1c0002row14_col2\" class=\"data row14 col2\" >0.0000</td>\n",
              "                        <td id=\"T_3a40e332_0325_11eb_9902_0242ac1c0002row14_col3\" class=\"data row14 col3\" >0.7821</td>\n",
              "                        <td id=\"T_3a40e332_0325_11eb_9902_0242ac1c0002row14_col4\" class=\"data row14 col4\" >0.9934</td>\n",
              "                        <td id=\"T_3a40e332_0325_11eb_9902_0242ac1c0002row14_col5\" class=\"data row14 col5\" >0.8752</td>\n",
              "                        <td id=\"T_3a40e332_0325_11eb_9902_0242ac1c0002row14_col6\" class=\"data row14 col6\" >0.7767</td>\n",
              "                        <td id=\"T_3a40e332_0325_11eb_9902_0242ac1c0002row14_col7\" class=\"data row14 col7\" >0.7949</td>\n",
              "                        <td id=\"T_3a40e332_0325_11eb_9902_0242ac1c0002row14_col8\" class=\"data row14 col8\" >0.0672</td>\n",
              "            </tr>\n",
              "    </tbody></table>"
            ],
            "text/plain": [
              "<pandas.io.formats.style.Styler at 0x7f7e032b67f0>"
            ]
          },
          "metadata": {
            "tags": []
          }
        },
        {
          "output_type": "execute_result",
          "data": {
            "text/plain": [
              "ExtraTreesClassifier(bootstrap=False, ccp_alpha=0.0, class_weight=None,\n",
              "                     criterion='gini', max_depth=None, max_features='auto',\n",
              "                     max_leaf_nodes=None, max_samples=None,\n",
              "                     min_impurity_decrease=0.0, min_impurity_split=None,\n",
              "                     min_samples_leaf=1, min_samples_split=2,\n",
              "                     min_weight_fraction_leaf=0.0, n_estimators=100, n_jobs=-1,\n",
              "                     oob_score=False, random_state=5443, verbose=0,\n",
              "                     warm_start=False)"
            ]
          },
          "metadata": {
            "tags": []
          },
          "execution_count": 121
        }
      ]
    },
    {
      "cell_type": "code",
      "metadata": {
        "id": "NgZ7LsH1YfOm",
        "outputId": "b0c97947-89e7-4fd8-8fcd-3ca9381c9c7b",
        "colab": {
          "base_uri": "https://localhost:8080/",
          "height": 292,
          "referenced_widgets": [
            "cca9459ae1fd44f1bed77a83c83b1196",
            "8e3ce09a10124360af0810af095c1292",
            "33d3f12e154a46ef849d6dc0214214f5"
          ]
        }
      },
      "source": [
        "#criando o modelo\n",
        "cat = create_model('catboost')"
      ],
      "execution_count": 122,
      "outputs": [
        {
          "output_type": "display_data",
          "data": {
            "text/html": [
              "<style  type=\"text/css\" >\n",
              "#T_0da8962a_0326_11eb_9902_0242ac1c0002row10_col0,#T_0da8962a_0326_11eb_9902_0242ac1c0002row10_col1,#T_0da8962a_0326_11eb_9902_0242ac1c0002row10_col2,#T_0da8962a_0326_11eb_9902_0242ac1c0002row10_col3,#T_0da8962a_0326_11eb_9902_0242ac1c0002row10_col4,#T_0da8962a_0326_11eb_9902_0242ac1c0002row10_col5,#T_0da8962a_0326_11eb_9902_0242ac1c0002row10_col6{\n",
              "            background:  yellow;\n",
              "        }</style><table id=\"T_0da8962a_0326_11eb_9902_0242ac1c0002\" ><thead>    <tr>        <th class=\"blank level0\" ></th>        <th class=\"col_heading level0 col0\" >Accuracy</th>        <th class=\"col_heading level0 col1\" >AUC</th>        <th class=\"col_heading level0 col2\" >Recall</th>        <th class=\"col_heading level0 col3\" >Prec.</th>        <th class=\"col_heading level0 col4\" >F1</th>        <th class=\"col_heading level0 col5\" >Kappa</th>        <th class=\"col_heading level0 col6\" >MCC</th>    </tr></thead><tbody>\n",
              "                <tr>\n",
              "                        <th id=\"T_0da8962a_0326_11eb_9902_0242ac1c0002level0_row0\" class=\"row_heading level0 row0\" >0</th>\n",
              "                        <td id=\"T_0da8962a_0326_11eb_9902_0242ac1c0002row0_col0\" class=\"data row0 col0\" >0.9977</td>\n",
              "                        <td id=\"T_0da8962a_0326_11eb_9902_0242ac1c0002row0_col1\" class=\"data row0 col1\" >0.9999</td>\n",
              "                        <td id=\"T_0da8962a_0326_11eb_9902_0242ac1c0002row0_col2\" class=\"data row0 col2\" >0.9969</td>\n",
              "                        <td id=\"T_0da8962a_0326_11eb_9902_0242ac1c0002row0_col3\" class=\"data row0 col3\" >0.9986</td>\n",
              "                        <td id=\"T_0da8962a_0326_11eb_9902_0242ac1c0002row0_col4\" class=\"data row0 col4\" >0.9977</td>\n",
              "                        <td id=\"T_0da8962a_0326_11eb_9902_0242ac1c0002row0_col5\" class=\"data row0 col5\" >0.9954</td>\n",
              "                        <td id=\"T_0da8962a_0326_11eb_9902_0242ac1c0002row0_col6\" class=\"data row0 col6\" >0.9954</td>\n",
              "            </tr>\n",
              "            <tr>\n",
              "                        <th id=\"T_0da8962a_0326_11eb_9902_0242ac1c0002level0_row1\" class=\"row_heading level0 row1\" >1</th>\n",
              "                        <td id=\"T_0da8962a_0326_11eb_9902_0242ac1c0002row1_col0\" class=\"data row1 col0\" >0.9980</td>\n",
              "                        <td id=\"T_0da8962a_0326_11eb_9902_0242ac1c0002row1_col1\" class=\"data row1 col1\" >1.0000</td>\n",
              "                        <td id=\"T_0da8962a_0326_11eb_9902_0242ac1c0002row1_col2\" class=\"data row1 col2\" >0.9974</td>\n",
              "                        <td id=\"T_0da8962a_0326_11eb_9902_0242ac1c0002row1_col3\" class=\"data row1 col3\" >0.9986</td>\n",
              "                        <td id=\"T_0da8962a_0326_11eb_9902_0242ac1c0002row1_col4\" class=\"data row1 col4\" >0.9980</td>\n",
              "                        <td id=\"T_0da8962a_0326_11eb_9902_0242ac1c0002row1_col5\" class=\"data row1 col5\" >0.9960</td>\n",
              "                        <td id=\"T_0da8962a_0326_11eb_9902_0242ac1c0002row1_col6\" class=\"data row1 col6\" >0.9960</td>\n",
              "            </tr>\n",
              "            <tr>\n",
              "                        <th id=\"T_0da8962a_0326_11eb_9902_0242ac1c0002level0_row2\" class=\"row_heading level0 row2\" >2</th>\n",
              "                        <td id=\"T_0da8962a_0326_11eb_9902_0242ac1c0002row2_col0\" class=\"data row2 col0\" >0.9987</td>\n",
              "                        <td id=\"T_0da8962a_0326_11eb_9902_0242ac1c0002row2_col1\" class=\"data row2 col1\" >1.0000</td>\n",
              "                        <td id=\"T_0da8962a_0326_11eb_9902_0242ac1c0002row2_col2\" class=\"data row2 col2\" >0.9977</td>\n",
              "                        <td id=\"T_0da8962a_0326_11eb_9902_0242ac1c0002row2_col3\" class=\"data row2 col3\" >0.9997</td>\n",
              "                        <td id=\"T_0da8962a_0326_11eb_9902_0242ac1c0002row2_col4\" class=\"data row2 col4\" >0.9987</td>\n",
              "                        <td id=\"T_0da8962a_0326_11eb_9902_0242ac1c0002row2_col5\" class=\"data row2 col5\" >0.9974</td>\n",
              "                        <td id=\"T_0da8962a_0326_11eb_9902_0242ac1c0002row2_col6\" class=\"data row2 col6\" >0.9974</td>\n",
              "            </tr>\n",
              "            <tr>\n",
              "                        <th id=\"T_0da8962a_0326_11eb_9902_0242ac1c0002level0_row3\" class=\"row_heading level0 row3\" >3</th>\n",
              "                        <td id=\"T_0da8962a_0326_11eb_9902_0242ac1c0002row3_col0\" class=\"data row3 col0\" >0.9983</td>\n",
              "                        <td id=\"T_0da8962a_0326_11eb_9902_0242ac1c0002row3_col1\" class=\"data row3 col1\" >0.9999</td>\n",
              "                        <td id=\"T_0da8962a_0326_11eb_9902_0242ac1c0002row3_col2\" class=\"data row3 col2\" >0.9983</td>\n",
              "                        <td id=\"T_0da8962a_0326_11eb_9902_0242ac1c0002row3_col3\" class=\"data row3 col3\" >0.9983</td>\n",
              "                        <td id=\"T_0da8962a_0326_11eb_9902_0242ac1c0002row3_col4\" class=\"data row3 col4\" >0.9983</td>\n",
              "                        <td id=\"T_0da8962a_0326_11eb_9902_0242ac1c0002row3_col5\" class=\"data row3 col5\" >0.9966</td>\n",
              "                        <td id=\"T_0da8962a_0326_11eb_9902_0242ac1c0002row3_col6\" class=\"data row3 col6\" >0.9966</td>\n",
              "            </tr>\n",
              "            <tr>\n",
              "                        <th id=\"T_0da8962a_0326_11eb_9902_0242ac1c0002level0_row4\" class=\"row_heading level0 row4\" >4</th>\n",
              "                        <td id=\"T_0da8962a_0326_11eb_9902_0242ac1c0002row4_col0\" class=\"data row4 col0\" >0.9984</td>\n",
              "                        <td id=\"T_0da8962a_0326_11eb_9902_0242ac1c0002row4_col1\" class=\"data row4 col1\" >0.9999</td>\n",
              "                        <td id=\"T_0da8962a_0326_11eb_9902_0242ac1c0002row4_col2\" class=\"data row4 col2\" >0.9983</td>\n",
              "                        <td id=\"T_0da8962a_0326_11eb_9902_0242ac1c0002row4_col3\" class=\"data row4 col3\" >0.9986</td>\n",
              "                        <td id=\"T_0da8962a_0326_11eb_9902_0242ac1c0002row4_col4\" class=\"data row4 col4\" >0.9984</td>\n",
              "                        <td id=\"T_0da8962a_0326_11eb_9902_0242ac1c0002row4_col5\" class=\"data row4 col5\" >0.9968</td>\n",
              "                        <td id=\"T_0da8962a_0326_11eb_9902_0242ac1c0002row4_col6\" class=\"data row4 col6\" >0.9968</td>\n",
              "            </tr>\n",
              "            <tr>\n",
              "                        <th id=\"T_0da8962a_0326_11eb_9902_0242ac1c0002level0_row5\" class=\"row_heading level0 row5\" >5</th>\n",
              "                        <td id=\"T_0da8962a_0326_11eb_9902_0242ac1c0002row5_col0\" class=\"data row5 col0\" >0.9991</td>\n",
              "                        <td id=\"T_0da8962a_0326_11eb_9902_0242ac1c0002row5_col1\" class=\"data row5 col1\" >0.9998</td>\n",
              "                        <td id=\"T_0da8962a_0326_11eb_9902_0242ac1c0002row5_col2\" class=\"data row5 col2\" >0.9989</td>\n",
              "                        <td id=\"T_0da8962a_0326_11eb_9902_0242ac1c0002row5_col3\" class=\"data row5 col3\" >0.9994</td>\n",
              "                        <td id=\"T_0da8962a_0326_11eb_9902_0242ac1c0002row5_col4\" class=\"data row5 col4\" >0.9991</td>\n",
              "                        <td id=\"T_0da8962a_0326_11eb_9902_0242ac1c0002row5_col5\" class=\"data row5 col5\" >0.9983</td>\n",
              "                        <td id=\"T_0da8962a_0326_11eb_9902_0242ac1c0002row5_col6\" class=\"data row5 col6\" >0.9983</td>\n",
              "            </tr>\n",
              "            <tr>\n",
              "                        <th id=\"T_0da8962a_0326_11eb_9902_0242ac1c0002level0_row6\" class=\"row_heading level0 row6\" >6</th>\n",
              "                        <td id=\"T_0da8962a_0326_11eb_9902_0242ac1c0002row6_col0\" class=\"data row6 col0\" >0.9986</td>\n",
              "                        <td id=\"T_0da8962a_0326_11eb_9902_0242ac1c0002row6_col1\" class=\"data row6 col1\" >1.0000</td>\n",
              "                        <td id=\"T_0da8962a_0326_11eb_9902_0242ac1c0002row6_col2\" class=\"data row6 col2\" >0.9980</td>\n",
              "                        <td id=\"T_0da8962a_0326_11eb_9902_0242ac1c0002row6_col3\" class=\"data row6 col3\" >0.9991</td>\n",
              "                        <td id=\"T_0da8962a_0326_11eb_9902_0242ac1c0002row6_col4\" class=\"data row6 col4\" >0.9986</td>\n",
              "                        <td id=\"T_0da8962a_0326_11eb_9902_0242ac1c0002row6_col5\" class=\"data row6 col5\" >0.9971</td>\n",
              "                        <td id=\"T_0da8962a_0326_11eb_9902_0242ac1c0002row6_col6\" class=\"data row6 col6\" >0.9971</td>\n",
              "            </tr>\n",
              "            <tr>\n",
              "                        <th id=\"T_0da8962a_0326_11eb_9902_0242ac1c0002level0_row7\" class=\"row_heading level0 row7\" >7</th>\n",
              "                        <td id=\"T_0da8962a_0326_11eb_9902_0242ac1c0002row7_col0\" class=\"data row7 col0\" >0.9991</td>\n",
              "                        <td id=\"T_0da8962a_0326_11eb_9902_0242ac1c0002row7_col1\" class=\"data row7 col1\" >1.0000</td>\n",
              "                        <td id=\"T_0da8962a_0326_11eb_9902_0242ac1c0002row7_col2\" class=\"data row7 col2\" >0.9986</td>\n",
              "                        <td id=\"T_0da8962a_0326_11eb_9902_0242ac1c0002row7_col3\" class=\"data row7 col3\" >0.9997</td>\n",
              "                        <td id=\"T_0da8962a_0326_11eb_9902_0242ac1c0002row7_col4\" class=\"data row7 col4\" >0.9991</td>\n",
              "                        <td id=\"T_0da8962a_0326_11eb_9902_0242ac1c0002row7_col5\" class=\"data row7 col5\" >0.9983</td>\n",
              "                        <td id=\"T_0da8962a_0326_11eb_9902_0242ac1c0002row7_col6\" class=\"data row7 col6\" >0.9983</td>\n",
              "            </tr>\n",
              "            <tr>\n",
              "                        <th id=\"T_0da8962a_0326_11eb_9902_0242ac1c0002level0_row8\" class=\"row_heading level0 row8\" >8</th>\n",
              "                        <td id=\"T_0da8962a_0326_11eb_9902_0242ac1c0002row8_col0\" class=\"data row8 col0\" >0.9986</td>\n",
              "                        <td id=\"T_0da8962a_0326_11eb_9902_0242ac1c0002row8_col1\" class=\"data row8 col1\" >1.0000</td>\n",
              "                        <td id=\"T_0da8962a_0326_11eb_9902_0242ac1c0002row8_col2\" class=\"data row8 col2\" >0.9980</td>\n",
              "                        <td id=\"T_0da8962a_0326_11eb_9902_0242ac1c0002row8_col3\" class=\"data row8 col3\" >0.9991</td>\n",
              "                        <td id=\"T_0da8962a_0326_11eb_9902_0242ac1c0002row8_col4\" class=\"data row8 col4\" >0.9986</td>\n",
              "                        <td id=\"T_0da8962a_0326_11eb_9902_0242ac1c0002row8_col5\" class=\"data row8 col5\" >0.9971</td>\n",
              "                        <td id=\"T_0da8962a_0326_11eb_9902_0242ac1c0002row8_col6\" class=\"data row8 col6\" >0.9971</td>\n",
              "            </tr>\n",
              "            <tr>\n",
              "                        <th id=\"T_0da8962a_0326_11eb_9902_0242ac1c0002level0_row9\" class=\"row_heading level0 row9\" >9</th>\n",
              "                        <td id=\"T_0da8962a_0326_11eb_9902_0242ac1c0002row9_col0\" class=\"data row9 col0\" >0.9979</td>\n",
              "                        <td id=\"T_0da8962a_0326_11eb_9902_0242ac1c0002row9_col1\" class=\"data row9 col1\" >1.0000</td>\n",
              "                        <td id=\"T_0da8962a_0326_11eb_9902_0242ac1c0002row9_col2\" class=\"data row9 col2\" >0.9971</td>\n",
              "                        <td id=\"T_0da8962a_0326_11eb_9902_0242ac1c0002row9_col3\" class=\"data row9 col3\" >0.9986</td>\n",
              "                        <td id=\"T_0da8962a_0326_11eb_9902_0242ac1c0002row9_col4\" class=\"data row9 col4\" >0.9979</td>\n",
              "                        <td id=\"T_0da8962a_0326_11eb_9902_0242ac1c0002row9_col5\" class=\"data row9 col5\" >0.9957</td>\n",
              "                        <td id=\"T_0da8962a_0326_11eb_9902_0242ac1c0002row9_col6\" class=\"data row9 col6\" >0.9957</td>\n",
              "            </tr>\n",
              "            <tr>\n",
              "                        <th id=\"T_0da8962a_0326_11eb_9902_0242ac1c0002level0_row10\" class=\"row_heading level0 row10\" >Mean</th>\n",
              "                        <td id=\"T_0da8962a_0326_11eb_9902_0242ac1c0002row10_col0\" class=\"data row10 col0\" >0.9984</td>\n",
              "                        <td id=\"T_0da8962a_0326_11eb_9902_0242ac1c0002row10_col1\" class=\"data row10 col1\" >0.9999</td>\n",
              "                        <td id=\"T_0da8962a_0326_11eb_9902_0242ac1c0002row10_col2\" class=\"data row10 col2\" >0.9979</td>\n",
              "                        <td id=\"T_0da8962a_0326_11eb_9902_0242ac1c0002row10_col3\" class=\"data row10 col3\" >0.9990</td>\n",
              "                        <td id=\"T_0da8962a_0326_11eb_9902_0242ac1c0002row10_col4\" class=\"data row10 col4\" >0.9984</td>\n",
              "                        <td id=\"T_0da8962a_0326_11eb_9902_0242ac1c0002row10_col5\" class=\"data row10 col5\" >0.9969</td>\n",
              "                        <td id=\"T_0da8962a_0326_11eb_9902_0242ac1c0002row10_col6\" class=\"data row10 col6\" >0.9969</td>\n",
              "            </tr>\n",
              "            <tr>\n",
              "                        <th id=\"T_0da8962a_0326_11eb_9902_0242ac1c0002level0_row11\" class=\"row_heading level0 row11\" >SD</th>\n",
              "                        <td id=\"T_0da8962a_0326_11eb_9902_0242ac1c0002row11_col0\" class=\"data row11 col0\" >0.0005</td>\n",
              "                        <td id=\"T_0da8962a_0326_11eb_9902_0242ac1c0002row11_col1\" class=\"data row11 col1\" >0.0001</td>\n",
              "                        <td id=\"T_0da8962a_0326_11eb_9902_0242ac1c0002row11_col2\" class=\"data row11 col2\" >0.0006</td>\n",
              "                        <td id=\"T_0da8962a_0326_11eb_9902_0242ac1c0002row11_col3\" class=\"data row11 col3\" >0.0005</td>\n",
              "                        <td id=\"T_0da8962a_0326_11eb_9902_0242ac1c0002row11_col4\" class=\"data row11 col4\" >0.0005</td>\n",
              "                        <td id=\"T_0da8962a_0326_11eb_9902_0242ac1c0002row11_col5\" class=\"data row11 col5\" >0.0009</td>\n",
              "                        <td id=\"T_0da8962a_0326_11eb_9902_0242ac1c0002row11_col6\" class=\"data row11 col6\" >0.0009</td>\n",
              "            </tr>\n",
              "    </tbody></table>"
            ],
            "text/plain": [
              "<pandas.io.formats.style.Styler at 0x7f7e242466a0>"
            ]
          },
          "metadata": {
            "tags": []
          }
        }
      ]
    },
    {
      "cell_type": "code",
      "metadata": {
        "id": "n1bcTLqiuusr",
        "outputId": "6650b6ba-a025-4ce4-ab88-0216a0f9b9d8",
        "colab": {
          "base_uri": "https://localhost:8080/",
          "height": 292,
          "referenced_widgets": [
            "38f47ca6967d43d0adf0f8ab5763a644",
            "c9b845d031254d8ab822b9b35d8a9eeb",
            "81efc50c19b04296bbafa3d29b34ed36"
          ]
        }
      },
      "source": [
        "cat_tunado = tune_model(cat)"
      ],
      "execution_count": 123,
      "outputs": [
        {
          "output_type": "display_data",
          "data": {
            "text/html": [
              "<style  type=\"text/css\" >\n",
              "#T_c90184d0_0327_11eb_9902_0242ac1c0002row10_col0,#T_c90184d0_0327_11eb_9902_0242ac1c0002row10_col1,#T_c90184d0_0327_11eb_9902_0242ac1c0002row10_col2,#T_c90184d0_0327_11eb_9902_0242ac1c0002row10_col3,#T_c90184d0_0327_11eb_9902_0242ac1c0002row10_col4,#T_c90184d0_0327_11eb_9902_0242ac1c0002row10_col5,#T_c90184d0_0327_11eb_9902_0242ac1c0002row10_col6{\n",
              "            background:  yellow;\n",
              "        }</style><table id=\"T_c90184d0_0327_11eb_9902_0242ac1c0002\" ><thead>    <tr>        <th class=\"blank level0\" ></th>        <th class=\"col_heading level0 col0\" >Accuracy</th>        <th class=\"col_heading level0 col1\" >AUC</th>        <th class=\"col_heading level0 col2\" >Recall</th>        <th class=\"col_heading level0 col3\" >Prec.</th>        <th class=\"col_heading level0 col4\" >F1</th>        <th class=\"col_heading level0 col5\" >Kappa</th>        <th class=\"col_heading level0 col6\" >MCC</th>    </tr></thead><tbody>\n",
              "                <tr>\n",
              "                        <th id=\"T_c90184d0_0327_11eb_9902_0242ac1c0002level0_row0\" class=\"row_heading level0 row0\" >0</th>\n",
              "                        <td id=\"T_c90184d0_0327_11eb_9902_0242ac1c0002row0_col0\" class=\"data row0 col0\" >0.9977</td>\n",
              "                        <td id=\"T_c90184d0_0327_11eb_9902_0242ac1c0002row0_col1\" class=\"data row0 col1\" >0.9999</td>\n",
              "                        <td id=\"T_c90184d0_0327_11eb_9902_0242ac1c0002row0_col2\" class=\"data row0 col2\" >0.9969</td>\n",
              "                        <td id=\"T_c90184d0_0327_11eb_9902_0242ac1c0002row0_col3\" class=\"data row0 col3\" >0.9986</td>\n",
              "                        <td id=\"T_c90184d0_0327_11eb_9902_0242ac1c0002row0_col4\" class=\"data row0 col4\" >0.9977</td>\n",
              "                        <td id=\"T_c90184d0_0327_11eb_9902_0242ac1c0002row0_col5\" class=\"data row0 col5\" >0.9954</td>\n",
              "                        <td id=\"T_c90184d0_0327_11eb_9902_0242ac1c0002row0_col6\" class=\"data row0 col6\" >0.9954</td>\n",
              "            </tr>\n",
              "            <tr>\n",
              "                        <th id=\"T_c90184d0_0327_11eb_9902_0242ac1c0002level0_row1\" class=\"row_heading level0 row1\" >1</th>\n",
              "                        <td id=\"T_c90184d0_0327_11eb_9902_0242ac1c0002row1_col0\" class=\"data row1 col0\" >0.9977</td>\n",
              "                        <td id=\"T_c90184d0_0327_11eb_9902_0242ac1c0002row1_col1\" class=\"data row1 col1\" >1.0000</td>\n",
              "                        <td id=\"T_c90184d0_0327_11eb_9902_0242ac1c0002row1_col2\" class=\"data row1 col2\" >0.9971</td>\n",
              "                        <td id=\"T_c90184d0_0327_11eb_9902_0242ac1c0002row1_col3\" class=\"data row1 col3\" >0.9983</td>\n",
              "                        <td id=\"T_c90184d0_0327_11eb_9902_0242ac1c0002row1_col4\" class=\"data row1 col4\" >0.9977</td>\n",
              "                        <td id=\"T_c90184d0_0327_11eb_9902_0242ac1c0002row1_col5\" class=\"data row1 col5\" >0.9954</td>\n",
              "                        <td id=\"T_c90184d0_0327_11eb_9902_0242ac1c0002row1_col6\" class=\"data row1 col6\" >0.9954</td>\n",
              "            </tr>\n",
              "            <tr>\n",
              "                        <th id=\"T_c90184d0_0327_11eb_9902_0242ac1c0002level0_row2\" class=\"row_heading level0 row2\" >2</th>\n",
              "                        <td id=\"T_c90184d0_0327_11eb_9902_0242ac1c0002row2_col0\" class=\"data row2 col0\" >0.9983</td>\n",
              "                        <td id=\"T_c90184d0_0327_11eb_9902_0242ac1c0002row2_col1\" class=\"data row2 col1\" >1.0000</td>\n",
              "                        <td id=\"T_c90184d0_0327_11eb_9902_0242ac1c0002row2_col2\" class=\"data row2 col2\" >0.9971</td>\n",
              "                        <td id=\"T_c90184d0_0327_11eb_9902_0242ac1c0002row2_col3\" class=\"data row2 col3\" >0.9994</td>\n",
              "                        <td id=\"T_c90184d0_0327_11eb_9902_0242ac1c0002row2_col4\" class=\"data row2 col4\" >0.9983</td>\n",
              "                        <td id=\"T_c90184d0_0327_11eb_9902_0242ac1c0002row2_col5\" class=\"data row2 col5\" >0.9966</td>\n",
              "                        <td id=\"T_c90184d0_0327_11eb_9902_0242ac1c0002row2_col6\" class=\"data row2 col6\" >0.9966</td>\n",
              "            </tr>\n",
              "            <tr>\n",
              "                        <th id=\"T_c90184d0_0327_11eb_9902_0242ac1c0002level0_row3\" class=\"row_heading level0 row3\" >3</th>\n",
              "                        <td id=\"T_c90184d0_0327_11eb_9902_0242ac1c0002row3_col0\" class=\"data row3 col0\" >0.9983</td>\n",
              "                        <td id=\"T_c90184d0_0327_11eb_9902_0242ac1c0002row3_col1\" class=\"data row3 col1\" >0.9998</td>\n",
              "                        <td id=\"T_c90184d0_0327_11eb_9902_0242ac1c0002row3_col2\" class=\"data row3 col2\" >0.9986</td>\n",
              "                        <td id=\"T_c90184d0_0327_11eb_9902_0242ac1c0002row3_col3\" class=\"data row3 col3\" >0.9980</td>\n",
              "                        <td id=\"T_c90184d0_0327_11eb_9902_0242ac1c0002row3_col4\" class=\"data row3 col4\" >0.9983</td>\n",
              "                        <td id=\"T_c90184d0_0327_11eb_9902_0242ac1c0002row3_col5\" class=\"data row3 col5\" >0.9966</td>\n",
              "                        <td id=\"T_c90184d0_0327_11eb_9902_0242ac1c0002row3_col6\" class=\"data row3 col6\" >0.9966</td>\n",
              "            </tr>\n",
              "            <tr>\n",
              "                        <th id=\"T_c90184d0_0327_11eb_9902_0242ac1c0002level0_row4\" class=\"row_heading level0 row4\" >4</th>\n",
              "                        <td id=\"T_c90184d0_0327_11eb_9902_0242ac1c0002row4_col0\" class=\"data row4 col0\" >0.9986</td>\n",
              "                        <td id=\"T_c90184d0_0327_11eb_9902_0242ac1c0002row4_col1\" class=\"data row4 col1\" >0.9998</td>\n",
              "                        <td id=\"T_c90184d0_0327_11eb_9902_0242ac1c0002row4_col2\" class=\"data row4 col2\" >0.9986</td>\n",
              "                        <td id=\"T_c90184d0_0327_11eb_9902_0242ac1c0002row4_col3\" class=\"data row4 col3\" >0.9986</td>\n",
              "                        <td id=\"T_c90184d0_0327_11eb_9902_0242ac1c0002row4_col4\" class=\"data row4 col4\" >0.9986</td>\n",
              "                        <td id=\"T_c90184d0_0327_11eb_9902_0242ac1c0002row4_col5\" class=\"data row4 col5\" >0.9971</td>\n",
              "                        <td id=\"T_c90184d0_0327_11eb_9902_0242ac1c0002row4_col6\" class=\"data row4 col6\" >0.9971</td>\n",
              "            </tr>\n",
              "            <tr>\n",
              "                        <th id=\"T_c90184d0_0327_11eb_9902_0242ac1c0002level0_row5\" class=\"row_heading level0 row5\" >5</th>\n",
              "                        <td id=\"T_c90184d0_0327_11eb_9902_0242ac1c0002row5_col0\" class=\"data row5 col0\" >0.9987</td>\n",
              "                        <td id=\"T_c90184d0_0327_11eb_9902_0242ac1c0002row5_col1\" class=\"data row5 col1\" >0.9998</td>\n",
              "                        <td id=\"T_c90184d0_0327_11eb_9902_0242ac1c0002row5_col2\" class=\"data row5 col2\" >0.9983</td>\n",
              "                        <td id=\"T_c90184d0_0327_11eb_9902_0242ac1c0002row5_col3\" class=\"data row5 col3\" >0.9991</td>\n",
              "                        <td id=\"T_c90184d0_0327_11eb_9902_0242ac1c0002row5_col4\" class=\"data row5 col4\" >0.9987</td>\n",
              "                        <td id=\"T_c90184d0_0327_11eb_9902_0242ac1c0002row5_col5\" class=\"data row5 col5\" >0.9974</td>\n",
              "                        <td id=\"T_c90184d0_0327_11eb_9902_0242ac1c0002row5_col6\" class=\"data row5 col6\" >0.9974</td>\n",
              "            </tr>\n",
              "            <tr>\n",
              "                        <th id=\"T_c90184d0_0327_11eb_9902_0242ac1c0002level0_row6\" class=\"row_heading level0 row6\" >6</th>\n",
              "                        <td id=\"T_c90184d0_0327_11eb_9902_0242ac1c0002row6_col0\" class=\"data row6 col0\" >0.9983</td>\n",
              "                        <td id=\"T_c90184d0_0327_11eb_9902_0242ac1c0002row6_col1\" class=\"data row6 col1\" >1.0000</td>\n",
              "                        <td id=\"T_c90184d0_0327_11eb_9902_0242ac1c0002row6_col2\" class=\"data row6 col2\" >0.9977</td>\n",
              "                        <td id=\"T_c90184d0_0327_11eb_9902_0242ac1c0002row6_col3\" class=\"data row6 col3\" >0.9989</td>\n",
              "                        <td id=\"T_c90184d0_0327_11eb_9902_0242ac1c0002row6_col4\" class=\"data row6 col4\" >0.9983</td>\n",
              "                        <td id=\"T_c90184d0_0327_11eb_9902_0242ac1c0002row6_col5\" class=\"data row6 col5\" >0.9966</td>\n",
              "                        <td id=\"T_c90184d0_0327_11eb_9902_0242ac1c0002row6_col6\" class=\"data row6 col6\" >0.9966</td>\n",
              "            </tr>\n",
              "            <tr>\n",
              "                        <th id=\"T_c90184d0_0327_11eb_9902_0242ac1c0002level0_row7\" class=\"row_heading level0 row7\" >7</th>\n",
              "                        <td id=\"T_c90184d0_0327_11eb_9902_0242ac1c0002row7_col0\" class=\"data row7 col0\" >0.9993</td>\n",
              "                        <td id=\"T_c90184d0_0327_11eb_9902_0242ac1c0002row7_col1\" class=\"data row7 col1\" >1.0000</td>\n",
              "                        <td id=\"T_c90184d0_0327_11eb_9902_0242ac1c0002row7_col2\" class=\"data row7 col2\" >0.9989</td>\n",
              "                        <td id=\"T_c90184d0_0327_11eb_9902_0242ac1c0002row7_col3\" class=\"data row7 col3\" >0.9997</td>\n",
              "                        <td id=\"T_c90184d0_0327_11eb_9902_0242ac1c0002row7_col4\" class=\"data row7 col4\" >0.9993</td>\n",
              "                        <td id=\"T_c90184d0_0327_11eb_9902_0242ac1c0002row7_col5\" class=\"data row7 col5\" >0.9986</td>\n",
              "                        <td id=\"T_c90184d0_0327_11eb_9902_0242ac1c0002row7_col6\" class=\"data row7 col6\" >0.9986</td>\n",
              "            </tr>\n",
              "            <tr>\n",
              "                        <th id=\"T_c90184d0_0327_11eb_9902_0242ac1c0002level0_row8\" class=\"row_heading level0 row8\" >8</th>\n",
              "                        <td id=\"T_c90184d0_0327_11eb_9902_0242ac1c0002row8_col0\" class=\"data row8 col0\" >0.9987</td>\n",
              "                        <td id=\"T_c90184d0_0327_11eb_9902_0242ac1c0002row8_col1\" class=\"data row8 col1\" >1.0000</td>\n",
              "                        <td id=\"T_c90184d0_0327_11eb_9902_0242ac1c0002row8_col2\" class=\"data row8 col2\" >0.9980</td>\n",
              "                        <td id=\"T_c90184d0_0327_11eb_9902_0242ac1c0002row8_col3\" class=\"data row8 col3\" >0.9994</td>\n",
              "                        <td id=\"T_c90184d0_0327_11eb_9902_0242ac1c0002row8_col4\" class=\"data row8 col4\" >0.9987</td>\n",
              "                        <td id=\"T_c90184d0_0327_11eb_9902_0242ac1c0002row8_col5\" class=\"data row8 col5\" >0.9974</td>\n",
              "                        <td id=\"T_c90184d0_0327_11eb_9902_0242ac1c0002row8_col6\" class=\"data row8 col6\" >0.9974</td>\n",
              "            </tr>\n",
              "            <tr>\n",
              "                        <th id=\"T_c90184d0_0327_11eb_9902_0242ac1c0002level0_row9\" class=\"row_heading level0 row9\" >9</th>\n",
              "                        <td id=\"T_c90184d0_0327_11eb_9902_0242ac1c0002row9_col0\" class=\"data row9 col0\" >0.9977</td>\n",
              "                        <td id=\"T_c90184d0_0327_11eb_9902_0242ac1c0002row9_col1\" class=\"data row9 col1\" >1.0000</td>\n",
              "                        <td id=\"T_c90184d0_0327_11eb_9902_0242ac1c0002row9_col2\" class=\"data row9 col2\" >0.9971</td>\n",
              "                        <td id=\"T_c90184d0_0327_11eb_9902_0242ac1c0002row9_col3\" class=\"data row9 col3\" >0.9983</td>\n",
              "                        <td id=\"T_c90184d0_0327_11eb_9902_0242ac1c0002row9_col4\" class=\"data row9 col4\" >0.9977</td>\n",
              "                        <td id=\"T_c90184d0_0327_11eb_9902_0242ac1c0002row9_col5\" class=\"data row9 col5\" >0.9954</td>\n",
              "                        <td id=\"T_c90184d0_0327_11eb_9902_0242ac1c0002row9_col6\" class=\"data row9 col6\" >0.9954</td>\n",
              "            </tr>\n",
              "            <tr>\n",
              "                        <th id=\"T_c90184d0_0327_11eb_9902_0242ac1c0002level0_row10\" class=\"row_heading level0 row10\" >Mean</th>\n",
              "                        <td id=\"T_c90184d0_0327_11eb_9902_0242ac1c0002row10_col0\" class=\"data row10 col0\" >0.9983</td>\n",
              "                        <td id=\"T_c90184d0_0327_11eb_9902_0242ac1c0002row10_col1\" class=\"data row10 col1\" >0.9999</td>\n",
              "                        <td id=\"T_c90184d0_0327_11eb_9902_0242ac1c0002row10_col2\" class=\"data row10 col2\" >0.9978</td>\n",
              "                        <td id=\"T_c90184d0_0327_11eb_9902_0242ac1c0002row10_col3\" class=\"data row10 col3\" >0.9988</td>\n",
              "                        <td id=\"T_c90184d0_0327_11eb_9902_0242ac1c0002row10_col4\" class=\"data row10 col4\" >0.9983</td>\n",
              "                        <td id=\"T_c90184d0_0327_11eb_9902_0242ac1c0002row10_col5\" class=\"data row10 col5\" >0.9966</td>\n",
              "                        <td id=\"T_c90184d0_0327_11eb_9902_0242ac1c0002row10_col6\" class=\"data row10 col6\" >0.9966</td>\n",
              "            </tr>\n",
              "            <tr>\n",
              "                        <th id=\"T_c90184d0_0327_11eb_9902_0242ac1c0002level0_row11\" class=\"row_heading level0 row11\" >SD</th>\n",
              "                        <td id=\"T_c90184d0_0327_11eb_9902_0242ac1c0002row11_col0\" class=\"data row11 col0\" >0.0005</td>\n",
              "                        <td id=\"T_c90184d0_0327_11eb_9902_0242ac1c0002row11_col1\" class=\"data row11 col1\" >0.0001</td>\n",
              "                        <td id=\"T_c90184d0_0327_11eb_9902_0242ac1c0002row11_col2\" class=\"data row11 col2\" >0.0007</td>\n",
              "                        <td id=\"T_c90184d0_0327_11eb_9902_0242ac1c0002row11_col3\" class=\"data row11 col3\" >0.0005</td>\n",
              "                        <td id=\"T_c90184d0_0327_11eb_9902_0242ac1c0002row11_col4\" class=\"data row11 col4\" >0.0005</td>\n",
              "                        <td id=\"T_c90184d0_0327_11eb_9902_0242ac1c0002row11_col5\" class=\"data row11 col5\" >0.0010</td>\n",
              "                        <td id=\"T_c90184d0_0327_11eb_9902_0242ac1c0002row11_col6\" class=\"data row11 col6\" >0.0010</td>\n",
              "            </tr>\n",
              "    </tbody></table>"
            ],
            "text/plain": [
              "<pandas.io.formats.style.Styler at 0x7f7e032a0ef0>"
            ]
          },
          "metadata": {
            "tags": []
          }
        }
      ]
    },
    {
      "cell_type": "code",
      "metadata": {
        "id": "cyDdqgocuvJp",
        "outputId": "343296d4-fdb7-4b35-b977-d3c67a4510a2",
        "colab": {
          "base_uri": "https://localhost:8080/",
          "height": 585
        }
      },
      "source": [
        "#plotando o modelo antes do tuning\n",
        "interpret_model(cat)"
      ],
      "execution_count": 124,
      "outputs": [
        {
          "output_type": "display_data",
          "data": {
            "image/png": "[encoded data removed]",
            "text/plain": [
              "<Figure size 576x684 with 2 Axes>"
            ]
          },
          "metadata": {
            "tags": [],
            "needs_background": "light"
          }
        }
      ]
    },
    {
      "cell_type": "code",
      "metadata": {
        "id": "xP_co99bziXU",
        "outputId": "1ec171de-5234-4e45-f88e-a022224dbf23",
        "colab": {
          "base_uri": "https://localhost:8080/",
          "height": 585
        }
      },
      "source": [
        "#plotando o modelo depois do tuning\n",
        "interpret_model(cat_tunado)"
      ],
      "execution_count": 125,
      "outputs": [
        {
          "output_type": "display_data",
          "data": {
            "image/png": "[encoded data removed]",
            "text/plain": [
              "<Figure size 576x684 with 2 Axes>"
            ]
          },
          "metadata": {
            "tags": [],
            "needs_background": "light"
          }
        }
      ]
    },
    {
      "cell_type": "code",
      "metadata": {
        "id": "gjXX0_Dd2-1h"
      },
      "source": [
        "#predições nos dados não balanceados\n",
        "predictions_n = predict_model(cat_tunado, data = teste_r)"
      ],
      "execution_count": 126,
      "outputs": []
    },
    {
      "cell_type": "code",
      "metadata": {
        "id": "8wpWBNZR6IW0",
        "outputId": "13f549b6-2ff2-49b6-8d50-9168c08fdc88",
        "colab": {
          "base_uri": "https://localhost:8080/",
          "height": 697
        }
      },
      "source": [
        "#verificando as variáveis de saída\n",
        "predictions_n.info()"
      ],
      "execution_count": 127,
      "outputs": [
        {
          "output_type": "stream",
          "text": [
            "<class 'pandas.core.frame.DataFrame'>\n",
            "RangeIndex: 85443 entries, 0 to 85442\n",
            "Data columns (total 33 columns):\n",
            " #   Column  Non-Null Count  Dtype  \n",
            "---  ------  --------------  -----  \n",
            " 0   Time    85443 non-null  int64  \n",
            " 1   V1      85443 non-null  float64\n",
            " 2   V2      85443 non-null  float64\n",
            " 3   V3      85443 non-null  float64\n",
            " 4   V4      85443 non-null  float64\n",
            " 5   V5      85443 non-null  float64\n",
            " 6   V6      85443 non-null  float64\n",
            " 7   V7      85443 non-null  float64\n",
            " 8   V8      85443 non-null  float64\n",
            " 9   V9      85443 non-null  float64\n",
            " 10  V10     85443 non-null  float64\n",
            " 11  V11     85443 non-null  float64\n",
            " 12  V12     85443 non-null  float64\n",
            " 13  V13     85443 non-null  float64\n",
            " 14  V14     85443 non-null  float64\n",
            " 15  V15     85443 non-null  float64\n",
            " 16  V16     85443 non-null  float64\n",
            " 17  V17     85443 non-null  float64\n",
            " 18  V18     85443 non-null  float64\n",
            " 19  V19     85443 non-null  float64\n",
            " 20  V20     85443 non-null  float64\n",
            " 21  V21     85443 non-null  float64\n",
            " 22  V22     85443 non-null  float64\n",
            " 23  V23     85443 non-null  float64\n",
            " 24  V24     85443 non-null  float64\n",
            " 25  V25     85443 non-null  float64\n",
            " 26  V26     85443 non-null  float64\n",
            " 27  V27     85443 non-null  float64\n",
            " 28  V28     85443 non-null  float64\n",
            " 29  Amount  85443 non-null  float64\n",
            " 30  Class   85443 non-null  int64  \n",
            " 31  Label   85443 non-null  object \n",
            " 32  Score   85443 non-null  float64\n",
            "dtypes: float64(30), int64(2), object(1)\n",
            "memory usage: 21.5+ MB\n"
          ],
          "name": "stdout"
        }
      ]
    },
    {
      "cell_type": "code",
      "metadata": {
        "id": "B7oriHjC6e72"
      },
      "source": [
        "#transformando o tipo de dado para inteiros\n",
        "y_pred_10 = predictions_n.Label.astype(int)"
      ],
      "execution_count": 128,
      "outputs": []
    },
    {
      "cell_type": "code",
      "metadata": {
        "id": "ujW8U1l16_Wl"
      },
      "source": [
        "#separando os dados\n",
        "y_true_10 = predictions_n.Class"
      ],
      "execution_count": 129,
      "outputs": []
    },
    {
      "cell_type": "code",
      "metadata": {
        "id": "_HmjeL3m3X3y"
      },
      "source": [
        "#predições do DS balanceado\n",
        "predictions_b = predict_model(cat_tunado, data=rose_teste)"
      ],
      "execution_count": 130,
      "outputs": []
    },
    {
      "cell_type": "code",
      "metadata": {
        "id": "19c829Hg7ywQ",
        "outputId": "78cbd77b-23dc-434f-9356-9f70d8111c24",
        "colab": {
          "base_uri": "https://localhost:8080/",
          "height": 595
        }
      },
      "source": [
        "#conferindo nulos\n",
        "predictions_b.isna().sum()\n"
      ],
      "execution_count": 131,
      "outputs": [
        {
          "output_type": "execute_result",
          "data": {
            "text/plain": [
              "Time      1\n",
              "V1        1\n",
              "V2        1\n",
              "V3        1\n",
              "V4        1\n",
              "V5        1\n",
              "V6        1\n",
              "V7        1\n",
              "V8        1\n",
              "V9        1\n",
              "V10       1\n",
              "V11       1\n",
              "V12       1\n",
              "V13       1\n",
              "V14       1\n",
              "V15       1\n",
              "V16       1\n",
              "V17       1\n",
              "V18       1\n",
              "V19       1\n",
              "V20       1\n",
              "V21       1\n",
              "V22       1\n",
              "V23       1\n",
              "V24       1\n",
              "V25       1\n",
              "V26       1\n",
              "V27       1\n",
              "V28       1\n",
              "Amount    1\n",
              "Class     1\n",
              "Label     1\n",
              "Score     1\n",
              "dtype: int64"
            ]
          },
          "metadata": {
            "tags": []
          },
          "execution_count": 131
        }
      ]
    },
    {
      "cell_type": "code",
      "metadata": {
        "id": "DkPcy8Nz8Qk2"
      },
      "source": [
        "#dropando a primeira linha do dataset\n",
        "predictions_b.drop(index=0, axis=0, inplace=True)"
      ],
      "execution_count": 132,
      "outputs": []
    },
    {
      "cell_type": "code",
      "metadata": {
        "id": "_w_egHoj8dcK",
        "outputId": "002d6ec9-9f32-417d-8624-a6f3392d383c",
        "colab": {
          "base_uri": "https://localhost:8080/",
          "height": 34
        }
      },
      "source": [
        "predictions_b.isna().sum().sum()"
      ],
      "execution_count": 133,
      "outputs": [
        {
          "output_type": "execute_result",
          "data": {
            "text/plain": [
              "1"
            ]
          },
          "metadata": {
            "tags": []
          },
          "execution_count": 133
        }
      ]
    },
    {
      "cell_type": "code",
      "metadata": {
        "id": "n8KUilpE8xlF"
      },
      "source": [
        "#criando o y_true e o y_pred do teste balanceado\n",
        "y_pred_11 = predictions_b.Label.astype(int)\n",
        "y_true_11 = predictions_b.Class"
      ],
      "execution_count": 134,
      "outputs": []
    },
    {
      "cell_type": "markdown",
      "metadata": {
        "id": "JQoYe_4c4JTk"
      },
      "source": [
        "### Avaliando as previsões do PyCaret"
      ]
    },
    {
      "cell_type": "markdown",
      "metadata": {
        "id": "hzMaXDgU9E9s"
      },
      "source": [
        "Com os dados desbalanceados"
      ]
    },
    {
      "cell_type": "code",
      "metadata": {
        "id": "hhswNl1s7Enx",
        "outputId": "45436030-aee9-432c-a1ea-c25c06abcbac",
        "colab": {
          "base_uri": "https://localhost:8080/",
          "height": 51
        }
      },
      "source": [
        "#confusion matrix\n",
        "confusion_matrix(y_true_10, y_pred_10)"
      ],
      "execution_count": 135,
      "outputs": [
        {
          "output_type": "execute_result",
          "data": {
            "text/plain": [
              "array([[85242,    60],\n",
              "       [   25,   116]])"
            ]
          },
          "metadata": {
            "tags": []
          },
          "execution_count": 135
        }
      ]
    },
    {
      "cell_type": "code",
      "metadata": {
        "id": "xmV09R-C7UfB",
        "outputId": "ddb42bf2-b84b-45d8-aac8-d55f94c1a565",
        "colab": {
          "base_uri": "https://localhost:8080/",
          "height": 483
        }
      },
      "source": [
        "#Curva AUC\n",
        "fpr, tpr, _ = roc_curve(y_true_10,  y_pred_10)\n",
        "auc = roc_auc_score(y_true_10,  y_pred_10)\n",
        "plt.figure(figsize=(12,8))\n",
        "plt.plot(fpr,tpr,label=\"data 1, auc=\"+str(auc))\n",
        "plt.legend(loc=4)\n",
        "plt.show()"
      ],
      "execution_count": 136,
      "outputs": [
        {
          "output_type": "display_data",
          "data": {
            "image/png": "[encoded data removed]",
            "text/plain": [
              "<Figure size 864x576 with 1 Axes>"
            ]
          },
          "metadata": {
            "tags": [],
            "needs_background": "light"
          }
        }
      ]
    },
    {
      "cell_type": "markdown",
      "metadata": {
        "id": "Nk8os-9k9Ldo"
      },
      "source": [
        "Com o teste balanceado"
      ]
    },
    {
      "cell_type": "code",
      "metadata": {
        "id": "UpWnMsVr9Iiu",
        "outputId": "ca7cd13c-fb17-4bc0-9ad9-dbcad41bada0",
        "colab": {
          "base_uri": "https://localhost:8080/",
          "height": 51
        }
      },
      "source": [
        "#confusion matrix\n",
        "confusion_matrix(y_true_11, y_pred_11)"
      ],
      "execution_count": 137,
      "outputs": [
        {
          "output_type": "execute_result",
          "data": {
            "text/plain": [
              "array([[42608,    61],\n",
              "       [  148, 42626]])"
            ]
          },
          "metadata": {
            "tags": []
          },
          "execution_count": 137
        }
      ]
    },
    {
      "cell_type": "code",
      "metadata": {
        "id": "3EddGI5i9U34",
        "outputId": "0577f9b8-32cc-4cd2-ef2a-e28fe8ee7a52",
        "colab": {
          "base_uri": "https://localhost:8080/",
          "height": 483
        }
      },
      "source": [
        "#Curva AUC\n",
        "fpr, tpr, _ = roc_curve(y_true_11,  y_pred_11)\n",
        "auc = roc_auc_score(y_true_11,  y_pred_11)\n",
        "plt.figure(figsize=(12,8))\n",
        "plt.plot(fpr,tpr,label=\"data 1, auc=\"+str(auc))\n",
        "plt.legend(loc=4)\n",
        "plt.show()"
      ],
      "execution_count": 138,
      "outputs": [
        {
          "output_type": "display_data",
          "data": {
            "image/png": "[encoded data removed]",
            "text/plain": [
              "<Figure size 864x576 with 1 Axes>"
            ]
          },
          "metadata": {
            "tags": [],
            "needs_background": "light"
          }
        }
      ]
    },
    {
      "cell_type": "markdown",
      "metadata": {
        "id": "RI5IwOL_Rhdg"
      },
      "source": [
        "TPOT"
      ]
    },
    {
      "cell_type": "code",
      "metadata": {
        "id": "KH5avG-8Qza2"
      },
      "source": [
        "from tpot import TPOTClassifier"
      ],
      "execution_count": 139,
      "outputs": []
    },
    {
      "cell_type": "code",
      "metadata": {
        "id": "64W4ji4wWY4x"
      },
      "source": [
        "tpot = TPOTClassifier(generations=1, verbosity=2)"
      ],
      "execution_count": 140,
      "outputs": []
    },
    {
      "cell_type": "code",
      "metadata": {
        "id": "j_xx5Guqjarj",
        "outputId": "cfdd8c5e-582a-4f98-838f-30c784044619",
        "colab": {
          "base_uri": "https://localhost:8080/",
          "height": 204,
          "referenced_widgets": [
            "c0879f6106df4ea69bcbe1033e72c934",
            "648c36aa606c459b8eca0b3a33dcb7c7",
            "f474cef8fed44b2fa734def2740da1ed",
            "6b200963c6b742cbb6aae877396920d8",
            "0d5ef0fe07e9444281e8df7aeb7ab418",
            "cd92458198fe40829f444fff8cb35728",
            "1575674ebd5e4f16a5dd0fc6eecf6c19",
            "b0b767baccfd48a2ab95840599fac049"
          ]
        }
      },
      "source": [
        "tpot.fit(X_train_r, y_train_r)"
      ],
      "execution_count": 141,
      "outputs": [
        {
          "output_type": "display_data",
          "data": {
            "application/vnd.jupyter.widget-view+json": {
              "model_id": "c0879f6106df4ea69bcbe1033e72c934",
              "version_minor": 0,
              "version_major": 2
            },
            "text/plain": [
              "HBox(children=(FloatProgress(value=0.0, description='Optimization Progress', max=200.0, style=ProgressStyle(de…"
            ]
          },
          "metadata": {
            "tags": []
          }
        },
        {
          "output_type": "stream",
          "text": [
            "\n",
            "Generation 1 - Current best internal CV score: 0.9991472877479495\r\n",
            "Best pipeline: MLPClassifier(StandardScaler(input_matrix), alpha=0.01, learning_rate_init=0.001)\n"
          ],
          "name": "stdout"
        },
        {
          "output_type": "execute_result",
          "data": {
            "text/plain": [
              "TPOTClassifier(config_dict=None, crossover_rate=0.1, cv=5,\n",
              "               disable_update_check=False, early_stop=None, generations=1,\n",
              "               log_file=<ipykernel.iostream.OutStream object at 0x7f7e3c533ac8>,\n",
              "               max_eval_time_mins=5, max_time_mins=None, memory=None,\n",
              "               mutation_rate=0.9, n_jobs=1, offspring_size=None,\n",
              "               periodic_checkpoint_folder=None, population_size=100,\n",
              "               random_state=None, scoring=None, subsample=1.0, template=None,\n",
              "               use_dask=False, verbosity=2, warm_start=False)"
            ]
          },
          "metadata": {
            "tags": []
          },
          "execution_count": 141
        }
      ]
    },
    {
      "cell_type": "code",
      "metadata": {
        "id": "SudiZEHF9jEg"
      },
      "source": [
        "tpot.export('tpot_card.py')"
      ],
      "execution_count": 142,
      "outputs": []
    },
    {
      "cell_type": "code",
      "metadata": {
        "id": "A_ssFus-AXPe"
      },
      "source": [
        "from sklearn.preprocessing import StandardScaler\n",
        "from sklearn.neural_network import MLPClassifier\n",
        "from sklearn.pipeline import make_pipeline\n",
        "exported_pipeline = make_pipeline(\n",
        "    StandardScaler(),\n",
        "    MLPClassifier(alpha=0.01, learning_rate_init=0.001)\n",
        ")"
      ],
      "execution_count": 143,
      "outputs": []
    },
    {
      "cell_type": "code",
      "metadata": {
        "id": "tnARvNdjfK9m"
      },
      "source": [
        "exported_pipeline.fit(X_train_r, y_train_r)\n",
        "results = exported_pipeline.predict(X_test_r)"
      ],
      "execution_count": 155,
      "outputs": []
    },
    {
      "cell_type": "code",
      "metadata": {
        "id": "1lMOZLl_fbFF",
        "outputId": "ae7223ab-1f16-4955-9685-b23af1b6291b",
        "colab": {
          "base_uri": "https://localhost:8080/",
          "height": 51
        }
      },
      "source": [
        "#confusion matrix\n",
        "confusion_matrix(y_test_r, results)"
      ],
      "execution_count": 156,
      "outputs": [
        {
          "output_type": "execute_result",
          "data": {
            "text/plain": [
              "array([[42656,    13],\n",
              "       [  113, 42661]])"
            ]
          },
          "metadata": {
            "tags": []
          },
          "execution_count": 156
        }
      ]
    },
    {
      "cell_type": "code",
      "metadata": {
        "id": "SFHOQrfgfy67",
        "outputId": "db699965-3a17-45a3-94e4-d4a7a542fcf2",
        "colab": {
          "base_uri": "https://localhost:8080/",
          "height": 483
        }
      },
      "source": [
        "#Curva AUC\n",
        "fpr, tpr, _ = roc_curve(y_test_r, results)\n",
        "auc = roc_auc_score(y_test_r, results)\n",
        "plt.figure(figsize=(12,8))\n",
        "plt.plot(fpr,tpr,label=\"data 1, auc=\"+str(auc))\n",
        "plt.legend(loc=4)\n",
        "plt.show()\n"
      ],
      "execution_count": 157,
      "outputs": [
        {
          "output_type": "display_data",
          "data": {
            "image/png": "[encoded data removed]",
            "text/plain": [
              "<Figure size 864x576 with 1 Axes>"
            ]
          },
          "metadata": {
            "tags": [],
            "needs_background": "light"
          }
        }
      ]
    },
    {
      "cell_type": "markdown",
      "metadata": {
        "id": "AYAdDyJmgxKy"
      },
      "source": [
        "Com os dados originais\n"
      ]
    },
    {
      "cell_type": "code",
      "metadata": {
        "id": "jiRcECByf7Pr"
      },
      "source": [
        "results2 = exported_pipeline.predict(X_test)"
      ],
      "execution_count": 161,
      "outputs": []
    },
    {
      "cell_type": "code",
      "metadata": {
        "id": "zgshFxUMhbNy",
        "outputId": "b2b15069-8fe2-435a-ecb6-affbce6743be",
        "colab": {
          "base_uri": "https://localhost:8080/",
          "height": 51
        }
      },
      "source": [
        "#confusion matrix\n",
        "confusion_matrix(y_test, results2)"
      ],
      "execution_count": 162,
      "outputs": [
        {
          "output_type": "execute_result",
          "data": {
            "text/plain": [
              "array([[85289,     6],\n",
              "       [   72,    76]])"
            ]
          },
          "metadata": {
            "tags": []
          },
          "execution_count": 162
        }
      ]
    },
    {
      "cell_type": "code",
      "metadata": {
        "id": "R46Vr7Sehddg",
        "outputId": "6004b9f4-7885-4588-c2d5-be962a358544",
        "colab": {
          "base_uri": "https://localhost:8080/",
          "height": 483
        }
      },
      "source": [
        "#Curva AUC\n",
        "fpr, tpr, _ = roc_curve(y_test, results2)\n",
        "auc = roc_auc_score(y_test, results2)\n",
        "plt.figure(figsize=(12,8))\n",
        "plt.plot(fpr,tpr,label=\"data 1, auc=\"+str(auc))\n",
        "plt.legend(loc=4)\n",
        "plt.show()"
      ],
      "execution_count": 163,
      "outputs": [
        {
          "output_type": "display_data",
          "data": {
            "image/png": "[encoded data removed]",
            "text/plain": [
              "<Figure size 864x576 with 1 Axes>"
            ]
          },
          "metadata": {
            "tags": [],
            "needs_background": "light"
          }
        }
      ]
    },
    {
      "cell_type": "code",
      "metadata": {
        "id": "8z-VsbothlrI"
      },
      "source": [
        ""
      ],
      "execution_count": null,
      "outputs": []
    }
  ]
}