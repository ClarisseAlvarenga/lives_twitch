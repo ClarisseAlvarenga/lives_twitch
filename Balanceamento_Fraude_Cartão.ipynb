{
  "nbformat": 4,
  "nbformat_minor": 0,
  "metadata": {
    "colab": {
      "name": "Balanceamento_Fraude_Cartão.ipynb",
      "provenance": [],
      "authorship_tag": "ABX9TyNferKUfwiFTPw6gkRVfgsU",
      "include_colab_link": true
    },
    "kernelspec": {
      "name": "python3",
      "display_name": "Python 3"
    }
  },
  "cells": [
    {
      "cell_type": "markdown",
      "metadata": {
        "id": "view-in-github",
        "colab_type": "text"
      },
      "source": [
        "<a href=\"https://colab.research.google.com/github/ClarisseAlvarenga/lives_twitch/blob/master/Balanceamento_Fraude_Cart%C3%A3o.ipynb\" target=\"_parent\"><img src=\"https://colab.research.google.com/assets/colab-badge.svg\" alt=\"Open In Colab\"/></a>"
      ]
    },
    {
      "cell_type": "markdown",
      "metadata": {
        "id": "BDfSInXAhHs5"
      },
      "source": [
        "# CARREGAR OS DADOS"
      ]
    },
    {
      "cell_type": "markdown",
      "metadata": {
        "id": "ARGuqtbeiAga"
      },
      "source": [
        "Usamos o dataset https://www.kaggle.com/mlg-ulb/creditcardfraud"
      ]
    },
    {
      "cell_type": "markdown",
      "metadata": {
        "id": "Ejt5VZu7iFRt"
      },
      "source": [
        "### Importando nossas bibliotecas"
      ]
    },
    {
      "cell_type": "code",
      "metadata": {
        "id": "og9pJKS7Pptd",
        "outputId": "d77234fa-5005-4a95-a057-e7b52d191cdc",
        "colab": {
          "base_uri": "https://localhost:8080/",
          "height": 71
        }
      },
      "source": [
        "import pandas as pd\n",
        "import numpy as np\n",
        "import matplotlib.pyplot as plt\n",
        "import seaborn as sns\n",
        "from sklearn.tree import DecisionTreeClassifier\n",
        "from imblearn.over_sampling import RandomOverSampler"
      ],
      "execution_count": 1,
      "outputs": [
        {
          "output_type": "stream",
          "text": [
            "/usr/local/lib/python3.6/dist-packages/statsmodels/tools/_testing.py:19: FutureWarning: pandas.util.testing is deprecated. Use the functions in the public API at pandas.testing instead.\n",
            "  import pandas.util.testing as tm\n"
          ],
          "name": "stderr"
        }
      ]
    },
    {
      "cell_type": "code",
      "metadata": {
        "id": "F7NnRSx3j_bW"
      },
      "source": [
        "from sklearn.metrics import RocCurveDisplay, confusion_matrix, classification_report, accuracy_score, auc"
      ],
      "execution_count": 2,
      "outputs": []
    },
    {
      "cell_type": "markdown",
      "metadata": {
        "id": "2q7XuvofhLH-"
      },
      "source": [
        "# VISUALIZAR OS DADOS"
      ]
    },
    {
      "cell_type": "code",
      "metadata": {
        "id": "xAG0QKAihNvq"
      },
      "source": [
        "#lendo os dados\n",
        "dados = pd.read_csv('creditcard.csv')"
      ],
      "execution_count": 4,
      "outputs": []
    },
    {
      "cell_type": "code",
      "metadata": {
        "id": "VjJeIvfnlTDK",
        "outputId": "419b41b0-203e-445d-abd8-24309441305d",
        "colab": {
          "base_uri": "https://localhost:8080/",
          "height": 223
        }
      },
      "source": [
        "#visualizando as primeiras linhas\n",
        "dados.head()"
      ],
      "execution_count": 5,
      "outputs": [
        {
          "output_type": "execute_result",
          "data": {
            "text/html": [
              "<div>\n",
              "<style scoped>\n",
              "    .dataframe tbody tr th:only-of-type {\n",
              "        vertical-align: middle;\n",
              "    }\n",
              "\n",
              "    .dataframe tbody tr th {\n",
              "        vertical-align: top;\n",
              "    }\n",
              "\n",
              "    .dataframe thead th {\n",
              "        text-align: right;\n",
              "    }\n",
              "</style>\n",
              "<table border=\"1\" class=\"dataframe\">\n",
              "  <thead>\n",
              "    <tr style=\"text-align: right;\">\n",
              "      <th></th>\n",
              "      <th>Time</th>\n",
              "      <th>V1</th>\n",
              "      <th>V2</th>\n",
              "      <th>V3</th>\n",
              "      <th>V4</th>\n",
              "      <th>V5</th>\n",
              "      <th>V6</th>\n",
              "      <th>V7</th>\n",
              "      <th>V8</th>\n",
              "      <th>V9</th>\n",
              "      <th>V10</th>\n",
              "      <th>V11</th>\n",
              "      <th>V12</th>\n",
              "      <th>V13</th>\n",
              "      <th>V14</th>\n",
              "      <th>V15</th>\n",
              "      <th>V16</th>\n",
              "      <th>V17</th>\n",
              "      <th>V18</th>\n",
              "      <th>V19</th>\n",
              "      <th>V20</th>\n",
              "      <th>V21</th>\n",
              "      <th>V22</th>\n",
              "      <th>V23</th>\n",
              "      <th>V24</th>\n",
              "      <th>V25</th>\n",
              "      <th>V26</th>\n",
              "      <th>V27</th>\n",
              "      <th>V28</th>\n",
              "      <th>Amount</th>\n",
              "      <th>Class</th>\n",
              "    </tr>\n",
              "  </thead>\n",
              "  <tbody>\n",
              "    <tr>\n",
              "      <th>0</th>\n",
              "      <td>0.0</td>\n",
              "      <td>-1.359807</td>\n",
              "      <td>-0.072781</td>\n",
              "      <td>2.536347</td>\n",
              "      <td>1.378155</td>\n",
              "      <td>-0.338321</td>\n",
              "      <td>0.462388</td>\n",
              "      <td>0.239599</td>\n",
              "      <td>0.098698</td>\n",
              "      <td>0.363787</td>\n",
              "      <td>0.090794</td>\n",
              "      <td>-0.551600</td>\n",
              "      <td>-0.617801</td>\n",
              "      <td>-0.991390</td>\n",
              "      <td>-0.311169</td>\n",
              "      <td>1.468177</td>\n",
              "      <td>-0.470401</td>\n",
              "      <td>0.207971</td>\n",
              "      <td>0.025791</td>\n",
              "      <td>0.403993</td>\n",
              "      <td>0.251412</td>\n",
              "      <td>-0.018307</td>\n",
              "      <td>0.277838</td>\n",
              "      <td>-0.110474</td>\n",
              "      <td>0.066928</td>\n",
              "      <td>0.128539</td>\n",
              "      <td>-0.189115</td>\n",
              "      <td>0.133558</td>\n",
              "      <td>-0.021053</td>\n",
              "      <td>149.62</td>\n",
              "      <td>0</td>\n",
              "    </tr>\n",
              "    <tr>\n",
              "      <th>1</th>\n",
              "      <td>0.0</td>\n",
              "      <td>1.191857</td>\n",
              "      <td>0.266151</td>\n",
              "      <td>0.166480</td>\n",
              "      <td>0.448154</td>\n",
              "      <td>0.060018</td>\n",
              "      <td>-0.082361</td>\n",
              "      <td>-0.078803</td>\n",
              "      <td>0.085102</td>\n",
              "      <td>-0.255425</td>\n",
              "      <td>-0.166974</td>\n",
              "      <td>1.612727</td>\n",
              "      <td>1.065235</td>\n",
              "      <td>0.489095</td>\n",
              "      <td>-0.143772</td>\n",
              "      <td>0.635558</td>\n",
              "      <td>0.463917</td>\n",
              "      <td>-0.114805</td>\n",
              "      <td>-0.183361</td>\n",
              "      <td>-0.145783</td>\n",
              "      <td>-0.069083</td>\n",
              "      <td>-0.225775</td>\n",
              "      <td>-0.638672</td>\n",
              "      <td>0.101288</td>\n",
              "      <td>-0.339846</td>\n",
              "      <td>0.167170</td>\n",
              "      <td>0.125895</td>\n",
              "      <td>-0.008983</td>\n",
              "      <td>0.014724</td>\n",
              "      <td>2.69</td>\n",
              "      <td>0</td>\n",
              "    </tr>\n",
              "    <tr>\n",
              "      <th>2</th>\n",
              "      <td>1.0</td>\n",
              "      <td>-1.358354</td>\n",
              "      <td>-1.340163</td>\n",
              "      <td>1.773209</td>\n",
              "      <td>0.379780</td>\n",
              "      <td>-0.503198</td>\n",
              "      <td>1.800499</td>\n",
              "      <td>0.791461</td>\n",
              "      <td>0.247676</td>\n",
              "      <td>-1.514654</td>\n",
              "      <td>0.207643</td>\n",
              "      <td>0.624501</td>\n",
              "      <td>0.066084</td>\n",
              "      <td>0.717293</td>\n",
              "      <td>-0.165946</td>\n",
              "      <td>2.345865</td>\n",
              "      <td>-2.890083</td>\n",
              "      <td>1.109969</td>\n",
              "      <td>-0.121359</td>\n",
              "      <td>-2.261857</td>\n",
              "      <td>0.524980</td>\n",
              "      <td>0.247998</td>\n",
              "      <td>0.771679</td>\n",
              "      <td>0.909412</td>\n",
              "      <td>-0.689281</td>\n",
              "      <td>-0.327642</td>\n",
              "      <td>-0.139097</td>\n",
              "      <td>-0.055353</td>\n",
              "      <td>-0.059752</td>\n",
              "      <td>378.66</td>\n",
              "      <td>0</td>\n",
              "    </tr>\n",
              "    <tr>\n",
              "      <th>3</th>\n",
              "      <td>1.0</td>\n",
              "      <td>-0.966272</td>\n",
              "      <td>-0.185226</td>\n",
              "      <td>1.792993</td>\n",
              "      <td>-0.863291</td>\n",
              "      <td>-0.010309</td>\n",
              "      <td>1.247203</td>\n",
              "      <td>0.237609</td>\n",
              "      <td>0.377436</td>\n",
              "      <td>-1.387024</td>\n",
              "      <td>-0.054952</td>\n",
              "      <td>-0.226487</td>\n",
              "      <td>0.178228</td>\n",
              "      <td>0.507757</td>\n",
              "      <td>-0.287924</td>\n",
              "      <td>-0.631418</td>\n",
              "      <td>-1.059647</td>\n",
              "      <td>-0.684093</td>\n",
              "      <td>1.965775</td>\n",
              "      <td>-1.232622</td>\n",
              "      <td>-0.208038</td>\n",
              "      <td>-0.108300</td>\n",
              "      <td>0.005274</td>\n",
              "      <td>-0.190321</td>\n",
              "      <td>-1.175575</td>\n",
              "      <td>0.647376</td>\n",
              "      <td>-0.221929</td>\n",
              "      <td>0.062723</td>\n",
              "      <td>0.061458</td>\n",
              "      <td>123.50</td>\n",
              "      <td>0</td>\n",
              "    </tr>\n",
              "    <tr>\n",
              "      <th>4</th>\n",
              "      <td>2.0</td>\n",
              "      <td>-1.158233</td>\n",
              "      <td>0.877737</td>\n",
              "      <td>1.548718</td>\n",
              "      <td>0.403034</td>\n",
              "      <td>-0.407193</td>\n",
              "      <td>0.095921</td>\n",
              "      <td>0.592941</td>\n",
              "      <td>-0.270533</td>\n",
              "      <td>0.817739</td>\n",
              "      <td>0.753074</td>\n",
              "      <td>-0.822843</td>\n",
              "      <td>0.538196</td>\n",
              "      <td>1.345852</td>\n",
              "      <td>-1.119670</td>\n",
              "      <td>0.175121</td>\n",
              "      <td>-0.451449</td>\n",
              "      <td>-0.237033</td>\n",
              "      <td>-0.038195</td>\n",
              "      <td>0.803487</td>\n",
              "      <td>0.408542</td>\n",
              "      <td>-0.009431</td>\n",
              "      <td>0.798278</td>\n",
              "      <td>-0.137458</td>\n",
              "      <td>0.141267</td>\n",
              "      <td>-0.206010</td>\n",
              "      <td>0.502292</td>\n",
              "      <td>0.219422</td>\n",
              "      <td>0.215153</td>\n",
              "      <td>69.99</td>\n",
              "      <td>0</td>\n",
              "    </tr>\n",
              "  </tbody>\n",
              "</table>\n",
              "</div>"
            ],
            "text/plain": [
              "   Time        V1        V2        V3  ...       V27       V28  Amount  Class\n",
              "0   0.0 -1.359807 -0.072781  2.536347  ...  0.133558 -0.021053  149.62      0\n",
              "1   0.0  1.191857  0.266151  0.166480  ... -0.008983  0.014724    2.69      0\n",
              "2   1.0 -1.358354 -1.340163  1.773209  ... -0.055353 -0.059752  378.66      0\n",
              "3   1.0 -0.966272 -0.185226  1.792993  ...  0.062723  0.061458  123.50      0\n",
              "4   2.0 -1.158233  0.877737  1.548718  ...  0.219422  0.215153   69.99      0\n",
              "\n",
              "[5 rows x 31 columns]"
            ]
          },
          "metadata": {
            "tags": []
          },
          "execution_count": 5
        }
      ]
    },
    {
      "cell_type": "code",
      "metadata": {
        "id": "qU7otYHMlTMZ"
      },
      "source": [
        "#visualizando o tamanho do dataset\n",
        "linhas,colunas = dados.shape\n"
      ],
      "execution_count": 7,
      "outputs": []
    },
    {
      "cell_type": "code",
      "metadata": {
        "id": "PPX3dFO0lTTr",
        "outputId": "d7c5b14b-5255-4ed2-ca15-19de65282677",
        "colab": {
          "base_uri": "https://localhost:8080/",
          "height": 51
        }
      },
      "source": [
        "print(linhas)\n",
        "print(colunas)"
      ],
      "execution_count": 8,
      "outputs": [
        {
          "output_type": "stream",
          "text": [
            "284807\n",
            "31\n"
          ],
          "name": "stdout"
        }
      ]
    },
    {
      "cell_type": "code",
      "metadata": {
        "id": "z_wqLpQBlTaT",
        "outputId": "426d4ddc-e90d-41e3-f4c8-528579a741f3",
        "colab": {
          "base_uri": "https://localhost:8080/",
          "height": 668
        }
      },
      "source": [
        "#equivalente ao str() no R - info\n",
        "dados.info()"
      ],
      "execution_count": 9,
      "outputs": [
        {
          "output_type": "stream",
          "text": [
            "<class 'pandas.core.frame.DataFrame'>\n",
            "RangeIndex: 284807 entries, 0 to 284806\n",
            "Data columns (total 31 columns):\n",
            " #   Column  Non-Null Count   Dtype  \n",
            "---  ------  --------------   -----  \n",
            " 0   Time    284807 non-null  float64\n",
            " 1   V1      284807 non-null  float64\n",
            " 2   V2      284807 non-null  float64\n",
            " 3   V3      284807 non-null  float64\n",
            " 4   V4      284807 non-null  float64\n",
            " 5   V5      284807 non-null  float64\n",
            " 6   V6      284807 non-null  float64\n",
            " 7   V7      284807 non-null  float64\n",
            " 8   V8      284807 non-null  float64\n",
            " 9   V9      284807 non-null  float64\n",
            " 10  V10     284807 non-null  float64\n",
            " 11  V11     284807 non-null  float64\n",
            " 12  V12     284807 non-null  float64\n",
            " 13  V13     284807 non-null  float64\n",
            " 14  V14     284807 non-null  float64\n",
            " 15  V15     284807 non-null  float64\n",
            " 16  V16     284807 non-null  float64\n",
            " 17  V17     284807 non-null  float64\n",
            " 18  V18     284807 non-null  float64\n",
            " 19  V19     284807 non-null  float64\n",
            " 20  V20     284807 non-null  float64\n",
            " 21  V21     284807 non-null  float64\n",
            " 22  V22     284807 non-null  float64\n",
            " 23  V23     284807 non-null  float64\n",
            " 24  V24     284807 non-null  float64\n",
            " 25  V25     284807 non-null  float64\n",
            " 26  V26     284807 non-null  float64\n",
            " 27  V27     284807 non-null  float64\n",
            " 28  V28     284807 non-null  float64\n",
            " 29  Amount  284807 non-null  float64\n",
            " 30  Class   284807 non-null  int64  \n",
            "dtypes: float64(30), int64(1)\n",
            "memory usage: 67.4 MB\n"
          ],
          "name": "stdout"
        }
      ]
    },
    {
      "cell_type": "code",
      "metadata": {
        "id": "wYclkM46lTRt",
        "outputId": "f8a554d2-e44b-4ae6-9515-040452bb9b45",
        "colab": {
          "base_uri": "https://localhost:8080/",
          "height": 315
        }
      },
      "source": [
        "#equivalente ao summary() no R - describe()\n",
        "dados.describe()"
      ],
      "execution_count": 10,
      "outputs": [
        {
          "output_type": "execute_result",
          "data": {
            "text/html": [
              "<div>\n",
              "<style scoped>\n",
              "    .dataframe tbody tr th:only-of-type {\n",
              "        vertical-align: middle;\n",
              "    }\n",
              "\n",
              "    .dataframe tbody tr th {\n",
              "        vertical-align: top;\n",
              "    }\n",
              "\n",
              "    .dataframe thead th {\n",
              "        text-align: right;\n",
              "    }\n",
              "</style>\n",
              "<table border=\"1\" class=\"dataframe\">\n",
              "  <thead>\n",
              "    <tr style=\"text-align: right;\">\n",
              "      <th></th>\n",
              "      <th>Time</th>\n",
              "      <th>V1</th>\n",
              "      <th>V2</th>\n",
              "      <th>V3</th>\n",
              "      <th>V4</th>\n",
              "      <th>V5</th>\n",
              "      <th>V6</th>\n",
              "      <th>V7</th>\n",
              "      <th>V8</th>\n",
              "      <th>V9</th>\n",
              "      <th>V10</th>\n",
              "      <th>V11</th>\n",
              "      <th>V12</th>\n",
              "      <th>V13</th>\n",
              "      <th>V14</th>\n",
              "      <th>V15</th>\n",
              "      <th>V16</th>\n",
              "      <th>V17</th>\n",
              "      <th>V18</th>\n",
              "      <th>V19</th>\n",
              "      <th>V20</th>\n",
              "      <th>V21</th>\n",
              "      <th>V22</th>\n",
              "      <th>V23</th>\n",
              "      <th>V24</th>\n",
              "      <th>V25</th>\n",
              "      <th>V26</th>\n",
              "      <th>V27</th>\n",
              "      <th>V28</th>\n",
              "      <th>Amount</th>\n",
              "      <th>Class</th>\n",
              "    </tr>\n",
              "  </thead>\n",
              "  <tbody>\n",
              "    <tr>\n",
              "      <th>count</th>\n",
              "      <td>284807.000000</td>\n",
              "      <td>2.848070e+05</td>\n",
              "      <td>2.848070e+05</td>\n",
              "      <td>2.848070e+05</td>\n",
              "      <td>2.848070e+05</td>\n",
              "      <td>2.848070e+05</td>\n",
              "      <td>2.848070e+05</td>\n",
              "      <td>2.848070e+05</td>\n",
              "      <td>2.848070e+05</td>\n",
              "      <td>2.848070e+05</td>\n",
              "      <td>2.848070e+05</td>\n",
              "      <td>2.848070e+05</td>\n",
              "      <td>2.848070e+05</td>\n",
              "      <td>2.848070e+05</td>\n",
              "      <td>2.848070e+05</td>\n",
              "      <td>2.848070e+05</td>\n",
              "      <td>2.848070e+05</td>\n",
              "      <td>2.848070e+05</td>\n",
              "      <td>2.848070e+05</td>\n",
              "      <td>2.848070e+05</td>\n",
              "      <td>2.848070e+05</td>\n",
              "      <td>2.848070e+05</td>\n",
              "      <td>2.848070e+05</td>\n",
              "      <td>2.848070e+05</td>\n",
              "      <td>2.848070e+05</td>\n",
              "      <td>2.848070e+05</td>\n",
              "      <td>2.848070e+05</td>\n",
              "      <td>2.848070e+05</td>\n",
              "      <td>2.848070e+05</td>\n",
              "      <td>284807.000000</td>\n",
              "      <td>284807.000000</td>\n",
              "    </tr>\n",
              "    <tr>\n",
              "      <th>mean</th>\n",
              "      <td>94813.859575</td>\n",
              "      <td>3.919560e-15</td>\n",
              "      <td>5.688174e-16</td>\n",
              "      <td>-8.769071e-15</td>\n",
              "      <td>2.782312e-15</td>\n",
              "      <td>-1.552563e-15</td>\n",
              "      <td>2.010663e-15</td>\n",
              "      <td>-1.694249e-15</td>\n",
              "      <td>-1.927028e-16</td>\n",
              "      <td>-3.137024e-15</td>\n",
              "      <td>1.768627e-15</td>\n",
              "      <td>9.170318e-16</td>\n",
              "      <td>-1.810658e-15</td>\n",
              "      <td>1.693438e-15</td>\n",
              "      <td>1.479045e-15</td>\n",
              "      <td>3.482336e-15</td>\n",
              "      <td>1.392007e-15</td>\n",
              "      <td>-7.528491e-16</td>\n",
              "      <td>4.328772e-16</td>\n",
              "      <td>9.049732e-16</td>\n",
              "      <td>5.085503e-16</td>\n",
              "      <td>1.537294e-16</td>\n",
              "      <td>7.959909e-16</td>\n",
              "      <td>5.367590e-16</td>\n",
              "      <td>4.458112e-15</td>\n",
              "      <td>1.453003e-15</td>\n",
              "      <td>1.699104e-15</td>\n",
              "      <td>-3.660161e-16</td>\n",
              "      <td>-1.206049e-16</td>\n",
              "      <td>88.349619</td>\n",
              "      <td>0.001727</td>\n",
              "    </tr>\n",
              "    <tr>\n",
              "      <th>std</th>\n",
              "      <td>47488.145955</td>\n",
              "      <td>1.958696e+00</td>\n",
              "      <td>1.651309e+00</td>\n",
              "      <td>1.516255e+00</td>\n",
              "      <td>1.415869e+00</td>\n",
              "      <td>1.380247e+00</td>\n",
              "      <td>1.332271e+00</td>\n",
              "      <td>1.237094e+00</td>\n",
              "      <td>1.194353e+00</td>\n",
              "      <td>1.098632e+00</td>\n",
              "      <td>1.088850e+00</td>\n",
              "      <td>1.020713e+00</td>\n",
              "      <td>9.992014e-01</td>\n",
              "      <td>9.952742e-01</td>\n",
              "      <td>9.585956e-01</td>\n",
              "      <td>9.153160e-01</td>\n",
              "      <td>8.762529e-01</td>\n",
              "      <td>8.493371e-01</td>\n",
              "      <td>8.381762e-01</td>\n",
              "      <td>8.140405e-01</td>\n",
              "      <td>7.709250e-01</td>\n",
              "      <td>7.345240e-01</td>\n",
              "      <td>7.257016e-01</td>\n",
              "      <td>6.244603e-01</td>\n",
              "      <td>6.056471e-01</td>\n",
              "      <td>5.212781e-01</td>\n",
              "      <td>4.822270e-01</td>\n",
              "      <td>4.036325e-01</td>\n",
              "      <td>3.300833e-01</td>\n",
              "      <td>250.120109</td>\n",
              "      <td>0.041527</td>\n",
              "    </tr>\n",
              "    <tr>\n",
              "      <th>min</th>\n",
              "      <td>0.000000</td>\n",
              "      <td>-5.640751e+01</td>\n",
              "      <td>-7.271573e+01</td>\n",
              "      <td>-4.832559e+01</td>\n",
              "      <td>-5.683171e+00</td>\n",
              "      <td>-1.137433e+02</td>\n",
              "      <td>-2.616051e+01</td>\n",
              "      <td>-4.355724e+01</td>\n",
              "      <td>-7.321672e+01</td>\n",
              "      <td>-1.343407e+01</td>\n",
              "      <td>-2.458826e+01</td>\n",
              "      <td>-4.797473e+00</td>\n",
              "      <td>-1.868371e+01</td>\n",
              "      <td>-5.791881e+00</td>\n",
              "      <td>-1.921433e+01</td>\n",
              "      <td>-4.498945e+00</td>\n",
              "      <td>-1.412985e+01</td>\n",
              "      <td>-2.516280e+01</td>\n",
              "      <td>-9.498746e+00</td>\n",
              "      <td>-7.213527e+00</td>\n",
              "      <td>-5.449772e+01</td>\n",
              "      <td>-3.483038e+01</td>\n",
              "      <td>-1.093314e+01</td>\n",
              "      <td>-4.480774e+01</td>\n",
              "      <td>-2.836627e+00</td>\n",
              "      <td>-1.029540e+01</td>\n",
              "      <td>-2.604551e+00</td>\n",
              "      <td>-2.256568e+01</td>\n",
              "      <td>-1.543008e+01</td>\n",
              "      <td>0.000000</td>\n",
              "      <td>0.000000</td>\n",
              "    </tr>\n",
              "    <tr>\n",
              "      <th>25%</th>\n",
              "      <td>54201.500000</td>\n",
              "      <td>-9.203734e-01</td>\n",
              "      <td>-5.985499e-01</td>\n",
              "      <td>-8.903648e-01</td>\n",
              "      <td>-8.486401e-01</td>\n",
              "      <td>-6.915971e-01</td>\n",
              "      <td>-7.682956e-01</td>\n",
              "      <td>-5.540759e-01</td>\n",
              "      <td>-2.086297e-01</td>\n",
              "      <td>-6.430976e-01</td>\n",
              "      <td>-5.354257e-01</td>\n",
              "      <td>-7.624942e-01</td>\n",
              "      <td>-4.055715e-01</td>\n",
              "      <td>-6.485393e-01</td>\n",
              "      <td>-4.255740e-01</td>\n",
              "      <td>-5.828843e-01</td>\n",
              "      <td>-4.680368e-01</td>\n",
              "      <td>-4.837483e-01</td>\n",
              "      <td>-4.988498e-01</td>\n",
              "      <td>-4.562989e-01</td>\n",
              "      <td>-2.117214e-01</td>\n",
              "      <td>-2.283949e-01</td>\n",
              "      <td>-5.423504e-01</td>\n",
              "      <td>-1.618463e-01</td>\n",
              "      <td>-3.545861e-01</td>\n",
              "      <td>-3.171451e-01</td>\n",
              "      <td>-3.269839e-01</td>\n",
              "      <td>-7.083953e-02</td>\n",
              "      <td>-5.295979e-02</td>\n",
              "      <td>5.600000</td>\n",
              "      <td>0.000000</td>\n",
              "    </tr>\n",
              "    <tr>\n",
              "      <th>50%</th>\n",
              "      <td>84692.000000</td>\n",
              "      <td>1.810880e-02</td>\n",
              "      <td>6.548556e-02</td>\n",
              "      <td>1.798463e-01</td>\n",
              "      <td>-1.984653e-02</td>\n",
              "      <td>-5.433583e-02</td>\n",
              "      <td>-2.741871e-01</td>\n",
              "      <td>4.010308e-02</td>\n",
              "      <td>2.235804e-02</td>\n",
              "      <td>-5.142873e-02</td>\n",
              "      <td>-9.291738e-02</td>\n",
              "      <td>-3.275735e-02</td>\n",
              "      <td>1.400326e-01</td>\n",
              "      <td>-1.356806e-02</td>\n",
              "      <td>5.060132e-02</td>\n",
              "      <td>4.807155e-02</td>\n",
              "      <td>6.641332e-02</td>\n",
              "      <td>-6.567575e-02</td>\n",
              "      <td>-3.636312e-03</td>\n",
              "      <td>3.734823e-03</td>\n",
              "      <td>-6.248109e-02</td>\n",
              "      <td>-2.945017e-02</td>\n",
              "      <td>6.781943e-03</td>\n",
              "      <td>-1.119293e-02</td>\n",
              "      <td>4.097606e-02</td>\n",
              "      <td>1.659350e-02</td>\n",
              "      <td>-5.213911e-02</td>\n",
              "      <td>1.342146e-03</td>\n",
              "      <td>1.124383e-02</td>\n",
              "      <td>22.000000</td>\n",
              "      <td>0.000000</td>\n",
              "    </tr>\n",
              "    <tr>\n",
              "      <th>75%</th>\n",
              "      <td>139320.500000</td>\n",
              "      <td>1.315642e+00</td>\n",
              "      <td>8.037239e-01</td>\n",
              "      <td>1.027196e+00</td>\n",
              "      <td>7.433413e-01</td>\n",
              "      <td>6.119264e-01</td>\n",
              "      <td>3.985649e-01</td>\n",
              "      <td>5.704361e-01</td>\n",
              "      <td>3.273459e-01</td>\n",
              "      <td>5.971390e-01</td>\n",
              "      <td>4.539234e-01</td>\n",
              "      <td>7.395934e-01</td>\n",
              "      <td>6.182380e-01</td>\n",
              "      <td>6.625050e-01</td>\n",
              "      <td>4.931498e-01</td>\n",
              "      <td>6.488208e-01</td>\n",
              "      <td>5.232963e-01</td>\n",
              "      <td>3.996750e-01</td>\n",
              "      <td>5.008067e-01</td>\n",
              "      <td>4.589494e-01</td>\n",
              "      <td>1.330408e-01</td>\n",
              "      <td>1.863772e-01</td>\n",
              "      <td>5.285536e-01</td>\n",
              "      <td>1.476421e-01</td>\n",
              "      <td>4.395266e-01</td>\n",
              "      <td>3.507156e-01</td>\n",
              "      <td>2.409522e-01</td>\n",
              "      <td>9.104512e-02</td>\n",
              "      <td>7.827995e-02</td>\n",
              "      <td>77.165000</td>\n",
              "      <td>0.000000</td>\n",
              "    </tr>\n",
              "    <tr>\n",
              "      <th>max</th>\n",
              "      <td>172792.000000</td>\n",
              "      <td>2.454930e+00</td>\n",
              "      <td>2.205773e+01</td>\n",
              "      <td>9.382558e+00</td>\n",
              "      <td>1.687534e+01</td>\n",
              "      <td>3.480167e+01</td>\n",
              "      <td>7.330163e+01</td>\n",
              "      <td>1.205895e+02</td>\n",
              "      <td>2.000721e+01</td>\n",
              "      <td>1.559499e+01</td>\n",
              "      <td>2.374514e+01</td>\n",
              "      <td>1.201891e+01</td>\n",
              "      <td>7.848392e+00</td>\n",
              "      <td>7.126883e+00</td>\n",
              "      <td>1.052677e+01</td>\n",
              "      <td>8.877742e+00</td>\n",
              "      <td>1.731511e+01</td>\n",
              "      <td>9.253526e+00</td>\n",
              "      <td>5.041069e+00</td>\n",
              "      <td>5.591971e+00</td>\n",
              "      <td>3.942090e+01</td>\n",
              "      <td>2.720284e+01</td>\n",
              "      <td>1.050309e+01</td>\n",
              "      <td>2.252841e+01</td>\n",
              "      <td>4.584549e+00</td>\n",
              "      <td>7.519589e+00</td>\n",
              "      <td>3.517346e+00</td>\n",
              "      <td>3.161220e+01</td>\n",
              "      <td>3.384781e+01</td>\n",
              "      <td>25691.160000</td>\n",
              "      <td>1.000000</td>\n",
              "    </tr>\n",
              "  </tbody>\n",
              "</table>\n",
              "</div>"
            ],
            "text/plain": [
              "                Time            V1  ...         Amount          Class\n",
              "count  284807.000000  2.848070e+05  ...  284807.000000  284807.000000\n",
              "mean    94813.859575  3.919560e-15  ...      88.349619       0.001727\n",
              "std     47488.145955  1.958696e+00  ...     250.120109       0.041527\n",
              "min         0.000000 -5.640751e+01  ...       0.000000       0.000000\n",
              "25%     54201.500000 -9.203734e-01  ...       5.600000       0.000000\n",
              "50%     84692.000000  1.810880e-02  ...      22.000000       0.000000\n",
              "75%    139320.500000  1.315642e+00  ...      77.165000       0.000000\n",
              "max    172792.000000  2.454930e+00  ...   25691.160000       1.000000\n",
              "\n",
              "[8 rows x 31 columns]"
            ]
          },
          "metadata": {
            "tags": []
          },
          "execution_count": 10
        }
      ]
    },
    {
      "cell_type": "markdown",
      "metadata": {
        "id": "khbuJeAqhOhg"
      },
      "source": [
        "# VERIFICAR OS NULOS"
      ]
    },
    {
      "cell_type": "code",
      "metadata": {
        "id": "26tiIC0HhRkp",
        "outputId": "72833ae2-362d-480d-b7cc-68ef06f00659",
        "colab": {
          "base_uri": "https://localhost:8080/",
          "height": 566
        }
      },
      "source": [
        "dados.isna().sum() # ele traz por coluna"
      ],
      "execution_count": 11,
      "outputs": [
        {
          "output_type": "execute_result",
          "data": {
            "text/plain": [
              "Time      0\n",
              "V1        0\n",
              "V2        0\n",
              "V3        0\n",
              "V4        0\n",
              "V5        0\n",
              "V6        0\n",
              "V7        0\n",
              "V8        0\n",
              "V9        0\n",
              "V10       0\n",
              "V11       0\n",
              "V12       0\n",
              "V13       0\n",
              "V14       0\n",
              "V15       0\n",
              "V16       0\n",
              "V17       0\n",
              "V18       0\n",
              "V19       0\n",
              "V20       0\n",
              "V21       0\n",
              "V22       0\n",
              "V23       0\n",
              "V24       0\n",
              "V25       0\n",
              "V26       0\n",
              "V27       0\n",
              "V28       0\n",
              "Amount    0\n",
              "Class     0\n",
              "dtype: int64"
            ]
          },
          "metadata": {
            "tags": []
          },
          "execution_count": 11
        }
      ]
    },
    {
      "cell_type": "code",
      "metadata": {
        "id": "Hbefa16gmScL",
        "outputId": "a93194cc-ed10-46e3-d083-9a8df17df18b",
        "colab": {
          "base_uri": "https://localhost:8080/",
          "height": 34
        }
      },
      "source": [
        "dados.isna().sum().sum() # traz o total de nulos  no dataset"
      ],
      "execution_count": 12,
      "outputs": [
        {
          "output_type": "execute_result",
          "data": {
            "text/plain": [
              "0"
            ]
          },
          "metadata": {
            "tags": []
          },
          "execution_count": 12
        }
      ]
    },
    {
      "cell_type": "markdown",
      "metadata": {
        "id": "rEyWefJphS9k"
      },
      "source": [
        "# DISTRIBUIÇÃO DE CLASSE"
      ]
    },
    {
      "cell_type": "code",
      "metadata": {
        "id": "GepkLwlLhWTo",
        "outputId": "ee395a2a-932c-48c8-9703-4336b9f1dec7",
        "colab": {
          "base_uri": "https://localhost:8080/",
          "height": 68
        }
      },
      "source": [
        "#numérica\n",
        "dados.Class.value_counts()"
      ],
      "execution_count": 14,
      "outputs": [
        {
          "output_type": "execute_result",
          "data": {
            "text/plain": [
              "0    284315\n",
              "1       492\n",
              "Name: Class, dtype: int64"
            ]
          },
          "metadata": {
            "tags": []
          },
          "execution_count": 14
        }
      ]
    },
    {
      "cell_type": "code",
      "metadata": {
        "id": "bF06lveTmcnf",
        "outputId": "5ff51e39-b5db-4491-a4c0-5c45667b3181",
        "colab": {
          "base_uri": "https://localhost:8080/",
          "height": 68
        }
      },
      "source": [
        "#porcentagem\n",
        "dados.Class.value_counts(normalize=True)*100"
      ],
      "execution_count": 15,
      "outputs": [
        {
          "output_type": "execute_result",
          "data": {
            "text/plain": [
              "0    99.827251\n",
              "1     0.172749\n",
              "Name: Class, dtype: float64"
            ]
          },
          "metadata": {
            "tags": []
          },
          "execution_count": 15
        }
      ]
    },
    {
      "cell_type": "code",
      "metadata": {
        "id": "xCs6VAF0mcyy",
        "outputId": "9746cdd5-3a05-4221-df4d-5cda19938b8c",
        "colab": {
          "base_uri": "https://localhost:8080/",
          "height": 497
        }
      },
      "source": [
        "#visual\n",
        "plt.figure(figsize=(15,8))\n",
        "sns.countplot(dados.Class);\n",
        "#plt.show()"
      ],
      "execution_count": 18,
      "outputs": [
        {
          "output_type": "display_data",
          "data": {
            "image/png": "[encoded data removed]",
            "text/plain": [
              "<Figure size 1080x576 with 1 Axes>"
            ]
          },
          "metadata": {
            "tags": [],
            "needs_background": "light"
          }
        }
      ]
    },
    {
      "cell_type": "markdown",
      "metadata": {
        "id": "sL3PmHgkhYT5"
      },
      "source": [
        "# DIVIDIR ENTRE TREINO E TESTE"
      ]
    },
    {
      "cell_type": "code",
      "metadata": {
        "id": "7M4v4WxwhdQA"
      },
      "source": [
        "#importar o train test split\n",
        "from sklearn.model_selection import train_test_split"
      ],
      "execution_count": 20,
      "outputs": []
    },
    {
      "cell_type": "code",
      "metadata": {
        "id": "wrGP55YEpNHa"
      },
      "source": [
        "X = dados.drop('Class', axis=1) #todas as variáveis menos a coluna Class\n",
        "y = dados.Class #só a coluna Class"
      ],
      "execution_count": 21,
      "outputs": []
    },
    {
      "cell_type": "code",
      "metadata": {
        "id": "4VzdrEF_pNOJ",
        "outputId": "d799e86f-f38a-4264-d021-9d37a4601392",
        "colab": {
          "base_uri": "https://localhost:8080/",
          "height": 223
        }
      },
      "source": [
        "X.head()"
      ],
      "execution_count": 22,
      "outputs": [
        {
          "output_type": "execute_result",
          "data": {
            "text/html": [
              "<div>\n",
              "<style scoped>\n",
              "    .dataframe tbody tr th:only-of-type {\n",
              "        vertical-align: middle;\n",
              "    }\n",
              "\n",
              "    .dataframe tbody tr th {\n",
              "        vertical-align: top;\n",
              "    }\n",
              "\n",
              "    .dataframe thead th {\n",
              "        text-align: right;\n",
              "    }\n",
              "</style>\n",
              "<table border=\"1\" class=\"dataframe\">\n",
              "  <thead>\n",
              "    <tr style=\"text-align: right;\">\n",
              "      <th></th>\n",
              "      <th>Time</th>\n",
              "      <th>V1</th>\n",
              "      <th>V2</th>\n",
              "      <th>V3</th>\n",
              "      <th>V4</th>\n",
              "      <th>V5</th>\n",
              "      <th>V6</th>\n",
              "      <th>V7</th>\n",
              "      <th>V8</th>\n",
              "      <th>V9</th>\n",
              "      <th>V10</th>\n",
              "      <th>V11</th>\n",
              "      <th>V12</th>\n",
              "      <th>V13</th>\n",
              "      <th>V14</th>\n",
              "      <th>V15</th>\n",
              "      <th>V16</th>\n",
              "      <th>V17</th>\n",
              "      <th>V18</th>\n",
              "      <th>V19</th>\n",
              "      <th>V20</th>\n",
              "      <th>V21</th>\n",
              "      <th>V22</th>\n",
              "      <th>V23</th>\n",
              "      <th>V24</th>\n",
              "      <th>V25</th>\n",
              "      <th>V26</th>\n",
              "      <th>V27</th>\n",
              "      <th>V28</th>\n",
              "      <th>Amount</th>\n",
              "    </tr>\n",
              "  </thead>\n",
              "  <tbody>\n",
              "    <tr>\n",
              "      <th>0</th>\n",
              "      <td>0.0</td>\n",
              "      <td>-1.359807</td>\n",
              "      <td>-0.072781</td>\n",
              "      <td>2.536347</td>\n",
              "      <td>1.378155</td>\n",
              "      <td>-0.338321</td>\n",
              "      <td>0.462388</td>\n",
              "      <td>0.239599</td>\n",
              "      <td>0.098698</td>\n",
              "      <td>0.363787</td>\n",
              "      <td>0.090794</td>\n",
              "      <td>-0.551600</td>\n",
              "      <td>-0.617801</td>\n",
              "      <td>-0.991390</td>\n",
              "      <td>-0.311169</td>\n",
              "      <td>1.468177</td>\n",
              "      <td>-0.470401</td>\n",
              "      <td>0.207971</td>\n",
              "      <td>0.025791</td>\n",
              "      <td>0.403993</td>\n",
              "      <td>0.251412</td>\n",
              "      <td>-0.018307</td>\n",
              "      <td>0.277838</td>\n",
              "      <td>-0.110474</td>\n",
              "      <td>0.066928</td>\n",
              "      <td>0.128539</td>\n",
              "      <td>-0.189115</td>\n",
              "      <td>0.133558</td>\n",
              "      <td>-0.021053</td>\n",
              "      <td>149.62</td>\n",
              "    </tr>\n",
              "    <tr>\n",
              "      <th>1</th>\n",
              "      <td>0.0</td>\n",
              "      <td>1.191857</td>\n",
              "      <td>0.266151</td>\n",
              "      <td>0.166480</td>\n",
              "      <td>0.448154</td>\n",
              "      <td>0.060018</td>\n",
              "      <td>-0.082361</td>\n",
              "      <td>-0.078803</td>\n",
              "      <td>0.085102</td>\n",
              "      <td>-0.255425</td>\n",
              "      <td>-0.166974</td>\n",
              "      <td>1.612727</td>\n",
              "      <td>1.065235</td>\n",
              "      <td>0.489095</td>\n",
              "      <td>-0.143772</td>\n",
              "      <td>0.635558</td>\n",
              "      <td>0.463917</td>\n",
              "      <td>-0.114805</td>\n",
              "      <td>-0.183361</td>\n",
              "      <td>-0.145783</td>\n",
              "      <td>-0.069083</td>\n",
              "      <td>-0.225775</td>\n",
              "      <td>-0.638672</td>\n",
              "      <td>0.101288</td>\n",
              "      <td>-0.339846</td>\n",
              "      <td>0.167170</td>\n",
              "      <td>0.125895</td>\n",
              "      <td>-0.008983</td>\n",
              "      <td>0.014724</td>\n",
              "      <td>2.69</td>\n",
              "    </tr>\n",
              "    <tr>\n",
              "      <th>2</th>\n",
              "      <td>1.0</td>\n",
              "      <td>-1.358354</td>\n",
              "      <td>-1.340163</td>\n",
              "      <td>1.773209</td>\n",
              "      <td>0.379780</td>\n",
              "      <td>-0.503198</td>\n",
              "      <td>1.800499</td>\n",
              "      <td>0.791461</td>\n",
              "      <td>0.247676</td>\n",
              "      <td>-1.514654</td>\n",
              "      <td>0.207643</td>\n",
              "      <td>0.624501</td>\n",
              "      <td>0.066084</td>\n",
              "      <td>0.717293</td>\n",
              "      <td>-0.165946</td>\n",
              "      <td>2.345865</td>\n",
              "      <td>-2.890083</td>\n",
              "      <td>1.109969</td>\n",
              "      <td>-0.121359</td>\n",
              "      <td>-2.261857</td>\n",
              "      <td>0.524980</td>\n",
              "      <td>0.247998</td>\n",
              "      <td>0.771679</td>\n",
              "      <td>0.909412</td>\n",
              "      <td>-0.689281</td>\n",
              "      <td>-0.327642</td>\n",
              "      <td>-0.139097</td>\n",
              "      <td>-0.055353</td>\n",
              "      <td>-0.059752</td>\n",
              "      <td>378.66</td>\n",
              "    </tr>\n",
              "    <tr>\n",
              "      <th>3</th>\n",
              "      <td>1.0</td>\n",
              "      <td>-0.966272</td>\n",
              "      <td>-0.185226</td>\n",
              "      <td>1.792993</td>\n",
              "      <td>-0.863291</td>\n",
              "      <td>-0.010309</td>\n",
              "      <td>1.247203</td>\n",
              "      <td>0.237609</td>\n",
              "      <td>0.377436</td>\n",
              "      <td>-1.387024</td>\n",
              "      <td>-0.054952</td>\n",
              "      <td>-0.226487</td>\n",
              "      <td>0.178228</td>\n",
              "      <td>0.507757</td>\n",
              "      <td>-0.287924</td>\n",
              "      <td>-0.631418</td>\n",
              "      <td>-1.059647</td>\n",
              "      <td>-0.684093</td>\n",
              "      <td>1.965775</td>\n",
              "      <td>-1.232622</td>\n",
              "      <td>-0.208038</td>\n",
              "      <td>-0.108300</td>\n",
              "      <td>0.005274</td>\n",
              "      <td>-0.190321</td>\n",
              "      <td>-1.175575</td>\n",
              "      <td>0.647376</td>\n",
              "      <td>-0.221929</td>\n",
              "      <td>0.062723</td>\n",
              "      <td>0.061458</td>\n",
              "      <td>123.50</td>\n",
              "    </tr>\n",
              "    <tr>\n",
              "      <th>4</th>\n",
              "      <td>2.0</td>\n",
              "      <td>-1.158233</td>\n",
              "      <td>0.877737</td>\n",
              "      <td>1.548718</td>\n",
              "      <td>0.403034</td>\n",
              "      <td>-0.407193</td>\n",
              "      <td>0.095921</td>\n",
              "      <td>0.592941</td>\n",
              "      <td>-0.270533</td>\n",
              "      <td>0.817739</td>\n",
              "      <td>0.753074</td>\n",
              "      <td>-0.822843</td>\n",
              "      <td>0.538196</td>\n",
              "      <td>1.345852</td>\n",
              "      <td>-1.119670</td>\n",
              "      <td>0.175121</td>\n",
              "      <td>-0.451449</td>\n",
              "      <td>-0.237033</td>\n",
              "      <td>-0.038195</td>\n",
              "      <td>0.803487</td>\n",
              "      <td>0.408542</td>\n",
              "      <td>-0.009431</td>\n",
              "      <td>0.798278</td>\n",
              "      <td>-0.137458</td>\n",
              "      <td>0.141267</td>\n",
              "      <td>-0.206010</td>\n",
              "      <td>0.502292</td>\n",
              "      <td>0.219422</td>\n",
              "      <td>0.215153</td>\n",
              "      <td>69.99</td>\n",
              "    </tr>\n",
              "  </tbody>\n",
              "</table>\n",
              "</div>"
            ],
            "text/plain": [
              "   Time        V1        V2        V3  ...       V26       V27       V28  Amount\n",
              "0   0.0 -1.359807 -0.072781  2.536347  ... -0.189115  0.133558 -0.021053  149.62\n",
              "1   0.0  1.191857  0.266151  0.166480  ...  0.125895 -0.008983  0.014724    2.69\n",
              "2   1.0 -1.358354 -1.340163  1.773209  ... -0.139097 -0.055353 -0.059752  378.66\n",
              "3   1.0 -0.966272 -0.185226  1.792993  ... -0.221929  0.062723  0.061458  123.50\n",
              "4   2.0 -1.158233  0.877737  1.548718  ...  0.502292  0.219422  0.215153   69.99\n",
              "\n",
              "[5 rows x 30 columns]"
            ]
          },
          "metadata": {
            "tags": []
          },
          "execution_count": 22
        }
      ]
    },
    {
      "cell_type": "code",
      "metadata": {
        "id": "xqWFrVJApNLN",
        "outputId": "c3d767c5-c2c3-4ea2-c688-6bfab1ed2bea",
        "colab": {
          "base_uri": "https://localhost:8080/",
          "height": 120
        }
      },
      "source": [
        "y.head()"
      ],
      "execution_count": 23,
      "outputs": [
        {
          "output_type": "execute_result",
          "data": {
            "text/plain": [
              "0    0\n",
              "1    0\n",
              "2    0\n",
              "3    0\n",
              "4    0\n",
              "Name: Class, dtype: int64"
            ]
          },
          "metadata": {
            "tags": []
          },
          "execution_count": 23
        }
      ]
    },
    {
      "cell_type": "code",
      "metadata": {
        "id": "hI3tFI5IqFxj"
      },
      "source": [
        "#dividiu os dados de treino e teste\n",
        "X_train, X_test, y_train, y_test = train_test_split(X,y, test_size=0.3, random_state=7, stratify=y)"
      ],
      "execution_count": 25,
      "outputs": []
    },
    {
      "cell_type": "code",
      "metadata": {
        "id": "5QDrX-hQqnPs",
        "outputId": "5e385012-75bb-4bd9-f9b5-52701c019463",
        "colab": {
          "base_uri": "https://localhost:8080/",
          "height": 68
        }
      },
      "source": [
        "#proporção de 0 e 1 no y_train\n",
        "y_train.value_counts(normalize=True)*100"
      ],
      "execution_count": 26,
      "outputs": [
        {
          "output_type": "execute_result",
          "data": {
            "text/plain": [
              "0    99.827451\n",
              "1     0.172549\n",
              "Name: Class, dtype: float64"
            ]
          },
          "metadata": {
            "tags": []
          },
          "execution_count": 26
        }
      ]
    },
    {
      "cell_type": "code",
      "metadata": {
        "id": "pzNx8Jkcqnen",
        "outputId": "c8b601bd-5247-49eb-d3fb-c608cfca744b",
        "colab": {
          "base_uri": "https://localhost:8080/",
          "height": 68
        }
      },
      "source": [
        "#proporção de 0 e 1 no y_test\n",
        "y_test.value_counts(normalize=True)*100"
      ],
      "execution_count": 27,
      "outputs": [
        {
          "output_type": "execute_result",
          "data": {
            "text/plain": [
              "0    99.826785\n",
              "1     0.173215\n",
              "Name: Class, dtype: float64"
            ]
          },
          "metadata": {
            "tags": []
          },
          "execution_count": 27
        }
      ]
    },
    {
      "cell_type": "markdown",
      "metadata": {
        "id": "3GTowNRXheeG"
      },
      "source": [
        "# MODELO ANTES DO BALANCEAMENTO"
      ]
    },
    {
      "cell_type": "code",
      "metadata": {
        "id": "i-97Pckthih6"
      },
      "source": [
        "#criar o modelo\n",
        "modelo_v1 = DecisionTreeClassifier(criterion='entropy')"
      ],
      "execution_count": 28,
      "outputs": []
    },
    {
      "cell_type": "code",
      "metadata": {
        "id": "xugYFJ54rM2d",
        "outputId": "9c001b2f-336c-4fef-bece-793aeacddbe6",
        "colab": {
          "base_uri": "https://localhost:8080/",
          "height": 120
        }
      },
      "source": [
        "#ajusta o modelo aos dados\n",
        "modelo_v1.fit(X_train, y_train)"
      ],
      "execution_count": 29,
      "outputs": [
        {
          "output_type": "execute_result",
          "data": {
            "text/plain": [
              "DecisionTreeClassifier(ccp_alpha=0.0, class_weight=None, criterion='entropy',\n",
              "                       max_depth=None, max_features=None, max_leaf_nodes=None,\n",
              "                       min_impurity_decrease=0.0, min_impurity_split=None,\n",
              "                       min_samples_leaf=1, min_samples_split=2,\n",
              "                       min_weight_fraction_leaf=0.0, presort='deprecated',\n",
              "                       random_state=None, splitter='best')"
            ]
          },
          "metadata": {
            "tags": []
          },
          "execution_count": 29
        }
      ]
    },
    {
      "cell_type": "code",
      "metadata": {
        "id": "yk6g-PgqrNAf"
      },
      "source": [
        "#primeira previsão\n",
        "y_pred_1 = modelo_v1.predict(X_test)"
      ],
      "execution_count": 30,
      "outputs": []
    },
    {
      "cell_type": "markdown",
      "metadata": {
        "id": "JqQ3XuqKsHig"
      },
      "source": [
        "### Avaliando o modelo antes do balanceamento"
      ]
    },
    {
      "cell_type": "code",
      "metadata": {
        "id": "SMcP9UTgsMxM",
        "outputId": "a8c1429e-1e93-4e4a-cc17-8e1c47a9bece",
        "colab": {
          "base_uri": "https://localhost:8080/",
          "height": 51
        }
      },
      "source": [
        "#visualizando a matriz de confusão\n",
        "confusion_matrix(y_test,y_pred_1)"
      ],
      "execution_count": 31,
      "outputs": [
        {
          "output_type": "execute_result",
          "data": {
            "text/plain": [
              "array([[85268,    27],\n",
              "       [   39,   109]])"
            ]
          },
          "metadata": {
            "tags": []
          },
          "execution_count": 31
        }
      ]
    },
    {
      "cell_type": "code",
      "metadata": {
        "id": "l03Q-_UosM0x",
        "outputId": "13c072e3-2a6f-4752-9956-e23838db1bd5",
        "colab": {
          "base_uri": "https://localhost:8080/",
          "height": 171
        }
      },
      "source": [
        "#vendo o classification report\n",
        "print(classification_report(y_test, y_pred_1))"
      ],
      "execution_count": 33,
      "outputs": [
        {
          "output_type": "stream",
          "text": [
            "              precision    recall  f1-score   support\n",
            "\n",
            "           0       1.00      1.00      1.00     85295\n",
            "           1       0.80      0.74      0.77       148\n",
            "\n",
            "    accuracy                           1.00     85443\n",
            "   macro avg       0.90      0.87      0.88     85443\n",
            "weighted avg       1.00      1.00      1.00     85443\n",
            "\n"
          ],
          "name": "stdout"
        }
      ]
    },
    {
      "cell_type": "code",
      "metadata": {
        "id": "nhhRtlVgun7c",
        "outputId": "e1b6b87c-dc03-4ca3-ccd6-c493c3dbf8d3",
        "colab": {
          "base_uri": "https://localhost:8080/",
          "height": 34
        }
      },
      "source": [
        "#vendo a acurácia\n",
        "accuracy_score(y_test, y_pred_1)*100"
      ],
      "execution_count": 41,
      "outputs": [
        {
          "output_type": "execute_result",
          "data": {
            "text/plain": [
              "99.92275552122467"
            ]
          },
          "metadata": {
            "tags": []
          },
          "execution_count": 41
        }
      ]
    },
    {
      "cell_type": "code",
      "metadata": {
        "id": "X9XQuH2xsNjN",
        "outputId": "4e18a4d9-c28b-4622-e82d-c0d804759d81",
        "colab": {
          "base_uri": "https://localhost:8080/",
          "height": 483
        }
      },
      "source": [
        "#vendo a Área sob a Curva antes do balanceamento\n",
        "from sklearn.metrics import roc_curve\n",
        "fpr, tpr, _ = roc_curve(y_test,  y_pred_1)\n",
        "auc = roc_auc_score(y_test, y_pred_1)\n",
        "plt.figure(figsize=(15,8))\n",
        "plt.plot(fpr,tpr,label=\"data 1, auc=\"+str(auc))\n",
        "plt.legend(loc=4)\n",
        "plt.show()"
      ],
      "execution_count": 39,
      "outputs": [
        {
          "output_type": "display_data",
          "data": {
            "image/png": "[encoded data removed]",
            "text/plain": [
              "<Figure size 1080x576 with 1 Axes>"
            ]
          },
          "metadata": {
            "tags": [],
            "needs_background": "light"
          }
        }
      ]
    },
    {
      "cell_type": "markdown",
      "metadata": {
        "id": "HG30qsrivPhr"
      },
      "source": [
        "### Usar o balanceamento no modelo (class_weight)"
      ]
    },
    {
      "cell_type": "code",
      "metadata": {
        "id": "0hAvnPP0sM45"
      },
      "source": [
        "#novo modelo\n",
        "modelo_v2 = DecisionTreeClassifier(criterion='entropy', class_weight='balanced',)"
      ],
      "execution_count": 43,
      "outputs": []
    },
    {
      "cell_type": "code",
      "metadata": {
        "id": "A_bEbFCrwIIj",
        "outputId": "456c854a-2218-4846-cd38-0949debb2296",
        "colab": {
          "base_uri": "https://localhost:8080/",
          "height": 137
        }
      },
      "source": [
        "#ajustando aos dados de treino\n",
        "modelo_v2.fit(X_train,y_train)"
      ],
      "execution_count": 44,
      "outputs": [
        {
          "output_type": "execute_result",
          "data": {
            "text/plain": [
              "DecisionTreeClassifier(ccp_alpha=0.0, class_weight='balanced',\n",
              "                       criterion='entropy', max_depth=None, max_features=None,\n",
              "                       max_leaf_nodes=None, min_impurity_decrease=0.0,\n",
              "                       min_impurity_split=None, min_samples_leaf=1,\n",
              "                       min_samples_split=2, min_weight_fraction_leaf=0.0,\n",
              "                       presort='deprecated', random_state=None,\n",
              "                       splitter='best')"
            ]
          },
          "metadata": {
            "tags": []
          },
          "execution_count": 44
        }
      ]
    },
    {
      "cell_type": "code",
      "metadata": {
        "id": "y606S0jjwINo"
      },
      "source": [
        "#novas predições\n",
        "y_pred_2 = modelo_v2.predict(X_test)"
      ],
      "execution_count": 45,
      "outputs": []
    },
    {
      "cell_type": "markdown",
      "metadata": {
        "id": "fEx_XS8wwTxY"
      },
      "source": [
        "#### Avaliação 2"
      ]
    },
    {
      "cell_type": "code",
      "metadata": {
        "id": "l_Z_m-ZowV8S",
        "outputId": "6b289583-f219-47be-987d-14fa4429db0f",
        "colab": {
          "base_uri": "https://localhost:8080/",
          "height": 51
        }
      },
      "source": [
        "#visualizando a matriz de confusão\n",
        "confusion_matrix(y_test,y_pred_2)"
      ],
      "execution_count": 46,
      "outputs": [
        {
          "output_type": "execute_result",
          "data": {
            "text/plain": [
              "array([[85266,    29],\n",
              "       [   42,   106]])"
            ]
          },
          "metadata": {
            "tags": []
          },
          "execution_count": 46
        }
      ]
    },
    {
      "cell_type": "code",
      "metadata": {
        "id": "8q4N_QxOwWF_",
        "outputId": "9206b905-1574-4b1a-933f-7aea3603c320",
        "colab": {
          "base_uri": "https://localhost:8080/",
          "height": 171
        }
      },
      "source": [
        "#vendo o classification report\n",
        "print(classification_report(y_test, y_pred_2))"
      ],
      "execution_count": 48,
      "outputs": [
        {
          "output_type": "stream",
          "text": [
            "              precision    recall  f1-score   support\n",
            "\n",
            "           0       1.00      1.00      1.00     85295\n",
            "           1       0.79      0.72      0.75       148\n",
            "\n",
            "    accuracy                           1.00     85443\n",
            "   macro avg       0.89      0.86      0.87     85443\n",
            "weighted avg       1.00      1.00      1.00     85443\n",
            "\n"
          ],
          "name": "stdout"
        }
      ]
    },
    {
      "cell_type": "code",
      "metadata": {
        "id": "6TrP66y7wWDJ",
        "outputId": "152aedcd-710f-4252-b6ed-03a0243650b4",
        "colab": {
          "base_uri": "https://localhost:8080/",
          "height": 34
        }
      },
      "source": [
        "#vendo a acurácia\n",
        "accuracy_score(y_test, y_pred_2)*100"
      ],
      "execution_count": 49,
      "outputs": [
        {
          "output_type": "execute_result",
          "data": {
            "text/plain": [
              "99.916903666772"
            ]
          },
          "metadata": {
            "tags": []
          },
          "execution_count": 49
        }
      ]
    },
    {
      "cell_type": "code",
      "metadata": {
        "id": "wnkG4Rl2wWAo",
        "outputId": "b1e0a144-8df5-4881-945b-e0de20ee5d8a",
        "colab": {
          "base_uri": "https://localhost:8080/",
          "height": 483
        }
      },
      "source": [
        "#vendo a Área sob a Curva usando o class_weight\n",
        "from sklearn.metrics import roc_curve\n",
        "fpr, tpr, _ = roc_curve(y_test,  y_pred_2)\n",
        "auc = roc_auc_score(y_test, y_pred_2)\n",
        "plt.figure(figsize=(15,8))\n",
        "plt.plot(fpr,tpr,label=\"data 1, auc=\"+str(auc))\n",
        "plt.legend(loc=4)\n",
        "plt.show()"
      ],
      "execution_count": 50,
      "outputs": [
        {
          "output_type": "display_data",
          "data": {
            "image/png": "[encoded data removed]",
            "text/plain": [
              "<Figure size 1080x576 with 1 Axes>"
            ]
          },
          "metadata": {
            "tags": [],
            "needs_background": "light"
          }
        }
      ]
    },
    {
      "cell_type": "markdown",
      "metadata": {
        "id": "4KqBufOWhjer"
      },
      "source": [
        "# BALANCEAMENTO DA CLASSE ALVO"
      ]
    },
    {
      "cell_type": "code",
      "metadata": {
        "id": "vCqZ-qsrhr7w"
      },
      "source": [
        "#criando o over sampler\n",
        "ROSE = RandomOverSampler(random_state=1)"
      ],
      "execution_count": 52,
      "outputs": []
    },
    {
      "cell_type": "code",
      "metadata": {
        "id": "zEuk-GqPxZnb",
        "outputId": "aac194d3-4b43-483a-e733-5e753c1272b9",
        "colab": {
          "base_uri": "https://localhost:8080/",
          "height": 71
        }
      },
      "source": [
        "X_train_o, y_train_o = ROSE.fit_resample(X_train, y_train)"
      ],
      "execution_count": 53,
      "outputs": [
        {
          "output_type": "stream",
          "text": [
            "/usr/local/lib/python3.6/dist-packages/sklearn/utils/deprecation.py:87: FutureWarning: Function safe_indexing is deprecated; safe_indexing is deprecated in version 0.22 and will be removed in version 0.24.\n",
            "  warnings.warn(msg, category=FutureWarning)\n"
          ],
          "name": "stderr"
        }
      ]
    },
    {
      "cell_type": "code",
      "metadata": {
        "id": "voV020CwxmAL",
        "outputId": "d6f17ec8-eeae-4eea-ef47-e057a8fbe288",
        "colab": {
          "base_uri": "https://localhost:8080/",
          "height": 34
        }
      },
      "source": [
        "#ver a proporção entre as classes no novo y - que é um numpy array\n",
        "unique, counts = np.unique(y_train_o, return_counts=True)\n",
        "dict(zip(unique, counts))"
      ],
      "execution_count": 56,
      "outputs": [
        {
          "output_type": "execute_result",
          "data": {
            "text/plain": [
              "{0: 199020, 1: 199020}"
            ]
          },
          "metadata": {
            "tags": []
          },
          "execution_count": 56
        }
      ]
    },
    {
      "cell_type": "code",
      "metadata": {
        "id": "VqLJqSSNxmIY",
        "outputId": "9296ca21-8fca-4766-ee8f-371161500aa4",
        "colab": {
          "base_uri": "https://localhost:8080/",
          "height": 71
        }
      },
      "source": [
        "#balancear os dados de teste\n",
        "X_test_o, y_test_o = ROSE.fit_resample(X_test, y_test)"
      ],
      "execution_count": 57,
      "outputs": [
        {
          "output_type": "stream",
          "text": [
            "/usr/local/lib/python3.6/dist-packages/sklearn/utils/deprecation.py:87: FutureWarning: Function safe_indexing is deprecated; safe_indexing is deprecated in version 0.22 and will be removed in version 0.24.\n",
            "  warnings.warn(msg, category=FutureWarning)\n"
          ],
          "name": "stderr"
        }
      ]
    },
    {
      "cell_type": "code",
      "metadata": {
        "id": "-E30DXqBxmM-",
        "outputId": "e69ff13f-e141-4920-c289-b5d77f639e8c",
        "colab": {
          "base_uri": "https://localhost:8080/",
          "height": 34
        }
      },
      "source": [
        "#ver a proporção entre as classes no novo y - que é um numpy array\n",
        "unique, counts = np.unique(y_test_o, return_counts=True)\n",
        "dict(zip(unique, counts))"
      ],
      "execution_count": 59,
      "outputs": [
        {
          "output_type": "execute_result",
          "data": {
            "text/plain": [
              "{0: 85295, 1: 85295}"
            ]
          },
          "metadata": {
            "tags": []
          },
          "execution_count": 59
        }
      ]
    },
    {
      "cell_type": "markdown",
      "metadata": {
        "id": "c5gKzaLIhs8A"
      },
      "source": [
        "# MODELO PÓS BALANCEAMENTO"
      ]
    },
    {
      "cell_type": "code",
      "metadata": {
        "id": "2yzk0ytBhyTq"
      },
      "source": [
        "#criando o novo modelo\n",
        "modelo_v3 = DecisionTreeClassifier(criterion='entropy')"
      ],
      "execution_count": 61,
      "outputs": []
    },
    {
      "cell_type": "code",
      "metadata": {
        "id": "PRO3ogcFy47n",
        "outputId": "34beec82-ec51-40d6-96b3-f7d74f1deee7",
        "colab": {
          "base_uri": "https://localhost:8080/",
          "height": 120
        }
      },
      "source": [
        "#ajustando o modelo aos dados balanceados\n",
        "modelo_v3.fit(X_train_o,y_train_o)"
      ],
      "execution_count": 62,
      "outputs": [
        {
          "output_type": "execute_result",
          "data": {
            "text/plain": [
              "DecisionTreeClassifier(ccp_alpha=0.0, class_weight=None, criterion='entropy',\n",
              "                       max_depth=None, max_features=None, max_leaf_nodes=None,\n",
              "                       min_impurity_decrease=0.0, min_impurity_split=None,\n",
              "                       min_samples_leaf=1, min_samples_split=2,\n",
              "                       min_weight_fraction_leaf=0.0, presort='deprecated',\n",
              "                       random_state=None, splitter='best')"
            ]
          },
          "metadata": {
            "tags": []
          },
          "execution_count": 62
        }
      ]
    },
    {
      "cell_type": "code",
      "metadata": {
        "id": "l_DykUNXzh-v"
      },
      "source": [
        "#predizendo os dados de teste não balanceados\n",
        "y_pred_3 = modelo_v3.predict(X_test)"
      ],
      "execution_count": 64,
      "outputs": []
    },
    {
      "cell_type": "code",
      "metadata": {
        "id": "qibtExXuzrvt"
      },
      "source": [
        "#predizendo os dados do teste balanceado\n",
        "y_pred_4 = modelo_v3.predict(X_test_o)"
      ],
      "execution_count": 65,
      "outputs": []
    },
    {
      "cell_type": "markdown",
      "metadata": {
        "id": "KiiMBwXmz6B2"
      },
      "source": [
        "### Avaliando o modelo após o balanceamento - Teste balanceado (y_pred_4)"
      ]
    },
    {
      "cell_type": "code",
      "metadata": {
        "id": "V-nqgBKFz4Nh",
        "outputId": "2a9d135f-d75a-4ef2-bec6-64424d2c76a7",
        "colab": {
          "base_uri": "https://localhost:8080/",
          "height": 51
        }
      },
      "source": [
        "#visualizando a matriz de confusão\n",
        "confusion_matrix(y_test_o,y_pred_4)"
      ],
      "execution_count": 67,
      "outputs": [
        {
          "output_type": "execute_result",
          "data": {
            "text/plain": [
              "array([[85261,    34],\n",
              "       [26343, 58952]])"
            ]
          },
          "metadata": {
            "tags": []
          },
          "execution_count": 67
        }
      ]
    },
    {
      "cell_type": "code",
      "metadata": {
        "id": "wCDX1c5h0KJd",
        "outputId": "3a9ae80a-f427-48c7-cf5f-222c850dbb8f",
        "colab": {
          "base_uri": "https://localhost:8080/",
          "height": 171
        }
      },
      "source": [
        "#vendo o classification report\n",
        "print(classification_report(y_test_o, y_pred_4))"
      ],
      "execution_count": 68,
      "outputs": [
        {
          "output_type": "stream",
          "text": [
            "              precision    recall  f1-score   support\n",
            "\n",
            "           0       0.76      1.00      0.87     85295\n",
            "           1       1.00      0.69      0.82     85295\n",
            "\n",
            "    accuracy                           0.85    170590\n",
            "   macro avg       0.88      0.85      0.84    170590\n",
            "weighted avg       0.88      0.85      0.84    170590\n",
            "\n"
          ],
          "name": "stdout"
        }
      ]
    },
    {
      "cell_type": "code",
      "metadata": {
        "id": "TWts9HNi0KOd",
        "outputId": "3dd1bb91-2542-488e-89d8-3009ff0bed27",
        "colab": {
          "base_uri": "https://localhost:8080/",
          "height": 34
        }
      },
      "source": [
        "#vendo a acurácia\n",
        "accuracy_score(y_test_o, y_pred_4)*100"
      ],
      "execution_count": 69,
      "outputs": [
        {
          "output_type": "execute_result",
          "data": {
            "text/plain": [
              "84.53778064364852"
            ]
          },
          "metadata": {
            "tags": []
          },
          "execution_count": 69
        }
      ]
    },
    {
      "cell_type": "code",
      "metadata": {
        "id": "bKNBjw2V0KTm",
        "outputId": "564dd8d2-b58d-47e5-8b85-c97afc890b42",
        "colab": {
          "base_uri": "https://localhost:8080/",
          "height": 376
        }
      },
      "source": [
        "#vendo a Área sob a Curva usando o class_weight\n",
        "from sklearn.metrics import roc_curve\n",
        "fpr, tpr, _ = roc_curve(y_test_o,  y_pred_4)\n",
        "auc = roc_auc_score(y_test_o, y_pred_4)\n",
        "plt.figure(figsize=(15,8))\n",
        "plt.plot(fpr,tpr,label=\"data 1, auc=\"+str(auc))\n",
        "plt.legend(loc=4)\n",
        "plt.show()"
      ],
      "execution_count": 70,
      "outputs": [
        {
          "output_type": "display_data",
          "data": {
            "image/png": "[encoded data removed]",
            "text/plain": [
              "<Figure size 1080x576 with 1 Axes>"
            ]
          },
          "metadata": {
            "tags": [],
            "needs_background": "light"
          }
        }
      ]
    },
    {
      "cell_type": "markdown",
      "metadata": {
        "id": "mK2MVKiO0ByM"
      },
      "source": [
        "### Avaliando o modelo após o balanceamento  - Teste original (y_pred_3)"
      ]
    },
    {
      "cell_type": "code",
      "metadata": {
        "id": "aztVgbi50IfD",
        "outputId": "3e2c41eb-db6d-4484-b5fa-1c057be6bd2a",
        "colab": {
          "base_uri": "https://localhost:8080/",
          "height": 51
        }
      },
      "source": [
        "#visualizando a matriz de confusão\n",
        "confusion_matrix(y_test,y_pred_3)"
      ],
      "execution_count": 71,
      "outputs": [
        {
          "output_type": "execute_result",
          "data": {
            "text/plain": [
              "array([[85261,    34],\n",
              "       [   46,   102]])"
            ]
          },
          "metadata": {
            "tags": []
          },
          "execution_count": 71
        }
      ]
    },
    {
      "cell_type": "code",
      "metadata": {
        "id": "viMf77xA0LoF",
        "outputId": "0a47ea33-0b0c-48f3-8ee0-4fc4336b300b",
        "colab": {
          "base_uri": "https://localhost:8080/",
          "height": 171
        }
      },
      "source": [
        "#vendo o classification report\n",
        "print(classification_report(y_test, y_pred_3))"
      ],
      "execution_count": 72,
      "outputs": [
        {
          "output_type": "stream",
          "text": [
            "              precision    recall  f1-score   support\n",
            "\n",
            "           0       1.00      1.00      1.00     85295\n",
            "           1       0.75      0.69      0.72       148\n",
            "\n",
            "    accuracy                           1.00     85443\n",
            "   macro avg       0.87      0.84      0.86     85443\n",
            "weighted avg       1.00      1.00      1.00     85443\n",
            "\n"
          ],
          "name": "stdout"
        }
      ]
    },
    {
      "cell_type": "code",
      "metadata": {
        "id": "hh5rni890Lvm",
        "outputId": "15ebd5a9-68a8-475d-d961-3b1000306a97",
        "colab": {
          "base_uri": "https://localhost:8080/",
          "height": 34
        }
      },
      "source": [
        "#vendo a acurácia\n",
        "accuracy_score(y_test, y_pred_3)*100"
      ],
      "execution_count": 73,
      "outputs": [
        {
          "output_type": "execute_result",
          "data": {
            "text/plain": [
              "99.90637032875719"
            ]
          },
          "metadata": {
            "tags": []
          },
          "execution_count": 73
        }
      ]
    },
    {
      "cell_type": "code",
      "metadata": {
        "id": "fdTMlYpv0L8M",
        "outputId": "a5773781-d4d6-4ae6-c530-55b213e3b25b",
        "colab": {
          "base_uri": "https://localhost:8080/",
          "height": 483
        }
      },
      "source": [
        "#vendo a Área sob a Curva usando o class_weight\n",
        "fpr, tpr, _ = roc_curve(y_test,  y_pred_3)\n",
        "auc = roc_auc_score(y_test, y_pred_3)\n",
        "plt.figure(figsize=(15,8))\n",
        "plt.plot(fpr,tpr,label=\"data 1, auc=\"+str(auc))\n",
        "plt.legend(loc=4)\n",
        "plt.show()"
      ],
      "execution_count": 74,
      "outputs": [
        {
          "output_type": "display_data",
          "data": {
            "image/png": "[encoded data removed]",
            "text/plain": [
              "<Figure size 1080x576 with 1 Axes>"
            ]
          },
          "metadata": {
            "tags": [],
            "needs_background": "light"
          }
        }
      ]
    },
    {
      "cell_type": "markdown",
      "metadata": {
        "id": "CDAeztTw2Au6"
      },
      "source": [
        "# BALANCEAMENTO COM SMOTE"
      ]
    },
    {
      "cell_type": "code",
      "metadata": {
        "id": "EB6zliuy0LtF"
      },
      "source": [
        "from imblearn.over_sampling import SMOTE"
      ],
      "execution_count": 75,
      "outputs": []
    },
    {
      "cell_type": "code",
      "metadata": {
        "id": "qZJyMghr2HxY"
      },
      "source": [
        "smote = SMOTE()"
      ],
      "execution_count": 76,
      "outputs": []
    },
    {
      "cell_type": "code",
      "metadata": {
        "id": "9122-zk32U1_",
        "outputId": "4f75d68d-babc-4c5d-ce8e-479418d81762",
        "colab": {
          "base_uri": "https://localhost:8080/",
          "height": 71
        }
      },
      "source": [
        "#fazendo o resample nos dados de treino\n",
        "X_train_smote, y_train_smote = smote.fit_resample(X_train,y_train)"
      ],
      "execution_count": 77,
      "outputs": [
        {
          "output_type": "stream",
          "text": [
            "/usr/local/lib/python3.6/dist-packages/sklearn/utils/deprecation.py:87: FutureWarning: Function safe_indexing is deprecated; safe_indexing is deprecated in version 0.22 and will be removed in version 0.24.\n",
            "  warnings.warn(msg, category=FutureWarning)\n"
          ],
          "name": "stderr"
        }
      ]
    },
    {
      "cell_type": "code",
      "metadata": {
        "id": "OhgGJfq22jFf",
        "outputId": "4cbf9dd8-58ca-4829-c9a7-4793edee92a7",
        "colab": {
          "base_uri": "https://localhost:8080/",
          "height": 71
        }
      },
      "source": [
        "#fazendo o resample nos dados de teste\n",
        "X_test_smote, y_test_smote = smote.fit_resample(X_test,y_test)"
      ],
      "execution_count": 78,
      "outputs": [
        {
          "output_type": "stream",
          "text": [
            "/usr/local/lib/python3.6/dist-packages/sklearn/utils/deprecation.py:87: FutureWarning: Function safe_indexing is deprecated; safe_indexing is deprecated in version 0.22 and will be removed in version 0.24.\n",
            "  warnings.warn(msg, category=FutureWarning)\n"
          ],
          "name": "stderr"
        }
      ]
    },
    {
      "cell_type": "code",
      "metadata": {
        "id": "5u9c3ds_3Glf",
        "outputId": "e6b130dc-255b-4eae-e070-38575f468dfd",
        "colab": {
          "base_uri": "https://localhost:8080/",
          "height": 34
        }
      },
      "source": [
        "#ver a proporção entre as classes no novo y - que é um numpy array\n",
        "unique, counts = np.unique(y_train_smote, return_counts=True)\n",
        "dict(zip(unique, counts))"
      ],
      "execution_count": 80,
      "outputs": [
        {
          "output_type": "execute_result",
          "data": {
            "text/plain": [
              "{0: 199020, 1: 199020}"
            ]
          },
          "metadata": {
            "tags": []
          },
          "execution_count": 80
        }
      ]
    },
    {
      "cell_type": "code",
      "metadata": {
        "id": "KjK9IpPb3H7y",
        "outputId": "48cd71ed-c99d-42ca-e244-aeabac6fce24",
        "colab": {
          "base_uri": "https://localhost:8080/",
          "height": 34
        }
      },
      "source": [
        "#ver a proporção entre as classes no novo y - que é um numpy array\n",
        "unique, counts = np.unique(y_test_smote, return_counts=True)\n",
        "dict(zip(unique, counts))"
      ],
      "execution_count": 82,
      "outputs": [
        {
          "output_type": "execute_result",
          "data": {
            "text/plain": [
              "{0: 85295, 1: 85295}"
            ]
          },
          "metadata": {
            "tags": []
          },
          "execution_count": 82
        }
      ]
    },
    {
      "cell_type": "markdown",
      "metadata": {
        "id": "MhKIjXxh2uNp"
      },
      "source": [
        "## TREINANDO UM MODELO COM OS DADOS BALANCEADOS COM SMOTE"
      ]
    },
    {
      "cell_type": "code",
      "metadata": {
        "id": "nAlgCVsH2skO"
      },
      "source": [
        "modelo_v4 = DecisionTreeClassifier(criterion='entropy')"
      ],
      "execution_count": 79,
      "outputs": []
    },
    {
      "cell_type": "code",
      "metadata": {
        "id": "96_yWHte29Yc",
        "outputId": "3e054cc4-6382-4c72-dd65-5f744fcd4633",
        "colab": {
          "base_uri": "https://localhost:8080/",
          "height": 120
        }
      },
      "source": [
        "#ajustando aos dados tratados com smote\n",
        "modelo_v4.fit(X_train_smote,y_train_smote)"
      ],
      "execution_count": 83,
      "outputs": [
        {
          "output_type": "execute_result",
          "data": {
            "text/plain": [
              "DecisionTreeClassifier(ccp_alpha=0.0, class_weight=None, criterion='entropy',\n",
              "                       max_depth=None, max_features=None, max_leaf_nodes=None,\n",
              "                       min_impurity_decrease=0.0, min_impurity_split=None,\n",
              "                       min_samples_leaf=1, min_samples_split=2,\n",
              "                       min_weight_fraction_leaf=0.0, presort='deprecated',\n",
              "                       random_state=None, splitter='best')"
            ]
          },
          "metadata": {
            "tags": []
          },
          "execution_count": 83
        }
      ]
    },
    {
      "cell_type": "code",
      "metadata": {
        "id": "nitlW-3E3bdO"
      },
      "source": [
        "#predizendo os dados de teste balanceados com smote\n",
        "y_pred_5 = modelo_v4.predict(X_test_smote)"
      ],
      "execution_count": 85,
      "outputs": []
    },
    {
      "cell_type": "code",
      "metadata": {
        "id": "CosI8uuv3gHV"
      },
      "source": [
        "#predizendo o teste original\n",
        "y_pred_6 = modelo_v4.predict(X_test)"
      ],
      "execution_count": 86,
      "outputs": []
    },
    {
      "cell_type": "markdown",
      "metadata": {
        "id": "pfID-VI04Bca"
      },
      "source": [
        "#### Avaliando o modelo com o teste balanceado (y_pred_5)"
      ]
    },
    {
      "cell_type": "code",
      "metadata": {
        "id": "9T5557La4AGc",
        "outputId": "b19031cb-6e11-434b-f590-e86103fecaa4",
        "colab": {
          "base_uri": "https://localhost:8080/",
          "height": 51
        }
      },
      "source": [
        "#visualizando a matriz de confusão\n",
        "confusion_matrix(y_test_smote,y_pred_5)"
      ],
      "execution_count": 87,
      "outputs": [
        {
          "output_type": "execute_result",
          "data": {
            "text/plain": [
              "array([[85122,   173],\n",
              "       [ 8147, 77148]])"
            ]
          },
          "metadata": {
            "tags": []
          },
          "execution_count": 87
        }
      ]
    },
    {
      "cell_type": "code",
      "metadata": {
        "id": "187X5lOe4Pow",
        "outputId": "fb8f1505-2f8c-4e86-8f95-37058c57f34d",
        "colab": {
          "base_uri": "https://localhost:8080/",
          "height": 171
        }
      },
      "source": [
        "#vendo o classification report\n",
        "print(classification_report(y_test_smote, y_pred_5))"
      ],
      "execution_count": 88,
      "outputs": [
        {
          "output_type": "stream",
          "text": [
            "              precision    recall  f1-score   support\n",
            "\n",
            "           0       0.91      1.00      0.95     85295\n",
            "           1       1.00      0.90      0.95     85295\n",
            "\n",
            "    accuracy                           0.95    170590\n",
            "   macro avg       0.96      0.95      0.95    170590\n",
            "weighted avg       0.96      0.95      0.95    170590\n",
            "\n"
          ],
          "name": "stdout"
        }
      ]
    },
    {
      "cell_type": "code",
      "metadata": {
        "id": "8udzGJZc4P0w",
        "outputId": "05c21c62-e5c5-4ffe-d920-6aeb91085357",
        "colab": {
          "base_uri": "https://localhost:8080/",
          "height": 34
        }
      },
      "source": [
        "#vendo a acurácia\n",
        "accuracy_score(y_test_smote, y_pred_5)*100"
      ],
      "execution_count": 89,
      "outputs": [
        {
          "output_type": "execute_result",
          "data": {
            "text/plain": [
              "95.12280907438888"
            ]
          },
          "metadata": {
            "tags": []
          },
          "execution_count": 89
        }
      ]
    },
    {
      "cell_type": "code",
      "metadata": {
        "id": "cwR0u3wX4PvX",
        "outputId": "6efea85f-2661-4d7c-c018-4f1f477ddf21",
        "colab": {
          "base_uri": "https://localhost:8080/",
          "height": 376
        }
      },
      "source": [
        "#vendo a Área sob a Curva usando o class_weight\n",
        "from sklearn.metrics import roc_curve\n",
        "fpr, tpr, _ = roc_curve(y_test_smote,  y_pred_5)\n",
        "auc = roc_auc_score(y_test_smote, y_pred_5)\n",
        "plt.figure(figsize=(15,8))\n",
        "plt.plot(fpr,tpr,label=\"data 1, auc=\"+str(auc))\n",
        "plt.legend(loc=4)\n",
        "plt.show()"
      ],
      "execution_count": 90,
      "outputs": [
        {
          "output_type": "display_data",
          "data": {
            "image/png": "[encoded data removed]",
            "text/plain": [
              "<Figure size 1080x576 with 1 Axes>"
            ]
          },
          "metadata": {
            "tags": [],
            "needs_background": "light"
          }
        }
      ]
    },
    {
      "cell_type": "markdown",
      "metadata": {
        "id": "EZQJziHb42uM"
      },
      "source": [
        "#### Avaliando o modelo com os dados originais (y_pred_6)"
      ]
    },
    {
      "cell_type": "code",
      "metadata": {
        "id": "jsg_v2uS4txX",
        "outputId": "c6fd2db5-5147-48a1-8b0c-07f15706a0e0",
        "colab": {
          "base_uri": "https://localhost:8080/",
          "height": 51
        }
      },
      "source": [
        "#visualizando a matriz de confusão\n",
        "confusion_matrix(y_test,y_pred_6)"
      ],
      "execution_count": 91,
      "outputs": [
        {
          "output_type": "execute_result",
          "data": {
            "text/plain": [
              "array([[85122,   173],\n",
              "       [   23,   125]])"
            ]
          },
          "metadata": {
            "tags": []
          },
          "execution_count": 91
        }
      ]
    },
    {
      "cell_type": "code",
      "metadata": {
        "id": "HBvTXQz65GsA",
        "outputId": "68e8daee-e6df-4df7-8cde-f032df74504b",
        "colab": {
          "base_uri": "https://localhost:8080/",
          "height": 171
        }
      },
      "source": [
        "#vendo o classification report\n",
        "print(classification_report(y_test, y_pred_6))"
      ],
      "execution_count": 92,
      "outputs": [
        {
          "output_type": "stream",
          "text": [
            "              precision    recall  f1-score   support\n",
            "\n",
            "           0       1.00      1.00      1.00     85295\n",
            "           1       0.42      0.84      0.56       148\n",
            "\n",
            "    accuracy                           1.00     85443\n",
            "   macro avg       0.71      0.92      0.78     85443\n",
            "weighted avg       1.00      1.00      1.00     85443\n",
            "\n"
          ],
          "name": "stdout"
        }
      ]
    },
    {
      "cell_type": "code",
      "metadata": {
        "id": "6qxC1cHt5Gx-",
        "outputId": "f547378d-6d55-4884-bda4-d7263f3e70c7",
        "colab": {
          "base_uri": "https://localhost:8080/",
          "height": 34
        }
      },
      "source": [
        "#vendo a acurácia\n",
        "accuracy_score(y_test, y_pred_6)*100"
      ],
      "execution_count": 93,
      "outputs": [
        {
          "output_type": "execute_result",
          "data": {
            "text/plain": [
              "99.7706073054551"
            ]
          },
          "metadata": {
            "tags": []
          },
          "execution_count": 93
        }
      ]
    },
    {
      "cell_type": "code",
      "metadata": {
        "id": "jxeCZAid5OOE",
        "outputId": "db1f5de8-41ac-40c6-a375-2a0bfbb72f80",
        "colab": {
          "base_uri": "https://localhost:8080/",
          "height": 483
        }
      },
      "source": [
        "#vendo a Área sob a Curva usando o class_weight\n",
        "from sklearn.metrics import roc_curve\n",
        "fpr, tpr, _ = roc_curve(y_test,  y_pred_6)\n",
        "auc = roc_auc_score(y_test, y_pred_6)\n",
        "plt.figure(figsize=(15,8))\n",
        "plt.plot(fpr,tpr,label=\"data 1, auc=\"+str(auc))\n",
        "plt.legend(loc=4)\n",
        "plt.show()"
      ],
      "execution_count": 94,
      "outputs": [
        {
          "output_type": "display_data",
          "data": {
            "image/png": "[encoded data removed]",
            "text/plain": [
              "<Figure size 1080x576 with 1 Axes>"
            ]
          },
          "metadata": {
            "tags": [],
            "needs_background": "light"
          }
        }
      ]
    },
    {
      "cell_type": "markdown",
      "metadata": {
        "id": "YOZ2uv8N8Dll"
      },
      "source": [
        "# USANDO OS DADOS DO SCRIPT R"
      ]
    },
    {
      "cell_type": "code",
      "metadata": {
        "id": "-ugjWoAn5j8j"
      },
      "source": [
        "#pegando os dados do R\n",
        "rose_treino = pd.read_csv('rose_treino.csv')"
      ],
      "execution_count": 96,
      "outputs": []
    },
    {
      "cell_type": "code",
      "metadata": {
        "id": "oyTC7HDw-3k_"
      },
      "source": [
        "rose_teste = pd.read_csv('rose_teste.csv')"
      ],
      "execution_count": 98,
      "outputs": []
    },
    {
      "cell_type": "code",
      "metadata": {
        "id": "emQ4bNoH_CNS"
      },
      "source": [
        "#teste desbalanceado\n",
        "teste_R = pd.read_csv('teste_R.csv')"
      ],
      "execution_count": 99,
      "outputs": []
    },
    {
      "cell_type": "markdown",
      "metadata": {
        "id": "zcgLf5NE__UM"
      },
      "source": [
        "### Lendo os dados"
      ]
    },
    {
      "cell_type": "code",
      "metadata": {
        "id": "3jACPMKh_TVB",
        "outputId": "341cfa30-4ab6-40cf-e371-495a83b69efe",
        "colab": {
          "base_uri": "https://localhost:8080/",
          "height": 240
        }
      },
      "source": [
        "rose_treino.head()"
      ],
      "execution_count": 100,
      "outputs": [
        {
          "output_type": "execute_result",
          "data": {
            "text/html": [
              "<div>\n",
              "<style scoped>\n",
              "    .dataframe tbody tr th:only-of-type {\n",
              "        vertical-align: middle;\n",
              "    }\n",
              "\n",
              "    .dataframe tbody tr th {\n",
              "        vertical-align: top;\n",
              "    }\n",
              "\n",
              "    .dataframe thead th {\n",
              "        text-align: right;\n",
              "    }\n",
              "</style>\n",
              "<table border=\"1\" class=\"dataframe\">\n",
              "  <thead>\n",
              "    <tr style=\"text-align: right;\">\n",
              "      <th></th>\n",
              "      <th>Unnamed: 0</th>\n",
              "      <th>Time</th>\n",
              "      <th>V1</th>\n",
              "      <th>V2</th>\n",
              "      <th>V3</th>\n",
              "      <th>V4</th>\n",
              "      <th>V5</th>\n",
              "      <th>V6</th>\n",
              "      <th>V7</th>\n",
              "      <th>V8</th>\n",
              "      <th>V9</th>\n",
              "      <th>V10</th>\n",
              "      <th>V11</th>\n",
              "      <th>V12</th>\n",
              "      <th>V13</th>\n",
              "      <th>V14</th>\n",
              "      <th>V15</th>\n",
              "      <th>V16</th>\n",
              "      <th>V17</th>\n",
              "      <th>V18</th>\n",
              "      <th>V19</th>\n",
              "      <th>V20</th>\n",
              "      <th>V21</th>\n",
              "      <th>V22</th>\n",
              "      <th>V23</th>\n",
              "      <th>V24</th>\n",
              "      <th>V25</th>\n",
              "      <th>V26</th>\n",
              "      <th>V27</th>\n",
              "      <th>V28</th>\n",
              "      <th>Amount</th>\n",
              "      <th>Class</th>\n",
              "    </tr>\n",
              "  </thead>\n",
              "  <tbody>\n",
              "    <tr>\n",
              "      <th>0</th>\n",
              "      <td>1</td>\n",
              "      <td>217205.803513</td>\n",
              "      <td>-2.567981</td>\n",
              "      <td>0.898000</td>\n",
              "      <td>-0.767780</td>\n",
              "      <td>-2.728384</td>\n",
              "      <td>1.208778</td>\n",
              "      <td>-2.414597</td>\n",
              "      <td>0.820543</td>\n",
              "      <td>-0.291104</td>\n",
              "      <td>-1.322237</td>\n",
              "      <td>-0.986977</td>\n",
              "      <td>-1.773612</td>\n",
              "      <td>0.146018</td>\n",
              "      <td>0.294645</td>\n",
              "      <td>-0.890830</td>\n",
              "      <td>-1.912879</td>\n",
              "      <td>1.275707</td>\n",
              "      <td>0.867205</td>\n",
              "      <td>-0.210741</td>\n",
              "      <td>-0.442621</td>\n",
              "      <td>0.786827</td>\n",
              "      <td>0.428279</td>\n",
              "      <td>-0.225452</td>\n",
              "      <td>-0.701389</td>\n",
              "      <td>-0.199779</td>\n",
              "      <td>1.595748</td>\n",
              "      <td>-0.147785</td>\n",
              "      <td>-0.372765</td>\n",
              "      <td>-0.628274</td>\n",
              "      <td>160.405993</td>\n",
              "      <td>0</td>\n",
              "    </tr>\n",
              "    <tr>\n",
              "      <th>1</th>\n",
              "      <td>2</td>\n",
              "      <td>152178.961131</td>\n",
              "      <td>2.464177</td>\n",
              "      <td>0.769727</td>\n",
              "      <td>-1.677835</td>\n",
              "      <td>-0.264555</td>\n",
              "      <td>-0.752586</td>\n",
              "      <td>-0.444199</td>\n",
              "      <td>0.736922</td>\n",
              "      <td>0.516300</td>\n",
              "      <td>-0.333578</td>\n",
              "      <td>-0.471416</td>\n",
              "      <td>1.857264</td>\n",
              "      <td>0.445935</td>\n",
              "      <td>-0.247741</td>\n",
              "      <td>1.609412</td>\n",
              "      <td>-1.949613</td>\n",
              "      <td>0.008885</td>\n",
              "      <td>-0.406072</td>\n",
              "      <td>0.012527</td>\n",
              "      <td>0.556883</td>\n",
              "      <td>-1.052852</td>\n",
              "      <td>0.179824</td>\n",
              "      <td>-0.879074</td>\n",
              "      <td>0.671705</td>\n",
              "      <td>-0.040643</td>\n",
              "      <td>-0.617697</td>\n",
              "      <td>0.575995</td>\n",
              "      <td>-0.431744</td>\n",
              "      <td>0.018294</td>\n",
              "      <td>280.848610</td>\n",
              "      <td>0</td>\n",
              "    </tr>\n",
              "    <tr>\n",
              "      <th>2</th>\n",
              "      <td>3</td>\n",
              "      <td>182977.585124</td>\n",
              "      <td>-0.928121</td>\n",
              "      <td>-0.347480</td>\n",
              "      <td>-0.562512</td>\n",
              "      <td>0.324371</td>\n",
              "      <td>0.141313</td>\n",
              "      <td>1.307359</td>\n",
              "      <td>-0.128218</td>\n",
              "      <td>-0.978227</td>\n",
              "      <td>-0.779199</td>\n",
              "      <td>-1.961890</td>\n",
              "      <td>-1.267183</td>\n",
              "      <td>-0.237118</td>\n",
              "      <td>-0.394160</td>\n",
              "      <td>-0.653186</td>\n",
              "      <td>-0.410073</td>\n",
              "      <td>-1.107511</td>\n",
              "      <td>1.331703</td>\n",
              "      <td>-0.485902</td>\n",
              "      <td>0.016075</td>\n",
              "      <td>0.170843</td>\n",
              "      <td>-0.142135</td>\n",
              "      <td>0.152564</td>\n",
              "      <td>0.278665</td>\n",
              "      <td>1.235203</td>\n",
              "      <td>0.032195</td>\n",
              "      <td>0.843445</td>\n",
              "      <td>-0.154998</td>\n",
              "      <td>-0.157450</td>\n",
              "      <td>258.813132</td>\n",
              "      <td>0</td>\n",
              "    </tr>\n",
              "    <tr>\n",
              "      <th>3</th>\n",
              "      <td>4</td>\n",
              "      <td>125476.880682</td>\n",
              "      <td>-5.294014</td>\n",
              "      <td>-7.711289</td>\n",
              "      <td>-0.187482</td>\n",
              "      <td>0.446199</td>\n",
              "      <td>5.035787</td>\n",
              "      <td>-3.538694</td>\n",
              "      <td>-3.209072</td>\n",
              "      <td>-0.210478</td>\n",
              "      <td>0.789281</td>\n",
              "      <td>-0.214555</td>\n",
              "      <td>0.994566</td>\n",
              "      <td>0.438681</td>\n",
              "      <td>-1.441440</td>\n",
              "      <td>0.722324</td>\n",
              "      <td>-0.311711</td>\n",
              "      <td>-3.100765</td>\n",
              "      <td>-0.468878</td>\n",
              "      <td>1.904907</td>\n",
              "      <td>-0.779730</td>\n",
              "      <td>1.658596</td>\n",
              "      <td>0.579284</td>\n",
              "      <td>0.368786</td>\n",
              "      <td>1.080375</td>\n",
              "      <td>0.389435</td>\n",
              "      <td>0.095096</td>\n",
              "      <td>-0.034558</td>\n",
              "      <td>-0.230594</td>\n",
              "      <td>0.054191</td>\n",
              "      <td>169.302354</td>\n",
              "      <td>0</td>\n",
              "    </tr>\n",
              "    <tr>\n",
              "      <th>4</th>\n",
              "      <td>5</td>\n",
              "      <td>109467.436111</td>\n",
              "      <td>-3.310566</td>\n",
              "      <td>2.543741</td>\n",
              "      <td>-0.454611</td>\n",
              "      <td>-1.164950</td>\n",
              "      <td>-0.014708</td>\n",
              "      <td>-0.371611</td>\n",
              "      <td>-1.120068</td>\n",
              "      <td>-3.462906</td>\n",
              "      <td>2.214135</td>\n",
              "      <td>-0.178497</td>\n",
              "      <td>-0.395631</td>\n",
              "      <td>-3.075713</td>\n",
              "      <td>2.190316</td>\n",
              "      <td>0.706173</td>\n",
              "      <td>-0.357781</td>\n",
              "      <td>0.386493</td>\n",
              "      <td>0.262908</td>\n",
              "      <td>0.092927</td>\n",
              "      <td>-0.522715</td>\n",
              "      <td>-1.023052</td>\n",
              "      <td>2.406482</td>\n",
              "      <td>-1.435943</td>\n",
              "      <td>0.564870</td>\n",
              "      <td>-0.595498</td>\n",
              "      <td>-0.913191</td>\n",
              "      <td>0.085156</td>\n",
              "      <td>0.123373</td>\n",
              "      <td>-0.002864</td>\n",
              "      <td>19.754487</td>\n",
              "      <td>0</td>\n",
              "    </tr>\n",
              "  </tbody>\n",
              "</table>\n",
              "</div>"
            ],
            "text/plain": [
              "   Unnamed: 0           Time        V1  ...       V28      Amount  Class\n",
              "0           1  217205.803513 -2.567981  ... -0.628274  160.405993      0\n",
              "1           2  152178.961131  2.464177  ...  0.018294  280.848610      0\n",
              "2           3  182977.585124 -0.928121  ... -0.157450  258.813132      0\n",
              "3           4  125476.880682 -5.294014  ...  0.054191  169.302354      0\n",
              "4           5  109467.436111 -3.310566  ... -0.002864   19.754487      0\n",
              "\n",
              "[5 rows x 32 columns]"
            ]
          },
          "metadata": {
            "tags": []
          },
          "execution_count": 100
        }
      ]
    },
    {
      "cell_type": "code",
      "metadata": {
        "id": "gC-EHJdeAJVA",
        "outputId": "7eba98f7-6d6c-41f2-f9a1-9420b3bcf8dc",
        "colab": {
          "base_uri": "https://localhost:8080/",
          "height": 240
        }
      },
      "source": [
        "rose_teste.head()"
      ],
      "execution_count": 101,
      "outputs": [
        {
          "output_type": "execute_result",
          "data": {
            "text/html": [
              "<div>\n",
              "<style scoped>\n",
              "    .dataframe tbody tr th:only-of-type {\n",
              "        vertical-align: middle;\n",
              "    }\n",
              "\n",
              "    .dataframe tbody tr th {\n",
              "        vertical-align: top;\n",
              "    }\n",
              "\n",
              "    .dataframe thead th {\n",
              "        text-align: right;\n",
              "    }\n",
              "</style>\n",
              "<table border=\"1\" class=\"dataframe\">\n",
              "  <thead>\n",
              "    <tr style=\"text-align: right;\">\n",
              "      <th></th>\n",
              "      <th>Unnamed: 0</th>\n",
              "      <th>Time</th>\n",
              "      <th>V1</th>\n",
              "      <th>V2</th>\n",
              "      <th>V3</th>\n",
              "      <th>V4</th>\n",
              "      <th>V5</th>\n",
              "      <th>V6</th>\n",
              "      <th>V7</th>\n",
              "      <th>V8</th>\n",
              "      <th>V9</th>\n",
              "      <th>V10</th>\n",
              "      <th>V11</th>\n",
              "      <th>V12</th>\n",
              "      <th>V13</th>\n",
              "      <th>V14</th>\n",
              "      <th>V15</th>\n",
              "      <th>V16</th>\n",
              "      <th>V17</th>\n",
              "      <th>V18</th>\n",
              "      <th>V19</th>\n",
              "      <th>V20</th>\n",
              "      <th>V21</th>\n",
              "      <th>V22</th>\n",
              "      <th>V23</th>\n",
              "      <th>V24</th>\n",
              "      <th>V25</th>\n",
              "      <th>V26</th>\n",
              "      <th>V27</th>\n",
              "      <th>V28</th>\n",
              "      <th>Amount</th>\n",
              "      <th>Class</th>\n",
              "    </tr>\n",
              "  </thead>\n",
              "  <tbody>\n",
              "    <tr>\n",
              "      <th>0</th>\n",
              "      <td>1</td>\n",
              "      <td>100451.654404</td>\n",
              "      <td>0.835494</td>\n",
              "      <td>-0.515926</td>\n",
              "      <td>-1.917480</td>\n",
              "      <td>2.981701</td>\n",
              "      <td>-0.351667</td>\n",
              "      <td>-0.322559</td>\n",
              "      <td>-1.019767</td>\n",
              "      <td>0.854651</td>\n",
              "      <td>-0.396209</td>\n",
              "      <td>0.778483</td>\n",
              "      <td>-0.914643</td>\n",
              "      <td>-0.567016</td>\n",
              "      <td>-0.849374</td>\n",
              "      <td>0.324713</td>\n",
              "      <td>1.020657</td>\n",
              "      <td>0.559622</td>\n",
              "      <td>-0.627162</td>\n",
              "      <td>0.680035</td>\n",
              "      <td>-0.787069</td>\n",
              "      <td>-0.249650</td>\n",
              "      <td>-0.892906</td>\n",
              "      <td>-0.026410</td>\n",
              "      <td>0.222306</td>\n",
              "      <td>0.324409</td>\n",
              "      <td>0.893922</td>\n",
              "      <td>-0.455777</td>\n",
              "      <td>0.014020</td>\n",
              "      <td>0.180375</td>\n",
              "      <td>44.663140</td>\n",
              "      <td>0</td>\n",
              "    </tr>\n",
              "    <tr>\n",
              "      <th>1</th>\n",
              "      <td>2</td>\n",
              "      <td>89789.404102</td>\n",
              "      <td>0.796821</td>\n",
              "      <td>1.157225</td>\n",
              "      <td>0.964042</td>\n",
              "      <td>0.713635</td>\n",
              "      <td>-1.718851</td>\n",
              "      <td>-0.481958</td>\n",
              "      <td>-2.237540</td>\n",
              "      <td>-1.159084</td>\n",
              "      <td>1.449394</td>\n",
              "      <td>1.268521</td>\n",
              "      <td>-1.749091</td>\n",
              "      <td>0.640670</td>\n",
              "      <td>-0.580593</td>\n",
              "      <td>-1.279014</td>\n",
              "      <td>-0.240555</td>\n",
              "      <td>0.316832</td>\n",
              "      <td>0.292700</td>\n",
              "      <td>0.793222</td>\n",
              "      <td>-0.003040</td>\n",
              "      <td>-0.070233</td>\n",
              "      <td>-0.376944</td>\n",
              "      <td>0.445669</td>\n",
              "      <td>-0.363435</td>\n",
              "      <td>1.005757</td>\n",
              "      <td>0.197879</td>\n",
              "      <td>-0.779452</td>\n",
              "      <td>0.434642</td>\n",
              "      <td>0.060588</td>\n",
              "      <td>-4.513026</td>\n",
              "      <td>0</td>\n",
              "    </tr>\n",
              "    <tr>\n",
              "      <th>2</th>\n",
              "      <td>3</td>\n",
              "      <td>69703.722904</td>\n",
              "      <td>1.506110</td>\n",
              "      <td>1.500464</td>\n",
              "      <td>1.840818</td>\n",
              "      <td>-3.023737</td>\n",
              "      <td>-0.493129</td>\n",
              "      <td>0.512150</td>\n",
              "      <td>0.668140</td>\n",
              "      <td>1.061339</td>\n",
              "      <td>0.582431</td>\n",
              "      <td>-0.627479</td>\n",
              "      <td>2.122898</td>\n",
              "      <td>-0.221596</td>\n",
              "      <td>0.641509</td>\n",
              "      <td>1.255493</td>\n",
              "      <td>0.871446</td>\n",
              "      <td>-2.370964</td>\n",
              "      <td>0.642706</td>\n",
              "      <td>-0.507503</td>\n",
              "      <td>3.282407</td>\n",
              "      <td>-0.076969</td>\n",
              "      <td>0.167389</td>\n",
              "      <td>0.441469</td>\n",
              "      <td>0.128360</td>\n",
              "      <td>-0.387545</td>\n",
              "      <td>0.227522</td>\n",
              "      <td>-0.344947</td>\n",
              "      <td>0.226256</td>\n",
              "      <td>0.078189</td>\n",
              "      <td>-282.077495</td>\n",
              "      <td>0</td>\n",
              "    </tr>\n",
              "    <tr>\n",
              "      <th>3</th>\n",
              "      <td>4</td>\n",
              "      <td>43316.890993</td>\n",
              "      <td>-0.425023</td>\n",
              "      <td>-1.926346</td>\n",
              "      <td>2.905975</td>\n",
              "      <td>0.331543</td>\n",
              "      <td>-0.731026</td>\n",
              "      <td>-1.045221</td>\n",
              "      <td>-0.665823</td>\n",
              "      <td>0.051061</td>\n",
              "      <td>1.105838</td>\n",
              "      <td>-0.901832</td>\n",
              "      <td>-0.559504</td>\n",
              "      <td>1.512642</td>\n",
              "      <td>0.457490</td>\n",
              "      <td>-0.023867</td>\n",
              "      <td>1.941779</td>\n",
              "      <td>1.116098</td>\n",
              "      <td>-0.768118</td>\n",
              "      <td>0.583072</td>\n",
              "      <td>-0.524923</td>\n",
              "      <td>-0.350025</td>\n",
              "      <td>0.892887</td>\n",
              "      <td>0.031339</td>\n",
              "      <td>0.055278</td>\n",
              "      <td>0.458679</td>\n",
              "      <td>0.012613</td>\n",
              "      <td>0.405719</td>\n",
              "      <td>0.200270</td>\n",
              "      <td>0.239794</td>\n",
              "      <td>7.302140</td>\n",
              "      <td>0</td>\n",
              "    </tr>\n",
              "    <tr>\n",
              "      <th>4</th>\n",
              "      <td>5</td>\n",
              "      <td>156815.482578</td>\n",
              "      <td>0.449738</td>\n",
              "      <td>1.459230</td>\n",
              "      <td>-0.217602</td>\n",
              "      <td>-1.837296</td>\n",
              "      <td>-0.087504</td>\n",
              "      <td>-1.838171</td>\n",
              "      <td>0.180964</td>\n",
              "      <td>0.316996</td>\n",
              "      <td>0.621333</td>\n",
              "      <td>-0.920477</td>\n",
              "      <td>-1.362959</td>\n",
              "      <td>-0.178791</td>\n",
              "      <td>-1.649568</td>\n",
              "      <td>-1.221910</td>\n",
              "      <td>-0.487833</td>\n",
              "      <td>-0.074288</td>\n",
              "      <td>0.266133</td>\n",
              "      <td>-0.356626</td>\n",
              "      <td>0.269816</td>\n",
              "      <td>-0.293671</td>\n",
              "      <td>-0.120940</td>\n",
              "      <td>-1.687764</td>\n",
              "      <td>0.796283</td>\n",
              "      <td>0.446470</td>\n",
              "      <td>0.003706</td>\n",
              "      <td>0.470983</td>\n",
              "      <td>0.442681</td>\n",
              "      <td>0.207617</td>\n",
              "      <td>-41.468278</td>\n",
              "      <td>0</td>\n",
              "    </tr>\n",
              "  </tbody>\n",
              "</table>\n",
              "</div>"
            ],
            "text/plain": [
              "   Unnamed: 0           Time        V1  ...       V28      Amount  Class\n",
              "0           1  100451.654404  0.835494  ...  0.180375   44.663140      0\n",
              "1           2   89789.404102  0.796821  ...  0.060588   -4.513026      0\n",
              "2           3   69703.722904  1.506110  ...  0.078189 -282.077495      0\n",
              "3           4   43316.890993 -0.425023  ...  0.239794    7.302140      0\n",
              "4           5  156815.482578  0.449738  ...  0.207617  -41.468278      0\n",
              "\n",
              "[5 rows x 32 columns]"
            ]
          },
          "metadata": {
            "tags": []
          },
          "execution_count": 101
        }
      ]
    },
    {
      "cell_type": "code",
      "metadata": {
        "id": "XLclFADNAYRQ",
        "outputId": "a534b2c8-9fa7-4ac5-93bc-0195dbeb88e2",
        "colab": {
          "base_uri": "https://localhost:8080/",
          "height": 240
        }
      },
      "source": [
        "teste_R.head()"
      ],
      "execution_count": 103,
      "outputs": [
        {
          "output_type": "execute_result",
          "data": {
            "text/html": [
              "<div>\n",
              "<style scoped>\n",
              "    .dataframe tbody tr th:only-of-type {\n",
              "        vertical-align: middle;\n",
              "    }\n",
              "\n",
              "    .dataframe tbody tr th {\n",
              "        vertical-align: top;\n",
              "    }\n",
              "\n",
              "    .dataframe thead th {\n",
              "        text-align: right;\n",
              "    }\n",
              "</style>\n",
              "<table border=\"1\" class=\"dataframe\">\n",
              "  <thead>\n",
              "    <tr style=\"text-align: right;\">\n",
              "      <th></th>\n",
              "      <th>Unnamed: 0</th>\n",
              "      <th>Time</th>\n",
              "      <th>V1</th>\n",
              "      <th>V2</th>\n",
              "      <th>V3</th>\n",
              "      <th>V4</th>\n",
              "      <th>V5</th>\n",
              "      <th>V6</th>\n",
              "      <th>V7</th>\n",
              "      <th>V8</th>\n",
              "      <th>V9</th>\n",
              "      <th>V10</th>\n",
              "      <th>V11</th>\n",
              "      <th>V12</th>\n",
              "      <th>V13</th>\n",
              "      <th>V14</th>\n",
              "      <th>V15</th>\n",
              "      <th>V16</th>\n",
              "      <th>V17</th>\n",
              "      <th>V18</th>\n",
              "      <th>V19</th>\n",
              "      <th>V20</th>\n",
              "      <th>V21</th>\n",
              "      <th>V22</th>\n",
              "      <th>V23</th>\n",
              "      <th>V24</th>\n",
              "      <th>V25</th>\n",
              "      <th>V26</th>\n",
              "      <th>V27</th>\n",
              "      <th>V28</th>\n",
              "      <th>Amount</th>\n",
              "      <th>Class</th>\n",
              "    </tr>\n",
              "  </thead>\n",
              "  <tbody>\n",
              "    <tr>\n",
              "      <th>0</th>\n",
              "      <td>1</td>\n",
              "      <td>0</td>\n",
              "      <td>1.191857</td>\n",
              "      <td>0.266151</td>\n",
              "      <td>0.166480</td>\n",
              "      <td>0.448154</td>\n",
              "      <td>0.060018</td>\n",
              "      <td>-0.082361</td>\n",
              "      <td>-0.078803</td>\n",
              "      <td>0.085102</td>\n",
              "      <td>-0.255425</td>\n",
              "      <td>-0.166974</td>\n",
              "      <td>1.612727</td>\n",
              "      <td>1.065235</td>\n",
              "      <td>0.489095</td>\n",
              "      <td>-0.143772</td>\n",
              "      <td>0.635558</td>\n",
              "      <td>0.463917</td>\n",
              "      <td>-0.114805</td>\n",
              "      <td>-0.183361</td>\n",
              "      <td>-0.145783</td>\n",
              "      <td>-0.069083</td>\n",
              "      <td>-0.225775</td>\n",
              "      <td>-0.638672</td>\n",
              "      <td>0.101288</td>\n",
              "      <td>-0.339846</td>\n",
              "      <td>0.167170</td>\n",
              "      <td>0.125895</td>\n",
              "      <td>-0.008983</td>\n",
              "      <td>0.014724</td>\n",
              "      <td>2.69</td>\n",
              "      <td>0</td>\n",
              "    </tr>\n",
              "    <tr>\n",
              "      <th>1</th>\n",
              "      <td>2</td>\n",
              "      <td>10</td>\n",
              "      <td>1.249999</td>\n",
              "      <td>-1.221637</td>\n",
              "      <td>0.383930</td>\n",
              "      <td>-1.234899</td>\n",
              "      <td>-1.485419</td>\n",
              "      <td>-0.753230</td>\n",
              "      <td>-0.689405</td>\n",
              "      <td>-0.227487</td>\n",
              "      <td>-2.094011</td>\n",
              "      <td>1.323729</td>\n",
              "      <td>0.227666</td>\n",
              "      <td>-0.242682</td>\n",
              "      <td>1.205417</td>\n",
              "      <td>-0.317631</td>\n",
              "      <td>0.725675</td>\n",
              "      <td>-0.815612</td>\n",
              "      <td>0.873936</td>\n",
              "      <td>-0.847789</td>\n",
              "      <td>-0.683193</td>\n",
              "      <td>-0.102756</td>\n",
              "      <td>-0.231809</td>\n",
              "      <td>-0.483285</td>\n",
              "      <td>0.084668</td>\n",
              "      <td>0.392831</td>\n",
              "      <td>0.161135</td>\n",
              "      <td>-0.354990</td>\n",
              "      <td>0.026416</td>\n",
              "      <td>0.042422</td>\n",
              "      <td>121.50</td>\n",
              "      <td>0</td>\n",
              "    </tr>\n",
              "    <tr>\n",
              "      <th>2</th>\n",
              "      <td>3</td>\n",
              "      <td>12</td>\n",
              "      <td>1.103215</td>\n",
              "      <td>-0.040296</td>\n",
              "      <td>1.267332</td>\n",
              "      <td>1.289091</td>\n",
              "      <td>-0.735997</td>\n",
              "      <td>0.288069</td>\n",
              "      <td>-0.586057</td>\n",
              "      <td>0.189380</td>\n",
              "      <td>0.782333</td>\n",
              "      <td>-0.267975</td>\n",
              "      <td>-0.450311</td>\n",
              "      <td>0.936708</td>\n",
              "      <td>0.708380</td>\n",
              "      <td>-0.468647</td>\n",
              "      <td>0.354574</td>\n",
              "      <td>-0.246635</td>\n",
              "      <td>-0.009212</td>\n",
              "      <td>-0.595912</td>\n",
              "      <td>-0.575682</td>\n",
              "      <td>-0.113910</td>\n",
              "      <td>-0.024612</td>\n",
              "      <td>0.196002</td>\n",
              "      <td>0.013802</td>\n",
              "      <td>0.103758</td>\n",
              "      <td>0.364298</td>\n",
              "      <td>-0.382261</td>\n",
              "      <td>0.092809</td>\n",
              "      <td>0.037051</td>\n",
              "      <td>12.99</td>\n",
              "      <td>0</td>\n",
              "    </tr>\n",
              "    <tr>\n",
              "      <th>3</th>\n",
              "      <td>4</td>\n",
              "      <td>13</td>\n",
              "      <td>-0.436905</td>\n",
              "      <td>0.918966</td>\n",
              "      <td>0.924591</td>\n",
              "      <td>-0.727219</td>\n",
              "      <td>0.915679</td>\n",
              "      <td>-0.127867</td>\n",
              "      <td>0.707642</td>\n",
              "      <td>0.087962</td>\n",
              "      <td>-0.665271</td>\n",
              "      <td>-0.737980</td>\n",
              "      <td>0.324098</td>\n",
              "      <td>0.277192</td>\n",
              "      <td>0.252624</td>\n",
              "      <td>-0.291896</td>\n",
              "      <td>-0.184520</td>\n",
              "      <td>1.143174</td>\n",
              "      <td>-0.928709</td>\n",
              "      <td>0.680470</td>\n",
              "      <td>0.025436</td>\n",
              "      <td>-0.047021</td>\n",
              "      <td>-0.194796</td>\n",
              "      <td>-0.672638</td>\n",
              "      <td>-0.156858</td>\n",
              "      <td>-0.888386</td>\n",
              "      <td>-0.342413</td>\n",
              "      <td>-0.049027</td>\n",
              "      <td>0.079692</td>\n",
              "      <td>0.131024</td>\n",
              "      <td>0.89</td>\n",
              "      <td>0</td>\n",
              "    </tr>\n",
              "    <tr>\n",
              "      <th>4</th>\n",
              "      <td>5</td>\n",
              "      <td>15</td>\n",
              "      <td>1.492936</td>\n",
              "      <td>-1.029346</td>\n",
              "      <td>0.454795</td>\n",
              "      <td>-1.438026</td>\n",
              "      <td>-1.555434</td>\n",
              "      <td>-0.720961</td>\n",
              "      <td>-1.080664</td>\n",
              "      <td>-0.053127</td>\n",
              "      <td>-1.978682</td>\n",
              "      <td>1.638076</td>\n",
              "      <td>1.077542</td>\n",
              "      <td>-0.632047</td>\n",
              "      <td>-0.416957</td>\n",
              "      <td>0.052011</td>\n",
              "      <td>-0.042979</td>\n",
              "      <td>-0.166432</td>\n",
              "      <td>0.304241</td>\n",
              "      <td>0.554432</td>\n",
              "      <td>0.054230</td>\n",
              "      <td>-0.387910</td>\n",
              "      <td>-0.177650</td>\n",
              "      <td>-0.175074</td>\n",
              "      <td>0.040002</td>\n",
              "      <td>0.295814</td>\n",
              "      <td>0.332931</td>\n",
              "      <td>-0.220385</td>\n",
              "      <td>0.022298</td>\n",
              "      <td>0.007602</td>\n",
              "      <td>5.00</td>\n",
              "      <td>0</td>\n",
              "    </tr>\n",
              "  </tbody>\n",
              "</table>\n",
              "</div>"
            ],
            "text/plain": [
              "   Unnamed: 0  Time        V1        V2  ...       V27       V28  Amount  Class\n",
              "0           1     0  1.191857  0.266151  ... -0.008983  0.014724    2.69      0\n",
              "1           2    10  1.249999 -1.221637  ...  0.026416  0.042422  121.50      0\n",
              "2           3    12  1.103215 -0.040296  ...  0.092809  0.037051   12.99      0\n",
              "3           4    13 -0.436905  0.918966  ...  0.079692  0.131024    0.89      0\n",
              "4           5    15  1.492936 -1.029346  ...  0.022298  0.007602    5.00      0\n",
              "\n",
              "[5 rows x 32 columns]"
            ]
          },
          "metadata": {
            "tags": []
          },
          "execution_count": 103
        }
      ]
    },
    {
      "cell_type": "markdown",
      "metadata": {
        "id": "ecRghx8lA0al"
      },
      "source": [
        "## Excluir a coluna Unnamed:0"
      ]
    },
    {
      "cell_type": "code",
      "metadata": {
        "id": "CbP3kr3ZAfjW",
        "outputId": "3bf86240-1ac9-4ac6-a32d-e22f249a6e45",
        "colab": {
          "base_uri": "https://localhost:8080/",
          "height": 103
        }
      },
      "source": [
        "#visualizar o nome das colunas\n",
        "rose_treino.columns\n"
      ],
      "execution_count": 104,
      "outputs": [
        {
          "output_type": "execute_result",
          "data": {
            "text/plain": [
              "Index(['Unnamed: 0', 'Time', 'V1', 'V2', 'V3', 'V4', 'V5', 'V6', 'V7', 'V8',\n",
              "       'V9', 'V10', 'V11', 'V12', 'V13', 'V14', 'V15', 'V16', 'V17', 'V18',\n",
              "       'V19', 'V20', 'V21', 'V22', 'V23', 'V24', 'V25', 'V26', 'V27', 'V28',\n",
              "       'Amount', 'Class'],\n",
              "      dtype='object')"
            ]
          },
          "metadata": {
            "tags": []
          },
          "execution_count": 104
        }
      ]
    },
    {
      "cell_type": "markdown",
      "metadata": {
        "id": "oq7pzfqbBP9g"
      },
      "source": [
        "Drop"
      ]
    },
    {
      "cell_type": "code",
      "metadata": {
        "id": "DVFmTi6TBNGW"
      },
      "source": [
        "#usando o drop\n",
        "rose_treino.drop('Unnamed: 0', axis=1, inplace=True)"
      ],
      "execution_count": 105,
      "outputs": []
    },
    {
      "cell_type": "code",
      "metadata": {
        "id": "YBHwYSP3Cl1V",
        "outputId": "b919b352-d5a2-465b-ca66-324694f08d17",
        "colab": {
          "base_uri": "https://localhost:8080/",
          "height": 223
        }
      },
      "source": [
        "rose_treino.sample(5)"
      ],
      "execution_count": 115,
      "outputs": [
        {
          "output_type": "execute_result",
          "data": {
            "text/html": [
              "<div>\n",
              "<style scoped>\n",
              "    .dataframe tbody tr th:only-of-type {\n",
              "        vertical-align: middle;\n",
              "    }\n",
              "\n",
              "    .dataframe tbody tr th {\n",
              "        vertical-align: top;\n",
              "    }\n",
              "\n",
              "    .dataframe thead th {\n",
              "        text-align: right;\n",
              "    }\n",
              "</style>\n",
              "<table border=\"1\" class=\"dataframe\">\n",
              "  <thead>\n",
              "    <tr style=\"text-align: right;\">\n",
              "      <th></th>\n",
              "      <th>Time</th>\n",
              "      <th>V1</th>\n",
              "      <th>V2</th>\n",
              "      <th>V3</th>\n",
              "      <th>V4</th>\n",
              "      <th>V5</th>\n",
              "      <th>V6</th>\n",
              "      <th>V7</th>\n",
              "      <th>V8</th>\n",
              "      <th>V9</th>\n",
              "      <th>V10</th>\n",
              "      <th>V11</th>\n",
              "      <th>V12</th>\n",
              "      <th>V13</th>\n",
              "      <th>V14</th>\n",
              "      <th>V15</th>\n",
              "      <th>V16</th>\n",
              "      <th>V17</th>\n",
              "      <th>V18</th>\n",
              "      <th>V19</th>\n",
              "      <th>V20</th>\n",
              "      <th>V21</th>\n",
              "      <th>V22</th>\n",
              "      <th>V23</th>\n",
              "      <th>V24</th>\n",
              "      <th>V25</th>\n",
              "      <th>V26</th>\n",
              "      <th>V27</th>\n",
              "      <th>V28</th>\n",
              "      <th>Amount</th>\n",
              "      <th>Class</th>\n",
              "    </tr>\n",
              "  </thead>\n",
              "  <tbody>\n",
              "    <tr>\n",
              "      <th>55598</th>\n",
              "      <td>15821.441901</td>\n",
              "      <td>-2.035486</td>\n",
              "      <td>-0.017445</td>\n",
              "      <td>-0.538878</td>\n",
              "      <td>-1.140000</td>\n",
              "      <td>-0.109758</td>\n",
              "      <td>-0.864820</td>\n",
              "      <td>-0.032030</td>\n",
              "      <td>0.307403</td>\n",
              "      <td>-1.230626</td>\n",
              "      <td>-0.940203</td>\n",
              "      <td>1.308581</td>\n",
              "      <td>-0.510163</td>\n",
              "      <td>-0.694135</td>\n",
              "      <td>1.865115</td>\n",
              "      <td>2.172096</td>\n",
              "      <td>-1.633838</td>\n",
              "      <td>1.192428</td>\n",
              "      <td>-2.768086</td>\n",
              "      <td>-1.315951</td>\n",
              "      <td>0.408806</td>\n",
              "      <td>0.155767</td>\n",
              "      <td>0.204802</td>\n",
              "      <td>0.487432</td>\n",
              "      <td>-0.378635</td>\n",
              "      <td>-0.395667</td>\n",
              "      <td>0.054668</td>\n",
              "      <td>0.063189</td>\n",
              "      <td>-0.024664</td>\n",
              "      <td>73.876782</td>\n",
              "      <td>0</td>\n",
              "    </tr>\n",
              "    <tr>\n",
              "      <th>162207</th>\n",
              "      <td>52915.520909</td>\n",
              "      <td>0.231862</td>\n",
              "      <td>5.305607</td>\n",
              "      <td>2.304086</td>\n",
              "      <td>4.924372</td>\n",
              "      <td>1.936174</td>\n",
              "      <td>-2.110237</td>\n",
              "      <td>-5.763960</td>\n",
              "      <td>-5.551860</td>\n",
              "      <td>0.178990</td>\n",
              "      <td>-4.918913</td>\n",
              "      <td>2.132081</td>\n",
              "      <td>0.077858</td>\n",
              "      <td>-3.160298</td>\n",
              "      <td>-6.668299</td>\n",
              "      <td>-0.006865</td>\n",
              "      <td>-8.540542</td>\n",
              "      <td>-7.904274</td>\n",
              "      <td>-2.447274</td>\n",
              "      <td>0.044920</td>\n",
              "      <td>-0.029897</td>\n",
              "      <td>1.832817</td>\n",
              "      <td>-0.406275</td>\n",
              "      <td>-0.167484</td>\n",
              "      <td>0.527253</td>\n",
              "      <td>0.386708</td>\n",
              "      <td>0.317537</td>\n",
              "      <td>2.022334</td>\n",
              "      <td>0.327893</td>\n",
              "      <td>-142.836999</td>\n",
              "      <td>1</td>\n",
              "    </tr>\n",
              "    <tr>\n",
              "      <th>6560</th>\n",
              "      <td>34168.660268</td>\n",
              "      <td>4.431806</td>\n",
              "      <td>1.195348</td>\n",
              "      <td>-0.264594</td>\n",
              "      <td>-0.331083</td>\n",
              "      <td>-0.207683</td>\n",
              "      <td>-1.450987</td>\n",
              "      <td>-0.621557</td>\n",
              "      <td>-0.247811</td>\n",
              "      <td>-0.209826</td>\n",
              "      <td>-0.405788</td>\n",
              "      <td>-1.696877</td>\n",
              "      <td>-0.255247</td>\n",
              "      <td>-0.402398</td>\n",
              "      <td>-0.763058</td>\n",
              "      <td>1.554270</td>\n",
              "      <td>1.610789</td>\n",
              "      <td>-0.279880</td>\n",
              "      <td>-0.165991</td>\n",
              "      <td>0.839079</td>\n",
              "      <td>0.257952</td>\n",
              "      <td>-0.133523</td>\n",
              "      <td>-0.711378</td>\n",
              "      <td>-0.014302</td>\n",
              "      <td>-0.639471</td>\n",
              "      <td>0.042424</td>\n",
              "      <td>0.562486</td>\n",
              "      <td>0.133608</td>\n",
              "      <td>0.780296</td>\n",
              "      <td>32.368558</td>\n",
              "      <td>0</td>\n",
              "    </tr>\n",
              "    <tr>\n",
              "      <th>98868</th>\n",
              "      <td>180080.906746</td>\n",
              "      <td>3.649649</td>\n",
              "      <td>-1.034226</td>\n",
              "      <td>-1.811383</td>\n",
              "      <td>0.630032</td>\n",
              "      <td>0.472944</td>\n",
              "      <td>-1.715370</td>\n",
              "      <td>-0.570405</td>\n",
              "      <td>1.164462</td>\n",
              "      <td>2.615922</td>\n",
              "      <td>0.221364</td>\n",
              "      <td>-1.023107</td>\n",
              "      <td>0.328649</td>\n",
              "      <td>1.066010</td>\n",
              "      <td>0.939339</td>\n",
              "      <td>-0.923055</td>\n",
              "      <td>0.059661</td>\n",
              "      <td>-0.401958</td>\n",
              "      <td>-1.743105</td>\n",
              "      <td>0.084735</td>\n",
              "      <td>0.104840</td>\n",
              "      <td>-0.332993</td>\n",
              "      <td>-1.144306</td>\n",
              "      <td>0.654851</td>\n",
              "      <td>-0.064098</td>\n",
              "      <td>-0.306419</td>\n",
              "      <td>-0.524178</td>\n",
              "      <td>0.098032</td>\n",
              "      <td>0.026664</td>\n",
              "      <td>152.191929</td>\n",
              "      <td>0</td>\n",
              "    </tr>\n",
              "    <tr>\n",
              "      <th>147753</th>\n",
              "      <td>49707.682577</td>\n",
              "      <td>-1.331046</td>\n",
              "      <td>2.334057</td>\n",
              "      <td>-1.884887</td>\n",
              "      <td>7.887316</td>\n",
              "      <td>0.372707</td>\n",
              "      <td>-4.264197</td>\n",
              "      <td>4.571547</td>\n",
              "      <td>1.340974</td>\n",
              "      <td>-2.671121</td>\n",
              "      <td>-1.242904</td>\n",
              "      <td>-0.866485</td>\n",
              "      <td>-1.939311</td>\n",
              "      <td>-1.806888</td>\n",
              "      <td>-10.615641</td>\n",
              "      <td>1.171987</td>\n",
              "      <td>1.103009</td>\n",
              "      <td>7.973881</td>\n",
              "      <td>-0.253388</td>\n",
              "      <td>-2.896651</td>\n",
              "      <td>0.046584</td>\n",
              "      <td>-2.624166</td>\n",
              "      <td>0.359193</td>\n",
              "      <td>-2.146559</td>\n",
              "      <td>0.096556</td>\n",
              "      <td>0.513725</td>\n",
              "      <td>0.319051</td>\n",
              "      <td>-1.052910</td>\n",
              "      <td>0.491594</td>\n",
              "      <td>-220.201789</td>\n",
              "      <td>1</td>\n",
              "    </tr>\n",
              "  </tbody>\n",
              "</table>\n",
              "</div>"
            ],
            "text/plain": [
              "                 Time        V1        V2  ...       V28      Amount  Class\n",
              "55598    15821.441901 -2.035486 -0.017445  ... -0.024664   73.876782      0\n",
              "162207   52915.520909  0.231862  5.305607  ...  0.327893 -142.836999      1\n",
              "6560     34168.660268  4.431806  1.195348  ...  0.780296   32.368558      0\n",
              "98868   180080.906746  3.649649 -1.034226  ...  0.026664  152.191929      0\n",
              "147753   49707.682577 -1.331046  2.334057  ...  0.491594 -220.201789      1\n",
              "\n",
              "[5 rows x 31 columns]"
            ]
          },
          "metadata": {
            "tags": []
          },
          "execution_count": 115
        }
      ]
    },
    {
      "cell_type": "markdown",
      "metadata": {
        "id": "t17fb3mhCSWW"
      },
      "source": [
        "Set_Index"
      ]
    },
    {
      "cell_type": "code",
      "metadata": {
        "id": "ufoWXo2UBwmB"
      },
      "source": [
        "rose_teste.set_index('Unnamed: 0', inplace=True)"
      ],
      "execution_count": 107,
      "outputs": []
    },
    {
      "cell_type": "code",
      "metadata": {
        "id": "_NYXZwTGCguD",
        "outputId": "456ce86e-fbd0-43f1-dffe-44074b24a003",
        "colab": {
          "base_uri": "https://localhost:8080/",
          "height": 271
        }
      },
      "source": [
        "rose_teste.head()"
      ],
      "execution_count": 109,
      "outputs": [
        {
          "output_type": "execute_result",
          "data": {
            "text/html": [
              "<div>\n",
              "<style scoped>\n",
              "    .dataframe tbody tr th:only-of-type {\n",
              "        vertical-align: middle;\n",
              "    }\n",
              "\n",
              "    .dataframe tbody tr th {\n",
              "        vertical-align: top;\n",
              "    }\n",
              "\n",
              "    .dataframe thead th {\n",
              "        text-align: right;\n",
              "    }\n",
              "</style>\n",
              "<table border=\"1\" class=\"dataframe\">\n",
              "  <thead>\n",
              "    <tr style=\"text-align: right;\">\n",
              "      <th></th>\n",
              "      <th>Time</th>\n",
              "      <th>V1</th>\n",
              "      <th>V2</th>\n",
              "      <th>V3</th>\n",
              "      <th>V4</th>\n",
              "      <th>V5</th>\n",
              "      <th>V6</th>\n",
              "      <th>V7</th>\n",
              "      <th>V8</th>\n",
              "      <th>V9</th>\n",
              "      <th>V10</th>\n",
              "      <th>V11</th>\n",
              "      <th>V12</th>\n",
              "      <th>V13</th>\n",
              "      <th>V14</th>\n",
              "      <th>V15</th>\n",
              "      <th>V16</th>\n",
              "      <th>V17</th>\n",
              "      <th>V18</th>\n",
              "      <th>V19</th>\n",
              "      <th>V20</th>\n",
              "      <th>V21</th>\n",
              "      <th>V22</th>\n",
              "      <th>V23</th>\n",
              "      <th>V24</th>\n",
              "      <th>V25</th>\n",
              "      <th>V26</th>\n",
              "      <th>V27</th>\n",
              "      <th>V28</th>\n",
              "      <th>Amount</th>\n",
              "      <th>Class</th>\n",
              "    </tr>\n",
              "    <tr>\n",
              "      <th>Unnamed: 0</th>\n",
              "      <th></th>\n",
              "      <th></th>\n",
              "      <th></th>\n",
              "      <th></th>\n",
              "      <th></th>\n",
              "      <th></th>\n",
              "      <th></th>\n",
              "      <th></th>\n",
              "      <th></th>\n",
              "      <th></th>\n",
              "      <th></th>\n",
              "      <th></th>\n",
              "      <th></th>\n",
              "      <th></th>\n",
              "      <th></th>\n",
              "      <th></th>\n",
              "      <th></th>\n",
              "      <th></th>\n",
              "      <th></th>\n",
              "      <th></th>\n",
              "      <th></th>\n",
              "      <th></th>\n",
              "      <th></th>\n",
              "      <th></th>\n",
              "      <th></th>\n",
              "      <th></th>\n",
              "      <th></th>\n",
              "      <th></th>\n",
              "      <th></th>\n",
              "      <th></th>\n",
              "      <th></th>\n",
              "    </tr>\n",
              "  </thead>\n",
              "  <tbody>\n",
              "    <tr>\n",
              "      <th>1</th>\n",
              "      <td>100451.654404</td>\n",
              "      <td>0.835494</td>\n",
              "      <td>-0.515926</td>\n",
              "      <td>-1.917480</td>\n",
              "      <td>2.981701</td>\n",
              "      <td>-0.351667</td>\n",
              "      <td>-0.322559</td>\n",
              "      <td>-1.019767</td>\n",
              "      <td>0.854651</td>\n",
              "      <td>-0.396209</td>\n",
              "      <td>0.778483</td>\n",
              "      <td>-0.914643</td>\n",
              "      <td>-0.567016</td>\n",
              "      <td>-0.849374</td>\n",
              "      <td>0.324713</td>\n",
              "      <td>1.020657</td>\n",
              "      <td>0.559622</td>\n",
              "      <td>-0.627162</td>\n",
              "      <td>0.680035</td>\n",
              "      <td>-0.787069</td>\n",
              "      <td>-0.249650</td>\n",
              "      <td>-0.892906</td>\n",
              "      <td>-0.026410</td>\n",
              "      <td>0.222306</td>\n",
              "      <td>0.324409</td>\n",
              "      <td>0.893922</td>\n",
              "      <td>-0.455777</td>\n",
              "      <td>0.014020</td>\n",
              "      <td>0.180375</td>\n",
              "      <td>44.663140</td>\n",
              "      <td>0</td>\n",
              "    </tr>\n",
              "    <tr>\n",
              "      <th>2</th>\n",
              "      <td>89789.404102</td>\n",
              "      <td>0.796821</td>\n",
              "      <td>1.157225</td>\n",
              "      <td>0.964042</td>\n",
              "      <td>0.713635</td>\n",
              "      <td>-1.718851</td>\n",
              "      <td>-0.481958</td>\n",
              "      <td>-2.237540</td>\n",
              "      <td>-1.159084</td>\n",
              "      <td>1.449394</td>\n",
              "      <td>1.268521</td>\n",
              "      <td>-1.749091</td>\n",
              "      <td>0.640670</td>\n",
              "      <td>-0.580593</td>\n",
              "      <td>-1.279014</td>\n",
              "      <td>-0.240555</td>\n",
              "      <td>0.316832</td>\n",
              "      <td>0.292700</td>\n",
              "      <td>0.793222</td>\n",
              "      <td>-0.003040</td>\n",
              "      <td>-0.070233</td>\n",
              "      <td>-0.376944</td>\n",
              "      <td>0.445669</td>\n",
              "      <td>-0.363435</td>\n",
              "      <td>1.005757</td>\n",
              "      <td>0.197879</td>\n",
              "      <td>-0.779452</td>\n",
              "      <td>0.434642</td>\n",
              "      <td>0.060588</td>\n",
              "      <td>-4.513026</td>\n",
              "      <td>0</td>\n",
              "    </tr>\n",
              "    <tr>\n",
              "      <th>3</th>\n",
              "      <td>69703.722904</td>\n",
              "      <td>1.506110</td>\n",
              "      <td>1.500464</td>\n",
              "      <td>1.840818</td>\n",
              "      <td>-3.023737</td>\n",
              "      <td>-0.493129</td>\n",
              "      <td>0.512150</td>\n",
              "      <td>0.668140</td>\n",
              "      <td>1.061339</td>\n",
              "      <td>0.582431</td>\n",
              "      <td>-0.627479</td>\n",
              "      <td>2.122898</td>\n",
              "      <td>-0.221596</td>\n",
              "      <td>0.641509</td>\n",
              "      <td>1.255493</td>\n",
              "      <td>0.871446</td>\n",
              "      <td>-2.370964</td>\n",
              "      <td>0.642706</td>\n",
              "      <td>-0.507503</td>\n",
              "      <td>3.282407</td>\n",
              "      <td>-0.076969</td>\n",
              "      <td>0.167389</td>\n",
              "      <td>0.441469</td>\n",
              "      <td>0.128360</td>\n",
              "      <td>-0.387545</td>\n",
              "      <td>0.227522</td>\n",
              "      <td>-0.344947</td>\n",
              "      <td>0.226256</td>\n",
              "      <td>0.078189</td>\n",
              "      <td>-282.077495</td>\n",
              "      <td>0</td>\n",
              "    </tr>\n",
              "    <tr>\n",
              "      <th>4</th>\n",
              "      <td>43316.890993</td>\n",
              "      <td>-0.425023</td>\n",
              "      <td>-1.926346</td>\n",
              "      <td>2.905975</td>\n",
              "      <td>0.331543</td>\n",
              "      <td>-0.731026</td>\n",
              "      <td>-1.045221</td>\n",
              "      <td>-0.665823</td>\n",
              "      <td>0.051061</td>\n",
              "      <td>1.105838</td>\n",
              "      <td>-0.901832</td>\n",
              "      <td>-0.559504</td>\n",
              "      <td>1.512642</td>\n",
              "      <td>0.457490</td>\n",
              "      <td>-0.023867</td>\n",
              "      <td>1.941779</td>\n",
              "      <td>1.116098</td>\n",
              "      <td>-0.768118</td>\n",
              "      <td>0.583072</td>\n",
              "      <td>-0.524923</td>\n",
              "      <td>-0.350025</td>\n",
              "      <td>0.892887</td>\n",
              "      <td>0.031339</td>\n",
              "      <td>0.055278</td>\n",
              "      <td>0.458679</td>\n",
              "      <td>0.012613</td>\n",
              "      <td>0.405719</td>\n",
              "      <td>0.200270</td>\n",
              "      <td>0.239794</td>\n",
              "      <td>7.302140</td>\n",
              "      <td>0</td>\n",
              "    </tr>\n",
              "    <tr>\n",
              "      <th>5</th>\n",
              "      <td>156815.482578</td>\n",
              "      <td>0.449738</td>\n",
              "      <td>1.459230</td>\n",
              "      <td>-0.217602</td>\n",
              "      <td>-1.837296</td>\n",
              "      <td>-0.087504</td>\n",
              "      <td>-1.838171</td>\n",
              "      <td>0.180964</td>\n",
              "      <td>0.316996</td>\n",
              "      <td>0.621333</td>\n",
              "      <td>-0.920477</td>\n",
              "      <td>-1.362959</td>\n",
              "      <td>-0.178791</td>\n",
              "      <td>-1.649568</td>\n",
              "      <td>-1.221910</td>\n",
              "      <td>-0.487833</td>\n",
              "      <td>-0.074288</td>\n",
              "      <td>0.266133</td>\n",
              "      <td>-0.356626</td>\n",
              "      <td>0.269816</td>\n",
              "      <td>-0.293671</td>\n",
              "      <td>-0.120940</td>\n",
              "      <td>-1.687764</td>\n",
              "      <td>0.796283</td>\n",
              "      <td>0.446470</td>\n",
              "      <td>0.003706</td>\n",
              "      <td>0.470983</td>\n",
              "      <td>0.442681</td>\n",
              "      <td>0.207617</td>\n",
              "      <td>-41.468278</td>\n",
              "      <td>0</td>\n",
              "    </tr>\n",
              "  </tbody>\n",
              "</table>\n",
              "</div>"
            ],
            "text/plain": [
              "                     Time        V1        V2  ...       V28      Amount  Class\n",
              "Unnamed: 0                                     ...                             \n",
              "1           100451.654404  0.835494 -0.515926  ...  0.180375   44.663140      0\n",
              "2            89789.404102  0.796821  1.157225  ...  0.060588   -4.513026      0\n",
              "3            69703.722904  1.506110  1.500464  ...  0.078189 -282.077495      0\n",
              "4            43316.890993 -0.425023 -1.926346  ...  0.239794    7.302140      0\n",
              "5           156815.482578  0.449738  1.459230  ...  0.207617  -41.468278      0\n",
              "\n",
              "[5 rows x 31 columns]"
            ]
          },
          "metadata": {
            "tags": []
          },
          "execution_count": 109
        }
      ]
    },
    {
      "cell_type": "markdown",
      "metadata": {
        "id": "rIC4gLmCC8B1"
      },
      "source": [
        "Subset"
      ]
    },
    {
      "cell_type": "code",
      "metadata": {
        "id": "LxMbInFoCt9z",
        "outputId": "0b0cc399-9972-492c-abe8-b02792c54a32",
        "colab": {
          "base_uri": "https://localhost:8080/",
          "height": 103
        }
      },
      "source": [
        "teste_R.columns"
      ],
      "execution_count": 110,
      "outputs": [
        {
          "output_type": "execute_result",
          "data": {
            "text/plain": [
              "Index(['Unnamed: 0', 'Time', 'V1', 'V2', 'V3', 'V4', 'V5', 'V6', 'V7', 'V8',\n",
              "       'V9', 'V10', 'V11', 'V12', 'V13', 'V14', 'V15', 'V16', 'V17', 'V18',\n",
              "       'V19', 'V20', 'V21', 'V22', 'V23', 'V24', 'V25', 'V26', 'V27', 'V28',\n",
              "       'Amount', 'Class'],\n",
              "      dtype='object')"
            ]
          },
          "metadata": {
            "tags": []
          },
          "execution_count": 110
        }
      ]
    },
    {
      "cell_type": "code",
      "metadata": {
        "id": "QQiBLgs1DCzJ"
      },
      "source": [
        "teste_r = teste_R[['Time', 'V1', 'V2', 'V3', 'V4', 'V5', 'V6', 'V7', 'V8',\n",
        "       'V9', 'V10', 'V11', 'V12', 'V13', 'V14', 'V15', 'V16', 'V17', 'V18',\n",
        "       'V19', 'V20', 'V21', 'V22', 'V23', 'V24', 'V25', 'V26', 'V27', 'V28',\n",
        "       'Amount', 'Class']]"
      ],
      "execution_count": 112,
      "outputs": []
    },
    {
      "cell_type": "code",
      "metadata": {
        "id": "rZQsuBNUDLnj",
        "outputId": "a457f65e-f67b-4ab3-88b2-d3324f60e90a",
        "colab": {
          "base_uri": "https://localhost:8080/",
          "height": 223
        }
      },
      "source": [
        "teste_r.tail()"
      ],
      "execution_count": 114,
      "outputs": [
        {
          "output_type": "execute_result",
          "data": {
            "text/html": [
              "<div>\n",
              "<style scoped>\n",
              "    .dataframe tbody tr th:only-of-type {\n",
              "        vertical-align: middle;\n",
              "    }\n",
              "\n",
              "    .dataframe tbody tr th {\n",
              "        vertical-align: top;\n",
              "    }\n",
              "\n",
              "    .dataframe thead th {\n",
              "        text-align: right;\n",
              "    }\n",
              "</style>\n",
              "<table border=\"1\" class=\"dataframe\">\n",
              "  <thead>\n",
              "    <tr style=\"text-align: right;\">\n",
              "      <th></th>\n",
              "      <th>Time</th>\n",
              "      <th>V1</th>\n",
              "      <th>V2</th>\n",
              "      <th>V3</th>\n",
              "      <th>V4</th>\n",
              "      <th>V5</th>\n",
              "      <th>V6</th>\n",
              "      <th>V7</th>\n",
              "      <th>V8</th>\n",
              "      <th>V9</th>\n",
              "      <th>V10</th>\n",
              "      <th>V11</th>\n",
              "      <th>V12</th>\n",
              "      <th>V13</th>\n",
              "      <th>V14</th>\n",
              "      <th>V15</th>\n",
              "      <th>V16</th>\n",
              "      <th>V17</th>\n",
              "      <th>V18</th>\n",
              "      <th>V19</th>\n",
              "      <th>V20</th>\n",
              "      <th>V21</th>\n",
              "      <th>V22</th>\n",
              "      <th>V23</th>\n",
              "      <th>V24</th>\n",
              "      <th>V25</th>\n",
              "      <th>V26</th>\n",
              "      <th>V27</th>\n",
              "      <th>V28</th>\n",
              "      <th>Amount</th>\n",
              "      <th>Class</th>\n",
              "    </tr>\n",
              "  </thead>\n",
              "  <tbody>\n",
              "    <tr>\n",
              "      <th>85438</th>\n",
              "      <td>172770</td>\n",
              "      <td>2.007418</td>\n",
              "      <td>-0.280235</td>\n",
              "      <td>-0.208113</td>\n",
              "      <td>0.335261</td>\n",
              "      <td>-0.715798</td>\n",
              "      <td>-0.751373</td>\n",
              "      <td>-0.458972</td>\n",
              "      <td>-0.140140</td>\n",
              "      <td>0.959971</td>\n",
              "      <td>-0.028284</td>\n",
              "      <td>-0.635200</td>\n",
              "      <td>0.869261</td>\n",
              "      <td>0.996596</td>\n",
              "      <td>-0.280317</td>\n",
              "      <td>0.436079</td>\n",
              "      <td>0.397439</td>\n",
              "      <td>-0.557940</td>\n",
              "      <td>-0.536840</td>\n",
              "      <td>-0.082349</td>\n",
              "      <td>-0.143294</td>\n",
              "      <td>-0.208260</td>\n",
              "      <td>-0.430347</td>\n",
              "      <td>0.416765</td>\n",
              "      <td>0.064819</td>\n",
              "      <td>-0.608337</td>\n",
              "      <td>0.268436</td>\n",
              "      <td>-0.028069</td>\n",
              "      <td>-0.041367</td>\n",
              "      <td>3.99</td>\n",
              "      <td>0</td>\n",
              "    </tr>\n",
              "    <tr>\n",
              "      <th>85439</th>\n",
              "      <td>172770</td>\n",
              "      <td>-0.446951</td>\n",
              "      <td>1.302212</td>\n",
              "      <td>-0.168583</td>\n",
              "      <td>0.981577</td>\n",
              "      <td>0.578957</td>\n",
              "      <td>-0.605641</td>\n",
              "      <td>1.253430</td>\n",
              "      <td>-1.042610</td>\n",
              "      <td>-0.417116</td>\n",
              "      <td>0.076605</td>\n",
              "      <td>-1.291228</td>\n",
              "      <td>-0.690868</td>\n",
              "      <td>-1.481724</td>\n",
              "      <td>0.753473</td>\n",
              "      <td>-0.191141</td>\n",
              "      <td>-1.129904</td>\n",
              "      <td>0.319074</td>\n",
              "      <td>-0.201862</td>\n",
              "      <td>0.744416</td>\n",
              "      <td>-0.203306</td>\n",
              "      <td>0.851800</td>\n",
              "      <td>0.305268</td>\n",
              "      <td>-0.148093</td>\n",
              "      <td>-0.038712</td>\n",
              "      <td>0.010209</td>\n",
              "      <td>-0.362666</td>\n",
              "      <td>0.503092</td>\n",
              "      <td>0.229921</td>\n",
              "      <td>60.50</td>\n",
              "      <td>0</td>\n",
              "    </tr>\n",
              "    <tr>\n",
              "      <th>85440</th>\n",
              "      <td>172780</td>\n",
              "      <td>1.884849</td>\n",
              "      <td>-0.143540</td>\n",
              "      <td>-0.999943</td>\n",
              "      <td>1.506772</td>\n",
              "      <td>-0.035300</td>\n",
              "      <td>-0.613638</td>\n",
              "      <td>0.190241</td>\n",
              "      <td>-0.249058</td>\n",
              "      <td>0.666458</td>\n",
              "      <td>0.120908</td>\n",
              "      <td>-1.134176</td>\n",
              "      <td>0.677729</td>\n",
              "      <td>0.345928</td>\n",
              "      <td>0.002019</td>\n",
              "      <td>-0.679626</td>\n",
              "      <td>-0.549982</td>\n",
              "      <td>-0.199950</td>\n",
              "      <td>-0.420551</td>\n",
              "      <td>-0.283278</td>\n",
              "      <td>-0.153997</td>\n",
              "      <td>0.144008</td>\n",
              "      <td>0.634646</td>\n",
              "      <td>-0.042114</td>\n",
              "      <td>-0.053206</td>\n",
              "      <td>0.316403</td>\n",
              "      <td>-0.461441</td>\n",
              "      <td>0.018265</td>\n",
              "      <td>-0.041068</td>\n",
              "      <td>60.00</td>\n",
              "      <td>0</td>\n",
              "    </tr>\n",
              "    <tr>\n",
              "      <th>85441</th>\n",
              "      <td>172783</td>\n",
              "      <td>-1.775135</td>\n",
              "      <td>-0.004235</td>\n",
              "      <td>1.189786</td>\n",
              "      <td>0.331096</td>\n",
              "      <td>1.196063</td>\n",
              "      <td>5.519980</td>\n",
              "      <td>-1.518185</td>\n",
              "      <td>2.080825</td>\n",
              "      <td>1.159498</td>\n",
              "      <td>-0.594242</td>\n",
              "      <td>-1.264072</td>\n",
              "      <td>0.453596</td>\n",
              "      <td>-0.243142</td>\n",
              "      <td>-0.858719</td>\n",
              "      <td>-0.766554</td>\n",
              "      <td>-0.644646</td>\n",
              "      <td>0.447184</td>\n",
              "      <td>0.388721</td>\n",
              "      <td>0.792135</td>\n",
              "      <td>0.348176</td>\n",
              "      <td>0.103302</td>\n",
              "      <td>0.654850</td>\n",
              "      <td>-0.348929</td>\n",
              "      <td>0.745323</td>\n",
              "      <td>0.704545</td>\n",
              "      <td>-0.127579</td>\n",
              "      <td>0.454379</td>\n",
              "      <td>0.130308</td>\n",
              "      <td>79.99</td>\n",
              "      <td>0</td>\n",
              "    </tr>\n",
              "    <tr>\n",
              "      <th>85442</th>\n",
              "      <td>172788</td>\n",
              "      <td>1.919565</td>\n",
              "      <td>-0.301254</td>\n",
              "      <td>-3.249640</td>\n",
              "      <td>-0.557828</td>\n",
              "      <td>2.630515</td>\n",
              "      <td>3.031260</td>\n",
              "      <td>-0.296827</td>\n",
              "      <td>0.708417</td>\n",
              "      <td>0.432454</td>\n",
              "      <td>-0.484782</td>\n",
              "      <td>0.411614</td>\n",
              "      <td>0.063119</td>\n",
              "      <td>-0.183699</td>\n",
              "      <td>-0.510602</td>\n",
              "      <td>1.329284</td>\n",
              "      <td>0.140716</td>\n",
              "      <td>0.313502</td>\n",
              "      <td>0.395652</td>\n",
              "      <td>-0.577252</td>\n",
              "      <td>0.001396</td>\n",
              "      <td>0.232045</td>\n",
              "      <td>0.578229</td>\n",
              "      <td>-0.037501</td>\n",
              "      <td>0.640134</td>\n",
              "      <td>0.265745</td>\n",
              "      <td>-0.087371</td>\n",
              "      <td>0.004455</td>\n",
              "      <td>-0.026561</td>\n",
              "      <td>67.88</td>\n",
              "      <td>0</td>\n",
              "    </tr>\n",
              "  </tbody>\n",
              "</table>\n",
              "</div>"
            ],
            "text/plain": [
              "         Time        V1        V2        V3  ...       V27       V28  Amount  Class\n",
              "85438  172770  2.007418 -0.280235 -0.208113  ... -0.028069 -0.041367    3.99      0\n",
              "85439  172770 -0.446951  1.302212 -0.168583  ...  0.503092  0.229921   60.50      0\n",
              "85440  172780  1.884849 -0.143540 -0.999943  ...  0.018265 -0.041068   60.00      0\n",
              "85441  172783 -1.775135 -0.004235  1.189786  ...  0.454379  0.130308   79.99      0\n",
              "85442  172788  1.919565 -0.301254 -3.249640  ...  0.004455 -0.026561   67.88      0\n",
              "\n",
              "[5 rows x 31 columns]"
            ]
          },
          "metadata": {
            "tags": []
          },
          "execution_count": 114
        }
      ]
    },
    {
      "cell_type": "markdown",
      "metadata": {
        "id": "BaPJBiPADhR4"
      },
      "source": [
        "## Dividindo entre X e Y\n",
        "\n",
        "$X$ = variáveis explicativas\n",
        "\n",
        "$y$ = variável alvo"
      ]
    },
    {
      "cell_type": "markdown",
      "metadata": {
        "id": "HQRQG6eNEdIw"
      },
      "source": [
        "### Dados de Treino"
      ]
    },
    {
      "cell_type": "code",
      "metadata": {
        "id": "pyjo-JIFDRxp"
      },
      "source": [
        "#Drops\n",
        "X_train_r = rose_treino.drop('Class', axis='columns')\n"
      ],
      "execution_count": 116,
      "outputs": []
    },
    {
      "cell_type": "code",
      "metadata": {
        "id": "apekKwbcEOaE",
        "outputId": "82cabde4-6e31-4117-f03e-47c1d5cec4ff",
        "colab": {
          "base_uri": "https://localhost:8080/",
          "height": 223
        }
      },
      "source": [
        "X_train_r.head()"
      ],
      "execution_count": 117,
      "outputs": [
        {
          "output_type": "execute_result",
          "data": {
            "text/html": [
              "<div>\n",
              "<style scoped>\n",
              "    .dataframe tbody tr th:only-of-type {\n",
              "        vertical-align: middle;\n",
              "    }\n",
              "\n",
              "    .dataframe tbody tr th {\n",
              "        vertical-align: top;\n",
              "    }\n",
              "\n",
              "    .dataframe thead th {\n",
              "        text-align: right;\n",
              "    }\n",
              "</style>\n",
              "<table border=\"1\" class=\"dataframe\">\n",
              "  <thead>\n",
              "    <tr style=\"text-align: right;\">\n",
              "      <th></th>\n",
              "      <th>Time</th>\n",
              "      <th>V1</th>\n",
              "      <th>V2</th>\n",
              "      <th>V3</th>\n",
              "      <th>V4</th>\n",
              "      <th>V5</th>\n",
              "      <th>V6</th>\n",
              "      <th>V7</th>\n",
              "      <th>V8</th>\n",
              "      <th>V9</th>\n",
              "      <th>V10</th>\n",
              "      <th>V11</th>\n",
              "      <th>V12</th>\n",
              "      <th>V13</th>\n",
              "      <th>V14</th>\n",
              "      <th>V15</th>\n",
              "      <th>V16</th>\n",
              "      <th>V17</th>\n",
              "      <th>V18</th>\n",
              "      <th>V19</th>\n",
              "      <th>V20</th>\n",
              "      <th>V21</th>\n",
              "      <th>V22</th>\n",
              "      <th>V23</th>\n",
              "      <th>V24</th>\n",
              "      <th>V25</th>\n",
              "      <th>V26</th>\n",
              "      <th>V27</th>\n",
              "      <th>V28</th>\n",
              "      <th>Amount</th>\n",
              "    </tr>\n",
              "  </thead>\n",
              "  <tbody>\n",
              "    <tr>\n",
              "      <th>0</th>\n",
              "      <td>217205.803513</td>\n",
              "      <td>-2.567981</td>\n",
              "      <td>0.898000</td>\n",
              "      <td>-0.767780</td>\n",
              "      <td>-2.728384</td>\n",
              "      <td>1.208778</td>\n",
              "      <td>-2.414597</td>\n",
              "      <td>0.820543</td>\n",
              "      <td>-0.291104</td>\n",
              "      <td>-1.322237</td>\n",
              "      <td>-0.986977</td>\n",
              "      <td>-1.773612</td>\n",
              "      <td>0.146018</td>\n",
              "      <td>0.294645</td>\n",
              "      <td>-0.890830</td>\n",
              "      <td>-1.912879</td>\n",
              "      <td>1.275707</td>\n",
              "      <td>0.867205</td>\n",
              "      <td>-0.210741</td>\n",
              "      <td>-0.442621</td>\n",
              "      <td>0.786827</td>\n",
              "      <td>0.428279</td>\n",
              "      <td>-0.225452</td>\n",
              "      <td>-0.701389</td>\n",
              "      <td>-0.199779</td>\n",
              "      <td>1.595748</td>\n",
              "      <td>-0.147785</td>\n",
              "      <td>-0.372765</td>\n",
              "      <td>-0.628274</td>\n",
              "      <td>160.405993</td>\n",
              "    </tr>\n",
              "    <tr>\n",
              "      <th>1</th>\n",
              "      <td>152178.961131</td>\n",
              "      <td>2.464177</td>\n",
              "      <td>0.769727</td>\n",
              "      <td>-1.677835</td>\n",
              "      <td>-0.264555</td>\n",
              "      <td>-0.752586</td>\n",
              "      <td>-0.444199</td>\n",
              "      <td>0.736922</td>\n",
              "      <td>0.516300</td>\n",
              "      <td>-0.333578</td>\n",
              "      <td>-0.471416</td>\n",
              "      <td>1.857264</td>\n",
              "      <td>0.445935</td>\n",
              "      <td>-0.247741</td>\n",
              "      <td>1.609412</td>\n",
              "      <td>-1.949613</td>\n",
              "      <td>0.008885</td>\n",
              "      <td>-0.406072</td>\n",
              "      <td>0.012527</td>\n",
              "      <td>0.556883</td>\n",
              "      <td>-1.052852</td>\n",
              "      <td>0.179824</td>\n",
              "      <td>-0.879074</td>\n",
              "      <td>0.671705</td>\n",
              "      <td>-0.040643</td>\n",
              "      <td>-0.617697</td>\n",
              "      <td>0.575995</td>\n",
              "      <td>-0.431744</td>\n",
              "      <td>0.018294</td>\n",
              "      <td>280.848610</td>\n",
              "    </tr>\n",
              "    <tr>\n",
              "      <th>2</th>\n",
              "      <td>182977.585124</td>\n",
              "      <td>-0.928121</td>\n",
              "      <td>-0.347480</td>\n",
              "      <td>-0.562512</td>\n",
              "      <td>0.324371</td>\n",
              "      <td>0.141313</td>\n",
              "      <td>1.307359</td>\n",
              "      <td>-0.128218</td>\n",
              "      <td>-0.978227</td>\n",
              "      <td>-0.779199</td>\n",
              "      <td>-1.961890</td>\n",
              "      <td>-1.267183</td>\n",
              "      <td>-0.237118</td>\n",
              "      <td>-0.394160</td>\n",
              "      <td>-0.653186</td>\n",
              "      <td>-0.410073</td>\n",
              "      <td>-1.107511</td>\n",
              "      <td>1.331703</td>\n",
              "      <td>-0.485902</td>\n",
              "      <td>0.016075</td>\n",
              "      <td>0.170843</td>\n",
              "      <td>-0.142135</td>\n",
              "      <td>0.152564</td>\n",
              "      <td>0.278665</td>\n",
              "      <td>1.235203</td>\n",
              "      <td>0.032195</td>\n",
              "      <td>0.843445</td>\n",
              "      <td>-0.154998</td>\n",
              "      <td>-0.157450</td>\n",
              "      <td>258.813132</td>\n",
              "    </tr>\n",
              "    <tr>\n",
              "      <th>3</th>\n",
              "      <td>125476.880682</td>\n",
              "      <td>-5.294014</td>\n",
              "      <td>-7.711289</td>\n",
              "      <td>-0.187482</td>\n",
              "      <td>0.446199</td>\n",
              "      <td>5.035787</td>\n",
              "      <td>-3.538694</td>\n",
              "      <td>-3.209072</td>\n",
              "      <td>-0.210478</td>\n",
              "      <td>0.789281</td>\n",
              "      <td>-0.214555</td>\n",
              "      <td>0.994566</td>\n",
              "      <td>0.438681</td>\n",
              "      <td>-1.441440</td>\n",
              "      <td>0.722324</td>\n",
              "      <td>-0.311711</td>\n",
              "      <td>-3.100765</td>\n",
              "      <td>-0.468878</td>\n",
              "      <td>1.904907</td>\n",
              "      <td>-0.779730</td>\n",
              "      <td>1.658596</td>\n",
              "      <td>0.579284</td>\n",
              "      <td>0.368786</td>\n",
              "      <td>1.080375</td>\n",
              "      <td>0.389435</td>\n",
              "      <td>0.095096</td>\n",
              "      <td>-0.034558</td>\n",
              "      <td>-0.230594</td>\n",
              "      <td>0.054191</td>\n",
              "      <td>169.302354</td>\n",
              "    </tr>\n",
              "    <tr>\n",
              "      <th>4</th>\n",
              "      <td>109467.436111</td>\n",
              "      <td>-3.310566</td>\n",
              "      <td>2.543741</td>\n",
              "      <td>-0.454611</td>\n",
              "      <td>-1.164950</td>\n",
              "      <td>-0.014708</td>\n",
              "      <td>-0.371611</td>\n",
              "      <td>-1.120068</td>\n",
              "      <td>-3.462906</td>\n",
              "      <td>2.214135</td>\n",
              "      <td>-0.178497</td>\n",
              "      <td>-0.395631</td>\n",
              "      <td>-3.075713</td>\n",
              "      <td>2.190316</td>\n",
              "      <td>0.706173</td>\n",
              "      <td>-0.357781</td>\n",
              "      <td>0.386493</td>\n",
              "      <td>0.262908</td>\n",
              "      <td>0.092927</td>\n",
              "      <td>-0.522715</td>\n",
              "      <td>-1.023052</td>\n",
              "      <td>2.406482</td>\n",
              "      <td>-1.435943</td>\n",
              "      <td>0.564870</td>\n",
              "      <td>-0.595498</td>\n",
              "      <td>-0.913191</td>\n",
              "      <td>0.085156</td>\n",
              "      <td>0.123373</td>\n",
              "      <td>-0.002864</td>\n",
              "      <td>19.754487</td>\n",
              "    </tr>\n",
              "  </tbody>\n",
              "</table>\n",
              "</div>"
            ],
            "text/plain": [
              "            Time        V1        V2  ...       V27       V28      Amount\n",
              "0  217205.803513 -2.567981  0.898000  ... -0.372765 -0.628274  160.405993\n",
              "1  152178.961131  2.464177  0.769727  ... -0.431744  0.018294  280.848610\n",
              "2  182977.585124 -0.928121 -0.347480  ... -0.154998 -0.157450  258.813132\n",
              "3  125476.880682 -5.294014 -7.711289  ... -0.230594  0.054191  169.302354\n",
              "4  109467.436111 -3.310566  2.543741  ...  0.123373 -0.002864   19.754487\n",
              "\n",
              "[5 rows x 30 columns]"
            ]
          },
          "metadata": {
            "tags": []
          },
          "execution_count": 117
        }
      ]
    },
    {
      "cell_type": "code",
      "metadata": {
        "id": "pB0TdZcUEQl3"
      },
      "source": [
        "#subset\n",
        "y_train_r = rose_treino.Class"
      ],
      "execution_count": 138,
      "outputs": []
    },
    {
      "cell_type": "code",
      "metadata": {
        "id": "BCsnrCJbE57G",
        "outputId": "8166c619-6ac6-4fe6-9faa-28bdb27e4883",
        "colab": {
          "base_uri": "https://localhost:8080/",
          "height": 279
        }
      },
      "source": [
        "#conferindo o balanceamento das classes no treino\n",
        "sns.countplot(y_train_r);"
      ],
      "execution_count": 139,
      "outputs": [
        {
          "output_type": "display_data",
          "data": {
            "image/png": "[encoded data removed]",
            "text/plain": [
              "<Figure size 432x288 with 1 Axes>"
            ]
          },
          "metadata": {
            "tags": [],
            "needs_background": "light"
          }
        }
      ]
    },
    {
      "cell_type": "markdown",
      "metadata": {
        "id": "dulhs1AgEgi8"
      },
      "source": [
        "### Dados de Teste balanceados"
      ]
    },
    {
      "cell_type": "code",
      "metadata": {
        "id": "ugkPzYoUEbF_",
        "outputId": "a707e208-53d0-4654-ca08-b7d49e93d77f",
        "colab": {
          "base_uri": "https://localhost:8080/",
          "height": 103
        }
      },
      "source": [
        "#seleção de features\n",
        "rose_teste.columns\n"
      ],
      "execution_count": 122,
      "outputs": [
        {
          "output_type": "execute_result",
          "data": {
            "text/plain": [
              "Index(['Time', 'V1', 'V2', 'V3', 'V4', 'V5', 'V6', 'V7', 'V8', 'V9', 'V10',\n",
              "       'V11', 'V12', 'V13', 'V14', 'V15', 'V16', 'V17', 'V18', 'V19', 'V20',\n",
              "       'V21', 'V22', 'V23', 'V24', 'V25', 'V26', 'V27', 'V28', 'Amount',\n",
              "       'Class'],\n",
              "      dtype='object')"
            ]
          },
          "metadata": {
            "tags": []
          },
          "execution_count": 122
        }
      ]
    },
    {
      "cell_type": "code",
      "metadata": {
        "id": "lCIYTfhfFpPQ"
      },
      "source": [
        "#selecionando as features e o label\n",
        "features = ['Time', 'V1', 'V2', 'V3', 'V4', 'V5', 'V6', 'V7', 'V8', 'V9', 'V10',\n",
        "       'V11', 'V12', 'V13', 'V14', 'V15', 'V16', 'V17', 'V18', 'V19', 'V20',\n",
        "       'V21', 'V22', 'V23', 'V24', 'V25', 'V26', 'V27', 'V28', 'Amount']\n",
        "label = 'Class'"
      ],
      "execution_count": 123,
      "outputs": []
    },
    {
      "cell_type": "code",
      "metadata": {
        "id": "FxUmkhB5F8Bc"
      },
      "source": [
        "#criando o subset\n",
        "X_test_r = rose_teste[features]"
      ],
      "execution_count": 125,
      "outputs": []
    },
    {
      "cell_type": "code",
      "metadata": {
        "id": "BLOI3NzdGEUV",
        "outputId": "3fc2d43c-ef86-4ae8-fc62-a681ca997f9b",
        "colab": {
          "base_uri": "https://localhost:8080/",
          "height": 147
        }
      },
      "source": [
        "X_test_r.head(1)"
      ],
      "execution_count": 127,
      "outputs": [
        {
          "output_type": "execute_result",
          "data": {
            "text/html": [
              "<div>\n",
              "<style scoped>\n",
              "    .dataframe tbody tr th:only-of-type {\n",
              "        vertical-align: middle;\n",
              "    }\n",
              "\n",
              "    .dataframe tbody tr th {\n",
              "        vertical-align: top;\n",
              "    }\n",
              "\n",
              "    .dataframe thead th {\n",
              "        text-align: right;\n",
              "    }\n",
              "</style>\n",
              "<table border=\"1\" class=\"dataframe\">\n",
              "  <thead>\n",
              "    <tr style=\"text-align: right;\">\n",
              "      <th></th>\n",
              "      <th>Time</th>\n",
              "      <th>V1</th>\n",
              "      <th>V2</th>\n",
              "      <th>V3</th>\n",
              "      <th>V4</th>\n",
              "      <th>V5</th>\n",
              "      <th>V6</th>\n",
              "      <th>V7</th>\n",
              "      <th>V8</th>\n",
              "      <th>V9</th>\n",
              "      <th>V10</th>\n",
              "      <th>V11</th>\n",
              "      <th>V12</th>\n",
              "      <th>V13</th>\n",
              "      <th>V14</th>\n",
              "      <th>V15</th>\n",
              "      <th>V16</th>\n",
              "      <th>V17</th>\n",
              "      <th>V18</th>\n",
              "      <th>V19</th>\n",
              "      <th>V20</th>\n",
              "      <th>V21</th>\n",
              "      <th>V22</th>\n",
              "      <th>V23</th>\n",
              "      <th>V24</th>\n",
              "      <th>V25</th>\n",
              "      <th>V26</th>\n",
              "      <th>V27</th>\n",
              "      <th>V28</th>\n",
              "      <th>Amount</th>\n",
              "    </tr>\n",
              "    <tr>\n",
              "      <th>Unnamed: 0</th>\n",
              "      <th></th>\n",
              "      <th></th>\n",
              "      <th></th>\n",
              "      <th></th>\n",
              "      <th></th>\n",
              "      <th></th>\n",
              "      <th></th>\n",
              "      <th></th>\n",
              "      <th></th>\n",
              "      <th></th>\n",
              "      <th></th>\n",
              "      <th></th>\n",
              "      <th></th>\n",
              "      <th></th>\n",
              "      <th></th>\n",
              "      <th></th>\n",
              "      <th></th>\n",
              "      <th></th>\n",
              "      <th></th>\n",
              "      <th></th>\n",
              "      <th></th>\n",
              "      <th></th>\n",
              "      <th></th>\n",
              "      <th></th>\n",
              "      <th></th>\n",
              "      <th></th>\n",
              "      <th></th>\n",
              "      <th></th>\n",
              "      <th></th>\n",
              "      <th></th>\n",
              "    </tr>\n",
              "  </thead>\n",
              "  <tbody>\n",
              "    <tr>\n",
              "      <th>1</th>\n",
              "      <td>100451.654404</td>\n",
              "      <td>0.835494</td>\n",
              "      <td>-0.515926</td>\n",
              "      <td>-1.91748</td>\n",
              "      <td>2.981701</td>\n",
              "      <td>-0.351667</td>\n",
              "      <td>-0.322559</td>\n",
              "      <td>-1.019767</td>\n",
              "      <td>0.854651</td>\n",
              "      <td>-0.396209</td>\n",
              "      <td>0.778483</td>\n",
              "      <td>-0.914643</td>\n",
              "      <td>-0.567016</td>\n",
              "      <td>-0.849374</td>\n",
              "      <td>0.324713</td>\n",
              "      <td>1.020657</td>\n",
              "      <td>0.559622</td>\n",
              "      <td>-0.627162</td>\n",
              "      <td>0.680035</td>\n",
              "      <td>-0.787069</td>\n",
              "      <td>-0.24965</td>\n",
              "      <td>-0.892906</td>\n",
              "      <td>-0.02641</td>\n",
              "      <td>0.222306</td>\n",
              "      <td>0.324409</td>\n",
              "      <td>0.893922</td>\n",
              "      <td>-0.455777</td>\n",
              "      <td>0.01402</td>\n",
              "      <td>0.180375</td>\n",
              "      <td>44.66314</td>\n",
              "    </tr>\n",
              "  </tbody>\n",
              "</table>\n",
              "</div>"
            ],
            "text/plain": [
              "                     Time        V1        V2  ...      V27       V28    Amount\n",
              "Unnamed: 0                                     ...                             \n",
              "1           100451.654404  0.835494 -0.515926  ...  0.01402  0.180375  44.66314\n",
              "\n",
              "[1 rows x 30 columns]"
            ]
          },
          "metadata": {
            "tags": []
          },
          "execution_count": 127
        }
      ]
    },
    {
      "cell_type": "code",
      "metadata": {
        "id": "h6tlc3wlGUA-",
        "outputId": "48a62092-626f-4f4a-cfff-02bcbb973263",
        "colab": {
          "base_uri": "https://localhost:8080/",
          "height": 137
        }
      },
      "source": [
        "y_test_r = rose_teste[label]\n",
        "y_test_r.head()"
      ],
      "execution_count": 128,
      "outputs": [
        {
          "output_type": "execute_result",
          "data": {
            "text/plain": [
              "Unnamed: 0\n",
              "1    0\n",
              "2    0\n",
              "3    0\n",
              "4    0\n",
              "5    0\n",
              "Name: Class, dtype: int64"
            ]
          },
          "metadata": {
            "tags": []
          },
          "execution_count": 128
        }
      ]
    },
    {
      "cell_type": "code",
      "metadata": {
        "id": "eUBAMa1uGgPW",
        "outputId": "887a1ab1-45b7-48ff-beac-db94b5e15f6f",
        "colab": {
          "base_uri": "https://localhost:8080/",
          "height": 279
        }
      },
      "source": [
        "sns.countplot(y_test_r);"
      ],
      "execution_count": 130,
      "outputs": [
        {
          "output_type": "display_data",
          "data": {
            "image/png": "[encoded data removed]",
            "text/plain": [
              "<Figure size 432x288 with 1 Axes>"
            ]
          },
          "metadata": {
            "tags": [],
            "needs_background": "light"
          }
        }
      ]
    },
    {
      "cell_type": "markdown",
      "metadata": {
        "id": "6nC0WuLbEkHl"
      },
      "source": [
        "### Dados de teste sem balanceamento"
      ]
    },
    {
      "cell_type": "code",
      "metadata": {
        "id": "v2bE_aivEmdO"
      },
      "source": [
        "X_teste_r = teste_r.drop('Class', axis=1)\n",
        "y_teste_r = teste_r['Class']"
      ],
      "execution_count": 131,
      "outputs": []
    },
    {
      "cell_type": "code",
      "metadata": {
        "id": "WTN2zAmHG2lj",
        "outputId": "f44026ff-f469-4dd9-8594-86041827596b",
        "colab": {
          "base_uri": "https://localhost:8080/",
          "height": 279
        }
      },
      "source": [
        "sns.countplot(y_teste_r)\n",
        "plt.show()"
      ],
      "execution_count": 133,
      "outputs": [
        {
          "output_type": "display_data",
          "data": {
            "image/png": "[encoded data removed]",
            "text/plain": [
              "<Figure size 432x288 with 1 Axes>"
            ]
          },
          "metadata": {
            "tags": [],
            "needs_background": "light"
          }
        }
      ]
    },
    {
      "cell_type": "markdown",
      "metadata": {
        "id": "vr3mC_CAHIVD"
      },
      "source": [
        "## Criando o modelo para os dados do R\n"
      ]
    },
    {
      "cell_type": "code",
      "metadata": {
        "id": "5cgI76lJG5Dr"
      },
      "source": [
        "#criando o modelo\n",
        "modelo_v5 = DecisionTreeClassifier(criterion='entropy')"
      ],
      "execution_count": 134,
      "outputs": []
    },
    {
      "cell_type": "code",
      "metadata": {
        "id": "GeuBjFdXHfSb",
        "outputId": "e31de561-18bf-4ec1-c5a5-bcda31078a81",
        "colab": {
          "base_uri": "https://localhost:8080/",
          "height": 121
        }
      },
      "source": [
        "#ajustando o modelo aos dados de treino\n",
        "modelo_v5.fit(X_train_r, y_train_r)"
      ],
      "execution_count": 140,
      "outputs": [
        {
          "output_type": "execute_result",
          "data": {
            "text/plain": [
              "DecisionTreeClassifier(ccp_alpha=0.0, class_weight=None, criterion='entropy',\n",
              "                       max_depth=None, max_features=None, max_leaf_nodes=None,\n",
              "                       min_impurity_decrease=0.0, min_impurity_split=None,\n",
              "                       min_samples_leaf=1, min_samples_split=2,\n",
              "                       min_weight_fraction_leaf=0.0, presort='deprecated',\n",
              "                       random_state=None, splitter='best')"
            ]
          },
          "metadata": {
            "tags": []
          },
          "execution_count": 140
        }
      ]
    },
    {
      "cell_type": "code",
      "metadata": {
        "id": "q2_QIpfMHrt3"
      },
      "source": [
        "#predizendo o teste balanceado\n",
        "y_pred_7 = modelo_v5.predict(X_test_r)"
      ],
      "execution_count": 142,
      "outputs": []
    },
    {
      "cell_type": "code",
      "metadata": {
        "id": "wnbKg5pUIVfz"
      },
      "source": [
        "#predizendo o teste sem balanceamento\n",
        "y_pred_8 = modelo_v5.predict(X_teste_r)"
      ],
      "execution_count": 143,
      "outputs": []
    },
    {
      "cell_type": "code",
      "metadata": {
        "id": "OF8sFsvWLHis"
      },
      "source": [
        "#predizendo o teste original\n",
        "y_pred_9 = modelo_v5.predict(X_test)"
      ],
      "execution_count": 157,
      "outputs": []
    },
    {
      "cell_type": "markdown",
      "metadata": {
        "id": "lFUinKmxIm82"
      },
      "source": [
        "## Avaliar o modelo com os dados do R"
      ]
    },
    {
      "cell_type": "markdown",
      "metadata": {
        "id": "4si8THpmIrvu"
      },
      "source": [
        "### Avaliando o modelo com os dados balanceados (y_pred_7)"
      ]
    },
    {
      "cell_type": "code",
      "metadata": {
        "id": "cUI4Pv3kIlcp",
        "outputId": "ff0631c1-a23b-434e-9bdc-4b0986ddeadd",
        "colab": {
          "base_uri": "https://localhost:8080/",
          "height": 52
        }
      },
      "source": [
        "#usando a confusion matrix\n",
        "confusion_matrix(y_test_r,y_pred_7)"
      ],
      "execution_count": 144,
      "outputs": [
        {
          "output_type": "execute_result",
          "data": {
            "text/plain": [
              "array([[42361,   308],\n",
              "       [  425, 42349]])"
            ]
          },
          "metadata": {
            "tags": []
          },
          "execution_count": 144
        }
      ]
    },
    {
      "cell_type": "code",
      "metadata": {
        "id": "J0H5TLalI7Mg",
        "outputId": "e4a1b48d-d988-4aea-95f1-ea21e7dd3b73",
        "colab": {
          "base_uri": "https://localhost:8080/",
          "height": 173
        }
      },
      "source": [
        "#vendo o classification report\n",
        "print(classification_report(y_test_r, y_pred_7))"
      ],
      "execution_count": 145,
      "outputs": [
        {
          "output_type": "stream",
          "text": [
            "              precision    recall  f1-score   support\n",
            "\n",
            "           0       0.99      0.99      0.99     42669\n",
            "           1       0.99      0.99      0.99     42774\n",
            "\n",
            "    accuracy                           0.99     85443\n",
            "   macro avg       0.99      0.99      0.99     85443\n",
            "weighted avg       0.99      0.99      0.99     85443\n",
            "\n"
          ],
          "name": "stdout"
        }
      ]
    },
    {
      "cell_type": "code",
      "metadata": {
        "id": "1yZ4FFyAI7Se",
        "outputId": "0835e92c-667b-436f-dd75-c031d8c77559",
        "colab": {
          "base_uri": "https://localhost:8080/",
          "height": 35
        }
      },
      "source": [
        "#ver a acurácia do modelo\n",
        "accuracy_score(y_test_r, y_pred_7)*100"
      ],
      "execution_count": 147,
      "outputs": [
        {
          "output_type": "execute_result",
          "data": {
            "text/plain": [
              "99.14211813723769"
            ]
          },
          "metadata": {
            "tags": []
          },
          "execution_count": 147
        }
      ]
    },
    {
      "cell_type": "code",
      "metadata": {
        "id": "GK45Fxn8I7lq",
        "outputId": "0275707a-f3f0-4588-9c45-8db640b36c98",
        "colab": {
          "base_uri": "https://localhost:8080/",
          "height": 483
        }
      },
      "source": [
        "#gráfico da Área sob a Curva\n",
        "fpr, tpr, _ = roc_curve(y_test_r,  y_pred_7)\n",
        "auc = roc_auc_score(y_test_r, y_pred_7)\n",
        "plt.figure(figsize=(12,8))\n",
        "plt.plot(fpr,tpr,label=\"data 1, auc=\"+str(auc))\n",
        "plt.legend(loc=4)\n",
        "plt.show()"
      ],
      "execution_count": 150,
      "outputs": [
        {
          "output_type": "display_data",
          "data": {
            "image/png": "[encoded data removed]",
            "text/plain": [
              "<Figure size 864x576 with 1 Axes>"
            ]
          },
          "metadata": {
            "tags": [],
            "needs_background": "light"
          }
        }
      ]
    },
    {
      "cell_type": "markdown",
      "metadata": {
        "id": "Rz-6-yezI0t4"
      },
      "source": [
        "### Avaliando o modelo com os dados sem balanceamento (y_pred_8)"
      ]
    },
    {
      "cell_type": "code",
      "metadata": {
        "id": "NUgiJJceI6B4",
        "outputId": "1281412a-7138-4541-94c5-9c92fcf81002",
        "colab": {
          "base_uri": "https://localhost:8080/",
          "height": 52
        }
      },
      "source": [
        "#usando a confusion matrix\n",
        "confusion_matrix(y_teste_r,y_pred_8)"
      ],
      "execution_count": 151,
      "outputs": [
        {
          "output_type": "execute_result",
          "data": {
            "text/plain": [
              "array([[85098,   204],\n",
              "       [   27,   114]])"
            ]
          },
          "metadata": {
            "tags": []
          },
          "execution_count": 151
        }
      ]
    },
    {
      "cell_type": "code",
      "metadata": {
        "id": "xUJnOLzyI829",
        "outputId": "e3a48928-ddc6-4106-db7d-4386f346d020",
        "colab": {
          "base_uri": "https://localhost:8080/",
          "height": 173
        }
      },
      "source": [
        "#vendo o classification report\n",
        "print(classification_report(y_teste_r, y_pred_8))"
      ],
      "execution_count": 155,
      "outputs": [
        {
          "output_type": "stream",
          "text": [
            "              precision    recall  f1-score   support\n",
            "\n",
            "           0       1.00      1.00      1.00     85302\n",
            "           1       0.36      0.81      0.50       141\n",
            "\n",
            "    accuracy                           1.00     85443\n",
            "   macro avg       0.68      0.90      0.75     85443\n",
            "weighted avg       1.00      1.00      1.00     85443\n",
            "\n"
          ],
          "name": "stdout"
        }
      ]
    },
    {
      "cell_type": "code",
      "metadata": {
        "id": "SW_FC_ZeI9K1",
        "outputId": "dedfee2b-2d3d-4fc3-fa25-1f89777180b6",
        "colab": {
          "base_uri": "https://localhost:8080/",
          "height": 35
        }
      },
      "source": [
        "#ver a acurácia do modelo\n",
        "accuracy_score(y_teste_r, y_pred_8)*100"
      ],
      "execution_count": 154,
      "outputs": [
        {
          "output_type": "execute_result",
          "data": {
            "text/plain": [
              "99.72964432428637"
            ]
          },
          "metadata": {
            "tags": []
          },
          "execution_count": 154
        }
      ]
    },
    {
      "cell_type": "code",
      "metadata": {
        "id": "AykvzCUjI9wN",
        "outputId": "90e6d19c-9be0-4806-c696-070fa59f8063",
        "colab": {
          "base_uri": "https://localhost:8080/",
          "height": 483
        }
      },
      "source": [
        "#gráfico da Área sob a Curva\n",
        "fpr, tpr, _ = roc_curve(y_teste_r,  y_pred_8)\n",
        "auc = roc_auc_score(y_teste_r, y_pred_8)\n",
        "plt.figure(figsize=(12,8))\n",
        "plt.plot(fpr,tpr,label=\"data 1, auc=\"+str(auc))\n",
        "plt.legend(loc=4)\n",
        "plt.show()"
      ],
      "execution_count": 156,
      "outputs": [
        {
          "output_type": "display_data",
          "data": {
            "image/png": "[encoded data removed]",
            "text/plain": [
              "<Figure size 864x576 with 1 Axes>"
            ]
          },
          "metadata": {
            "tags": [],
            "needs_background": "light"
          }
        }
      ]
    },
    {
      "cell_type": "markdown",
      "metadata": {
        "id": "xBFvJYBpLRxc"
      },
      "source": [
        "### Avaliando o modelo com o teste original (y_pred_9)"
      ]
    },
    {
      "cell_type": "code",
      "metadata": {
        "id": "85IxoyTyKw-q",
        "outputId": "f9944721-087c-4d7b-e65e-f825bdf66a08",
        "colab": {
          "base_uri": "https://localhost:8080/",
          "height": 52
        }
      },
      "source": [
        "#usando a confusion matrix\n",
        "confusion_matrix(y_test,y_pred_9)"
      ],
      "execution_count": 158,
      "outputs": [
        {
          "output_type": "execute_result",
          "data": {
            "text/plain": [
              "array([[85120,   175],\n",
              "       [   33,   115]])"
            ]
          },
          "metadata": {
            "tags": []
          },
          "execution_count": 158
        }
      ]
    },
    {
      "cell_type": "code",
      "metadata": {
        "id": "hS9vZavELc7V",
        "outputId": "67e156f7-35f5-4118-db6b-bacbe049b3c9",
        "colab": {
          "base_uri": "https://localhost:8080/",
          "height": 173
        }
      },
      "source": [
        "#vendo o classification report\n",
        "print(classification_report(y_test, y_pred_9))"
      ],
      "execution_count": 159,
      "outputs": [
        {
          "output_type": "stream",
          "text": [
            "              precision    recall  f1-score   support\n",
            "\n",
            "           0       1.00      1.00      1.00     85295\n",
            "           1       0.40      0.78      0.53       148\n",
            "\n",
            "    accuracy                           1.00     85443\n",
            "   macro avg       0.70      0.89      0.76     85443\n",
            "weighted avg       1.00      1.00      1.00     85443\n",
            "\n"
          ],
          "name": "stdout"
        }
      ]
    },
    {
      "cell_type": "code",
      "metadata": {
        "id": "w-FgUD1tLipG",
        "outputId": "1bab1ba2-7504-4ff2-ac4d-e12b7587e3a5",
        "colab": {
          "base_uri": "https://localhost:8080/",
          "height": 35
        }
      },
      "source": [
        "#ver a acurácia do modelo\n",
        "accuracy_score(y_test, y_pred_9)*100"
      ],
      "execution_count": 161,
      "outputs": [
        {
          "output_type": "execute_result",
          "data": {
            "text/plain": [
              "99.75656285476867"
            ]
          },
          "metadata": {
            "tags": []
          },
          "execution_count": 161
        }
      ]
    },
    {
      "cell_type": "code",
      "metadata": {
        "id": "5jIMKlnKLoss",
        "outputId": "c3fcdf7a-d794-4345-f7c0-58b0db099302",
        "colab": {
          "base_uri": "https://localhost:8080/",
          "height": 483
        }
      },
      "source": [
        "#gráfico da Área sob a Curva\n",
        "fpr, tpr, _ = roc_curve(y_test,  y_pred_9)\n",
        "auc = roc_auc_score(y_test, y_pred_9)\n",
        "plt.figure(figsize=(12,8))\n",
        "plt.plot(fpr,tpr,label=\"data 1, auc=\"+str(auc))\n",
        "plt.legend(loc=4)\n",
        "plt.show()"
      ],
      "execution_count": 163,
      "outputs": [
        {
          "output_type": "display_data",
          "data": {
            "image/png": "[encoded data removed]",
            "text/plain": [
              "<Figure size 864x576 with 1 Axes>"
            ]
          },
          "metadata": {
            "tags": [],
            "needs_background": "light"
          }
        }
      ]
    },
    {
      "cell_type": "code",
      "metadata": {
        "id": "YGJ4mASGL0Tk"
      },
      "source": [
        ""
      ],
      "execution_count": null,
      "outputs": []
    }
  ]
}